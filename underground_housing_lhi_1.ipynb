{
 "cells": [
  {
   "cell_type": "code",
   "execution_count": 1,
   "metadata": {},
   "outputs": [],
   "source": [
    "import pandas as pd\n",
    "import dask.dataframe as dd\n",
    "from dask.diagnostics import ProgressBar\n"
   ]
  },
  {
   "cell_type": "markdown",
   "metadata": {},
   "source": [
    "## 데이터 검토"
   ]
  },
  {
   "cell_type": "code",
   "execution_count": 2,
   "metadata": {},
   "outputs": [
    {
     "data": {
      "text/html": [
       "<div>\n",
       "<style scoped>\n",
       "    .dataframe tbody tr th:only-of-type {\n",
       "        vertical-align: middle;\n",
       "    }\n",
       "\n",
       "    .dataframe tbody tr th {\n",
       "        vertical-align: top;\n",
       "    }\n",
       "\n",
       "    .dataframe thead th {\n",
       "        text-align: right;\n",
       "    }\n",
       "</style>\n",
       "<table border=\"1\" class=\"dataframe\">\n",
       "  <thead>\n",
       "    <tr style=\"text-align: right;\">\n",
       "      <th></th>\n",
       "      <th>관리_건축물대장_PK</th>\n",
       "      <th>대지_위치</th>\n",
       "      <th>도로명_대지_위치</th>\n",
       "      <th>건물_명</th>\n",
       "      <th>시군구_코드</th>\n",
       "      <th>법정동_코드</th>\n",
       "      <th>대지_구분_코드</th>\n",
       "      <th>번</th>\n",
       "      <th>지</th>\n",
       "      <th>특수지_명</th>\n",
       "      <th>...</th>\n",
       "      <th>구조_코드_명</th>\n",
       "      <th>기타_구조</th>\n",
       "      <th>주_용도_코드</th>\n",
       "      <th>주_용도_코드_명</th>\n",
       "      <th>기타_용도</th>\n",
       "      <th>면적(㎡)</th>\n",
       "      <th>주_부속_구분_코드</th>\n",
       "      <th>주_부속_구분_코드_명</th>\n",
       "      <th>면적_제외_여부</th>\n",
       "      <th>생성_일자</th>\n",
       "    </tr>\n",
       "  </thead>\n",
       "  <tbody>\n",
       "    <tr>\n",
       "      <th>0</th>\n",
       "      <td>29155-15130</td>\n",
       "      <td>광주광역시 남구 주월동 997-12번지</td>\n",
       "      <td>광주광역시 남구 군분로77번안길 23</td>\n",
       "      <td>None</td>\n",
       "      <td>29155</td>\n",
       "      <td>10600</td>\n",
       "      <td>0</td>\n",
       "      <td>0997</td>\n",
       "      <td>0012</td>\n",
       "      <td>None</td>\n",
       "      <td>...</td>\n",
       "      <td>벽돌구조</td>\n",
       "      <td>세벽</td>\n",
       "      <td>03001</td>\n",
       "      <td>소매점</td>\n",
       "      <td>점포</td>\n",
       "      <td>69.69</td>\n",
       "      <td>0</td>\n",
       "      <td>주건축물</td>\n",
       "      <td>None</td>\n",
       "      <td>20100105</td>\n",
       "    </tr>\n",
       "    <tr>\n",
       "      <th>1</th>\n",
       "      <td>29155-15130</td>\n",
       "      <td>광주광역시 남구 주월동 997-12번지</td>\n",
       "      <td>광주광역시 남구 군분로77번안길 23</td>\n",
       "      <td>None</td>\n",
       "      <td>29155</td>\n",
       "      <td>10600</td>\n",
       "      <td>0</td>\n",
       "      <td>0997</td>\n",
       "      <td>0012</td>\n",
       "      <td>None</td>\n",
       "      <td>...</td>\n",
       "      <td>벽돌구조</td>\n",
       "      <td>세벽</td>\n",
       "      <td>01001</td>\n",
       "      <td>단독주택</td>\n",
       "      <td>주택</td>\n",
       "      <td>69.69</td>\n",
       "      <td>0</td>\n",
       "      <td>주건축물</td>\n",
       "      <td>None</td>\n",
       "      <td>20100105</td>\n",
       "    </tr>\n",
       "    <tr>\n",
       "      <th>2</th>\n",
       "      <td>30200-2142</td>\n",
       "      <td>대전광역시 유성구 교촌동 638-2번지</td>\n",
       "      <td>대전광역시 유성구 교촌로6번길 45-14</td>\n",
       "      <td>None</td>\n",
       "      <td>30200</td>\n",
       "      <td>10200</td>\n",
       "      <td>0</td>\n",
       "      <td>0638</td>\n",
       "      <td>0002</td>\n",
       "      <td>None</td>\n",
       "      <td>...</td>\n",
       "      <td>철근콘크리트구조</td>\n",
       "      <td>철근콘크리트조</td>\n",
       "      <td>11199</td>\n",
       "      <td>기타아동관련시설</td>\n",
       "      <td>아동시설</td>\n",
       "      <td>177.95</td>\n",
       "      <td>0</td>\n",
       "      <td>주건축물</td>\n",
       "      <td>None</td>\n",
       "      <td>20100105</td>\n",
       "    </tr>\n",
       "    <tr>\n",
       "      <th>3</th>\n",
       "      <td>30200-2142</td>\n",
       "      <td>대전광역시 유성구 교촌동 638-2번지</td>\n",
       "      <td>대전광역시 유성구 교촌로6번길 45-14</td>\n",
       "      <td>None</td>\n",
       "      <td>30200</td>\n",
       "      <td>10200</td>\n",
       "      <td>0</td>\n",
       "      <td>0638</td>\n",
       "      <td>0002</td>\n",
       "      <td>None</td>\n",
       "      <td>...</td>\n",
       "      <td>철근콘크리트구조</td>\n",
       "      <td>철근콘크리트조</td>\n",
       "      <td>11199</td>\n",
       "      <td>기타아동관련시설</td>\n",
       "      <td>아동시설</td>\n",
       "      <td>168.05</td>\n",
       "      <td>0</td>\n",
       "      <td>주건축물</td>\n",
       "      <td>None</td>\n",
       "      <td>20100105</td>\n",
       "    </tr>\n",
       "    <tr>\n",
       "      <th>4</th>\n",
       "      <td>30200-2142</td>\n",
       "      <td>대전광역시 유성구 교촌동 638-2번지</td>\n",
       "      <td>대전광역시 유성구 교촌로6번길 45-14</td>\n",
       "      <td>None</td>\n",
       "      <td>30200</td>\n",
       "      <td>10200</td>\n",
       "      <td>0</td>\n",
       "      <td>0638</td>\n",
       "      <td>0002</td>\n",
       "      <td>None</td>\n",
       "      <td>...</td>\n",
       "      <td>벽돌구조</td>\n",
       "      <td>조적조</td>\n",
       "      <td>10999</td>\n",
       "      <td>기타교육연구시설</td>\n",
       "      <td>교육연구 및 복지시설</td>\n",
       "      <td>133.37</td>\n",
       "      <td>0</td>\n",
       "      <td>주건축물</td>\n",
       "      <td>None</td>\n",
       "      <td>20100105</td>\n",
       "    </tr>\n",
       "  </tbody>\n",
       "</table>\n",
       "<p>5 rows × 33 columns</p>\n",
       "</div>"
      ],
      "text/plain": [
       "   관리_건축물대장_PK                  대지_위치                도로명_대지_위치  건물_명 시군구_코드  \\\n",
       "0  29155-15130  광주광역시 남구 주월동 997-12번지     광주광역시 남구 군분로77번안길 23  None  29155   \n",
       "1  29155-15130  광주광역시 남구 주월동 997-12번지     광주광역시 남구 군분로77번안길 23  None  29155   \n",
       "2   30200-2142  대전광역시 유성구 교촌동 638-2번지   대전광역시 유성구 교촌로6번길 45-14  None  30200   \n",
       "3   30200-2142  대전광역시 유성구 교촌동 638-2번지   대전광역시 유성구 교촌로6번길 45-14  None  30200   \n",
       "4   30200-2142  대전광역시 유성구 교촌동 638-2번지   대전광역시 유성구 교촌로6번길 45-14  None  30200   \n",
       "\n",
       "  법정동_코드 대지_구분_코드     번     지 특수지_명  ...   구조_코드_명    기타_구조 주_용도_코드 주_용도_코드_명  \\\n",
       "0  10600        0  0997  0012  None  ...      벽돌구조       세벽   03001       소매점   \n",
       "1  10600        0  0997  0012  None  ...      벽돌구조       세벽   01001      단독주택   \n",
       "2  10200        0  0638  0002  None  ...  철근콘크리트구조  철근콘크리트조   11199  기타아동관련시설   \n",
       "3  10200        0  0638  0002  None  ...  철근콘크리트구조  철근콘크리트조   11199  기타아동관련시설   \n",
       "4  10200        0  0638  0002  None  ...      벽돌구조      조적조   10999  기타교육연구시설   \n",
       "\n",
       "         기타_용도   면적(㎡)  주_부속_구분_코드 주_부속_구분_코드_명 면적_제외_여부     생성_일자  \n",
       "0           점포   69.69           0         주건축물     None  20100105  \n",
       "1           주택   69.69           0         주건축물     None  20100105  \n",
       "2         아동시설  177.95           0         주건축물     None  20100105  \n",
       "3         아동시설  168.05           0         주건축물     None  20100105  \n",
       "4  교육연구 및 복지시설  133.37           0         주건축물     None  20100105  \n",
       "\n",
       "[5 rows x 33 columns]"
      ]
     },
     "execution_count": 2,
     "metadata": {},
     "output_type": "execute_result"
    }
   ],
   "source": [
    "# 367\t건축물대장\t층별개요 (2022년 07월)\t671.04\t2022-08-24\n",
    "\n",
    "ddf = dd.read_parquet(\"floor\")\n",
    "ddf.head()\n"
   ]
  },
  {
   "cell_type": "code",
   "execution_count": 3,
   "metadata": {},
   "outputs": [
    {
     "data": {
      "text/plain": [
       "Index(['관리_건축물대장_PK', '대지_위치', '도로명_대지_위치', '건물_명', '시군구_코드', '법정동_코드',\n",
       "       '대지_구분_코드', '번', '지', '특수지_명', '블록', '로트', '새주소_도로_코드', '새주소_법정동_코드',\n",
       "       '새주소_지상지하_코드', '새주소_본_번', '새주소_부_번', '동_명', '층_구분_코드', '층_구분_코드_명',\n",
       "       '층_번호', '층_번호_명', '구조_코드', '구조_코드_명', '기타_구조', '주_용도_코드', '주_용도_코드_명',\n",
       "       '기타_용도', '면적(㎡)', '주_부속_구분_코드', '주_부속_구분_코드_명', '면적_제외_여부', '생성_일자'],\n",
       "      dtype='object')"
      ]
     },
     "execution_count": 3,
     "metadata": {},
     "output_type": "execute_result"
    }
   ],
   "source": [
    "ddf.columns"
   ]
  },
  {
   "cell_type": "code",
   "execution_count": 4,
   "metadata": {},
   "outputs": [
    {
     "data": {
      "text/plain": [
       "20563496"
      ]
     },
     "execution_count": 4,
     "metadata": {},
     "output_type": "execute_result"
    }
   ],
   "source": [
    "len(ddf)"
   ]
  },
  {
   "cell_type": "markdown",
   "metadata": {},
   "source": [
    "전국 건축물 대상 총 2056만 층"
   ]
  },
  {
   "cell_type": "code",
   "execution_count": 5,
   "metadata": {},
   "outputs": [
    {
     "data": {
      "text/plain": [
       "층_구분_코드  층_구분_코드_명\n",
       "10       지하            1502171\n",
       "20       지상           18651744\n",
       "30       옥탑             408789\n",
       "40       각층                217\n",
       "22       복수층(상층)             6\n",
       "21       복수층(하층)             6\n",
       "Name: 관리_건축물대장_PK, dtype: int64"
      ]
     },
     "execution_count": 5,
     "metadata": {},
     "output_type": "execute_result"
    }
   ],
   "source": [
    "ddf.groupby([\"층_구분_코드\", \"층_구분_코드_명\"])['관리_건축물대장_PK'].count().compute()\n"
   ]
  },
  {
   "cell_type": "code",
   "execution_count": 6,
   "metadata": {},
   "outputs": [
    {
     "data": {
      "text/plain": [
       "1502171"
      ]
     },
     "execution_count": 6,
     "metadata": {},
     "output_type": "execute_result"
    }
   ],
   "source": [
    "ddf_ugrnd = ddf[(ddf[\"층_구분_코드\"] == \"10\")]\n",
    "len(ddf_ugrnd)"
   ]
  },
  {
   "cell_type": "code",
   "execution_count": 7,
   "metadata": {},
   "outputs": [
    {
     "data": {
      "text/plain": [
       "(968715, 533456)"
      ]
     },
     "execution_count": 7,
     "metadata": {},
     "output_type": "execute_result"
    }
   ],
   "source": [
    "# 11 서울 41 경기 28 인천\n",
    "ddf_met = ddf_ugrnd[ddf_ugrnd[\"시군구_코드\"].str.contains(\"^11|^41|^28\")]\n",
    "ddf_notmet = ddf_ugrnd[~ddf_ugrnd[\"시군구_코드\"].str.contains(\"^11|^41|^28\")]\n",
    "len(ddf_met), len(ddf_notmet)"
   ]
  },
  {
   "cell_type": "code",
   "execution_count": 8,
   "metadata": {},
   "outputs": [
    {
     "name": "stdout",
     "output_type": "stream",
     "text": [
      "[########################################] | 100% Completed | 48.25 s\n",
      "[########################################] | 100% Completed | 44.03 s\n"
     ]
    }
   ],
   "source": [
    "with ProgressBar():\n",
    "    ddf_met.to_csv(\"underground_met.csv\", single_file=True)\n",
    "    ddf_notmet.to_csv(\"underground_notmet.csv\", single_file=True)"
   ]
  },
  {
   "cell_type": "code",
   "execution_count": 9,
   "metadata": {},
   "outputs": [],
   "source": [
    "sorted = ddf_ugrnd.sort_values(\"시군구_코드\", npartitions=10)"
   ]
  },
  {
   "cell_type": "code",
   "execution_count": 10,
   "metadata": {},
   "outputs": [
    {
     "name": "stdout",
     "output_type": "stream",
     "text": [
      "[########################################] | 100% Completed | 65.52 s\n"
     ]
    }
   ],
   "source": [
    "with ProgressBar():\n",
    "    sorted.to_csv(\"underground_floor/uground-*.csv\")"
   ]
  },
  {
   "cell_type": "code",
   "execution_count": null,
   "metadata": {},
   "outputs": [],
   "source": []
  }
 ],
 "metadata": {
  "kernelspec": {
   "display_name": "Python 3.9.7 ('venv': venv)",
   "language": "python",
   "name": "python3"
  },
  "language_info": {
   "codemirror_mode": {
    "name": "ipython",
    "version": 3
   },
   "file_extension": ".py",
   "mimetype": "text/x-python",
   "name": "python",
   "nbconvert_exporter": "python",
   "pygments_lexer": "ipython3",
   "version": "3.9.7"
  },
  "orig_nbformat": 4,
  "vscode": {
   "interpreter": {
    "hash": "a12399f7d7bff3d3414b48bdbff2fd719d6617416f7316e7388bc895376ce269"
   }
  }
 },
 "nbformat": 4,
 "nbformat_minor": 2
}
