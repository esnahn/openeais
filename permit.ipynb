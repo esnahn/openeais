{
 "cells": [
  {
   "cell_type": "code",
   "execution_count": 2,
   "metadata": {},
   "outputs": [],
   "source": [
    "import polars as pl\n",
    "from pathlib import Path\n",
    "\n",
    "df_master = pl.read_parquet(\"data/건축인허가_기본개요_2022년_12월/*\")\n",
    "df_dong = pl.read_parquet(\"data/건축인허가_동별개요_2022년_12월/*\")\n",
    "df_floor = pl.read_parquet(\"data/건축인허가_층별개요_2022년_12월/*\")\n"
   ]
  },
  {
   "cell_type": "code",
   "execution_count": 6,
   "metadata": {},
   "outputs": [
    {
     "data": {
      "text/html": [
       "<div><style>\n",
       ".dataframe > thead > tr > th,\n",
       ".dataframe > tbody > tr > td {\n",
       "  text-align: right;\n",
       "}\n",
       "</style>\n",
       "<small>shape: (5, 42)</small><table border=\"1\" class=\"dataframe\"><thead><tr><th>관리_허가대장_PK</th><th>대지_위치</th><th>건물_명</th><th>시군구_코드</th><th>법정동_코드</th><th>대지_구분_코드</th><th>번</th><th>지</th><th>특수지_명</th><th>블록</th><th>로트</th><th>지목_코드_명</th><th>지역_코드_명</th><th>지구_코드_명</th><th>구역_코드_명</th><th>지목_코드</th><th>지역_코드</th><th>지구_코드</th><th>구역_코드</th><th>건축_구분_코드</th><th>건축_구분_코드_명</th><th>대지_면적(㎡)</th><th>건축_면적(㎡)</th><th>건폐_율(%)</th><th>연면적(㎡)</th><th>용적_률_산정_연면적(㎡)</th><th>용적_률(%)</th><th>주_건축물_수</th><th>부속_건축물_동_수</th><th>주_용도_코드</th><th>주_용도_코드_명</th><th>세대_수(세대)</th><th>호_수(호)</th><th>가구_수(가구)</th><th>총_주차_수</th><th>착공_예정_일</th><th>착공_연기_일</th><th>실제_착공_일</th><th>건축_허가_일</th><th>사용승인_일</th><th>생성_일자</th><th>__null_dask_index__</th></tr><tr><td>str</td><td>str</td><td>str</td><td>str</td><td>str</td><td>str</td><td>str</td><td>str</td><td>str</td><td>str</td><td>str</td><td>str</td><td>str</td><td>str</td><td>str</td><td>str</td><td>str</td><td>str</td><td>str</td><td>str</td><td>str</td><td>f64</td><td>f64</td><td>f64</td><td>f64</td><td>f64</td><td>f64</td><td>i64</td><td>i64</td><td>str</td><td>str</td><td>i64</td><td>i64</td><td>i64</td><td>i64</td><td>str</td><td>str</td><td>str</td><td>str</td><td>str</td><td>str</td><td>i64</td></tr></thead><tbody><tr><td>&quot;46880-10003485…</td><td>&quot;전라남도 장성군 황룡면 월…</td><td>null</td><td>&quot;46880&quot;</td><td>&quot;36021&quot;</td><td>&quot;0&quot;</td><td>&quot;0080&quot;</td><td>&quot;0002&quot;</td><td>null</td><td>null</td><td>null</td><td>&quot;대&quot;</td><td>null</td><td>null</td><td>null</td><td>&quot;08&quot;</td><td>null</td><td>null</td><td>null</td><td>null</td><td>null</td><td>0.0</td><td>0.0</td><td>0.0</td><td>0.0</td><td>0.0</td><td>0.0</td><td>0</td><td>0</td><td>null</td><td>null</td><td>0</td><td>0</td><td>0</td><td>0</td><td>null</td><td>null</td><td>null</td><td>&quot;20140930&quot;</td><td>null</td><td>&quot;20141003&quot;</td><td>0</td></tr><tr><td>&quot;47150-10001778…</td><td>&quot;경상북도 김천시 황금동 1…</td><td>null</td><td>&quot;47150&quot;</td><td>&quot;10700&quot;</td><td>&quot;0&quot;</td><td>&quot;0129&quot;</td><td>&quot;0014&quot;</td><td>null</td><td>null</td><td>null</td><td>&quot;대&quot;</td><td>null</td><td>null</td><td>null</td><td>&quot;08&quot;</td><td>null</td><td>null</td><td>null</td><td>null</td><td>null</td><td>0.0</td><td>0.0</td><td>0.0</td><td>0.0</td><td>0.0</td><td>0.0</td><td>0</td><td>0</td><td>null</td><td>null</td><td>0</td><td>0</td><td>0</td><td>0</td><td>null</td><td>null</td><td>null</td><td>&quot;20100924&quot;</td><td>null</td><td>&quot;20100925&quot;</td><td>1</td></tr><tr><td>&quot;47111-10002421…</td><td>&quot;경상북도 포항시 남구 대도…</td><td>null</td><td>&quot;47111&quot;</td><td>&quot;10200&quot;</td><td>&quot;0&quot;</td><td>&quot;0016&quot;</td><td>&quot;0049&quot;</td><td>null</td><td>null</td><td>null</td><td>&quot;대&quot;</td><td>null</td><td>null</td><td>null</td><td>&quot;08&quot;</td><td>null</td><td>null</td><td>null</td><td>null</td><td>null</td><td>0.0</td><td>0.0</td><td>0.0</td><td>0.0</td><td>0.0</td><td>0.0</td><td>0</td><td>0</td><td>null</td><td>null</td><td>0</td><td>0</td><td>0</td><td>0</td><td>null</td><td>null</td><td>null</td><td>&quot;20130219&quot;</td><td>null</td><td>&quot;20130301&quot;</td><td>2</td></tr><tr><td>&quot;47111-10002422…</td><td>&quot;경상북도 포항시 남구 호미…</td><td>null</td><td>&quot;47111&quot;</td><td>&quot;35022&quot;</td><td>&quot;0&quot;</td><td>&quot;0213&quot;</td><td>&quot;0001&quot;</td><td>null</td><td>null</td><td>null</td><td>&quot;대&quot;</td><td>null</td><td>null</td><td>null</td><td>&quot;08&quot;</td><td>null</td><td>null</td><td>null</td><td>null</td><td>null</td><td>0.0</td><td>0.0</td><td>0.0</td><td>0.0</td><td>0.0</td><td>0.0</td><td>0</td><td>0</td><td>null</td><td>null</td><td>0</td><td>0</td><td>0</td><td>0</td><td>null</td><td>null</td><td>null</td><td>&quot;20130220&quot;</td><td>null</td><td>&quot;20130301&quot;</td><td>3</td></tr><tr><td>&quot;47150-10003119…</td><td>&quot;경상북도 김천시 부항면 희…</td><td>null</td><td>&quot;47150&quot;</td><td>&quot;43033&quot;</td><td>&quot;0&quot;</td><td>&quot;0680&quot;</td><td>&quot;0000&quot;</td><td>null</td><td>null</td><td>null</td><td>&quot;대&quot;</td><td>null</td><td>null</td><td>null</td><td>&quot;08&quot;</td><td>null</td><td>null</td><td>null</td><td>null</td><td>null</td><td>0.0</td><td>0.0</td><td>0.0</td><td>0.0</td><td>0.0</td><td>0.0</td><td>0</td><td>0</td><td>null</td><td>null</td><td>0</td><td>0</td><td>0</td><td>0</td><td>null</td><td>null</td><td>null</td><td>&quot;20130213&quot;</td><td>null</td><td>&quot;20130301&quot;</td><td>4</td></tr></tbody></table></div>"
      ],
      "text/plain": [
       "shape: (5, 42)\n",
       "┌────────────┬────────────┬──────────┬────────────┬───┬────────────┬────────────┬────────────┬────────────┐\n",
       "│ 관리_허가  ┆ 대지_위치  ┆ 건물_명  ┆ 시군구_코  ┆ … ┆ 건축_허가_ ┆ 사용승인_  ┆ 생성_일자  ┆ __null_das │\n",
       "│ 대장_PK    ┆ ---        ┆ ---      ┆ 드         ┆   ┆ 일         ┆ 일         ┆ ---        ┆ k_index__  │\n",
       "│ ---        ┆ str        ┆ str      ┆ ---        ┆   ┆ ---        ┆ ---        ┆ str        ┆ ---        │\n",
       "│ str        ┆            ┆          ┆ str        ┆   ┆ str        ┆ str        ┆            ┆ i64        │\n",
       "╞════════════╪════════════╪══════════╪════════════╪═══╪════════════╪════════════╪════════════╪════════════╡\n",
       "│ 46880-1000 ┆ 전라남도   ┆ null     ┆ 46880      ┆ … ┆ 20140930   ┆ null       ┆ 20141003   ┆ 0          │\n",
       "│ 34854      ┆ 장성군     ┆          ┆            ┆   ┆            ┆            ┆            ┆            │\n",
       "│            ┆ 황룡면     ┆          ┆            ┆   ┆            ┆            ┆            ┆            │\n",
       "│            ┆ 월평리     ┆          ┆            ┆   ┆            ┆            ┆            ┆            │\n",
       "│            ┆ 80-2번지   ┆          ┆            ┆   ┆            ┆            ┆            ┆            │\n",
       "│ 47150-1000 ┆ 경상북도   ┆ null     ┆ 47150      ┆ … ┆ 20100924   ┆ null       ┆ 20100925   ┆ 1          │\n",
       "│ 17785      ┆ 김천시     ┆          ┆            ┆   ┆            ┆            ┆            ┆            │\n",
       "│            ┆ 황금동     ┆          ┆            ┆   ┆            ┆            ┆            ┆            │\n",
       "│            ┆ 129-14번지 ┆          ┆            ┆   ┆            ┆            ┆            ┆            │\n",
       "│ 47111-1000 ┆ 경상북도   ┆ null     ┆ 47111      ┆ … ┆ 20130219   ┆ null       ┆ 20130301   ┆ 2          │\n",
       "│ 24218      ┆ 포항시     ┆          ┆            ┆   ┆            ┆            ┆            ┆            │\n",
       "│            ┆ 남구       ┆          ┆            ┆   ┆            ┆            ┆            ┆            │\n",
       "│            ┆ 대도동     ┆          ┆            ┆   ┆            ┆            ┆            ┆            │\n",
       "│            ┆ 16-49번지  ┆          ┆            ┆   ┆            ┆            ┆            ┆            │\n",
       "│ 47111-1000 ┆ 경상북도   ┆ null     ┆ 47111      ┆ … ┆ 20130220   ┆ null       ┆ 20130301   ┆ 3          │\n",
       "│ 24226      ┆ 포항시     ┆          ┆            ┆   ┆            ┆            ┆            ┆            │\n",
       "│            ┆ 남구       ┆          ┆            ┆   ┆            ┆            ┆            ┆            │\n",
       "│            ┆ 호미곶면   ┆          ┆            ┆   ┆            ┆            ┆            ┆            │\n",
       "│            ┆ 대보리     ┆          ┆            ┆   ┆            ┆            ┆            ┆            │\n",
       "│            ┆ 213-1번지  ┆          ┆            ┆   ┆            ┆            ┆            ┆            │\n",
       "│ 47150-1000 ┆ 경상북도   ┆ null     ┆ 47150      ┆ … ┆ 20130213   ┆ null       ┆ 20130301   ┆ 4          │\n",
       "│ 31190      ┆ 김천시     ┆          ┆            ┆   ┆            ┆            ┆            ┆            │\n",
       "│            ┆ 부항면     ┆          ┆            ┆   ┆            ┆            ┆            ┆            │\n",
       "│            ┆ 희곡리     ┆          ┆            ┆   ┆            ┆            ┆            ┆            │\n",
       "│            ┆ 680번지    ┆          ┆            ┆   ┆            ┆            ┆            ┆            │\n",
       "└────────────┴────────────┴──────────┴────────────┴───┴────────────┴────────────┴────────────┴────────────┘"
      ]
     },
     "execution_count": 6,
     "metadata": {},
     "output_type": "execute_result"
    }
   ],
   "source": [
    "df_master.head()\n"
   ]
  },
  {
   "cell_type": "code",
   "execution_count": 15,
   "metadata": {},
   "outputs": [],
   "source": [
    "sejong = pl.col(\"시군구_코드\").str.starts_with(\"36\")\n"
   ]
  },
  {
   "cell_type": "code",
   "execution_count": 28,
   "metadata": {},
   "outputs": [],
   "source": [
    "df_master_sejong = df_master.filter(sejong)\n",
    "df_dong_sejong = df_dong.filter(sejong)\n",
    "df_floor_sejong = df_floor.filter(sejong)\n"
   ]
  },
  {
   "cell_type": "code",
   "execution_count": 29,
   "metadata": {},
   "outputs": [
    {
     "data": {
      "text/html": [
       "<div><style>\n",
       ".dataframe > thead > tr > th,\n",
       ".dataframe > tbody > tr > td {\n",
       "  text-align: right;\n",
       "}\n",
       "</style>\n",
       "<small>shape: (5, 42)</small><table border=\"1\" class=\"dataframe\"><thead><tr><th>관리_허가대장_PK</th><th>대지_위치</th><th>건물_명</th><th>시군구_코드</th><th>법정동_코드</th><th>대지_구분_코드</th><th>번</th><th>지</th><th>특수지_명</th><th>블록</th><th>로트</th><th>지목_코드_명</th><th>지역_코드_명</th><th>지구_코드_명</th><th>구역_코드_명</th><th>지목_코드</th><th>지역_코드</th><th>지구_코드</th><th>구역_코드</th><th>건축_구분_코드</th><th>건축_구분_코드_명</th><th>대지_면적(㎡)</th><th>건축_면적(㎡)</th><th>건폐_율(%)</th><th>연면적(㎡)</th><th>용적_률_산정_연면적(㎡)</th><th>용적_률(%)</th><th>주_건축물_수</th><th>부속_건축물_동_수</th><th>주_용도_코드</th><th>주_용도_코드_명</th><th>세대_수(세대)</th><th>호_수(호)</th><th>가구_수(가구)</th><th>총_주차_수</th><th>착공_예정_일</th><th>착공_연기_일</th><th>실제_착공_일</th><th>건축_허가_일</th><th>사용승인_일</th><th>생성_일자</th><th>__null_dask_index__</th></tr><tr><td>str</td><td>str</td><td>str</td><td>str</td><td>str</td><td>str</td><td>str</td><td>str</td><td>str</td><td>str</td><td>str</td><td>str</td><td>str</td><td>str</td><td>str</td><td>str</td><td>str</td><td>str</td><td>str</td><td>str</td><td>str</td><td>f64</td><td>f64</td><td>f64</td><td>f64</td><td>f64</td><td>f64</td><td>i64</td><td>i64</td><td>str</td><td>str</td><td>i64</td><td>i64</td><td>i64</td><td>i64</td><td>str</td><td>str</td><td>str</td><td>str</td><td>str</td><td>str</td><td>i64</td></tr></thead><tbody><tr><td>&quot;36110-50000473…</td><td>&quot;세종특별자치시  금남면 축…</td><td>null</td><td>&quot;36110&quot;</td><td>&quot;34026&quot;</td><td>&quot;0&quot;</td><td>&quot;0435&quot;</td><td>&quot;0000&quot;</td><td>null</td><td>null</td><td>null</td><td>&quot;대&quot;</td><td>null</td><td>null</td><td>null</td><td>&quot;08&quot;</td><td>null</td><td>null</td><td>null</td><td>null</td><td>null</td><td>0.0</td><td>0.0</td><td>0.0</td><td>0.0</td><td>0.0</td><td>0.0</td><td>0</td><td>0</td><td>null</td><td>null</td><td>0</td><td>0</td><td>0</td><td>0</td><td>null</td><td>null</td><td>null</td><td>&quot;20160823&quot;</td><td>null</td><td>&quot;20160824&quot;</td><td>411</td></tr><tr><td>&quot;36110-50000084…</td><td>&quot;세종특별자치시  부강면 부…</td><td>null</td><td>&quot;36110&quot;</td><td>&quot;33021&quot;</td><td>&quot;0&quot;</td><td>&quot;0442&quot;</td><td>&quot;0001&quot;</td><td>null</td><td>null</td><td>null</td><td>&quot;대&quot;</td><td>null</td><td>null</td><td>null</td><td>&quot;08&quot;</td><td>null</td><td>null</td><td>null</td><td>null</td><td>null</td><td>0.0</td><td>0.0</td><td>0.0</td><td>0.0</td><td>0.0</td><td>0.0</td><td>0</td><td>0</td><td>null</td><td>null</td><td>0</td><td>0</td><td>0</td><td>0</td><td>null</td><td>null</td><td>null</td><td>&quot;20130612&quot;</td><td>null</td><td>&quot;20130613&quot;</td><td>1514</td></tr><tr><td>&quot;36110-50000540…</td><td>&quot;세종특별자치시  전동면 노…</td><td>null</td><td>&quot;36110&quot;</td><td>&quot;38021&quot;</td><td>&quot;0&quot;</td><td>&quot;0584&quot;</td><td>&quot;0019&quot;</td><td>null</td><td>null</td><td>null</td><td>&quot;대&quot;</td><td>null</td><td>null</td><td>null</td><td>&quot;08&quot;</td><td>null</td><td>null</td><td>null</td><td>null</td><td>null</td><td>0.0</td><td>0.0</td><td>0.0</td><td>0.0</td><td>0.0</td><td>0.0</td><td>0</td><td>0</td><td>null</td><td>null</td><td>0</td><td>0</td><td>0</td><td>0</td><td>null</td><td>null</td><td>null</td><td>&quot;20170314&quot;</td><td>null</td><td>&quot;20170331&quot;</td><td>2347</td></tr><tr><td>&quot;36110-7668&quot;</td><td>&quot;세종특별자치시  조치원읍 …</td><td>null</td><td>&quot;36110&quot;</td><td>&quot;25031&quot;</td><td>&quot;0&quot;</td><td>&quot;0060&quot;</td><td>&quot;0008&quot;</td><td>null</td><td>null</td><td>null</td><td>null</td><td>null</td><td>null</td><td>null</td><td>null</td><td>null</td><td>null</td><td>null</td><td>null</td><td>null</td><td>0.0</td><td>0.0</td><td>0.0</td><td>0.0</td><td>0.0</td><td>0.0</td><td>0</td><td>0</td><td>null</td><td>null</td><td>0</td><td>0</td><td>0</td><td>0</td><td>null</td><td>null</td><td>null</td><td>&quot;20060616&quot;</td><td>null</td><td>&quot;20120701&quot;</td><td>4617</td></tr><tr><td>&quot;36110-7680&quot;</td><td>&quot;세종특별자치시  조치원읍 …</td><td>null</td><td>&quot;36110&quot;</td><td>&quot;25032&quot;</td><td>&quot;0&quot;</td><td>&quot;0428&quot;</td><td>&quot;0000&quot;</td><td>null</td><td>null</td><td>null</td><td>null</td><td>null</td><td>null</td><td>null</td><td>null</td><td>null</td><td>null</td><td>null</td><td>null</td><td>null</td><td>0.0</td><td>0.0</td><td>0.0</td><td>0.0</td><td>0.0</td><td>0.0</td><td>0</td><td>0</td><td>null</td><td>null</td><td>0</td><td>0</td><td>0</td><td>0</td><td>null</td><td>null</td><td>null</td><td>&quot;20070208&quot;</td><td>null</td><td>&quot;20120701&quot;</td><td>4620</td></tr></tbody></table></div>"
      ],
      "text/plain": [
       "shape: (5, 42)\n",
       "┌────────────┬────────────┬──────────┬────────────┬───┬────────────┬────────────┬────────────┬────────────┐\n",
       "│ 관리_허가  ┆ 대지_위치  ┆ 건물_명  ┆ 시군구_코  ┆ … ┆ 건축_허가_ ┆ 사용승인_  ┆ 생성_일자  ┆ __null_das │\n",
       "│ 대장_PK    ┆ ---        ┆ ---      ┆ 드         ┆   ┆ 일         ┆ 일         ┆ ---        ┆ k_index__  │\n",
       "│ ---        ┆ str        ┆ str      ┆ ---        ┆   ┆ ---        ┆ ---        ┆ str        ┆ ---        │\n",
       "│ str        ┆            ┆          ┆ str        ┆   ┆ str        ┆ str        ┆            ┆ i64        │\n",
       "╞════════════╪════════════╪══════════╪════════════╪═══╪════════════╪════════════╪════════════╪════════════╡\n",
       "│ 36110-5000 ┆ 세종특별자 ┆ null     ┆ 36110      ┆ … ┆ 20160823   ┆ null       ┆ 20160824   ┆ 411        │\n",
       "│ 047391     ┆ 치시       ┆          ┆            ┆   ┆            ┆            ┆            ┆            │\n",
       "│            ┆ 금남면     ┆          ┆            ┆   ┆            ┆            ┆            ┆            │\n",
       "│            ┆ 축산리     ┆          ┆            ┆   ┆            ┆            ┆            ┆            │\n",
       "│            ┆ 435번지    ┆          ┆            ┆   ┆            ┆            ┆            ┆            │\n",
       "│ 36110-5000 ┆ 세종특별자 ┆ null     ┆ 36110      ┆ … ┆ 20130612   ┆ null       ┆ 20130613   ┆ 1514       │\n",
       "│ 008463     ┆ 치시       ┆          ┆            ┆   ┆            ┆            ┆            ┆            │\n",
       "│            ┆ 부강면     ┆          ┆            ┆   ┆            ┆            ┆            ┆            │\n",
       "│            ┆ 부강리     ┆          ┆            ┆   ┆            ┆            ┆            ┆            │\n",
       "│            ┆ 442-1번지  ┆          ┆            ┆   ┆            ┆            ┆            ┆            │\n",
       "│ 36110-5000 ┆ 세종특별자 ┆ null     ┆ 36110      ┆ … ┆ 20170314   ┆ null       ┆ 20170331   ┆ 2347       │\n",
       "│ 054017     ┆ 치시       ┆          ┆            ┆   ┆            ┆            ┆            ┆            │\n",
       "│            ┆ 전동면     ┆          ┆            ┆   ┆            ┆            ┆            ┆            │\n",
       "│            ┆ 노장리     ┆          ┆            ┆   ┆            ┆            ┆            ┆            │\n",
       "│            ┆ 584-19번지 ┆          ┆            ┆   ┆            ┆            ┆            ┆            │\n",
       "│ 36110-7668 ┆ 세종특별자 ┆ null     ┆ 36110      ┆ … ┆ 20060616   ┆ null       ┆ 20120701   ┆ 4617       │\n",
       "│            ┆ 치시       ┆          ┆            ┆   ┆            ┆            ┆            ┆            │\n",
       "│            ┆ 조치원읍   ┆          ┆            ┆   ┆            ┆            ┆            ┆            │\n",
       "│            ┆ 번암리     ┆          ┆            ┆   ┆            ┆            ┆            ┆            │\n",
       "│            ┆ 60-8번지   ┆          ┆            ┆   ┆            ┆            ┆            ┆            │\n",
       "│ 36110-7680 ┆ 세종특별자 ┆ null     ┆ 36110      ┆ … ┆ 20070208   ┆ null       ┆ 20120701   ┆ 4620       │\n",
       "│            ┆ 치시       ┆          ┆            ┆   ┆            ┆            ┆            ┆            │\n",
       "│            ┆ 조치원읍   ┆          ┆            ┆   ┆            ┆            ┆            ┆            │\n",
       "│            ┆ 신안리     ┆          ┆            ┆   ┆            ┆            ┆            ┆            │\n",
       "│            ┆ 428번지    ┆          ┆            ┆   ┆            ┆            ┆            ┆            │\n",
       "└────────────┴────────────┴──────────┴────────────┴───┴────────────┴────────────┴────────────┴────────────┘"
      ]
     },
     "execution_count": 29,
     "metadata": {},
     "output_type": "execute_result"
    }
   ],
   "source": [
    "df_master_sejong.head()\n"
   ]
  },
  {
   "cell_type": "code",
   "execution_count": 31,
   "metadata": {},
   "outputs": [],
   "source": [
    "df_master_sejong_202212 = df_master_sejong.filter(\n",
    "    pl.col(\"건축_허가_일\").str.starts_with(\"202212\")\n",
    ")\n",
    "df_master_sejong_202212 = df_master_sejong_202212.select(\n",
    "    [\n",
    "        \"관리_허가대장_PK\",\n",
    "        \"시군구_코드\",\n",
    "        \"건축_구분_코드\",\n",
    "        \"건축_구분_코드_명\",\n",
    "        \"대지_면적(㎡)\",\n",
    "        \"건축_면적(㎡)\",\n",
    "        \"건폐_율(%)\",\n",
    "        \"연면적(㎡)\",\n",
    "        \"용적_률_산정_연면적(㎡)\",\n",
    "        \"용적_률(%)\",\n",
    "    ]\n",
    ")\n"
   ]
  },
  {
   "cell_type": "code",
   "execution_count": 32,
   "metadata": {},
   "outputs": [
    {
     "data": {
      "text/html": [
       "<div><style>\n",
       ".dataframe > thead > tr > th,\n",
       ".dataframe > tbody > tr > td {\n",
       "  text-align: right;\n",
       "}\n",
       "</style>\n",
       "<small>shape: (4, 10)</small><table border=\"1\" class=\"dataframe\"><thead><tr><th>건축_구분_코드</th><th>관리_허가대장_PK</th><th>시군구_코드</th><th>건축_구분_코드_명</th><th>대지_면적(㎡)</th><th>건축_면적(㎡)</th><th>건폐_율(%)</th><th>연면적(㎡)</th><th>용적_률_산정_연면적(㎡)</th><th>용적_률(%)</th></tr><tr><td>str</td><td>str</td><td>str</td><td>str</td><td>f64</td><td>f64</td><td>f64</td><td>f64</td><td>f64</td><td>f64</td></tr></thead><tbody><tr><td>&quot;0700&quot;</td><td>&quot;36110-10000000…</td><td>&quot;36110&quot;</td><td>&quot;용도변경&quot;</td><td>360.0</td><td>181.47</td><td>50.4</td><td>338.94</td><td>338.94</td><td>94.15</td></tr><tr><td>null</td><td>&quot;36110-10000000…</td><td>&quot;36110&quot;</td><td>null</td><td>2810.8</td><td>161.23</td><td>0.0</td><td>161.23</td><td>0.0</td><td>0.0</td></tr><tr><td>&quot;0200&quot;</td><td>&quot;36110-10000000…</td><td>&quot;36110&quot;</td><td>&quot;증축&quot;</td><td>34531.0</td><td>428.9</td><td>1.2421</td><td>437.15</td><td>437.15</td><td>1.27</td></tr><tr><td>&quot;0100&quot;</td><td>&quot;36110-10000000…</td><td>&quot;36110&quot;</td><td>&quot;신축&quot;</td><td>796.0</td><td>100.8</td><td>12.66</td><td>100.8</td><td>100.8</td><td>12.66</td></tr></tbody></table></div>"
      ],
      "text/plain": [
       "shape: (4, 10)\n",
       "┌────────────┬────────────┬────────────┬────────────┬───┬────────────┬────────────┬────────────┬────────────┐\n",
       "│ 건축_구분_ ┆ 관리_허가  ┆ 시군구_코  ┆ 건축_구분_ ┆ … ┆ 건폐_율(%) ┆ 연면적(㎡) ┆ 용적_률_산 ┆ 용적_률(%) │\n",
       "│ 코드       ┆ 대장_PK    ┆ 드         ┆ 코드_명    ┆   ┆ ---        ┆ ---        ┆ 정_연면적( ┆ ---        │\n",
       "│ ---        ┆ ---        ┆ ---        ┆ ---        ┆   ┆ f64        ┆ f64        ┆ ㎡)        ┆ f64        │\n",
       "│ str        ┆ str        ┆ str        ┆ str        ┆   ┆            ┆            ┆ ---        ┆            │\n",
       "│            ┆            ┆            ┆            ┆   ┆            ┆            ┆ f64        ┆            │\n",
       "╞════════════╪════════════╪════════════╪════════════╪═══╪════════════╪════════════╪════════════╪════════════╡\n",
       "│ 0700       ┆ 36110-1000 ┆ 36110      ┆ 용도변경   ┆ … ┆ 50.4       ┆ 338.94     ┆ 338.94     ┆ 94.15      │\n",
       "│            ┆ 0000000000 ┆            ┆            ┆   ┆            ┆            ┆            ┆            │\n",
       "│            ┆ 00200320   ┆            ┆            ┆   ┆            ┆            ┆            ┆            │\n",
       "│ null       ┆ 36110-1000 ┆ 36110      ┆ null       ┆ … ┆ 0.0        ┆ 161.23     ┆ 0.0        ┆ 0.0        │\n",
       "│            ┆ 0000000000 ┆            ┆            ┆   ┆            ┆            ┆            ┆            │\n",
       "│            ┆ 00191695   ┆            ┆            ┆   ┆            ┆            ┆            ┆            │\n",
       "│ 0200       ┆ 36110-1000 ┆ 36110      ┆ 증축       ┆ … ┆ 1.2421     ┆ 437.15     ┆ 437.15     ┆ 1.27       │\n",
       "│            ┆ 0000000000 ┆            ┆            ┆   ┆            ┆            ┆            ┆            │\n",
       "│            ┆ 00204222   ┆            ┆            ┆   ┆            ┆            ┆            ┆            │\n",
       "│ 0100       ┆ 36110-1000 ┆ 36110      ┆ 신축       ┆ … ┆ 12.66      ┆ 100.8      ┆ 100.8      ┆ 12.66      │\n",
       "│            ┆ 0000000000 ┆            ┆            ┆   ┆            ┆            ┆            ┆            │\n",
       "│            ┆ 00197951   ┆            ┆            ┆   ┆            ┆            ┆            ┆            │\n",
       "└────────────┴────────────┴────────────┴────────────┴───┴────────────┴────────────┴────────────┴────────────┘"
      ]
     },
     "execution_count": 32,
     "metadata": {},
     "output_type": "execute_result"
    }
   ],
   "source": [
    "df_master_sejong_202212.groupby(\"건축_구분_코드\").first()\n"
   ]
  },
  {
   "cell_type": "code",
   "execution_count": 33,
   "metadata": {},
   "outputs": [
    {
     "data": {
      "text/html": [
       "<div><style>\n",
       ".dataframe > thead > tr > th,\n",
       ".dataframe > tbody > tr > td {\n",
       "  text-align: right;\n",
       "}\n",
       "</style>\n",
       "<small>shape: (4, 10)</small><table border=\"1\" class=\"dataframe\"><thead><tr><th>건축_구분_코드</th><th>관리_허가대장_PK</th><th>시군구_코드</th><th>건축_구분_코드_명</th><th>대지_면적(㎡)</th><th>건축_면적(㎡)</th><th>건폐_율(%)</th><th>연면적(㎡)</th><th>용적_률_산정_연면적(㎡)</th><th>용적_률(%)</th></tr><tr><td>str</td><td>str</td><td>str</td><td>str</td><td>f64</td><td>f64</td><td>f64</td><td>f64</td><td>f64</td><td>f64</td></tr></thead><tbody><tr><td>&quot;0700&quot;</td><td>null</td><td>null</td><td>null</td><td>19728.0</td><td>12364.79</td><td>322.425</td><td>109317.571</td><td>66973.545</td><td>1550.3116</td></tr><tr><td>&quot;0200&quot;</td><td>null</td><td>null</td><td>null</td><td>122917.5</td><td>23074.365</td><td>282.8264</td><td>47633.795</td><td>44634.795</td><td>428.7154</td></tr><tr><td>&quot;0100&quot;</td><td>null</td><td>null</td><td>null</td><td>135301.0</td><td>33244.43</td><td>689.9591</td><td>54907.86</td><td>54486.81</td><td>854.0873</td></tr><tr><td>null</td><td>null</td><td>null</td><td>null</td><td>1.5469e6</td><td>4942.22</td><td>0.0</td><td>4891.78</td><td>0.0</td><td>0.0</td></tr></tbody></table></div>"
      ],
      "text/plain": [
       "shape: (4, 10)\n",
       "┌────────────┬────────────┬────────────┬────────────┬───┬────────────┬────────────┬────────────┬────────────┐\n",
       "│ 건축_구분_ ┆ 관리_허가  ┆ 시군구_코  ┆ 건축_구분_ ┆ … ┆ 건폐_율(%) ┆ 연면적(㎡) ┆ 용적_률_산 ┆ 용적_률(%) │\n",
       "│ 코드       ┆ 대장_PK    ┆ 드         ┆ 코드_명    ┆   ┆ ---        ┆ ---        ┆ 정_연면적( ┆ ---        │\n",
       "│ ---        ┆ ---        ┆ ---        ┆ ---        ┆   ┆ f64        ┆ f64        ┆ ㎡)        ┆ f64        │\n",
       "│ str        ┆ str        ┆ str        ┆ str        ┆   ┆            ┆            ┆ ---        ┆            │\n",
       "│            ┆            ┆            ┆            ┆   ┆            ┆            ┆ f64        ┆            │\n",
       "╞════════════╪════════════╪════════════╪════════════╪═══╪════════════╪════════════╪════════════╪════════════╡\n",
       "│ 0700       ┆ null       ┆ null       ┆ null       ┆ … ┆ 322.425    ┆ 109317.571 ┆ 66973.545  ┆ 1550.3116  │\n",
       "│ 0200       ┆ null       ┆ null       ┆ null       ┆ … ┆ 282.8264   ┆ 47633.795  ┆ 44634.795  ┆ 428.7154   │\n",
       "│ 0100       ┆ null       ┆ null       ┆ null       ┆ … ┆ 689.9591   ┆ 54907.86   ┆ 54486.81   ┆ 854.0873   │\n",
       "│ null       ┆ null       ┆ null       ┆ null       ┆ … ┆ 0.0        ┆ 4891.78    ┆ 0.0        ┆ 0.0        │\n",
       "└────────────┴────────────┴────────────┴────────────┴───┴────────────┴────────────┴────────────┴────────────┘"
      ]
     },
     "execution_count": 33,
     "metadata": {},
     "output_type": "execute_result"
    }
   ],
   "source": [
    "df_master_sejong_202212.groupby(\"건축_구분_코드\").sum()\n"
   ]
  },
  {
   "cell_type": "code",
   "execution_count": 49,
   "metadata": {},
   "outputs": [],
   "source": [
    "df_dong_sejong_202212 = df_master_sejong_202212.join(df_dong_sejong, \"관리_허가대장_PK\")\n",
    "df_dong_sejong_202212 = df_dong_sejong_202212.select(\n",
    "    [\n",
    "        \"관리_허가대장_PK\",\n",
    "        \"시군구_코드\",\n",
    "        \"건축_구분_코드\",\n",
    "        \"건축_구분_코드_명\",\n",
    "        \"대지_면적(㎡)\",\n",
    "        \"건축_면적(㎡)\",\n",
    "        \"건폐_율(%)\",\n",
    "        \"연면적(㎡)\",\n",
    "        \"용적_률_산정_연면적(㎡)\",\n",
    "        \"용적_률(%)\",\n",
    "        \"관리_동별_개요_PK\",\n",
    "        \"건물_명\",\n",
    "        \"주_부속_구분_코드\",\n",
    "        \"주_부속_구분_코드_명\",\n",
    "        \"주_용도_코드\",\n",
    "        \"주_용도_코드_명\",\n",
    "        \"구조_코드\",\n",
    "        \"구조_코드_명\",\n",
    "        \"지붕_코드\",\n",
    "        \"지붕_코드_명\",\n",
    "        \"건축_면적(㎡)_right\",\n",
    "        \"연면적(㎡)_right\",\n",
    "        \"용적_률_산정_연면적(㎡)_right\",\n",
    "    ]\n",
    ")\n",
    "df_dong_sejong_202212 = df_dong_sejong_202212.rename(\n",
    "    {\n",
    "        \"건축_면적(㎡)_right\": \"건축_면적(㎡)_동\",\n",
    "        \"연면적(㎡)_right\": \"연면적(㎡)_동\",\n",
    "        \"용적_률_산정_연면적(㎡)_right\": \"용적_률_산정_연면적(㎡)_동\",\n",
    "    }\n",
    ")\n"
   ]
  },
  {
   "cell_type": "code",
   "execution_count": 50,
   "metadata": {},
   "outputs": [
    {
     "data": {
      "text/html": [
       "<div><style>\n",
       ".dataframe > thead > tr > th,\n",
       ".dataframe > tbody > tr > td {\n",
       "  text-align: right;\n",
       "}\n",
       "</style>\n",
       "<small>shape: (5, 23)</small><table border=\"1\" class=\"dataframe\"><thead><tr><th>관리_허가대장_PK</th><th>시군구_코드</th><th>건축_구분_코드</th><th>건축_구분_코드_명</th><th>대지_면적(㎡)</th><th>건축_면적(㎡)</th><th>건폐_율(%)</th><th>연면적(㎡)</th><th>용적_률_산정_연면적(㎡)</th><th>용적_률(%)</th><th>관리_동별_개요_PK</th><th>건물_명</th><th>주_부속_구분_코드</th><th>주_부속_구분_코드_명</th><th>주_용도_코드</th><th>주_용도_코드_명</th><th>구조_코드</th><th>구조_코드_명</th><th>지붕_코드</th><th>지붕_코드_명</th><th>건축_면적(㎡)_동</th><th>연면적(㎡)_동</th><th>용적_률_산정_연면적(㎡)_동</th></tr><tr><td>str</td><td>str</td><td>str</td><td>str</td><td>f64</td><td>f64</td><td>f64</td><td>f64</td><td>f64</td><td>f64</td><td>str</td><td>str</td><td>str</td><td>str</td><td>str</td><td>str</td><td>str</td><td>str</td><td>str</td><td>str</td><td>f64</td><td>f64</td><td>f64</td></tr></thead><tbody><tr><td>&quot;36110-10000000…</td><td>&quot;36110&quot;</td><td>null</td><td>null</td><td>610.0</td><td>18.0</td><td>0.0</td><td>0.0</td><td>0.0</td><td>0.0</td><td>&quot;36110-10000000…</td><td>null</td><td>&quot;0&quot;</td><td>&quot;주건축물&quot;</td><td>&quot;28000&quot;</td><td>&quot;가설건축물&quot;</td><td>&quot;74&quot;</td><td>&quot;컨테이너조&quot;</td><td>null</td><td>null</td><td>18.0</td><td>18.0</td><td>18.0</td></tr><tr><td>&quot;36110-10000000…</td><td>&quot;36110&quot;</td><td>null</td><td>null</td><td>622.0</td><td>18.0</td><td>0.0</td><td>18.0</td><td>0.0</td><td>0.0</td><td>&quot;36110-10000000…</td><td>null</td><td>&quot;0&quot;</td><td>&quot;주건축물&quot;</td><td>&quot;28000&quot;</td><td>&quot;가설건축물&quot;</td><td>&quot;74&quot;</td><td>&quot;컨테이너조&quot;</td><td>null</td><td>null</td><td>18.0</td><td>18.0</td><td>18.0</td></tr><tr><td>&quot;36110-10000000…</td><td>&quot;36110&quot;</td><td>null</td><td>null</td><td>1653.0</td><td>60.0</td><td>0.0</td><td>60.0</td><td>0.0</td><td>0.0</td><td>&quot;36110-10000000…</td><td>null</td><td>&quot;0&quot;</td><td>&quot;주건축물&quot;</td><td>&quot;28000&quot;</td><td>&quot;가설건축물&quot;</td><td>&quot;33&quot;</td><td>&quot;강파이프구조&quot;</td><td>null</td><td>null</td><td>60.0</td><td>60.0</td><td>60.0</td></tr><tr><td>&quot;36110-10000000…</td><td>&quot;36110&quot;</td><td>null</td><td>null</td><td>11407.4</td><td>99.0</td><td>0.0</td><td>99.0</td><td>0.0</td><td>0.0</td><td>&quot;36110-10000000…</td><td>null</td><td>&quot;0&quot;</td><td>&quot;주건축물&quot;</td><td>&quot;18000&quot;</td><td>&quot;창고시설&quot;</td><td>&quot;33&quot;</td><td>&quot;강파이프구조&quot;</td><td>null</td><td>null</td><td>99.0</td><td>99.0</td><td>99.0</td></tr><tr><td>&quot;36110-10000000…</td><td>&quot;36110&quot;</td><td>&quot;0200&quot;</td><td>&quot;증축&quot;</td><td>3804.0</td><td>1634.15</td><td>42.96</td><td>1634.15</td><td>1634.15</td><td>42.96</td><td>&quot;36110-10000000…</td><td>&quot;연동면 송용리 1028-1…</td><td>&quot;0&quot;</td><td>&quot;주건축물&quot;</td><td>&quot;21000&quot;</td><td>&quot;동.식물관련시설&quot;</td><td>&quot;33&quot;</td><td>&quot;강파이프구조&quot;</td><td>&quot;90&quot;</td><td>&quot;기타지붕&quot;</td><td>1382.15</td><td>1382.15</td><td>1382.15</td></tr></tbody></table></div>"
      ],
      "text/plain": [
       "shape: (5, 23)\n",
       "┌────────────┬────────────┬────────────┬────────────┬───┬────────────┬────────────┬────────────┬────────────┐\n",
       "│ 관리_허가  ┆ 시군구_코  ┆ 건축_구분_ ┆ 건축_구분_ ┆ … ┆ 지붕_코드_ ┆ 건축_면적( ┆ 연면적(㎡) ┆ 용적_률_산 │\n",
       "│ 대장_PK    ┆ 드         ┆ 코드       ┆ 코드_명    ┆   ┆ 명         ┆ ㎡)_동     ┆ _동        ┆ 정_연면적( │\n",
       "│ ---        ┆ ---        ┆ ---        ┆ ---        ┆   ┆ ---        ┆ ---        ┆ ---        ┆ ㎡)_동     │\n",
       "│ str        ┆ str        ┆ str        ┆ str        ┆   ┆ str        ┆ f64        ┆ f64        ┆ ---        │\n",
       "│            ┆            ┆            ┆            ┆   ┆            ┆            ┆            ┆ f64        │\n",
       "╞════════════╪════════════╪════════════╪════════════╪═══╪════════════╪════════════╪════════════╪════════════╡\n",
       "│ 36110-1000 ┆ 36110      ┆ null       ┆ null       ┆ … ┆ null       ┆ 18.0       ┆ 18.0       ┆ 18.0       │\n",
       "│ 0000000000 ┆            ┆            ┆            ┆   ┆            ┆            ┆            ┆            │\n",
       "│ 00197128   ┆            ┆            ┆            ┆   ┆            ┆            ┆            ┆            │\n",
       "│ 36110-1000 ┆ 36110      ┆ null       ┆ null       ┆ … ┆ null       ┆ 18.0       ┆ 18.0       ┆ 18.0       │\n",
       "│ 0000000000 ┆            ┆            ┆            ┆   ┆            ┆            ┆            ┆            │\n",
       "│ 00205661   ┆            ┆            ┆            ┆   ┆            ┆            ┆            ┆            │\n",
       "│ 36110-1000 ┆ 36110      ┆ null       ┆ null       ┆ … ┆ null       ┆ 60.0       ┆ 60.0       ┆ 60.0       │\n",
       "│ 0000000000 ┆            ┆            ┆            ┆   ┆            ┆            ┆            ┆            │\n",
       "│ 00191378   ┆            ┆            ┆            ┆   ┆            ┆            ┆            ┆            │\n",
       "│ 36110-1000 ┆ 36110      ┆ null       ┆ null       ┆ … ┆ null       ┆ 99.0       ┆ 99.0       ┆ 99.0       │\n",
       "│ 0000000000 ┆            ┆            ┆            ┆   ┆            ┆            ┆            ┆            │\n",
       "│ 00204776   ┆            ┆            ┆            ┆   ┆            ┆            ┆            ┆            │\n",
       "│ 36110-1000 ┆ 36110      ┆ 0200       ┆ 증축       ┆ … ┆ 기타지붕   ┆ 1382.15    ┆ 1382.15    ┆ 1382.15    │\n",
       "│ 0000000000 ┆            ┆            ┆            ┆   ┆            ┆            ┆            ┆            │\n",
       "│ 00203346   ┆            ┆            ┆            ┆   ┆            ┆            ┆            ┆            │\n",
       "└────────────┴────────────┴────────────┴────────────┴───┴────────────┴────────────┴────────────┴────────────┘"
      ]
     },
     "execution_count": 50,
     "metadata": {},
     "output_type": "execute_result"
    }
   ],
   "source": [
    "df_dong_sejong_202212.head()\n"
   ]
  },
  {
   "cell_type": "code",
   "execution_count": 77,
   "metadata": {},
   "outputs": [
    {
     "data": {
      "text/html": [
       "<div><style>\n",
       ".dataframe > thead > tr > th,\n",
       ".dataframe > tbody > tr > td {\n",
       "  text-align: right;\n",
       "}\n",
       "</style>\n",
       "<small>shape: (4, 23)</small><table border=\"1\" class=\"dataframe\"><thead><tr><th>건축_구분_코드</th><th>관리_허가대장_PK</th><th>시군구_코드</th><th>건축_구분_코드_명</th><th>대지_면적(㎡)</th><th>건축_면적(㎡)</th><th>건폐_율(%)</th><th>연면적(㎡)</th><th>용적_률_산정_연면적(㎡)</th><th>용적_률(%)</th><th>관리_동별_개요_PK</th><th>건물_명</th><th>주_부속_구분_코드</th><th>주_부속_구분_코드_명</th><th>주_용도_코드</th><th>주_용도_코드_명</th><th>구조_코드</th><th>구조_코드_명</th><th>지붕_코드</th><th>지붕_코드_명</th><th>건축_면적(㎡)_동</th><th>연면적(㎡)_동</th><th>용적_률_산정_연면적(㎡)_동</th></tr><tr><td>str</td><td>str</td><td>str</td><td>str</td><td>f64</td><td>f64</td><td>f64</td><td>f64</td><td>f64</td><td>f64</td><td>str</td><td>str</td><td>str</td><td>str</td><td>str</td><td>str</td><td>str</td><td>str</td><td>str</td><td>str</td><td>f64</td><td>f64</td><td>f64</td></tr></thead><tbody><tr><td>null</td><td>null</td><td>null</td><td>null</td><td>2939652.4</td><td>16012.02</td><td>0.0</td><td>16654.58</td><td>0.0</td><td>0.0</td><td>null</td><td>null</td><td>null</td><td>null</td><td>null</td><td>null</td><td>null</td><td>null</td><td>null</td><td>null</td><td>4960.228</td><td>5302.228</td><td>5287.228</td></tr><tr><td>&quot;0100&quot;</td><td>null</td><td>null</td><td>null</td><td>248611.0</td><td>62544.56</td><td>894.1005</td><td>102777.55</td><td>102356.5</td><td>1097.7287</td><td>null</td><td>null</td><td>null</td><td>null</td><td>null</td><td>null</td><td>null</td><td>null</td><td>null</td><td>null</td><td>33244.43</td><td>54907.86</td><td>54486.81</td></tr><tr><td>&quot;0700&quot;</td><td>null</td><td>null</td><td>null</td><td>19728.0</td><td>12364.79</td><td>322.425</td><td>109317.571</td><td>66973.545</td><td>1550.3116</td><td>null</td><td>null</td><td>null</td><td>null</td><td>null</td><td>null</td><td>null</td><td>null</td><td>null</td><td>null</td><td>1433.14</td><td>135.98</td><td>10572.0</td></tr><tr><td>&quot;0200&quot;</td><td>null</td><td>null</td><td>null</td><td>673008.5</td><td>59479.575</td><td>495.1454</td><td>174474.105</td><td>162738.045</td><td>939.7232</td><td>null</td><td>null</td><td>null</td><td>null</td><td>null</td><td>null</td><td>null</td><td>null</td><td>null</td><td>null</td><td>3438.237</td><td>6224.057</td><td>5755.657</td></tr></tbody></table></div>"
      ],
      "text/plain": [
       "shape: (4, 23)\n",
       "┌────────────┬────────────┬────────────┬────────────┬───┬────────────┬────────────┬────────────┬────────────┐\n",
       "│ 건축_구분_ ┆ 관리_허가  ┆ 시군구_코  ┆ 건축_구분_ ┆ … ┆ 지붕_코드_ ┆ 건축_면적( ┆ 연면적(㎡) ┆ 용적_률_산 │\n",
       "│ 코드       ┆ 대장_PK    ┆ 드         ┆ 코드_명    ┆   ┆ 명         ┆ ㎡)_동     ┆ _동        ┆ 정_연면적( │\n",
       "│ ---        ┆ ---        ┆ ---        ┆ ---        ┆   ┆ ---        ┆ ---        ┆ ---        ┆ ㎡)_동     │\n",
       "│ str        ┆ str        ┆ str        ┆ str        ┆   ┆ str        ┆ f64        ┆ f64        ┆ ---        │\n",
       "│            ┆            ┆            ┆            ┆   ┆            ┆            ┆            ┆ f64        │\n",
       "╞════════════╪════════════╪════════════╪════════════╪═══╪════════════╪════════════╪════════════╪════════════╡\n",
       "│ null       ┆ null       ┆ null       ┆ null       ┆ … ┆ null       ┆ 4960.228   ┆ 5302.228   ┆ 5287.228   │\n",
       "│ 0100       ┆ null       ┆ null       ┆ null       ┆ … ┆ null       ┆ 33244.43   ┆ 54907.86   ┆ 54486.81   │\n",
       "│ 0700       ┆ null       ┆ null       ┆ null       ┆ … ┆ null       ┆ 1433.14    ┆ 135.98     ┆ 10572.0    │\n",
       "│ 0200       ┆ null       ┆ null       ┆ null       ┆ … ┆ null       ┆ 3438.237   ┆ 6224.057   ┆ 5755.657   │\n",
       "└────────────┴────────────┴────────────┴────────────┴───┴────────────┴────────────┴────────────┴────────────┘"
      ]
     },
     "execution_count": 77,
     "metadata": {},
     "output_type": "execute_result"
    }
   ],
   "source": [
    "df_dong_sejong_202212.groupby(\"건축_구분_코드\").sum()\n"
   ]
  },
  {
   "cell_type": "code",
   "execution_count": 51,
   "metadata": {},
   "outputs": [
    {
     "data": {
      "text/html": [
       "<div><style>\n",
       ".dataframe > thead > tr > th,\n",
       ".dataframe > tbody > tr > td {\n",
       "  text-align: right;\n",
       "}\n",
       "</style>\n",
       "<small>shape: (5, 25)</small><table border=\"1\" class=\"dataframe\"><thead><tr><th>관리_층별_개요_PK</th><th>관리_동별_개요_PK</th><th>관리_허가대장_PK</th><th>대지_위치</th><th>건물_명</th><th>시군구_코드</th><th>법정동_코드</th><th>대지_구분_코드</th><th>번</th><th>지</th><th>특수지_명</th><th>블록</th><th>로트</th><th>구조_코드</th><th>구조_코드_명</th><th>주_용도_코드</th><th>주_용도_코드_명</th><th>층_번호</th><th>층_면적(㎡)</th><th>층_구분_코드</th><th>층_구분_코드_명</th><th>건축_구분_코드</th><th>건축_구분_코드_명</th><th>생성_일자</th><th>__null_dask_index__</th></tr><tr><td>str</td><td>str</td><td>str</td><td>str</td><td>str</td><td>str</td><td>str</td><td>str</td><td>str</td><td>str</td><td>str</td><td>str</td><td>str</td><td>str</td><td>str</td><td>str</td><td>str</td><td>i64</td><td>f64</td><td>str</td><td>str</td><td>str</td><td>str</td><td>str</td><td>i64</td></tr></thead><tbody><tr><td>&quot;36110-50002046…</td><td>&quot;36110-50002593…</td><td>&quot;36110-50001466…</td><td>&quot;세종특별자치시  전의면 읍…</td><td>null</td><td>&quot;36110&quot;</td><td>&quot;37021&quot;</td><td>&quot;0&quot;</td><td>&quot;0100&quot;</td><td>&quot;0005&quot;</td><td>null</td><td>null</td><td>null</td><td>&quot;33&quot;</td><td>&quot;강파이프구조&quot;</td><td>&quot;28010&quot;</td><td>&quot;임시창고&quot;</td><td>1</td><td>168.75</td><td>&quot;20&quot;</td><td>&quot;지상&quot;</td><td>&quot;0100&quot;</td><td>&quot;신축&quot;</td><td>&quot;20221108&quot;</td><td>1035</td></tr><tr><td>&quot;36110-20000170…</td><td>&quot;36110-20000116…</td><td>&quot;36110-20000076…</td><td>&quot;세종특별자치시  부강면 금…</td><td>null</td><td>&quot;36110&quot;</td><td>&quot;33028&quot;</td><td>&quot;0&quot;</td><td>&quot;0662&quot;</td><td>&quot;0000&quot;</td><td>null</td><td>null</td><td>null</td><td>&quot;31&quot;</td><td>&quot;일반철골구조&quot;</td><td>&quot;17100&quot;</td><td>&quot;일반공장&quot;</td><td>1</td><td>0.0</td><td>&quot;20&quot;</td><td>&quot;지상&quot;</td><td>&quot;2000&quot;</td><td>&quot;허가/신고사항변경&quot;</td><td>&quot;20230105&quot;</td><td>1390</td></tr><tr><td>&quot;36110-50001386…</td><td>&quot;36110-50001737…</td><td>&quot;36110-50000926…</td><td>&quot;세종특별자치시  전동면 송…</td><td>null</td><td>&quot;36110&quot;</td><td>&quot;38026&quot;</td><td>&quot;0&quot;</td><td>&quot;0311&quot;</td><td>&quot;0000&quot;</td><td>null</td><td>null</td><td>null</td><td>&quot;32&quot;</td><td>&quot;경량철골구조&quot;</td><td>&quot;18101&quot;</td><td>&quot;일반창고&quot;</td><td>1</td><td>135.0</td><td>&quot;20&quot;</td><td>&quot;지상&quot;</td><td>&quot;0100&quot;</td><td>&quot;신축&quot;</td><td>&quot;20230105&quot;</td><td>1435</td></tr><tr><td>&quot;36110-50000171…</td><td>&quot;36110-50000162…</td><td>&quot;36110-50000101…</td><td>&quot;세종특별자치시  나성동 블…</td><td>null</td><td>&quot;36110&quot;</td><td>&quot;10700&quot;</td><td>&quot;2&quot;</td><td>&quot;0000&quot;</td><td>&quot;0000&quot;</td><td>&quot;행정중심복합도시&quot;</td><td>&quot;2-4생활권&quot;</td><td>&quot;CB3-3&quot;</td><td>&quot;39&quot;</td><td>&quot;기타강구조&quot;</td><td>&quot;28009&quot;</td><td>&quot;임시사무실&quot;</td><td>1</td><td>18.0</td><td>&quot;20&quot;</td><td>&quot;지상&quot;</td><td>&quot;0100&quot;</td><td>&quot;신축&quot;</td><td>&quot;20130820&quot;</td><td>1957</td></tr><tr><td>&quot;36110-50000574…</td><td>&quot;36110-50000612…</td><td>&quot;36110-50000374…</td><td>&quot;세종특별자치시  고운동 블…</td><td>&quot;성진프라자&quot;</td><td>&quot;36110&quot;</td><td>&quot;11200&quot;</td><td>&quot;2&quot;</td><td>&quot;0000&quot;</td><td>&quot;0000&quot;</td><td>&quot;1-1생활권&quot;</td><td>&quot;C1&quot;</td><td>&quot;2&quot;</td><td>&quot;21&quot;</td><td>&quot;철근콘크리트구조&quot;</td><td>&quot;03020&quot;</td><td>&quot;체육도장&quot;</td><td>7</td><td>64.68</td><td>&quot;20&quot;</td><td>&quot;지상&quot;</td><td>&quot;0700&quot;</td><td>&quot;용도변경&quot;</td><td>&quot;20230105&quot;</td><td>2207</td></tr></tbody></table></div>"
      ],
      "text/plain": [
       "shape: (5, 25)\n",
       "┌────────────┬────────────┬────────────┬────────────┬───┬────────────┬────────────┬────────────┬────────────┐\n",
       "│ 관리_층별_ ┆ 관리_동별_ ┆ 관리_허가  ┆ 대지_위치  ┆ … ┆ 건축_구분_ ┆ 건축_구분_ ┆ 생성_일자  ┆ __null_das │\n",
       "│ 개요_PK    ┆ 개요_PK    ┆ 대장_PK    ┆ ---        ┆   ┆ 코드       ┆ 코드_명    ┆ ---        ┆ k_index__  │\n",
       "│ ---        ┆ ---        ┆ ---        ┆ str        ┆   ┆ ---        ┆ ---        ┆ str        ┆ ---        │\n",
       "│ str        ┆ str        ┆ str        ┆            ┆   ┆ str        ┆ str        ┆            ┆ i64        │\n",
       "╞════════════╪════════════╪════════════╪════════════╪═══╪════════════╪════════════╪════════════╪════════════╡\n",
       "│ 36110-5000 ┆ 36110-5000 ┆ 36110-5000 ┆ 세종특별자 ┆ … ┆ 0100       ┆ 신축       ┆ 20221108   ┆ 1035       │\n",
       "│ 204629     ┆ 259387     ┆ 146654     ┆ 치시       ┆   ┆            ┆            ┆            ┆            │\n",
       "│            ┆            ┆            ┆ 전의면     ┆   ┆            ┆            ┆            ┆            │\n",
       "│            ┆            ┆            ┆ 읍내리     ┆   ┆            ┆            ┆            ┆            │\n",
       "│            ┆            ┆            ┆ 100-5번지  ┆   ┆            ┆            ┆            ┆            │\n",
       "│ 36110-2000 ┆ 36110-2000 ┆ 36110-2000 ┆ 세종특별자 ┆ … ┆ 2000       ┆ 허가/신고  ┆ 20230105   ┆ 1390       │\n",
       "│ 017050     ┆ 011682     ┆ 007677     ┆ 치시       ┆   ┆            ┆ 사항변경   ┆            ┆            │\n",
       "│            ┆            ┆            ┆ 부강면     ┆   ┆            ┆            ┆            ┆            │\n",
       "│            ┆            ┆            ┆ 금호리     ┆   ┆            ┆            ┆            ┆            │\n",
       "│            ┆            ┆            ┆ 662번지    ┆   ┆            ┆            ┆            ┆            │\n",
       "│ 36110-5000 ┆ 36110-5000 ┆ 36110-5000 ┆ 세종특별자 ┆ … ┆ 0100       ┆ 신축       ┆ 20230105   ┆ 1435       │\n",
       "│ 138626     ┆ 173744     ┆ 092697     ┆ 치시       ┆   ┆            ┆            ┆            ┆            │\n",
       "│            ┆            ┆            ┆ 전동면     ┆   ┆            ┆            ┆            ┆            │\n",
       "│            ┆            ┆            ┆ 송곡리     ┆   ┆            ┆            ┆            ┆            │\n",
       "│            ┆            ┆            ┆ 311번지    ┆   ┆            ┆            ┆            ┆            │\n",
       "│ 36110-5000 ┆ 36110-5000 ┆ 36110-5000 ┆ 세종특별자 ┆ … ┆ 0100       ┆ 신축       ┆ 20130820   ┆ 1957       │\n",
       "│ 017195     ┆ 016202     ┆ 010182     ┆ 치시       ┆   ┆            ┆            ┆            ┆            │\n",
       "│            ┆            ┆            ┆ 나성동     ┆   ┆            ┆            ┆            ┆            │\n",
       "│            ┆            ┆            ┆ 블록 행정  ┆   ┆            ┆            ┆            ┆            │\n",
       "│            ┆            ┆            ┆ 중심복합도 ┆   ┆            ┆            ┆            ┆            │\n",
       "│            ┆            ┆            ┆ 시지구     ┆   ┆            ┆            ┆            ┆            │\n",
       "│            ┆            ┆            ┆ 2-4생활…   ┆   ┆            ┆            ┆            ┆            │\n",
       "│ 36110-5000 ┆ 36110-5000 ┆ 36110-5000 ┆ 세종특별자 ┆ … ┆ 0700       ┆ 용도변경   ┆ 20230105   ┆ 2207       │\n",
       "│ 057411     ┆ 061292     ┆ 037473     ┆ 치시       ┆   ┆            ┆            ┆            ┆            │\n",
       "│            ┆            ┆            ┆ 고운동     ┆   ┆            ┆            ┆            ┆            │\n",
       "│            ┆            ┆            ┆ 블록 1-1생 ┆   ┆            ┆            ┆            ┆            │\n",
       "│            ┆            ┆            ┆ 활권지구   ┆   ┆            ┆            ┆            ┆            │\n",
       "│            ┆            ┆            ┆ C1블록     ┆   ┆            ┆            ┆            ┆            │\n",
       "│            ┆            ┆            ┆ 2로…       ┆   ┆            ┆            ┆            ┆            │\n",
       "└────────────┴────────────┴────────────┴────────────┴───┴────────────┴────────────┴────────────┴────────────┘"
      ]
     },
     "execution_count": 51,
     "metadata": {},
     "output_type": "execute_result"
    }
   ],
   "source": [
    "df_floor_sejong.head()\n"
   ]
  },
  {
   "cell_type": "code",
   "execution_count": 71,
   "metadata": {},
   "outputs": [],
   "source": [
    "df_floor_sejong_202212 = df_dong_sejong_202212.join(df_floor_sejong, \"관리_동별_개요_PK\")\n",
    "df_floor_sejong_202212 = df_floor_sejong_202212.select(\n",
    "    [\n",
    "        \"관리_허가대장_PK\",\n",
    "        \"시군구_코드\",\n",
    "        \"건축_구분_코드\",\n",
    "        \"건축_구분_코드_명\",\n",
    "        \"대지_면적(㎡)\",\n",
    "        \"건축_면적(㎡)\",\n",
    "        \"건폐_율(%)\",\n",
    "        \"연면적(㎡)\",\n",
    "        \"용적_률_산정_연면적(㎡)\",\n",
    "        \"용적_률(%)\",\n",
    "        \"관리_동별_개요_PK\",\n",
    "        \"건물_명\",\n",
    "        \"주_부속_구분_코드\",\n",
    "        \"주_부속_구분_코드_명\",\n",
    "        \"주_용도_코드\",\n",
    "        \"주_용도_코드_명\",\n",
    "        \"구조_코드\",\n",
    "        \"구조_코드_명\",\n",
    "        \"지붕_코드\",\n",
    "        \"지붕_코드_명\",\n",
    "        \"건축_면적(㎡)_동\",\n",
    "        \"연면적(㎡)_동\",\n",
    "        \"용적_률_산정_연면적(㎡)_동\",\n",
    "        \"관리_층별_개요_PK\",\n",
    "        \"주_용도_코드_right\",\n",
    "        \"주_용도_코드_명_right\",\n",
    "        \"층_번호\",\n",
    "        \"층_면적(㎡)\",\n",
    "        \"층_구분_코드\",\n",
    "        \"층_구분_코드_명\",\n",
    "        \"건축_구분_코드_right\",\n",
    "        \"건축_구분_코드_명_right\",\n",
    "    ]\n",
    ")\n",
    "df_floor_sejong_202212 = df_floor_sejong_202212.rename(\n",
    "    {\n",
    "        \"주_용도_코드_right\": \"주_용도_코드_층\",\n",
    "        \"주_용도_코드_명_right\": \"주_용도_코드_명_층\",\n",
    "        \"건축_구분_코드_right\": \"건축_구분_코드_층\",\n",
    "        \"건축_구분_코드_명_right\": \"건축_구분_코드_명_층\",\n",
    "    }\n",
    ")\n"
   ]
  },
  {
   "cell_type": "code",
   "execution_count": 72,
   "metadata": {},
   "outputs": [
    {
     "data": {
      "text/html": [
       "<div><style>\n",
       ".dataframe > thead > tr > th,\n",
       ".dataframe > tbody > tr > td {\n",
       "  text-align: right;\n",
       "}\n",
       "</style>\n",
       "<small>shape: (5, 32)</small><table border=\"1\" class=\"dataframe\"><thead><tr><th>관리_허가대장_PK</th><th>시군구_코드</th><th>건축_구분_코드</th><th>건축_구분_코드_명</th><th>대지_면적(㎡)</th><th>건축_면적(㎡)</th><th>건폐_율(%)</th><th>연면적(㎡)</th><th>용적_률_산정_연면적(㎡)</th><th>용적_률(%)</th><th>관리_동별_개요_PK</th><th>건물_명</th><th>주_부속_구분_코드</th><th>주_부속_구분_코드_명</th><th>주_용도_코드</th><th>주_용도_코드_명</th><th>구조_코드</th><th>구조_코드_명</th><th>지붕_코드</th><th>지붕_코드_명</th><th>건축_면적(㎡)_동</th><th>연면적(㎡)_동</th><th>용적_률_산정_연면적(㎡)_동</th><th>관리_층별_개요_PK</th><th>주_용도_코드_층</th><th>주_용도_코드_명_층</th><th>층_번호</th><th>층_면적(㎡)</th><th>층_구분_코드</th><th>층_구분_코드_명</th><th>건축_구분_코드_층</th><th>건축_구분_코드_명_층</th></tr><tr><td>str</td><td>str</td><td>str</td><td>str</td><td>f64</td><td>f64</td><td>f64</td><td>f64</td><td>f64</td><td>f64</td><td>str</td><td>str</td><td>str</td><td>str</td><td>str</td><td>str</td><td>str</td><td>str</td><td>str</td><td>str</td><td>f64</td><td>f64</td><td>f64</td><td>str</td><td>str</td><td>str</td><td>i64</td><td>f64</td><td>str</td><td>str</td><td>str</td><td>str</td></tr></thead><tbody><tr><td>&quot;36110-10000000…</td><td>&quot;36110&quot;</td><td>null</td><td>null</td><td>1200.0</td><td>18.0</td><td>0.0</td><td>18.0</td><td>0.0</td><td>0.0</td><td>&quot;36110-10000000…</td><td>null</td><td>&quot;0&quot;</td><td>&quot;주건축물&quot;</td><td>&quot;28000&quot;</td><td>&quot;가설건축물&quot;</td><td>&quot;74&quot;</td><td>&quot;컨테이너조&quot;</td><td>null</td><td>null</td><td>18.0</td><td>18.0</td><td>18.0</td><td>&quot;36110-10000000…</td><td>&quot;28004&quot;</td><td>&quot;공사용가설건축물&quot;</td><td>1</td><td>18.0</td><td>&quot;20&quot;</td><td>&quot;지상&quot;</td><td>null</td><td>null</td></tr><tr><td>&quot;36110-10000000…</td><td>&quot;36110&quot;</td><td>&quot;0100&quot;</td><td>&quot;신축&quot;</td><td>1002.0</td><td>120.0</td><td>11.98</td><td>120.0</td><td>120.0</td><td>11.98</td><td>&quot;36110-10000000…</td><td>&quot;장군면 용암리 72-11 …</td><td>&quot;0&quot;</td><td>&quot;주건축물&quot;</td><td>&quot;03000&quot;</td><td>&quot;제1종근린생활시설&quot;</td><td>&quot;32&quot;</td><td>&quot;경량철골구조&quot;</td><td>&quot;90&quot;</td><td>&quot;기타지붕&quot;</td><td>120.0</td><td>120.0</td><td>120.0</td><td>&quot;36110-10000000…</td><td>&quot;03001&quot;</td><td>&quot;소매점&quot;</td><td>1</td><td>120.0</td><td>&quot;20&quot;</td><td>&quot;지상&quot;</td><td>&quot;0100&quot;</td><td>&quot;신축&quot;</td></tr><tr><td>&quot;36110-10000000…</td><td>&quot;36110&quot;</td><td>null</td><td>null</td><td>10464.7</td><td>12.0</td><td>0.0</td><td>12.0</td><td>0.0</td><td>0.0</td><td>&quot;36110-10000000…</td><td>null</td><td>&quot;0&quot;</td><td>&quot;주건축물&quot;</td><td>&quot;28999&quot;</td><td>&quot;기타가설건축물&quot;</td><td>&quot;74&quot;</td><td>&quot;컨테이너조&quot;</td><td>null</td><td>null</td><td>12.0</td><td>12.0</td><td>12.0</td><td>&quot;36110-10000000…</td><td>&quot;17301&quot;</td><td>&quot;물품 제조공장&quot;</td><td>1</td><td>12.0</td><td>&quot;20&quot;</td><td>&quot;지상&quot;</td><td>null</td><td>null</td></tr><tr><td>&quot;36110-10000000…</td><td>&quot;36110&quot;</td><td>null</td><td>null</td><td>3453.0</td><td>395.9</td><td>0.0</td><td>395.9</td><td>0.0</td><td>0.0</td><td>&quot;36110-10000000…</td><td>null</td><td>&quot;0&quot;</td><td>&quot;주건축물&quot;</td><td>&quot;28000&quot;</td><td>&quot;가설건축물&quot;</td><td>&quot;33&quot;</td><td>&quot;강파이프구조&quot;</td><td>null</td><td>null</td><td>207.9</td><td>207.9</td><td>207.9</td><td>&quot;36110-10000000…</td><td>&quot;28010&quot;</td><td>&quot;임시창고&quot;</td><td>1</td><td>207.9</td><td>&quot;20&quot;</td><td>&quot;지상&quot;</td><td>null</td><td>null</td></tr><tr><td>&quot;36110-10000000…</td><td>&quot;36110&quot;</td><td>null</td><td>null</td><td>2810.8</td><td>161.23</td><td>0.0</td><td>161.23</td><td>0.0</td><td>0.0</td><td>&quot;36110-10000000…</td><td>null</td><td>&quot;0&quot;</td><td>&quot;주건축물&quot;</td><td>&quot;28000&quot;</td><td>&quot;가설건축물&quot;</td><td>&quot;32&quot;</td><td>&quot;경량철골구조&quot;</td><td>null</td><td>null</td><td>161.238</td><td>161.238</td><td>161.238</td><td>&quot;36110-10000000…</td><td>&quot;28008&quot;</td><td>&quot;임시자동차차고&quot;</td><td>1</td><td>161.238</td><td>&quot;20&quot;</td><td>&quot;지상&quot;</td><td>null</td><td>null</td></tr></tbody></table></div>"
      ],
      "text/plain": [
       "shape: (5, 32)\n",
       "┌────────────┬────────────┬────────────┬────────────┬───┬────────────┬────────────┬────────────┬────────────┐\n",
       "│ 관리_허가  ┆ 시군구_코  ┆ 건축_구분_ ┆ 건축_구분_ ┆ … ┆ 층_구분_코 ┆ 층_구분_코 ┆ 건축_구분_ ┆ 건축_구분_ │\n",
       "│ 대장_PK    ┆ 드         ┆ 코드       ┆ 코드_명    ┆   ┆ 드         ┆ 드_명      ┆ 코드_층    ┆ 코드_명_층 │\n",
       "│ ---        ┆ ---        ┆ ---        ┆ ---        ┆   ┆ ---        ┆ ---        ┆ ---        ┆ ---        │\n",
       "│ str        ┆ str        ┆ str        ┆ str        ┆   ┆ str        ┆ str        ┆ str        ┆ str        │\n",
       "╞════════════╪════════════╪════════════╪════════════╪═══╪════════════╪════════════╪════════════╪════════════╡\n",
       "│ 36110-1000 ┆ 36110      ┆ null       ┆ null       ┆ … ┆ 20         ┆ 지상       ┆ null       ┆ null       │\n",
       "│ 0000000000 ┆            ┆            ┆            ┆   ┆            ┆            ┆            ┆            │\n",
       "│ 00197276   ┆            ┆            ┆            ┆   ┆            ┆            ┆            ┆            │\n",
       "│ 36110-1000 ┆ 36110      ┆ 0100       ┆ 신축       ┆ … ┆ 20         ┆ 지상       ┆ 0100       ┆ 신축       │\n",
       "│ 0000000000 ┆            ┆            ┆            ┆   ┆            ┆            ┆            ┆            │\n",
       "│ 00196387   ┆            ┆            ┆            ┆   ┆            ┆            ┆            ┆            │\n",
       "│ 36110-1000 ┆ 36110      ┆ null       ┆ null       ┆ … ┆ 20         ┆ 지상       ┆ null       ┆ null       │\n",
       "│ 0000000000 ┆            ┆            ┆            ┆   ┆            ┆            ┆            ┆            │\n",
       "│ 00193820   ┆            ┆            ┆            ┆   ┆            ┆            ┆            ┆            │\n",
       "│ 36110-1000 ┆ 36110      ┆ null       ┆ null       ┆ … ┆ 20         ┆ 지상       ┆ null       ┆ null       │\n",
       "│ 0000000000 ┆            ┆            ┆            ┆   ┆            ┆            ┆            ┆            │\n",
       "│ 00185301   ┆            ┆            ┆            ┆   ┆            ┆            ┆            ┆            │\n",
       "│ 36110-1000 ┆ 36110      ┆ null       ┆ null       ┆ … ┆ 20         ┆ 지상       ┆ null       ┆ null       │\n",
       "│ 0000000000 ┆            ┆            ┆            ┆   ┆            ┆            ┆            ┆            │\n",
       "│ 00191695   ┆            ┆            ┆            ┆   ┆            ┆            ┆            ┆            │\n",
       "└────────────┴────────────┴────────────┴────────────┴───┴────────────┴────────────┴────────────┴────────────┘"
      ]
     },
     "execution_count": 72,
     "metadata": {},
     "output_type": "execute_result"
    }
   ],
   "source": [
    "df_floor_sejong_202212.head()\n"
   ]
  },
  {
   "cell_type": "code",
   "execution_count": 75,
   "metadata": {},
   "outputs": [
    {
     "data": {
      "text/html": [
       "<div><style>\n",
       ".dataframe > thead > tr > th,\n",
       ".dataframe > tbody > tr > td {\n",
       "  text-align: right;\n",
       "}\n",
       "</style>\n",
       "<small>shape: (1, 32)</small><table border=\"1\" class=\"dataframe\"><thead><tr><th>관리_허가대장_PK</th><th>시군구_코드</th><th>건축_구분_코드</th><th>건축_구분_코드_명</th><th>대지_면적(㎡)</th><th>건축_면적(㎡)</th><th>건폐_율(%)</th><th>연면적(㎡)</th><th>용적_률_산정_연면적(㎡)</th><th>용적_률(%)</th><th>관리_동별_개요_PK</th><th>건물_명</th><th>주_부속_구분_코드</th><th>주_부속_구분_코드_명</th><th>주_용도_코드</th><th>주_용도_코드_명</th><th>구조_코드</th><th>구조_코드_명</th><th>지붕_코드</th><th>지붕_코드_명</th><th>건축_면적(㎡)_동</th><th>연면적(㎡)_동</th><th>용적_률_산정_연면적(㎡)_동</th><th>관리_층별_개요_PK</th><th>주_용도_코드_층</th><th>주_용도_코드_명_층</th><th>층_번호</th><th>층_면적(㎡)</th><th>층_구분_코드</th><th>층_구분_코드_명</th><th>건축_구분_코드_층</th><th>건축_구분_코드_명_층</th></tr><tr><td>str</td><td>str</td><td>str</td><td>str</td><td>f64</td><td>f64</td><td>f64</td><td>f64</td><td>f64</td><td>f64</td><td>str</td><td>str</td><td>str</td><td>str</td><td>str</td><td>str</td><td>str</td><td>str</td><td>str</td><td>str</td><td>f64</td><td>f64</td><td>f64</td><td>str</td><td>str</td><td>str</td><td>i64</td><td>f64</td><td>str</td><td>str</td><td>str</td><td>str</td></tr></thead><tbody><tr><td>null</td><td>null</td><td>null</td><td>null</td><td>5540752.3</td><td>431326.465</td><td>3003.2183</td><td>1.2589e6</td><td>1.1362e6</td><td>7311.6733</td><td>null</td><td>null</td><td>null</td><td>null</td><td>null</td><td>null</td><td>null</td><td>null</td><td>null</td><td>null</td><td>163298.935</td><td>287355.875</td><td>303364.465</td><td>null</td><td>null</td><td>null</td><td>441</td><td>71483.148</td><td>null</td><td>null</td><td>null</td><td>null</td></tr></tbody></table></div>"
      ],
      "text/plain": [
       "shape: (1, 32)\n",
       "┌────────────┬────────────┬────────────┬────────────┬───┬────────────┬────────────┬────────────┬────────────┐\n",
       "│ 관리_허가  ┆ 시군구_코  ┆ 건축_구분_ ┆ 건축_구분_ ┆ … ┆ 층_구분_코 ┆ 층_구분_코 ┆ 건축_구분_ ┆ 건축_구분_ │\n",
       "│ 대장_PK    ┆ 드         ┆ 코드       ┆ 코드_명    ┆   ┆ 드         ┆ 드_명      ┆ 코드_층    ┆ 코드_명_층 │\n",
       "│ ---        ┆ ---        ┆ ---        ┆ ---        ┆   ┆ ---        ┆ ---        ┆ ---        ┆ ---        │\n",
       "│ str        ┆ str        ┆ str        ┆ str        ┆   ┆ str        ┆ str        ┆ str        ┆ str        │\n",
       "╞════════════╪════════════╪════════════╪════════════╪═══╪════════════╪════════════╪════════════╪════════════╡\n",
       "│ null       ┆ null       ┆ null       ┆ null       ┆ … ┆ null       ┆ null       ┆ null       ┆ null       │\n",
       "└────────────┴────────────┴────────────┴────────────┴───┴────────────┴────────────┴────────────┴────────────┘"
      ]
     },
     "execution_count": 75,
     "metadata": {},
     "output_type": "execute_result"
    }
   ],
   "source": [
    "df_floor_sejong_202212.sum()\n"
   ]
  },
  {
   "cell_type": "code",
   "execution_count": 76,
   "metadata": {},
   "outputs": [
    {
     "data": {
      "text/html": [
       "<div><style>\n",
       ".dataframe > thead > tr > th,\n",
       ".dataframe > tbody > tr > td {\n",
       "  text-align: right;\n",
       "}\n",
       "</style>\n",
       "<small>shape: (4, 32)</small><table border=\"1\" class=\"dataframe\"><thead><tr><th>건축_구분_코드</th><th>관리_허가대장_PK</th><th>시군구_코드</th><th>건축_구분_코드_명</th><th>대지_면적(㎡)</th><th>건축_면적(㎡)</th><th>건폐_율(%)</th><th>연면적(㎡)</th><th>용적_률_산정_연면적(㎡)</th><th>용적_률(%)</th><th>관리_동별_개요_PK</th><th>건물_명</th><th>주_부속_구분_코드</th><th>주_부속_구분_코드_명</th><th>주_용도_코드</th><th>주_용도_코드_명</th><th>구조_코드</th><th>구조_코드_명</th><th>지붕_코드</th><th>지붕_코드_명</th><th>건축_면적(㎡)_동</th><th>연면적(㎡)_동</th><th>용적_률_산정_연면적(㎡)_동</th><th>관리_층별_개요_PK</th><th>주_용도_코드_층</th><th>주_용도_코드_명_층</th><th>층_번호</th><th>층_면적(㎡)</th><th>층_구분_코드</th><th>층_구분_코드_명</th><th>건축_구분_코드_층</th><th>건축_구분_코드_명_층</th></tr><tr><td>str</td><td>str</td><td>str</td><td>str</td><td>f64</td><td>f64</td><td>f64</td><td>f64</td><td>f64</td><td>f64</td><td>str</td><td>str</td><td>str</td><td>str</td><td>str</td><td>str</td><td>str</td><td>str</td><td>str</td><td>str</td><td>f64</td><td>f64</td><td>f64</td><td>str</td><td>str</td><td>str</td><td>i64</td><td>f64</td><td>str</td><td>str</td><td>str</td><td>str</td></tr></thead><tbody><tr><td>&quot;0700&quot;</td><td>null</td><td>null</td><td>null</td><td>22036.0</td><td>13894.64</td><td>442.0437</td><td>124928.761</td><td>77748.505</td><td>2180.1916</td><td>null</td><td>null</td><td>null</td><td>null</td><td>null</td><td>null</td><td>null</td><td>null</td><td>null</td><td>null</td><td>2781.52</td><td>135.98</td><td>21008.02</td><td>null</td><td>null</td><td>null</td><td>29</td><td>4706.203</td><td>null</td><td>null</td><td>null</td><td>null</td></tr><tr><td>&quot;0200&quot;</td><td>null</td><td>null</td><td>null</td><td>1893440.5</td><td>224541.585</td><td>1181.6845</td><td>815083.165</td><td>758518.645</td><td>3062.653</td><td>null</td><td>null</td><td>null</td><td>null</td><td>null</td><td>null</td><td>null</td><td>null</td><td>null</td><td>null</td><td>10818.247</td><td>30470.257</td><td>27619.057</td><td>null</td><td>null</td><td>null</td><td>160</td><td>6263.447</td><td>null</td><td>null</td><td>null</td><td>null</td></tr><tr><td>&quot;0100&quot;</td><td>null</td><td>null</td><td>null</td><td>659648.0</td><td>176678.97</td><td>1379.4901</td><td>301912.0</td><td>299914.75</td><td>2068.8287</td><td>null</td><td>null</td><td>null</td><td>null</td><td>null</td><td>null</td><td>null</td><td>null</td><td>null</td><td>null</td><td>144593.69</td><td>251257.16</td><td>249259.91</td><td>null</td><td>null</td><td>null</td><td>90</td><td>55208.27</td><td>null</td><td>null</td><td>null</td><td>null</td></tr><tr><td>null</td><td>null</td><td>null</td><td>null</td><td>2965627.8</td><td>16211.27</td><td>0.0</td><td>16943.83</td><td>0.0</td><td>0.0</td><td>null</td><td>null</td><td>null</td><td>null</td><td>null</td><td>null</td><td>null</td><td>null</td><td>null</td><td>null</td><td>5105.478</td><td>5492.478</td><td>5477.478</td><td>null</td><td>null</td><td>null</td><td>162</td><td>5305.228</td><td>null</td><td>null</td><td>null</td><td>null</td></tr></tbody></table></div>"
      ],
      "text/plain": [
       "shape: (4, 32)\n",
       "┌────────────┬────────────┬────────────┬────────────┬───┬────────────┬────────────┬────────────┬────────────┐\n",
       "│ 건축_구분_ ┆ 관리_허가  ┆ 시군구_코  ┆ 건축_구분_ ┆ … ┆ 층_구분_코 ┆ 층_구분_코 ┆ 건축_구분_ ┆ 건축_구분_ │\n",
       "│ 코드       ┆ 대장_PK    ┆ 드         ┆ 코드_명    ┆   ┆ 드         ┆ 드_명      ┆ 코드_층    ┆ 코드_명_층 │\n",
       "│ ---        ┆ ---        ┆ ---        ┆ ---        ┆   ┆ ---        ┆ ---        ┆ ---        ┆ ---        │\n",
       "│ str        ┆ str        ┆ str        ┆ str        ┆   ┆ str        ┆ str        ┆ str        ┆ str        │\n",
       "╞════════════╪════════════╪════════════╪════════════╪═══╪════════════╪════════════╪════════════╪════════════╡\n",
       "│ 0700       ┆ null       ┆ null       ┆ null       ┆ … ┆ null       ┆ null       ┆ null       ┆ null       │\n",
       "│ 0200       ┆ null       ┆ null       ┆ null       ┆ … ┆ null       ┆ null       ┆ null       ┆ null       │\n",
       "│ 0100       ┆ null       ┆ null       ┆ null       ┆ … ┆ null       ┆ null       ┆ null       ┆ null       │\n",
       "│ null       ┆ null       ┆ null       ┆ null       ┆ … ┆ null       ┆ null       ┆ null       ┆ null       │\n",
       "└────────────┴────────────┴────────────┴────────────┴───┴────────────┴────────────┴────────────┴────────────┘"
      ]
     },
     "execution_count": 76,
     "metadata": {},
     "output_type": "execute_result"
    }
   ],
   "source": [
    "df_floor_sejong_202212.groupby(\"건축_구분_코드\").sum()\n"
   ]
  },
  {
   "cell_type": "code",
   "execution_count": 85,
   "metadata": {},
   "outputs": [
    {
     "data": {
      "text/html": [
       "<div><style>\n",
       ".dataframe > thead > tr > th,\n",
       ".dataframe > tbody > tr > td {\n",
       "  text-align: right;\n",
       "}\n",
       "</style>\n",
       "<small>shape: (19, 32)</small><table border=\"1\" class=\"dataframe\"><thead><tr><th>건축_구분_코드_명</th><th>구조_코드_명</th><th>관리_허가대장_PK</th><th>시군구_코드</th><th>건축_구분_코드</th><th>대지_면적(㎡)</th><th>건축_면적(㎡)</th><th>건폐_율(%)</th><th>연면적(㎡)</th><th>용적_률_산정_연면적(㎡)</th><th>용적_률(%)</th><th>관리_동별_개요_PK</th><th>건물_명</th><th>주_부속_구분_코드</th><th>주_부속_구분_코드_명</th><th>주_용도_코드</th><th>주_용도_코드_명</th><th>구조_코드</th><th>지붕_코드</th><th>지붕_코드_명</th><th>건축_면적(㎡)_동</th><th>연면적(㎡)_동</th><th>용적_률_산정_연면적(㎡)_동</th><th>관리_층별_개요_PK</th><th>주_용도_코드_층</th><th>주_용도_코드_명_층</th><th>층_번호</th><th>층_면적(㎡)</th><th>층_구분_코드</th><th>층_구분_코드_명</th><th>건축_구분_코드_층</th><th>건축_구분_코드_명_층</th></tr><tr><td>str</td><td>str</td><td>str</td><td>str</td><td>str</td><td>f64</td><td>f64</td><td>f64</td><td>f64</td><td>f64</td><td>f64</td><td>str</td><td>str</td><td>str</td><td>str</td><td>str</td><td>str</td><td>str</td><td>str</td><td>str</td><td>f64</td><td>f64</td><td>f64</td><td>str</td><td>str</td><td>str</td><td>i64</td><td>f64</td><td>str</td><td>str</td><td>str</td><td>str</td></tr></thead><tbody><tr><td>null</td><td>&quot;강파이프구조&quot;</td><td>null</td><td>null</td><td>null</td><td>39733.2</td><td>2317.12</td><td>0.0</td><td>2317.12</td><td>0.0</td><td>0.0</td><td>null</td><td>null</td><td>null</td><td>null</td><td>null</td><td>null</td><td>null</td><td>null</td><td>null</td><td>1114.06</td><td>1114.06</td><td>1114.06</td><td>null</td><td>null</td><td>null</td><td>11</td><td>1022.81</td><td>null</td><td>null</td><td>null</td><td>null</td></tr><tr><td>null</td><td>&quot;경량철골구조&quot;</td><td>null</td><td>null</td><td>null</td><td>3773.8</td><td>192.94</td><td>0.0</td><td>192.94</td><td>0.0</td><td>0.0</td><td>null</td><td>null</td><td>null</td><td>null</td><td>null</td><td>null</td><td>null</td><td>null</td><td>null</td><td>192.948</td><td>192.948</td><td>192.948</td><td>null</td><td>null</td><td>null</td><td>2</td><td>192.948</td><td>null</td><td>null</td><td>null</td><td>null</td></tr><tr><td>null</td><td>&quot;기타강구조&quot;</td><td>null</td><td>null</td><td>null</td><td>71511.0</td><td>45.0</td><td>0.0</td><td>45.0</td><td>0.0</td><td>0.0</td><td>null</td><td>null</td><td>null</td><td>null</td><td>null</td><td>null</td><td>null</td><td>null</td><td>null</td><td>30.0</td><td>30.0</td><td>30.0</td><td>null</td><td>null</td><td>null</td><td>3</td><td>30.0</td><td>null</td><td>null</td><td>null</td><td>null</td></tr><tr><td>null</td><td>&quot;막구조&quot;</td><td>null</td><td>null</td><td>null</td><td>8451.0</td><td>400.0</td><td>0.0</td><td>400.0</td><td>0.0</td><td>0.0</td><td>null</td><td>null</td><td>null</td><td>null</td><td>null</td><td>null</td><td>null</td><td>null</td><td>null</td><td>400.0</td><td>400.0</td><td>400.0</td><td>null</td><td>null</td><td>null</td><td>1</td><td>400.0</td><td>null</td><td>null</td><td>null</td><td>null</td></tr><tr><td>null</td><td>&quot;조립식판넬조&quot;</td><td>null</td><td>null</td><td>null</td><td>296907.4</td><td>332.17</td><td>0.0</td><td>332.17</td><td>0.0</td><td>0.0</td><td>null</td><td>null</td><td>null</td><td>null</td><td>null</td><td>null</td><td>null</td><td>null</td><td>null</td><td>298.17</td><td>298.17</td><td>298.17</td><td>null</td><td>null</td><td>null</td><td>5</td><td>298.17</td><td>null</td><td>null</td><td>null</td><td>null</td></tr><tr><td>null</td><td>&quot;컨테이너조&quot;</td><td>null</td><td>null</td><td>null</td><td>2545251.4</td><td>12924.04</td><td>0.0</td><td>13656.6</td><td>0.0</td><td>0.0</td><td>null</td><td>null</td><td>null</td><td>null</td><td>null</td><td>null</td><td>null</td><td>null</td><td>null</td><td>3070.3</td><td>3457.3</td><td>3442.3</td><td>null</td><td>null</td><td>null</td><td>140</td><td>3361.3</td><td>null</td><td>null</td><td>null</td><td>null</td></tr><tr><td>&quot;신축&quot;</td><td>&quot;경량철골구조&quot;</td><td>null</td><td>null</td><td>null</td><td>33596.0</td><td>4383.63</td><td>517.9981</td><td>4342.28</td><td>4270.28</td><td>502.0187</td><td>null</td><td>null</td><td>null</td><td>null</td><td>null</td><td>null</td><td>null</td><td>null</td><td>null</td><td>2667.09</td><td>2645.84</td><td>2573.84</td><td>null</td><td>null</td><td>null</td><td>31</td><td>2517.62</td><td>null</td><td>null</td><td>null</td><td>null</td></tr><tr><td>&quot;신축&quot;</td><td>&quot;일반철골구조&quot;</td><td>null</td><td>null</td><td>null</td><td>104613.0</td><td>28568.23</td><td>162.76</td><td>47157.89</td><td>47157.89</td><td>204.65</td><td>null</td><td>null</td><td>null</td><td>null</td><td>null</td><td>null</td><td>null</td><td>null</td><td>null</td><td>1832.99</td><td>1832.99</td><td>1832.99</td><td>null</td><td>null</td><td>null</td><td>7</td><td>1832.99</td><td>null</td><td>null</td><td>null</td><td>null</td></tr><tr><td>&quot;신축&quot;</td><td>&quot;철골콘크리트구조&quot;</td><td>null</td><td>null</td><td>null</td><td>479380.0</td><td>134502.2</td><td>278.85</td><td>226908.5</td><td>226908.5</td><td>470.5</td><td>null</td><td>null</td><td>null</td><td>null</td><td>null</td><td>null</td><td>null</td><td>null</td><td>null</td><td>131274.2</td><td>223680.5</td><td>223680.5</td><td>null</td><td>null</td><td>null</td><td>22</td><td>45035.63</td><td>null</td><td>null</td><td>null</td><td>null</td></tr><tr><td>&quot;신축&quot;</td><td>&quot;철근콘크리트구조&quot;</td><td>null</td><td>null</td><td>null</td><td>42059.0</td><td>9224.91</td><td>419.882</td><td>23503.33</td><td>21578.08</td><td>891.66</td><td>null</td><td>null</td><td>null</td><td>null</td><td>null</td><td>null</td><td>null</td><td>null</td><td>null</td><td>8819.41</td><td>23097.83</td><td>21172.58</td><td>null</td><td>null</td><td>null</td><td>30</td><td>5822.03</td><td>null</td><td>null</td><td>null</td><td>null</td></tr><tr><td>&quot;용도변경&quot;</td><td>&quot;경량철골구조&quot;</td><td>null</td><td>null</td><td>null</td><td>2075.0</td><td>172.84</td><td>18.7521</td><td>172.84</td><td>172.84</td><td>18.7521</td><td>null</td><td>null</td><td>null</td><td>null</td><td>null</td><td>null</td><td>null</td><td>null</td><td>null</td><td>84.76</td><td>84.76</td><td>84.76</td><td>null</td><td>null</td><td>null</td><td>2</td><td>84.76</td><td>null</td><td>null</td><td>null</td><td>null</td></tr><tr><td>&quot;용도변경&quot;</td><td>&quot;철골철근콘크리트구조&quot;</td><td>null</td><td>null</td><td>null</td><td>4667.0</td><td>3246.42</td><td>69.56</td><td>43045.071</td><td>23321.975</td><td>499.72</td><td>null</td><td>null</td><td>null</td><td>null</td><td>null</td><td>null</td><td>null</td><td>null</td><td>null</td><td>0.0</td><td>0.0</td><td>0.0</td><td>null</td><td>null</td><td>null</td><td>5</td><td>2908.833</td><td>null</td><td>null</td><td>null</td><td>null</td></tr><tr><td>&quot;용도변경&quot;</td><td>&quot;철근콘크리트구조&quot;</td><td>null</td><td>null</td><td>null</td><td>15294.0</td><td>10475.38</td><td>353.7316</td><td>81710.85</td><td>54253.69</td><td>1661.7195</td><td>null</td><td>null</td><td>null</td><td>null</td><td>null</td><td>null</td><td>null</td><td>null</td><td>null</td><td>2696.76</td><td>51.22</td><td>20923.26</td><td>null</td><td>null</td><td>null</td><td>22</td><td>1712.61</td><td>null</td><td>null</td><td>null</td><td>null</td></tr><tr><td>&quot;증축&quot;</td><td>&quot;강파이프구조&quot;</td><td>null</td><td>null</td><td>null</td><td>7608.0</td><td>3268.3</td><td>85.92</td><td>3268.3</td><td>3268.3</td><td>85.92</td><td>null</td><td>null</td><td>null</td><td>null</td><td>null</td><td>null</td><td>null</td><td>null</td><td>null</td><td>2764.3</td><td>2764.3</td><td>2764.3</td><td>null</td><td>null</td><td>null</td><td>2</td><td>1382.15</td><td>null</td><td>null</td><td>null</td><td>null</td></tr><tr><td>&quot;증축&quot;</td><td>&quot;경량철골구조&quot;</td><td>null</td><td>null</td><td>null</td><td>14584.0</td><td>2969.025</td><td>146.17</td><td>3873.705</td><td>3745.705</td><td>193.81</td><td>null</td><td>null</td><td>null</td><td>null</td><td>null</td><td>null</td><td>null</td><td>null</td><td>null</td><td>168.2</td><td>168.2</td><td>168.2</td><td>null</td><td>null</td><td>null</td><td>6</td><td>168.2</td><td>null</td><td>null</td><td>null</td><td>null</td></tr><tr><td>&quot;증축&quot;</td><td>&quot;일반목구조&quot;</td><td>null</td><td>null</td><td>null</td><td>346308.0</td><td>4415.395</td><td>25.081</td><td>4724.345</td><td>4596.345</td><td>35.23</td><td>null</td><td>null</td><td>null</td><td>null</td><td>null</td><td>null</td><td>null</td><td>null</td><td>null</td><td>418.817</td><td>427.067</td><td>427.067</td><td>null</td><td>null</td><td>null</td><td>11</td><td>426.077</td><td>null</td><td>null</td><td>null</td><td>null</td></tr><tr><td>&quot;증축&quot;</td><td>&quot;일반철골구조&quot;</td><td>null</td><td>null</td><td>null</td><td>11526.0</td><td>2449.66</td><td>124.86</td><td>2584.0</td><td>2584.0</td><td>167.84</td><td>null</td><td>null</td><td>null</td><td>null</td><td>null</td><td>null</td><td>null</td><td>null</td><td>null</td><td>1076.74</td><td>1219.08</td><td>1219.08</td><td>null</td><td>null</td><td>null</td><td>5</td><td>609.54</td><td>null</td><td>null</td><td>null</td><td>null</td></tr><tr><td>&quot;증축&quot;</td><td>&quot;철골철근콘크리트구조&quot;</td><td>null</td><td>null</td><td>null</td><td>38292.5</td><td>13578.29</td><td>35.46</td><td>23897.97</td><td>22238.55</td><td>58.08</td><td>null</td><td>null</td><td>null</td><td>null</td><td>null</td><td>null</td><td>null</td><td>null</td><td>null</td><td>16.8</td><td>16.8</td><td>16.8</td><td>null</td><td>null</td><td>null</td><td>1</td><td>16.8</td><td>null</td><td>null</td><td>null</td><td>null</td></tr><tr><td>&quot;증축&quot;</td><td>&quot;철근콘크리트구조&quot;</td><td>null</td><td>null</td><td>null</td><td>1.475122e6</td><td>197860.915</td><td>764.1935</td><td>776734.845</td><td>722085.745</td><td>2521.773</td><td>null</td><td>null</td><td>null</td><td>null</td><td>null</td><td>null</td><td>null</td><td>null</td><td>null</td><td>6373.39</td><td>25874.81</td><td>23023.61</td><td>null</td><td>null</td><td>null</td><td>135</td><td>3660.68</td><td>null</td><td>null</td><td>null</td><td>null</td></tr></tbody></table></div>"
      ],
      "text/plain": [
       "shape: (19, 32)\n",
       "┌────────────┬────────────┬────────────┬────────────┬───┬────────────┬────────────┬────────────┬────────────┐\n",
       "│ 건축_구분_ ┆ 구조_코드_ ┆ 관리_허가  ┆ 시군구_코  ┆ … ┆ 층_구분_코 ┆ 층_구분_코 ┆ 건축_구분_ ┆ 건축_구분_ │\n",
       "│ 코드_명    ┆ 명         ┆ 대장_PK    ┆ 드         ┆   ┆ 드         ┆ 드_명      ┆ 코드_층    ┆ 코드_명_층 │\n",
       "│ ---        ┆ ---        ┆ ---        ┆ ---        ┆   ┆ ---        ┆ ---        ┆ ---        ┆ ---        │\n",
       "│ str        ┆ str        ┆ str        ┆ str        ┆   ┆ str        ┆ str        ┆ str        ┆ str        │\n",
       "╞════════════╪════════════╪════════════╪════════════╪═══╪════════════╪════════════╪════════════╪════════════╡\n",
       "│ null       ┆ 강파이프구 ┆ null       ┆ null       ┆ … ┆ null       ┆ null       ┆ null       ┆ null       │\n",
       "│            ┆ 조         ┆            ┆            ┆   ┆            ┆            ┆            ┆            │\n",
       "│ null       ┆ 경량철골구 ┆ null       ┆ null       ┆ … ┆ null       ┆ null       ┆ null       ┆ null       │\n",
       "│            ┆ 조         ┆            ┆            ┆   ┆            ┆            ┆            ┆            │\n",
       "│ null       ┆ 기타강구조 ┆ null       ┆ null       ┆ … ┆ null       ┆ null       ┆ null       ┆ null       │\n",
       "│ null       ┆ 막구조     ┆ null       ┆ null       ┆ … ┆ null       ┆ null       ┆ null       ┆ null       │\n",
       "│ …          ┆ …          ┆ …          ┆ …          ┆ … ┆ …          ┆ …          ┆ …          ┆ …          │\n",
       "│ 증축       ┆ 일반목구조 ┆ null       ┆ null       ┆ … ┆ null       ┆ null       ┆ null       ┆ null       │\n",
       "│ 증축       ┆ 일반철골구 ┆ null       ┆ null       ┆ … ┆ null       ┆ null       ┆ null       ┆ null       │\n",
       "│            ┆ 조         ┆            ┆            ┆   ┆            ┆            ┆            ┆            │\n",
       "│ 증축       ┆ 철골철근콘 ┆ null       ┆ null       ┆ … ┆ null       ┆ null       ┆ null       ┆ null       │\n",
       "│            ┆ 크리트구조 ┆            ┆            ┆   ┆            ┆            ┆            ┆            │\n",
       "│ 증축       ┆ 철근콘크리 ┆ null       ┆ null       ┆ … ┆ null       ┆ null       ┆ null       ┆ null       │\n",
       "│            ┆ 트구조     ┆            ┆            ┆   ┆            ┆            ┆            ┆            │\n",
       "└────────────┴────────────┴────────────┴────────────┴───┴────────────┴────────────┴────────────┴────────────┘"
      ]
     },
     "execution_count": 85,
     "metadata": {},
     "output_type": "execute_result"
    }
   ],
   "source": [
    "df_floor_sejong_202212.groupby([\"건축_구분_코드_명\", \"구조_코드_명\"]).sum().sort(\n",
    "    [\"건축_구분_코드_명\", \"구조_코드_명\"]\n",
    ")\n"
   ]
  },
  {
   "cell_type": "code",
   "execution_count": 87,
   "metadata": {},
   "outputs": [],
   "source": [
    "df_202212 = (\n",
    "    df_master.filter(pl.col(\"건축_허가_일\").str.starts_with(\"202212\"))\n",
    "    .join(df_dong, \"관리_허가대장_PK\", suffix=\"_동\")\n",
    "    .join(df_floor, \"관리_동별_개요_PK\", suffix=\"_층\")\n",
    ")\n"
   ]
  },
  {
   "cell_type": "code",
   "execution_count": 104,
   "metadata": {},
   "outputs": [
    {
     "data": {
      "text/html": [
       "<div><style>\n",
       ".dataframe > thead > tr > th,\n",
       ".dataframe > tbody > tr > td {\n",
       "  text-align: right;\n",
       "}\n",
       "</style>\n",
       "<small>shape: (20, 8)</small><table border=\"1\" class=\"dataframe\"><thead><tr><th>관리_허가대장_PK</th><th>관리_동별_개요_PK</th><th>관리_층별_개요_PK</th><th>주_용도_코드</th><th>주_용도_코드_명</th><th>주_용도_코드_층</th><th>주_용도_코드_명_층</th><th>층_면적(㎡)</th></tr><tr><td>str</td><td>str</td><td>str</td><td>str</td><td>str</td><td>str</td><td>str</td><td>f64</td></tr></thead><tbody><tr><td>&quot;11000-10000000…</td><td>&quot;11000-10000000…</td><td>&quot;11000-10000000…</td><td>&quot;02000&quot;</td><td>&quot;공동주택&quot;</td><td>&quot;02005&quot;</td><td>&quot;부대시설&quot;</td><td>239.9274</td></tr><tr><td>&quot;11000-10000000…</td><td>&quot;11000-10000000…</td><td>&quot;11000-10000000…</td><td>&quot;02000&quot;</td><td>&quot;공동주택&quot;</td><td>&quot;02001&quot;</td><td>&quot;아파트&quot;</td><td>678.4546</td></tr><tr><td>&quot;11000-10000000…</td><td>&quot;11000-10000000…</td><td>&quot;11000-10000000…</td><td>&quot;02000&quot;</td><td>&quot;공동주택&quot;</td><td>&quot;02001&quot;</td><td>&quot;아파트&quot;</td><td>703.3728</td></tr><tr><td>&quot;11000-10000000…</td><td>&quot;11000-10000000…</td><td>&quot;11000-10000000…</td><td>&quot;02000&quot;</td><td>&quot;공동주택&quot;</td><td>&quot;02001&quot;</td><td>&quot;아파트&quot;</td><td>64.71</td></tr><tr><td>&quot;11000-10000000…</td><td>&quot;11000-10000000…</td><td>&quot;11000-10000000…</td><td>&quot;02000&quot;</td><td>&quot;공동주택&quot;</td><td>&quot;02005&quot;</td><td>&quot;부대시설&quot;</td><td>229.0583</td></tr><tr><td>&quot;11000-10000000…</td><td>&quot;11000-10000000…</td><td>&quot;11000-10000000…</td><td>&quot;02000&quot;</td><td>&quot;공동주택&quot;</td><td>&quot;02001&quot;</td><td>&quot;아파트&quot;</td><td>1412.3156</td></tr><tr><td>&quot;11000-10000000…</td><td>&quot;11000-10000000…</td><td>&quot;11000-10000000…</td><td>&quot;02000&quot;</td><td>&quot;공동주택&quot;</td><td>&quot;02001&quot;</td><td>&quot;아파트&quot;</td><td>678.4546</td></tr><tr><td>&quot;11000-10000000…</td><td>&quot;11000-10000000…</td><td>&quot;11000-10000000…</td><td>&quot;02000&quot;</td><td>&quot;공동주택&quot;</td><td>&quot;02001&quot;</td><td>&quot;아파트&quot;</td><td>243.4553</td></tr><tr><td>&quot;11000-10000000…</td><td>&quot;11000-10000000…</td><td>&quot;11000-10000000…</td><td>&quot;02000&quot;</td><td>&quot;공동주택&quot;</td><td>&quot;02001&quot;</td><td>&quot;아파트&quot;</td><td>633.6946</td></tr><tr><td>&quot;11000-10000000…</td><td>&quot;11000-10000000…</td><td>&quot;11000-10000000…</td><td>&quot;02000&quot;</td><td>&quot;공동주택&quot;</td><td>&quot;02001&quot;</td><td>&quot;아파트&quot;</td><td>678.4546</td></tr><tr><td>&quot;11000-10000000…</td><td>&quot;11000-10000000…</td><td>&quot;11000-10000000…</td><td>&quot;02000&quot;</td><td>&quot;공동주택&quot;</td><td>&quot;02001&quot;</td><td>&quot;아파트&quot;</td><td>678.4546</td></tr><tr><td>&quot;11000-10000000…</td><td>&quot;11000-10000000…</td><td>&quot;11000-10000000…</td><td>&quot;02000&quot;</td><td>&quot;공동주택&quot;</td><td>&quot;04001&quot;</td><td>&quot;일반음식점&quot;</td><td>161.4036</td></tr><tr><td>&quot;11000-10000000…</td><td>&quot;11000-10000000…</td><td>&quot;11000-10000000…</td><td>&quot;02000&quot;</td><td>&quot;공동주택&quot;</td><td>&quot;02001&quot;</td><td>&quot;아파트&quot;</td><td>1422.5008</td></tr><tr><td>&quot;11000-10000000…</td><td>&quot;11000-10000000…</td><td>&quot;11000-10000000…</td><td>&quot;02000&quot;</td><td>&quot;공동주택&quot;</td><td>&quot;04001&quot;</td><td>&quot;일반음식점&quot;</td><td>762.3981</td></tr><tr><td>&quot;11000-10000000…</td><td>&quot;11000-10000000…</td><td>&quot;11000-10000000…</td><td>&quot;02000&quot;</td><td>&quot;공동주택&quot;</td><td>&quot;04001&quot;</td><td>&quot;일반음식점&quot;</td><td>278.935</td></tr><tr><td>&quot;11000-10000000…</td><td>&quot;11000-10000000…</td><td>&quot;11000-10000000…</td><td>&quot;02000&quot;</td><td>&quot;공동주택&quot;</td><td>&quot;04999&quot;</td><td>&quot;기타제2종근린생활시설&quot;</td><td>908.1842</td></tr><tr><td>&quot;11000-10000000…</td><td>&quot;11000-10000000…</td><td>&quot;11000-10000000…</td><td>&quot;02000&quot;</td><td>&quot;공동주택&quot;</td><td>&quot;02001&quot;</td><td>&quot;아파트&quot;</td><td>673.4577</td></tr><tr><td>&quot;11000-10000000…</td><td>&quot;11000-10000000…</td><td>&quot;11000-10000000…</td><td>&quot;02000&quot;</td><td>&quot;공동주택&quot;</td><td>&quot;02001&quot;</td><td>&quot;아파트&quot;</td><td>678.4546</td></tr><tr><td>&quot;11000-10000000…</td><td>&quot;11000-10000000…</td><td>&quot;11000-10000000…</td><td>&quot;02000&quot;</td><td>&quot;공동주택&quot;</td><td>&quot;02001&quot;</td><td>&quot;아파트&quot;</td><td>678.4546</td></tr><tr><td>&quot;11000-10000000…</td><td>&quot;11000-10000000…</td><td>&quot;11000-10000000…</td><td>&quot;02000&quot;</td><td>&quot;공동주택&quot;</td><td>&quot;02001&quot;</td><td>&quot;아파트&quot;</td><td>678.4546</td></tr></tbody></table></div>"
      ],
      "text/plain": [
       "shape: (20, 8)\n",
       "┌────────────┬────────────┬────────────┬────────────┬────────────┬────────────┬────────────┬────────────┐\n",
       "│ 관리_허가  ┆ 관리_동별_ ┆ 관리_층별_ ┆ 주_용도_코 ┆ 주_용도_코 ┆ 주_용도_코 ┆ 주_용도_코 ┆ 층_면적(㎡ │\n",
       "│ 대장_PK    ┆ 개요_PK    ┆ 개요_PK    ┆ 드         ┆ 드_명      ┆ 드_층      ┆ 드_명_층   ┆ )          │\n",
       "│ ---        ┆ ---        ┆ ---        ┆ ---        ┆ ---        ┆ ---        ┆ ---        ┆ ---        │\n",
       "│ str        ┆ str        ┆ str        ┆ str        ┆ str        ┆ str        ┆ str        ┆ f64        │\n",
       "╞════════════╪════════════╪════════════╪════════════╪════════════╪════════════╪════════════╪════════════╡\n",
       "│ 11000-1000 ┆ 11000-1000 ┆ 11000-1000 ┆ 02000      ┆ 공동주택   ┆ 02005      ┆ 부대시설   ┆ 239.9274   │\n",
       "│ 0000000000 ┆ 0000000000 ┆ 0000000000 ┆            ┆            ┆            ┆            ┆            │\n",
       "│ 00183862   ┆ 00412847   ┆ 00332157   ┆            ┆            ┆            ┆            ┆            │\n",
       "│ 11000-1000 ┆ 11000-1000 ┆ 11000-1000 ┆ 02000      ┆ 공동주택   ┆ 02001      ┆ 아파트     ┆ 678.4546   │\n",
       "│ 0000000000 ┆ 0000000000 ┆ 0000000000 ┆            ┆            ┆            ┆            ┆            │\n",
       "│ 00183862   ┆ 00412847   ┆ 00332156   ┆            ┆            ┆            ┆            ┆            │\n",
       "│ 11000-1000 ┆ 11000-1000 ┆ 11000-1000 ┆ 02000      ┆ 공동주택   ┆ 02001      ┆ 아파트     ┆ 703.3728   │\n",
       "│ 0000000000 ┆ 0000000000 ┆ 0000000000 ┆            ┆            ┆            ┆            ┆            │\n",
       "│ 00183862   ┆ 00412847   ┆ 00332105   ┆            ┆            ┆            ┆            ┆            │\n",
       "│ 11000-1000 ┆ 11000-1000 ┆ 11000-1000 ┆ 02000      ┆ 공동주택   ┆ 02001      ┆ 아파트     ┆ 64.71      │\n",
       "│ 0000000000 ┆ 0000000000 ┆ 0000000000 ┆            ┆            ┆            ┆            ┆            │\n",
       "│ 00183862   ┆ 00412847   ┆ 00332104   ┆            ┆            ┆            ┆            ┆            │\n",
       "│ …          ┆ …          ┆ …          ┆ …          ┆ …          ┆ …          ┆ …          ┆ …          │\n",
       "│ 11000-1000 ┆ 11000-1000 ┆ 11000-1000 ┆ 02000      ┆ 공동주택   ┆ 02001      ┆ 아파트     ┆ 673.4577   │\n",
       "│ 0000000000 ┆ 0000000000 ┆ 0000000000 ┆            ┆            ┆            ┆            ┆            │\n",
       "│ 00183862   ┆ 00412847   ┆ 00332091   ┆            ┆            ┆            ┆            ┆            │\n",
       "│ 11000-1000 ┆ 11000-1000 ┆ 11000-1000 ┆ 02000      ┆ 공동주택   ┆ 02001      ┆ 아파트     ┆ 678.4546   │\n",
       "│ 0000000000 ┆ 0000000000 ┆ 0000000000 ┆            ┆            ┆            ┆            ┆            │\n",
       "│ 00183862   ┆ 00412847   ┆ 00332090   ┆            ┆            ┆            ┆            ┆            │\n",
       "│ 11000-1000 ┆ 11000-1000 ┆ 11000-1000 ┆ 02000      ┆ 공동주택   ┆ 02001      ┆ 아파트     ┆ 678.4546   │\n",
       "│ 0000000000 ┆ 0000000000 ┆ 0000000000 ┆            ┆            ┆            ┆            ┆            │\n",
       "│ 00183862   ┆ 00412847   ┆ 00332089   ┆            ┆            ┆            ┆            ┆            │\n",
       "│ 11000-1000 ┆ 11000-1000 ┆ 11000-1000 ┆ 02000      ┆ 공동주택   ┆ 02001      ┆ 아파트     ┆ 678.4546   │\n",
       "│ 0000000000 ┆ 0000000000 ┆ 0000000000 ┆            ┆            ┆            ┆            ┆            │\n",
       "│ 00183862   ┆ 00412847   ┆ 00332088   ┆            ┆            ┆            ┆            ┆            │\n",
       "└────────────┴────────────┴────────────┴────────────┴────────────┴────────────┴────────────┴────────────┘"
      ]
     },
     "execution_count": 104,
     "metadata": {},
     "output_type": "execute_result"
    }
   ],
   "source": [
    "df_202212.select(\n",
    "    [\n",
    "        \"관리_허가대장_PK\",\n",
    "        \"관리_동별_개요_PK\",\n",
    "        \"관리_층별_개요_PK\",\n",
    "        \"주_용도_코드\",\n",
    "        \"주_용도_코드_명\",\n",
    "        \"주_용도_코드_층\",\n",
    "        \"주_용도_코드_명_층\",\n",
    "        \"층_면적(㎡)\",\n",
    "    ]\n",
    ").sort(\"관리_허가대장_PK\").head(20)\n"
   ]
  },
  {
   "cell_type": "code",
   "execution_count": 107,
   "metadata": {},
   "outputs": [
    {
     "data": {
      "text/html": [
       "<div><style>\n",
       ".dataframe > thead > tr > th,\n",
       ".dataframe > tbody > tr > td {\n",
       "  text-align: right;\n",
       "}\n",
       "</style>\n",
       "<small>shape: (34, 4)</small><table border=\"1\" class=\"dataframe\"><thead><tr><th>층_용도_코드_대분류</th><th>주_용도_코드_층</th><th>주_용도_코드_명_층</th><th>층_면적(㎡)</th></tr><tr><td>str</td><td>str</td><td>str</td><td>f64</td></tr></thead><tbody><tr><td>&quot;28&quot;</td><td>null</td><td>null</td><td>781774.5337</td></tr><tr><td>&quot;23&quot;</td><td>null</td><td>null</td><td>59647.3275</td></tr><tr><td>&quot;10&quot;</td><td>null</td><td>null</td><td>328070.8959</td></tr><tr><td>&quot;29&quot;</td><td>null</td><td>null</td><td>1980.29</td></tr><tr><td>&quot;04&quot;</td><td>null</td><td>null</td><td>849100.44677</td></tr><tr><td>&quot;07&quot;</td><td>null</td><td>null</td><td>108453.6994</td></tr><tr><td>&quot;02&quot;</td><td>null</td><td>null</td><td>722936.0854</td></tr><tr><td>&quot;31&quot;</td><td>null</td><td>null</td><td>5631.27</td></tr><tr><td>&quot;12&quot;</td><td>null</td><td>null</td><td>11208.94</td></tr><tr><td>&quot;20&quot;</td><td>null</td><td>null</td><td>212966.0048</td></tr><tr><td>&quot;19&quot;</td><td>null</td><td>null</td><td>11167.05</td></tr><tr><td>&quot;26&quot;</td><td>null</td><td>null</td><td>4182.59</td></tr><tr><td>&hellip;</td><td>&hellip;</td><td>&hellip;</td><td>&hellip;</td></tr><tr><td>&quot;16&quot;</td><td>null</td><td>null</td><td>13104.5743</td></tr><tr><td>&quot;15&quot;</td><td>null</td><td>null</td><td>222356.9904</td></tr><tr><td>&quot;30&quot;</td><td>null</td><td>null</td><td>47262.065</td></tr><tr><td>&quot;13&quot;</td><td>null</td><td>null</td><td>151530.6494</td></tr><tr><td>&quot;24&quot;</td><td>null</td><td>null</td><td>93353.54</td></tr><tr><td>&quot;21&quot;</td><td>null</td><td>null</td><td>333316.575</td></tr><tr><td>&quot;22&quot;</td><td>null</td><td>null</td><td>177.16</td></tr><tr><td>&quot;09&quot;</td><td>null</td><td>null</td><td>138622.2014</td></tr><tr><td>&quot;08&quot;</td><td>null</td><td>null</td><td>3571.49</td></tr><tr><td>&quot;Z8&quot;</td><td>null</td><td>null</td><td>7931.505</td></tr><tr><td>&quot;27&quot;</td><td>null</td><td>null</td><td>20697.175</td></tr><tr><td>&quot;06&quot;</td><td>null</td><td>null</td><td>71868.407</td></tr></tbody></table></div>"
      ],
      "text/plain": [
       "shape: (34, 4)\n",
       "┌─────────────────────┬─────────────────┬────────────────────┬─────────────┐\n",
       "│ 층_용도_코드_대분류 ┆ 주_용도_코드_층 ┆ 주_용도_코드_명_층 ┆ 층_면적(㎡) │\n",
       "│ ---                 ┆ ---             ┆ ---                ┆ ---         │\n",
       "│ str                 ┆ str             ┆ str                ┆ f64         │\n",
       "╞═════════════════════╪═════════════════╪════════════════════╪═════════════╡\n",
       "│ 28                  ┆ null            ┆ null               ┆ 781774.5337 │\n",
       "│ 23                  ┆ null            ┆ null               ┆ 59647.3275  │\n",
       "│ 10                  ┆ null            ┆ null               ┆ 328070.8959 │\n",
       "│ 29                  ┆ null            ┆ null               ┆ 1980.29     │\n",
       "│ …                   ┆ …               ┆ …                  ┆ …           │\n",
       "│ 08                  ┆ null            ┆ null               ┆ 3571.49     │\n",
       "│ Z8                  ┆ null            ┆ null               ┆ 7931.505    │\n",
       "│ 27                  ┆ null            ┆ null               ┆ 20697.175   │\n",
       "│ 06                  ┆ null            ┆ null               ┆ 71868.407   │\n",
       "└─────────────────────┴─────────────────┴────────────────────┴─────────────┘"
      ]
     },
     "execution_count": 107,
     "metadata": {},
     "output_type": "execute_result"
    }
   ],
   "source": [
    "df_202212.select([\"주_용도_코드_층\", \"주_용도_코드_명_층\", \"층_면적(㎡)\"]).with_columns(\n",
    "    pl.col(\"주_용도_코드_층\").str.slice(0, 2).alias(\"층_용도_코드_대분류\")\n",
    ").groupby([\"층_용도_코드_대분류\"]).sum()\n"
   ]
  },
  {
   "cell_type": "code",
   "execution_count": null,
   "metadata": {},
   "outputs": [],
   "source": []
  }
 ],
 "metadata": {
  "kernelspec": {
   "display_name": "venv",
   "language": "python",
   "name": "python3"
  },
  "language_info": {
   "codemirror_mode": {
    "name": "ipython",
    "version": 3
   },
   "file_extension": ".py",
   "mimetype": "text/x-python",
   "name": "python",
   "nbconvert_exporter": "python",
   "pygments_lexer": "ipython3",
   "version": "3.11.1"
  },
  "orig_nbformat": 4
 },
 "nbformat": 4,
 "nbformat_minor": 2
}
