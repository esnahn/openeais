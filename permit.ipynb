{
 "cells": [
  {
   "attachments": {},
   "cell_type": "markdown",
   "metadata": {},
   "source": [
    "```\n",
    "[2] 추출 대상 대장 : 건축, 주택 허가대장\n",
    "  - 가설건축물, 기타 용도 제외\n",
    "[3] 추출 기준\n",
    "  1. 허가일/착공일 : 2023.03.01 ~ 2023.03.31.\n",
    "  2. 동수 : 층 대표 용도 방식으로 집계\n",
    "     2.1 건물내 층별 용도의 유형별 연면적 합 추출\n",
    "     2.2 가장 넓은 면적의 층용도를 동의 층 대표용도로 추출\n",
    "     2.3 동의 층 대표용도 기준으로 동수 집계\n",
    "  3. 연면적 : 층 용도별 면적의 합\n",
    "  4. 용도 : 층별 용도\n",
    "  5. 구조 : 동별 구조\n",
    "     5.1 기타 : 기타구조 + 동별 구조(항목) 값 오기 또는 누락\n",
    "  6. 건축주(사업주체) : 대표 건축주의 건축주 구분\n",
    "     6.1 기타 : 대표 건축주의 건축주 구분(항목) 값 오기 또는 누락\n",
    "\"[4] 건축통계는 허가취소 및 허가사항 정정 등 업무 특성으로 \n",
    "     자료기준일에 따라 수치가 다르니, 이용시 참고하시기 바랍니다.\"\n",
    "```\n",
    "\n",
    "- 층 용도별 면적의 합\n",
    "- 건축인허가\n",
    "  - 면적은 층별 층면적 사용\n",
    "  - 행위는 층별 건축구분 사용\n",
    "  - 용도는 층별 주용도 사용\n",
    "  - 구조는 동별 사용\n",
    "  - 시군구는 층별 사용(어차피 기본에서 온 것)\n",
    "  - 허가일은 기본 건축허가일 사용\n",
    "  - 착공일은 기본 실제착공일 사용\n",
    "  - 준공일은 기본 사용승인일 사용\n",
    "- 주택인허가\n",
    "  - 면적은 층별 층면적 사용\n",
    "  - 주택인허가 행위는 모두 신축(출처: 건축허가 통계 쿼리)\n",
    "  - 용도는 층별 용도 사용\n",
    "  - 구조는 동별 구조 사용\n",
    "  - 시군구는 층별 사용(어차피 기본에서 온 것)\n",
    "  - 허가일은 승인일 사용\n",
    "  - 착공일은 착공일 사용? 없는데??\n",
    "  - 준공일은 기본 사용검사일 사용"
   ]
  },
  {
   "cell_type": "code",
   "execution_count": 1,
   "metadata": {},
   "outputs": [],
   "source": [
    "import polars as pl\n",
    "from pathlib import Path\n",
    "from pprint import pprint\n",
    "\n",
    "df_master_building = pl.scan_parquet(\"data/건축인허가_기본개요_2022년_12월/*\")\n",
    "df_dong_building = pl.scan_parquet(\"data/건축인허가_동별개요_2022년_12월/*\")\n",
    "df_floor_building = pl.scan_parquet(\"data/건축인허가_층별개요_2022년_12월/*\")\n"
   ]
  },
  {
   "cell_type": "code",
   "execution_count": 2,
   "metadata": {},
   "outputs": [
    {
     "name": "stdout",
     "output_type": "stream",
     "text": [
      "['관리_허가대장_PK', '대지_위치', '건물_명', '시군구_코드', '법정동_코드', '대지_구분_코드', '번', '지', '특수지_명', '블록', '로트', '지목_코드_명', '지역_코드_명', '지구_코드_명', '구역_코드_명', '지목_코드', '지역_코드', '지구_코드', '구역_코드', '건축_구분_코드', '건축_구분_코드_명', '대지_면적(㎡)', '건축_면적(㎡)', '건폐_율(%)', '연면적(㎡)', '용적_률_산정_연면적(㎡)', '용적_률(%)', '주_건축물_수', '부속_건축물_동_수', '주_용도_코드', '주_용도_코드_명', '세대_수(세대)', '호_수(호)', '가구_수(가구)', '총_주차_수', '착공_예정_일', '착공_연기_일', '실제_착공_일', '건축_허가_일', '사용승인_일', '생성_일자', '__null_dask_index__']\n",
      "['관리_동별_개요_PK', '관리_허가대장_PK', '대지_위치', '건물_명', '시군구_코드', '법정동_코드', '대지_구분_코드', '번', '지', '특수지_명', '블록', '로트', '주_부속_구분_코드', '주_부속_구분_코드_명', '주_용도_코드', '주_용도_코드_명', '호_수(호)', '가구_수(가구)', '세대_수(세대)', '구조_코드', '구조_코드_명', '지붕_코드', '지붕_코드_명', '건축_면적(㎡)', '연면적(㎡)', '용적_률_산정_연면적(㎡)', '생성_일자', '승용_승강기_수', '비상용_승강기_수', '__null_dask_index__']\n",
      "['관리_층별_개요_PK', '관리_동별_개요_PK', '관리_허가대장_PK', '대지_위치', '건물_명', '시군구_코드', '법정동_코드', '대지_구분_코드', '번', '지', '특수지_명', '블록', '로트', '구조_코드', '구조_코드_명', '주_용도_코드', '주_용도_코드_명', '층_번호', '층_면적(㎡)', '층_구분_코드', '층_구분_코드_명', '건축_구분_코드', '건축_구분_코드_명', '생성_일자', '__null_dask_index__']\n"
     ]
    }
   ],
   "source": [
    "print(df_master_building.columns)\n",
    "print(df_dong_building.columns)\n",
    "print(df_floor_building.columns)\n"
   ]
  },
  {
   "cell_type": "code",
   "execution_count": 3,
   "metadata": {},
   "outputs": [],
   "source": [
    "cols_master_building = [\n",
    "    \"관리_허가대장_PK\",\n",
    "    # \"시군구_코드\",\n",
    "    # \"건축_구분_코드\",\n",
    "    # \"건축_구분_코드_명\",\n",
    "    \"실제_착공_일\",\n",
    "    \"건축_허가_일\",\n",
    "    \"사용승인_일\",\n",
    "    # \"생성_일자\",\n",
    "]\n",
    "cols_dong_building = [\n",
    "    \"관리_동별_개요_PK\",\n",
    "    \"관리_허가대장_PK\",\n",
    "    # \"시군구_코드\",\n",
    "    \"구조_코드\",\n",
    "    \"구조_코드_명\",\n",
    "    # \"생성_일자\",\n",
    "]\n",
    "cols_floor_building = [\n",
    "    \"관리_층별_개요_PK\",\n",
    "    \"관리_동별_개요_PK\",\n",
    "    \"관리_허가대장_PK\",\n",
    "    \"시군구_코드\",\n",
    "    \"주_용도_코드\",\n",
    "    \"주_용도_코드_명\",\n",
    "    \"층_번호\",\n",
    "    \"층_면적(㎡)\",\n",
    "    \"층_구분_코드\",\n",
    "    \"층_구분_코드_명\",\n",
    "    \"건축_구분_코드\",\n",
    "    \"건축_구분_코드_명\",\n",
    "    # \"생성_일자\",   # null이 없긴 한데 믿을 게 못 됨\n",
    "]\n"
   ]
  },
  {
   "cell_type": "code",
   "execution_count": 4,
   "metadata": {},
   "outputs": [
    {
     "data": {
      "text/html": [
       "<div><style>\n",
       ".dataframe > thead > tr > th,\n",
       ".dataframe > tbody > tr > td {\n",
       "  text-align: right;\n",
       "}\n",
       "</style>\n",
       "<small>shape: (9, 5)</small><table border=\"1\" class=\"dataframe\"><thead><tr><th>describe</th><th>관리_허가대장_PK</th><th>실제_착공_일</th><th>건축_허가_일</th><th>사용승인_일</th></tr><tr><td>str</td><td>str</td><td>str</td><td>str</td><td>str</td></tr></thead><tbody><tr><td>&quot;count&quot;</td><td>&quot;5770225&quot;</td><td>&quot;5770225&quot;</td><td>&quot;5770225&quot;</td><td>&quot;5770225&quot;</td></tr><tr><td>&quot;null_count&quot;</td><td>&quot;0&quot;</td><td>&quot;2661896&quot;</td><td>&quot;41033&quot;</td><td>&quot;2726077&quot;</td></tr><tr><td>&quot;mean&quot;</td><td>null</td><td>null</td><td>null</td><td>null</td></tr><tr><td>&quot;std&quot;</td><td>null</td><td>null</td><td>null</td><td>null</td></tr><tr><td>&quot;min&quot;</td><td>&quot;-1000000000000…</td><td>&quot;00&quot;</td><td>&quot;- -&quot;</td><td>&quot;0&quot;</td></tr><tr><td>&quot;max&quot;</td><td>&quot;50130-9999&quot;</td><td>&quot;997011&quot;</td><td>&quot;997011&quot;</td><td>&quot;99990619&quot;</td></tr><tr><td>&quot;median&quot;</td><td>null</td><td>null</td><td>null</td><td>null</td></tr><tr><td>&quot;25%&quot;</td><td>null</td><td>null</td><td>null</td><td>null</td></tr><tr><td>&quot;75%&quot;</td><td>null</td><td>null</td><td>null</td><td>null</td></tr></tbody></table></div>"
      ],
      "text/plain": [
       "shape: (9, 5)\n",
       "┌────────────┬─────────────────────────┬──────────────┬──────────────┬─────────────┐\n",
       "│ describe   ┆ 관리_허가대장_PK        ┆ 실제_착공_일 ┆ 건축_허가_일 ┆ 사용승인_일 │\n",
       "│ ---        ┆ ---                     ┆ ---          ┆ ---          ┆ ---         │\n",
       "│ str        ┆ str                     ┆ str          ┆ str          ┆ str         │\n",
       "╞════════════╪═════════════════════════╪══════════════╪══════════════╪═════════════╡\n",
       "│ count      ┆ 5770225                 ┆ 5770225      ┆ 5770225      ┆ 5770225     │\n",
       "│ null_count ┆ 0                       ┆ 2661896      ┆ 41033        ┆ 2726077     │\n",
       "│ mean       ┆ null                    ┆ null         ┆ null         ┆ null        │\n",
       "│ std        ┆ null                    ┆ null         ┆ null         ┆ null        │\n",
       "│ min        ┆ -1000000000000000004479 ┆ 00           ┆ - -          ┆ 0           │\n",
       "│ max        ┆ 50130-9999              ┆ 997011       ┆ 997011       ┆ 99990619    │\n",
       "│ median     ┆ null                    ┆ null         ┆ null         ┆ null        │\n",
       "│ 25%        ┆ null                    ┆ null         ┆ null         ┆ null        │\n",
       "│ 75%        ┆ null                    ┆ null         ┆ null         ┆ null        │\n",
       "└────────────┴─────────────────────────┴──────────────┴──────────────┴─────────────┘"
      ]
     },
     "execution_count": 4,
     "metadata": {},
     "output_type": "execute_result"
    }
   ],
   "source": [
    "df_master_building.select(cols_master_building).collect().describe()\n"
   ]
  },
  {
   "cell_type": "code",
   "execution_count": 5,
   "metadata": {},
   "outputs": [
    {
     "data": {
      "text/html": [
       "<div><style>\n",
       ".dataframe > thead > tr > th,\n",
       ".dataframe > tbody > tr > td {\n",
       "  text-align: right;\n",
       "}\n",
       "</style>\n",
       "<small>shape: (9, 5)</small><table border=\"1\" class=\"dataframe\"><thead><tr><th>describe</th><th>관리_동별_개요_PK</th><th>관리_허가대장_PK</th><th>구조_코드</th><th>구조_코드_명</th></tr><tr><td>str</td><td>str</td><td>str</td><td>str</td><td>str</td></tr></thead><tbody><tr><td>&quot;count&quot;</td><td>&quot;7379512&quot;</td><td>&quot;7379512&quot;</td><td>&quot;7379512&quot;</td><td>&quot;7379512&quot;</td></tr><tr><td>&quot;null_count&quot;</td><td>&quot;0&quot;</td><td>&quot;0&quot;</td><td>&quot;37554&quot;</td><td>&quot;37557&quot;</td></tr><tr><td>&quot;mean&quot;</td><td>null</td><td>null</td><td>null</td><td>null</td></tr><tr><td>&quot;std&quot;</td><td>null</td><td>null</td><td>null</td><td>null</td></tr><tr><td>&quot;min&quot;</td><td>&quot;-1000000000000…</td><td>&quot;-1000000000000…</td><td>&quot;08&quot;</td><td>&quot;강파이프구조&quot;</td></tr><tr><td>&quot;max&quot;</td><td>&quot;50130-9999&quot;</td><td>&quot;50130-9999&quot;</td><td>&quot;99&quot;</td><td>&quot;흙벽돌조&quot;</td></tr><tr><td>&quot;median&quot;</td><td>null</td><td>null</td><td>null</td><td>null</td></tr><tr><td>&quot;25%&quot;</td><td>null</td><td>null</td><td>null</td><td>null</td></tr><tr><td>&quot;75%&quot;</td><td>null</td><td>null</td><td>null</td><td>null</td></tr></tbody></table></div>"
      ],
      "text/plain": [
       "shape: (9, 5)\n",
       "┌────────────┬─────────────────────────┬─────────────────────────┬────────────┬──────────────┐\n",
       "│ describe   ┆ 관리_동별_개요_PK       ┆ 관리_허가대장_PK        ┆ 구조_코드  ┆ 구조_코드_명 │\n",
       "│ ---        ┆ ---                     ┆ ---                     ┆ ---        ┆ ---          │\n",
       "│ str        ┆ str                     ┆ str                     ┆ str        ┆ str          │\n",
       "╞════════════╪═════════════════════════╪═════════════════════════╪════════════╪══════════════╡\n",
       "│ count      ┆ 7379512                 ┆ 7379512                 ┆ 7379512    ┆ 7379512      │\n",
       "│ null_count ┆ 0                       ┆ 0                       ┆ 37554      ┆ 37557        │\n",
       "│ mean       ┆ null                    ┆ null                    ┆ null       ┆ null         │\n",
       "│ std        ┆ null                    ┆ null                    ┆ null       ┆ null         │\n",
       "│ min        ┆ -1000000000000000011999 ┆ -1000000000000000004797 ┆ 08         ┆ 강파이프구조 │\n",
       "│ max        ┆ 50130-9999              ┆ 50130-9999              ┆ 99         ┆ 흙벽돌조     │\n",
       "│ median     ┆ null                    ┆ null                    ┆ null       ┆ null         │\n",
       "│ 25%        ┆ null                    ┆ null                    ┆ null       ┆ null         │\n",
       "│ 75%        ┆ null                    ┆ null                    ┆ null       ┆ null         │\n",
       "└────────────┴─────────────────────────┴─────────────────────────┴────────────┴──────────────┘"
      ]
     },
     "execution_count": 5,
     "metadata": {},
     "output_type": "execute_result"
    }
   ],
   "source": [
    "df_dong_building.select(cols_dong_building).collect().describe()\n"
   ]
  },
  {
   "cell_type": "code",
   "execution_count": 6,
   "metadata": {},
   "outputs": [
    {
     "data": {
      "text/html": [
       "<div><style>\n",
       ".dataframe > thead > tr > th,\n",
       ".dataframe > tbody > tr > td {\n",
       "  text-align: right;\n",
       "}\n",
       "</style>\n",
       "<small>shape: (9, 13)</small><table border=\"1\" class=\"dataframe\"><thead><tr><th>describe</th><th>관리_층별_개요_PK</th><th>관리_동별_개요_PK</th><th>관리_허가대장_PK</th><th>시군구_코드</th><th>주_용도_코드</th><th>주_용도_코드_명</th><th>층_번호</th><th>층_면적(㎡)</th><th>층_구분_코드</th><th>층_구분_코드_명</th><th>건축_구분_코드</th><th>건축_구분_코드_명</th></tr><tr><td>str</td><td>str</td><td>str</td><td>str</td><td>str</td><td>str</td><td>str</td><td>f64</td><td>f64</td><td>str</td><td>str</td><td>str</td><td>str</td></tr></thead><tbody><tr><td>&quot;count&quot;</td><td>&quot;13332779&quot;</td><td>&quot;13332779&quot;</td><td>&quot;13332779&quot;</td><td>&quot;13332779&quot;</td><td>&quot;13332779&quot;</td><td>&quot;13332779&quot;</td><td>1.3332779e7</td><td>1.3332779e7</td><td>&quot;13332779&quot;</td><td>&quot;13332779&quot;</td><td>&quot;13332779&quot;</td><td>&quot;13332779&quot;</td></tr><tr><td>&quot;null_count&quot;</td><td>&quot;0&quot;</td><td>&quot;0&quot;</td><td>&quot;0&quot;</td><td>&quot;4154&quot;</td><td>&quot;181669&quot;</td><td>&quot;183494&quot;</td><td>723.0</td><td>0.0</td><td>&quot;402&quot;</td><td>&quot;402&quot;</td><td>&quot;312935&quot;</td><td>&quot;314899&quot;</td></tr><tr><td>&quot;mean&quot;</td><td>null</td><td>null</td><td>null</td><td>null</td><td>null</td><td>null</td><td>2.113716</td><td>225.345542</td><td>null</td><td>null</td><td>null</td><td>null</td></tr><tr><td>&quot;std&quot;</td><td>null</td><td>null</td><td>null</td><td>null</td><td>null</td><td>null</td><td>5.984447</td><td>52064.581632</td><td>null</td><td>null</td><td>null</td><td>null</td></tr><tr><td>&quot;min&quot;</td><td>&quot;-1000000000000…</td><td>&quot;-1000000000000…</td><td>&quot;-1000000000000…</td><td>&quot;03000&quot;</td><td>&quot;01000&quot;</td><td>&quot;가상현실체험제공업소&quot;</td><td>-2.0</td><td>-69575.0</td><td>&quot;10&quot;</td><td>&quot;복수층(상층)&quot;</td><td>&quot;0100&quot;</td><td>&quot;가설건축물축조허가&quot;</td></tr><tr><td>&quot;max&quot;</td><td>&quot;50130-9999&quot;</td><td>&quot;50130-9999&quot;</td><td>&quot;50130-9999&quot;</td><td>&quot;50130&quot;</td><td>&quot;n3&quot;</td><td>&quot;휴양콘도미니엄&quot;</td><td>7011.0</td><td>1.87102521e8</td><td>&quot;30&quot;</td><td>&quot;지하&quot;</td><td>&quot;3000&quot;</td><td>&quot;허가/신고사항변경&quot;</td></tr><tr><td>&quot;median&quot;</td><td>null</td><td>null</td><td>null</td><td>null</td><td>null</td><td>null</td><td>1.0</td><td>92.02</td><td>null</td><td>null</td><td>null</td><td>null</td></tr><tr><td>&quot;25%&quot;</td><td>null</td><td>null</td><td>null</td><td>null</td><td>null</td><td>null</td><td>1.0</td><td>27.16</td><td>null</td><td>null</td><td>null</td><td>null</td></tr><tr><td>&quot;75%&quot;</td><td>null</td><td>null</td><td>null</td><td>null</td><td>null</td><td>null</td><td>2.0</td><td>170.9</td><td>null</td><td>null</td><td>null</td><td>null</td></tr></tbody></table></div>"
      ],
      "text/plain": [
       "shape: (9, 13)\n",
       "┌───┬────────────┬────────────┬────────────┬───┬────────────┬────────────┬────────────┬────────────┐\n",
       "│ d ┆ 관리_층별_ ┆ 관리_동별_ ┆ 관리_허가  ┆ … ┆ 층_구분_코 ┆ 층_구분_코 ┆ 건축_구분_ ┆ 건축_구분_ │\n",
       "│ e ┆ 개요_PK    ┆ 개요_PK    ┆ 대장_PK    ┆   ┆ 드         ┆ 드_명      ┆ 코드       ┆ 코드_명    │\n",
       "│ s ┆ ---        ┆ ---        ┆ ---        ┆   ┆ ---        ┆ ---        ┆ ---        ┆ ---        │\n",
       "│ c ┆ str        ┆ str        ┆ str        ┆   ┆ str        ┆ str        ┆ str        ┆ str        │\n",
       "│ r ┆            ┆            ┆            ┆   ┆            ┆            ┆            ┆            │\n",
       "│ i ┆            ┆            ┆            ┆   ┆            ┆            ┆            ┆            │\n",
       "│ b ┆            ┆            ┆            ┆   ┆            ┆            ┆            ┆            │\n",
       "│ e ┆            ┆            ┆            ┆   ┆            ┆            ┆            ┆            │\n",
       "│ - ┆            ┆            ┆            ┆   ┆            ┆            ┆            ┆            │\n",
       "│ - ┆            ┆            ┆            ┆   ┆            ┆            ┆            ┆            │\n",
       "│ - ┆            ┆            ┆            ┆   ┆            ┆            ┆            ┆            │\n",
       "│ s ┆            ┆            ┆            ┆   ┆            ┆            ┆            ┆            │\n",
       "│ t ┆            ┆            ┆            ┆   ┆            ┆            ┆            ┆            │\n",
       "│ r ┆            ┆            ┆            ┆   ┆            ┆            ┆            ┆            │\n",
       "╞═══╪════════════╪════════════╪════════════╪═══╪════════════╪════════════╪════════════╪════════════╡\n",
       "│ c ┆ 13332779   ┆ 13332779   ┆ 13332779   ┆ … ┆ 13332779   ┆ 13332779   ┆ 13332779   ┆ 13332779   │\n",
       "│ o ┆            ┆            ┆            ┆   ┆            ┆            ┆            ┆            │\n",
       "│ u ┆            ┆            ┆            ┆   ┆            ┆            ┆            ┆            │\n",
       "│ n ┆            ┆            ┆            ┆   ┆            ┆            ┆            ┆            │\n",
       "│ t ┆            ┆            ┆            ┆   ┆            ┆            ┆            ┆            │\n",
       "│ n ┆ 0          ┆ 0          ┆ 0          ┆ … ┆ 402        ┆ 402        ┆ 312935     ┆ 314899     │\n",
       "│ u ┆            ┆            ┆            ┆   ┆            ┆            ┆            ┆            │\n",
       "│ l ┆            ┆            ┆            ┆   ┆            ┆            ┆            ┆            │\n",
       "│ l ┆            ┆            ┆            ┆   ┆            ┆            ┆            ┆            │\n",
       "│ _ ┆            ┆            ┆            ┆   ┆            ┆            ┆            ┆            │\n",
       "│ c ┆            ┆            ┆            ┆   ┆            ┆            ┆            ┆            │\n",
       "│ o ┆            ┆            ┆            ┆   ┆            ┆            ┆            ┆            │\n",
       "│ u ┆            ┆            ┆            ┆   ┆            ┆            ┆            ┆            │\n",
       "│ n ┆            ┆            ┆            ┆   ┆            ┆            ┆            ┆            │\n",
       "│ t ┆            ┆            ┆            ┆   ┆            ┆            ┆            ┆            │\n",
       "│ m ┆ null       ┆ null       ┆ null       ┆ … ┆ null       ┆ null       ┆ null       ┆ null       │\n",
       "│ e ┆            ┆            ┆            ┆   ┆            ┆            ┆            ┆            │\n",
       "│ a ┆            ┆            ┆            ┆   ┆            ┆            ┆            ┆            │\n",
       "│ n ┆            ┆            ┆            ┆   ┆            ┆            ┆            ┆            │\n",
       "│ s ┆ null       ┆ null       ┆ null       ┆ … ┆ null       ┆ null       ┆ null       ┆ null       │\n",
       "│ t ┆            ┆            ┆            ┆   ┆            ┆            ┆            ┆            │\n",
       "│ d ┆            ┆            ┆            ┆   ┆            ┆            ┆            ┆            │\n",
       "│ m ┆ -100000000 ┆ -100000000 ┆ -100000000 ┆ … ┆ 10         ┆ 복수층(상  ┆ 0100       ┆ 가설건축물 │\n",
       "│ i ┆ 0000000013 ┆ 0000000011 ┆ 0000000004 ┆   ┆            ┆ 층)        ┆            ┆ 축조허가   │\n",
       "│ n ┆ 810        ┆ 999        ┆ 797        ┆   ┆            ┆            ┆            ┆            │\n",
       "│ m ┆ 50130-9999 ┆ 50130-9999 ┆ 50130-9999 ┆ … ┆ 30         ┆ 지하       ┆ 3000       ┆ 허가/신고  │\n",
       "│ a ┆            ┆            ┆            ┆   ┆            ┆            ┆            ┆ 사항변경   │\n",
       "│ x ┆            ┆            ┆            ┆   ┆            ┆            ┆            ┆            │\n",
       "│ m ┆ null       ┆ null       ┆ null       ┆ … ┆ null       ┆ null       ┆ null       ┆ null       │\n",
       "│ e ┆            ┆            ┆            ┆   ┆            ┆            ┆            ┆            │\n",
       "│ d ┆            ┆            ┆            ┆   ┆            ┆            ┆            ┆            │\n",
       "│ i ┆            ┆            ┆            ┆   ┆            ┆            ┆            ┆            │\n",
       "│ a ┆            ┆            ┆            ┆   ┆            ┆            ┆            ┆            │\n",
       "│ n ┆            ┆            ┆            ┆   ┆            ┆            ┆            ┆            │\n",
       "│ 2 ┆ null       ┆ null       ┆ null       ┆ … ┆ null       ┆ null       ┆ null       ┆ null       │\n",
       "│ 5 ┆            ┆            ┆            ┆   ┆            ┆            ┆            ┆            │\n",
       "│ % ┆            ┆            ┆            ┆   ┆            ┆            ┆            ┆            │\n",
       "│ 7 ┆ null       ┆ null       ┆ null       ┆ … ┆ null       ┆ null       ┆ null       ┆ null       │\n",
       "│ 5 ┆            ┆            ┆            ┆   ┆            ┆            ┆            ┆            │\n",
       "│ % ┆            ┆            ┆            ┆   ┆            ┆            ┆            ┆            │\n",
       "└───┴────────────┴────────────┴────────────┴───┴────────────┴────────────┴────────────┴────────────┘"
      ]
     },
     "execution_count": 6,
     "metadata": {},
     "output_type": "execute_result"
    }
   ],
   "source": [
    "df_floor_building.select(cols_floor_building).collect().describe()\n"
   ]
  },
  {
   "cell_type": "code",
   "execution_count": 7,
   "metadata": {},
   "outputs": [],
   "source": [
    "ktng = (\n",
    "    (pl.col(\"시군구_코드\") == \"36110\")\n",
    "    & (pl.col(\"법정동_코드\") == \"11000\")\n",
    "    & (pl.col(\"대지_구분_코드\") == \"0\")\n",
    "    & (pl.col(\"번\") == \"0524\")\n",
    "    & (pl.col(\"지\") == \"0000\")\n",
    ")\n"
   ]
  },
  {
   "cell_type": "code",
   "execution_count": 8,
   "metadata": {},
   "outputs": [
    {
     "data": {
      "text/html": [
       "<div><style>\n",
       ".dataframe > thead > tr > th,\n",
       ".dataframe > tbody > tr > td {\n",
       "  text-align: right;\n",
       "}\n",
       "</style>\n",
       "<small>shape: (3, 4)</small><table border=\"1\" class=\"dataframe\"><thead><tr><th>관리_허가대장_PK</th><th>실제_착공_일</th><th>건축_허가_일</th><th>사용승인_일</th></tr><tr><td>str</td><td>str</td><td>str</td><td>str</td></tr></thead><tbody><tr><td>&quot;36110-50001049…</td><td>&quot;20201013&quot;</td><td>&quot;20200917&quot;</td><td>&quot;20201203&quot;</td></tr><tr><td>&quot;36110-50001091…</td><td>null</td><td>&quot;20201214&quot;</td><td>&quot;20210113&quot;</td></tr><tr><td>&quot;36110-50000461…</td><td>&quot;20161220&quot;</td><td>&quot;20160712&quot;</td><td>&quot;20200528&quot;</td></tr></tbody></table></div>"
      ],
      "text/plain": [
       "shape: (3, 4)\n",
       "┌──────────────────┬──────────────┬──────────────┬─────────────┐\n",
       "│ 관리_허가대장_PK ┆ 실제_착공_일 ┆ 건축_허가_일 ┆ 사용승인_일 │\n",
       "│ ---              ┆ ---          ┆ ---          ┆ ---         │\n",
       "│ str              ┆ str          ┆ str          ┆ str         │\n",
       "╞══════════════════╪══════════════╪══════════════╪═════════════╡\n",
       "│ 36110-5000104962 ┆ 20201013     ┆ 20200917     ┆ 20201203    │\n",
       "│ 36110-5000109178 ┆ null         ┆ 20201214     ┆ 20210113    │\n",
       "│ 36110-5000046116 ┆ 20161220     ┆ 20160712     ┆ 20200528    │\n",
       "└──────────────────┴──────────────┴──────────────┴─────────────┘"
      ]
     },
     "execution_count": 8,
     "metadata": {},
     "output_type": "execute_result"
    }
   ],
   "source": [
    "df_master_building.filter(ktng).select(cols_master_building).collect()\n"
   ]
  },
  {
   "cell_type": "code",
   "execution_count": 9,
   "metadata": {},
   "outputs": [
    {
     "data": {
      "text/html": [
       "<div><style>\n",
       ".dataframe > thead > tr > th,\n",
       ".dataframe > tbody > tr > td {\n",
       "  text-align: right;\n",
       "}\n",
       "</style>\n",
       "<small>shape: (3, 4)</small><table border=\"1\" class=\"dataframe\"><thead><tr><th>관리_동별_개요_PK</th><th>관리_허가대장_PK</th><th>구조_코드</th><th>구조_코드_명</th></tr><tr><td>str</td><td>str</td><td>str</td><td>str</td></tr></thead><tbody><tr><td>&quot;36110-50001942…</td><td>&quot;36110-50001049…</td><td>&quot;21&quot;</td><td>&quot;철근콘크리트구조&quot;</td></tr><tr><td>&quot;36110-50001972…</td><td>&quot;36110-50001091…</td><td>&quot;21&quot;</td><td>&quot;철근콘크리트구조&quot;</td></tr><tr><td>&quot;36110-50001799…</td><td>&quot;36110-50000461…</td><td>&quot;21&quot;</td><td>&quot;철근콘크리트구조&quot;</td></tr></tbody></table></div>"
      ],
      "text/plain": [
       "shape: (3, 4)\n",
       "┌───────────────────┬──────────────────┬────────────┬──────────────────┐\n",
       "│ 관리_동별_개요_PK ┆ 관리_허가대장_PK ┆ 구조_코드  ┆ 구조_코드_명     │\n",
       "│ ---               ┆ ---              ┆ ---        ┆ ---              │\n",
       "│ str               ┆ str              ┆ str        ┆ str              │\n",
       "╞═══════════════════╪══════════════════╪════════════╪══════════════════╡\n",
       "│ 36110-5000194262  ┆ 36110-5000104962 ┆ 21         ┆ 철근콘크리트구조 │\n",
       "│ 36110-5000197262  ┆ 36110-5000109178 ┆ 21         ┆ 철근콘크리트구조 │\n",
       "│ 36110-5000179983  ┆ 36110-5000046116 ┆ 21         ┆ 철근콘크리트구조 │\n",
       "└───────────────────┴──────────────────┴────────────┴──────────────────┘"
      ]
     },
     "execution_count": 9,
     "metadata": {},
     "output_type": "execute_result"
    }
   ],
   "source": [
    "df_dong_building.filter(ktng).select(cols_dong_building).collect()\n"
   ]
  },
  {
   "cell_type": "code",
   "execution_count": 10,
   "metadata": {},
   "outputs": [
    {
     "data": {
      "text/html": [
       "<div><style>\n",
       ".dataframe > thead > tr > th,\n",
       ".dataframe > tbody > tr > td {\n",
       "  text-align: right;\n",
       "}\n",
       "</style>\n",
       "<small>shape: (8, 12)</small><table border=\"1\" class=\"dataframe\"><thead><tr><th>관리_층별_개요_PK</th><th>관리_동별_개요_PK</th><th>관리_허가대장_PK</th><th>시군구_코드</th><th>주_용도_코드</th><th>주_용도_코드_명</th><th>층_번호</th><th>층_면적(㎡)</th><th>층_구분_코드</th><th>층_구분_코드_명</th><th>건축_구분_코드</th><th>건축_구분_코드_명</th></tr><tr><td>str</td><td>str</td><td>str</td><td>str</td><td>str</td><td>str</td><td>i64</td><td>f64</td><td>str</td><td>str</td><td>str</td><td>str</td></tr></thead><tbody><tr><td>&quot;36110-50001554…</td><td>&quot;36110-50001942…</td><td>&quot;36110-50001049…</td><td>&quot;36110&quot;</td><td>&quot;14204&quot;</td><td>&quot;사무소&quot;</td><td>3</td><td>821.31</td><td>&quot;10&quot;</td><td>&quot;지하&quot;</td><td>&quot;0600&quot;</td><td>&quot;대수선&quot;</td></tr><tr><td>&quot;36110-50001554…</td><td>&quot;36110-50001942…</td><td>&quot;36110-50001049…</td><td>&quot;36110&quot;</td><td>&quot;14204&quot;</td><td>&quot;사무소&quot;</td><td>3</td><td>3995.86</td><td>&quot;10&quot;</td><td>&quot;지하&quot;</td><td>&quot;0600&quot;</td><td>&quot;대수선&quot;</td></tr><tr><td>&quot;36110-50001433…</td><td>&quot;36110-50001799…</td><td>&quot;36110-50000461…</td><td>&quot;36110&quot;</td><td>&quot;14204&quot;</td><td>&quot;사무소&quot;</td><td>3</td><td>685.37</td><td>&quot;10&quot;</td><td>&quot;지하&quot;</td><td>&quot;0100&quot;</td><td>&quot;신축&quot;</td></tr><tr><td>&quot;36110-50001433…</td><td>&quot;36110-50001799…</td><td>&quot;36110-50000461…</td><td>&quot;36110&quot;</td><td>&quot;14204&quot;</td><td>&quot;사무소&quot;</td><td>3</td><td>4112.7</td><td>&quot;10&quot;</td><td>&quot;지하&quot;</td><td>&quot;0100&quot;</td><td>&quot;신축&quot;</td></tr><tr><td>&quot;36110-50001433…</td><td>&quot;36110-50001799…</td><td>&quot;36110-50000461…</td><td>&quot;36110&quot;</td><td>&quot;07201&quot;</td><td>&quot;상점&quot;</td><td>3</td><td>1841.04</td><td>&quot;20&quot;</td><td>&quot;지상&quot;</td><td>&quot;0100&quot;</td><td>&quot;신축&quot;</td></tr><tr><td>&quot;36110-50001433…</td><td>&quot;36110-50001799…</td><td>&quot;36110-50000461…</td><td>&quot;36110&quot;</td><td>&quot;14204&quot;</td><td>&quot;사무소&quot;</td><td>6</td><td>517.89</td><td>&quot;20&quot;</td><td>&quot;지상&quot;</td><td>&quot;0100&quot;</td><td>&quot;신축&quot;</td></tr><tr><td>&quot;36110-50001433…</td><td>&quot;36110-50001799…</td><td>&quot;36110-50000461…</td><td>&quot;36110&quot;</td><td>&quot;14204&quot;</td><td>&quot;사무소&quot;</td><td>6</td><td>1457.45</td><td>&quot;20&quot;</td><td>&quot;지상&quot;</td><td>&quot;0100&quot;</td><td>&quot;신축&quot;</td></tr><tr><td>&quot;36110-50001579…</td><td>&quot;36110-50001972…</td><td>&quot;36110-50001091…</td><td>&quot;36110&quot;</td><td>&quot;10002&quot;</td><td>&quot;직업훈련소&quot;</td><td>6</td><td>1457.45</td><td>&quot;20&quot;</td><td>&quot;지상&quot;</td><td>&quot;0700&quot;</td><td>&quot;용도변경&quot;</td></tr></tbody></table></div>"
      ],
      "text/plain": [
       "shape: (8, 12)\n",
       "┌────────────┬────────────┬────────────┬────────────┬───┬────────────┬────────────┬────────────┬────────────┐\n",
       "│ 관리_층별_ ┆ 관리_동별_ ┆ 관리_허가  ┆ 시군구_코  ┆ … ┆ 층_구분_코 ┆ 층_구분_코 ┆ 건축_구분_ ┆ 건축_구분_ │\n",
       "│ 개요_PK    ┆ 개요_PK    ┆ 대장_PK    ┆ 드         ┆   ┆ 드         ┆ 드_명      ┆ 코드       ┆ 코드_명    │\n",
       "│ ---        ┆ ---        ┆ ---        ┆ ---        ┆   ┆ ---        ┆ ---        ┆ ---        ┆ ---        │\n",
       "│ str        ┆ str        ┆ str        ┆ str        ┆   ┆ str        ┆ str        ┆ str        ┆ str        │\n",
       "╞════════════╪════════════╪════════════╪════════════╪═══╪════════════╪════════════╪════════════╪════════════╡\n",
       "│ 36110-5000 ┆ 36110-5000 ┆ 36110-5000 ┆ 36110      ┆ … ┆ 10         ┆ 지하       ┆ 0600       ┆ 대수선     │\n",
       "│ 155415     ┆ 194262     ┆ 104962     ┆            ┆   ┆            ┆            ┆            ┆            │\n",
       "│ 36110-5000 ┆ 36110-5000 ┆ 36110-5000 ┆ 36110      ┆ … ┆ 10         ┆ 지하       ┆ 0600       ┆ 대수선     │\n",
       "│ 155413     ┆ 194262     ┆ 104962     ┆            ┆   ┆            ┆            ┆            ┆            │\n",
       "│ 36110-5000 ┆ 36110-5000 ┆ 36110-5000 ┆ 36110      ┆ … ┆ 10         ┆ 지하       ┆ 0100       ┆ 신축       │\n",
       "│ 143341     ┆ 179983     ┆ 046116     ┆            ┆   ┆            ┆            ┆            ┆            │\n",
       "│ 36110-5000 ┆ 36110-5000 ┆ 36110-5000 ┆ 36110      ┆ … ┆ 10         ┆ 지하       ┆ 0100       ┆ 신축       │\n",
       "│ 143313     ┆ 179983     ┆ 046116     ┆            ┆   ┆            ┆            ┆            ┆            │\n",
       "│ 36110-5000 ┆ 36110-5000 ┆ 36110-5000 ┆ 36110      ┆ … ┆ 20         ┆ 지상       ┆ 0100       ┆ 신축       │\n",
       "│ 143320     ┆ 179983     ┆ 046116     ┆            ┆   ┆            ┆            ┆            ┆            │\n",
       "│ 36110-5000 ┆ 36110-5000 ┆ 36110-5000 ┆ 36110      ┆ … ┆ 20         ┆ 지상       ┆ 0100       ┆ 신축       │\n",
       "│ 143328     ┆ 179983     ┆ 046116     ┆            ┆   ┆            ┆            ┆            ┆            │\n",
       "│ 36110-5000 ┆ 36110-5000 ┆ 36110-5000 ┆ 36110      ┆ … ┆ 20         ┆ 지상       ┆ 0100       ┆ 신축       │\n",
       "│ 143326     ┆ 179983     ┆ 046116     ┆            ┆   ┆            ┆            ┆            ┆            │\n",
       "│ 36110-5000 ┆ 36110-5000 ┆ 36110-5000 ┆ 36110      ┆ … ┆ 20         ┆ 지상       ┆ 0700       ┆ 용도변경   │\n",
       "│ 157952     ┆ 197262     ┆ 109178     ┆            ┆   ┆            ┆            ┆            ┆            │\n",
       "└────────────┴────────────┴────────────┴────────────┴───┴────────────┴────────────┴────────────┴────────────┘"
      ]
     },
     "execution_count": 10,
     "metadata": {},
     "output_type": "execute_result"
    }
   ],
   "source": [
    "df_floor_building.filter(ktng & ((pl.col(\"층_번호\").is_in([3, 6])))).select(\n",
    "    cols_floor_building\n",
    ").collect().sort(\n",
    "    [\"층_구분_코드\", \"층_번호\"]\n",
    ")  # 대수선, 용도변경 층만 선택\n"
   ]
  },
  {
   "cell_type": "code",
   "execution_count": 11,
   "metadata": {},
   "outputs": [],
   "source": [
    "new = [\"0100\"]  # 신축\n",
    "mod = [\"0200\", \"0300\", \"0500\", \"0600\"]  # 증축/개축/이전/대수선\n",
    "change_of_use = [\"0700\"]  # 용도변경\n"
   ]
  },
  {
   "cell_type": "code",
   "execution_count": 55,
   "metadata": {},
   "outputs": [],
   "source": [
    "df_result_building = (\n",
    "    df_master_building.select(cols_master_building)\n",
    "    .filter(  # 2022년까지 데이터만\n",
    "        (pl.col(\"건축_허가_일\").str.lengths() == 8) & (pl.col(\"건축_허가_일\") <= \"20221231\")\n",
    "    )\n",
    "    .join(df_dong_building.select(cols_dong_building), \"관리_허가대장_PK\", suffix=\"_dong\")\n",
    "    .join(df_floor_building.select(cols_floor_building), \"관리_동별_개요_PK\", suffix=\"_floor\")\n",
    ")\n"
   ]
  },
  {
   "cell_type": "code",
   "execution_count": 56,
   "metadata": {},
   "outputs": [
    {
     "data": {
      "text/html": [
       "<div><style>\n",
       ".dataframe > thead > tr > th,\n",
       ".dataframe > tbody > tr > td {\n",
       "  text-align: right;\n",
       "}\n",
       "</style>\n",
       "<small>shape: (5, 18)</small><table border=\"1\" class=\"dataframe\"><thead><tr><th>관리_허가대장_PK</th><th>실제_착공_일</th><th>건축_허가_일</th><th>사용승인_일</th><th>관리_동별_개요_PK</th><th>구조_코드</th><th>구조_코드_명</th><th>관리_층별_개요_PK</th><th>관리_허가대장_PK_floor</th><th>시군구_코드</th><th>주_용도_코드</th><th>주_용도_코드_명</th><th>층_번호</th><th>층_면적(㎡)</th><th>층_구분_코드</th><th>층_구분_코드_명</th><th>건축_구분_코드</th><th>건축_구분_코드_명</th></tr><tr><td>str</td><td>str</td><td>str</td><td>str</td><td>str</td><td>str</td><td>str</td><td>str</td><td>str</td><td>str</td><td>str</td><td>str</td><td>i64</td><td>f64</td><td>str</td><td>str</td><td>str</td><td>str</td></tr></thead><tbody><tr><td>&quot;46800-938&quot;</td><td>&quot;20051125&quot;</td><td>&quot;20051121&quot;</td><td>&quot;20060324&quot;</td><td>&quot;46800-1339&quot;</td><td>&quot;33&quot;</td><td>&quot;강파이프구조&quot;</td><td>&quot;46800-1710&quot;</td><td>&quot;46800-938&quot;</td><td>&quot;46800&quot;</td><td>&quot;21101&quot;</td><td>&quot;축사&quot;</td><td>1</td><td>396.0</td><td>&quot;20&quot;</td><td>&quot;지상&quot;</td><td>&quot;0100&quot;</td><td>&quot;신축&quot;</td></tr><tr><td>&quot;29110-12000000…</td><td>&quot;20120627&quot;</td><td>&quot;20111004&quot;</td><td>&quot;20121203&quot;</td><td>&quot;29110-12000543…</td><td>&quot;21&quot;</td><td>&quot;철근콘크리트구조&quot;</td><td>&quot;29110-12000594…</td><td>&quot;29110-12000000…</td><td>&quot;29110&quot;</td><td>&quot;01002&quot;</td><td>&quot;다중주택&quot;</td><td>3</td><td>135.0</td><td>&quot;20&quot;</td><td>&quot;지상&quot;</td><td>&quot;0100&quot;</td><td>&quot;신축&quot;</td></tr><tr><td>&quot;29110-12000000…</td><td>&quot;20120627&quot;</td><td>&quot;20111004&quot;</td><td>&quot;20121203&quot;</td><td>&quot;29110-12000543…</td><td>&quot;21&quot;</td><td>&quot;철근콘크리트구조&quot;</td><td>&quot;29110-12000594…</td><td>&quot;29110-12000000…</td><td>&quot;29110&quot;</td><td>&quot;01002&quot;</td><td>&quot;다중주택&quot;</td><td>2</td><td>135.0</td><td>&quot;20&quot;</td><td>&quot;지상&quot;</td><td>&quot;0100&quot;</td><td>&quot;신축&quot;</td></tr><tr><td>&quot;29110-12000000…</td><td>&quot;20120627&quot;</td><td>&quot;20111004&quot;</td><td>&quot;20121203&quot;</td><td>&quot;29110-12000543…</td><td>&quot;21&quot;</td><td>&quot;철근콘크리트구조&quot;</td><td>&quot;29110-12000594…</td><td>&quot;29110-12000000…</td><td>&quot;29110&quot;</td><td>&quot;01002&quot;</td><td>&quot;다중주택&quot;</td><td>1</td><td>57.94</td><td>&quot;20&quot;</td><td>&quot;지상&quot;</td><td>&quot;0100&quot;</td><td>&quot;신축&quot;</td></tr><tr><td>&quot;29110-12000004…</td><td>&quot;20111007&quot;</td><td>&quot;20111005&quot;</td><td>&quot;20120322&quot;</td><td>&quot;29110-12000212…</td><td>&quot;21&quot;</td><td>&quot;철근콘크리트구조&quot;</td><td>&quot;29110-12000243…</td><td>&quot;29110-12000004…</td><td>&quot;29110&quot;</td><td>&quot;01003&quot;</td><td>&quot;다가구주택&quot;</td><td>1</td><td>12.36</td><td>&quot;20&quot;</td><td>&quot;지상&quot;</td><td>&quot;0100&quot;</td><td>&quot;신축&quot;</td></tr></tbody></table></div>"
      ],
      "text/plain": [
       "shape: (5, 18)\n",
       "┌────────────┬────────────┬────────────┬────────────┬───┬────────────┬────────────┬────────────┬────────────┐\n",
       "│ 관리_허가  ┆ 실제_착공_ ┆ 건축_허가_ ┆ 사용승인_  ┆ … ┆ 층_구분_코 ┆ 층_구분_코 ┆ 건축_구분_ ┆ 건축_구분_ │\n",
       "│ 대장_PK    ┆ 일         ┆ 일         ┆ 일         ┆   ┆ 드         ┆ 드_명      ┆ 코드       ┆ 코드_명    │\n",
       "│ ---        ┆ ---        ┆ ---        ┆ ---        ┆   ┆ ---        ┆ ---        ┆ ---        ┆ ---        │\n",
       "│ str        ┆ str        ┆ str        ┆ str        ┆   ┆ str        ┆ str        ┆ str        ┆ str        │\n",
       "╞════════════╪════════════╪════════════╪════════════╪═══╪════════════╪════════════╪════════════╪════════════╡\n",
       "│ 46800-938  ┆ 20051125   ┆ 20051121   ┆ 20060324   ┆ … ┆ 20         ┆ 지상       ┆ 0100       ┆ 신축       │\n",
       "│ 29110-1200 ┆ 20120627   ┆ 20111004   ┆ 20121203   ┆ … ┆ 20         ┆ 지상       ┆ 0100       ┆ 신축       │\n",
       "│ 00000      ┆            ┆            ┆            ┆   ┆            ┆            ┆            ┆            │\n",
       "│ 29110-1200 ┆ 20120627   ┆ 20111004   ┆ 20121203   ┆ … ┆ 20         ┆ 지상       ┆ 0100       ┆ 신축       │\n",
       "│ 00000      ┆            ┆            ┆            ┆   ┆            ┆            ┆            ┆            │\n",
       "│ 29110-1200 ┆ 20120627   ┆ 20111004   ┆ 20121203   ┆ … ┆ 20         ┆ 지상       ┆ 0100       ┆ 신축       │\n",
       "│ 00000      ┆            ┆            ┆            ┆   ┆            ┆            ┆            ┆            │\n",
       "│ 29110-1200 ┆ 20111007   ┆ 20111005   ┆ 20120322   ┆ … ┆ 20         ┆ 지상       ┆ 0100       ┆ 신축       │\n",
       "│ 00040      ┆            ┆            ┆            ┆   ┆            ┆            ┆            ┆            │\n",
       "└────────────┴────────────┴────────────┴────────────┴───┴────────────┴────────────┴────────────┴────────────┘"
      ]
     },
     "execution_count": 56,
     "metadata": {},
     "output_type": "execute_result"
    }
   ],
   "source": [
    "df_result_building.head().collect()\n"
   ]
  },
  {
   "cell_type": "code",
   "execution_count": 15,
   "metadata": {},
   "outputs": [],
   "source": [
    "# df_permit_building = (\n",
    "#     df_result_building.filter(pl.col(\"건축_구분_코드\").is_in(new + mod))  # 신축과 증개이대만\n",
    "#     .with_columns((pl.col(\"건축_허가_일\").str.slice(0, 6).alias(\"연월\")))\n",
    "#     .groupby(\"연월\")\n",
    "#     .agg(pl.col(\"층_면적(㎡)\").sum().alias(\"면적\"))\n",
    "#     .sort(\"연월\")\n",
    "#     .collect()\n",
    "# )\n"
   ]
  },
  {
   "cell_type": "code",
   "execution_count": 123,
   "metadata": {},
   "outputs": [],
   "source": [
    "def agg_by_yearmonth(\n",
    "    df: pl.LazyFrame,\n",
    "    date_col: str,\n",
    "    area_col: str,\n",
    "    start: str = \"20130101\",\n",
    "    end: str = \"20221231\",\n",
    ") -> pl.DataFrame:\n",
    "    new = [\"0100\"]  # 신축\n",
    "    mod = [\"0200\", \"0300\", \"0500\", \"0600\"]  # 증축/개축/이전/대수선\n",
    "    change_of_use = [\"0700\"]  # 용도변경\n",
    "\n",
    "    if \"건축_구분_코드\" in df.columns:\n",
    "        action = pl.col(\"건축_구분_코드\").is_in(new + mod)\n",
    "    elif \"관리_주택대장_PK\" in df.columns:  # 주택인허가대장은 행위구분이 없음\n",
    "        action = True  # 주택인허가대장은 모두 신축(출처: 세움터 통계 쿼리)\n",
    "\n",
    "    result = (\n",
    "        df.filter(\n",
    "            action\n",
    "            & (pl.col(date_col).str.lengths() == 8)\n",
    "            & (pl.col(date_col).str.slice(4, 2) >= \"01\")\n",
    "            & (pl.col(date_col).str.slice(4, 2) <= \"12\")\n",
    "            & (pl.col(date_col).str.slice(6, 2) >= \"01\")\n",
    "            & (pl.col(date_col).str.slice(6, 2) <= \"31\")\n",
    "            & (pl.col(date_col) >= start)\n",
    "            & (pl.col(date_col) <= end)\n",
    "        )\n",
    "        .with_columns((pl.col(date_col).str.slice(0, 6).alias(\"연월\")))\n",
    "        .groupby(\"연월\")\n",
    "        .agg(pl.col(area_col).sum().alias(\"면적\"))\n",
    "        .sort(\"연월\")\n",
    "        .collect()\n",
    "    )\n",
    "    return result\n"
   ]
  },
  {
   "cell_type": "code",
   "execution_count": 124,
   "metadata": {},
   "outputs": [],
   "source": [
    "df_permit_building = agg_by_yearmonth(df_result_building, \"건축_허가_일\", \"층_면적(㎡)\")\n",
    "df_groundbreaking_building = agg_by_yearmonth(df_result_building, \"실제_착공_일\", \"층_면적(㎡)\")\n",
    "df_completion_building = agg_by_yearmonth(df_result_building, \"사용승인_일\", \"층_면적(㎡)\")\n"
   ]
  },
  {
   "cell_type": "code",
   "execution_count": 59,
   "metadata": {},
   "outputs": [
    {
     "data": {
      "text/html": [
       "<div><style>\n",
       ".dataframe > thead > tr > th,\n",
       ".dataframe > tbody > tr > td {\n",
       "  text-align: right;\n",
       "}\n",
       "</style>\n",
       "<small>shape: (12, 2)</small><table border=\"1\" class=\"dataframe\"><thead><tr><th>연월</th><th>면적</th></tr><tr><td>str</td><td>f64</td></tr></thead><tbody><tr><td>&quot;202201&quot;</td><td>8.6568e6</td></tr><tr><td>&quot;202202&quot;</td><td>8.5927e6</td></tr><tr><td>&quot;202203&quot;</td><td>1.0587e7</td></tr><tr><td>&quot;202204&quot;</td><td>1.1136e7</td></tr><tr><td>&quot;202205&quot;</td><td>1.3329e7</td></tr><tr><td>&quot;202206&quot;</td><td>9.4472e6</td></tr><tr><td>&quot;202207&quot;</td><td>9.7803e6</td></tr><tr><td>&quot;202208&quot;</td><td>9.9126e6</td></tr><tr><td>&quot;202209&quot;</td><td>8.9936e6</td></tr><tr><td>&quot;202210&quot;</td><td>9.2313e6</td></tr><tr><td>&quot;202211&quot;</td><td>7.3734e6</td></tr><tr><td>&quot;202212&quot;</td><td>8.4291e6</td></tr></tbody></table></div>"
      ],
      "text/plain": [
       "shape: (12, 2)\n",
       "┌────────┬──────────┐\n",
       "│ 연월   ┆ 면적     │\n",
       "│ ---    ┆ ---      │\n",
       "│ str    ┆ f64      │\n",
       "╞════════╪══════════╡\n",
       "│ 202201 ┆ 8.6568e6 │\n",
       "│ 202202 ┆ 8.5927e6 │\n",
       "│ 202203 ┆ 1.0587e7 │\n",
       "│ 202204 ┆ 1.1136e7 │\n",
       "│ …      ┆ …        │\n",
       "│ 202209 ┆ 8.9936e6 │\n",
       "│ 202210 ┆ 9.2313e6 │\n",
       "│ 202211 ┆ 7.3734e6 │\n",
       "│ 202212 ┆ 8.4291e6 │\n",
       "└────────┴──────────┘"
      ]
     },
     "execution_count": 59,
     "metadata": {},
     "output_type": "execute_result"
    }
   ],
   "source": [
    "df_permit_building.filter(pl.col(\"연월\") >= \"202201\")\n"
   ]
  },
  {
   "cell_type": "code",
   "execution_count": 60,
   "metadata": {},
   "outputs": [
    {
     "data": {
      "text/html": [
       "<div><style>\n",
       ".dataframe > thead > tr > th,\n",
       ".dataframe > tbody > tr > td {\n",
       "  text-align: right;\n",
       "}\n",
       "</style>\n",
       "<small>shape: (12, 2)</small><table border=\"1\" class=\"dataframe\"><thead><tr><th>연월</th><th>면적</th></tr><tr><td>str</td><td>f64</td></tr></thead><tbody><tr><td>&quot;202201&quot;</td><td>6.0766e6</td></tr><tr><td>&quot;202202&quot;</td><td>5.1420e6</td></tr><tr><td>&quot;202203&quot;</td><td>8.9975e6</td></tr><tr><td>&quot;202204&quot;</td><td>8.4531e6</td></tr><tr><td>&quot;202205&quot;</td><td>8.2808e6</td></tr><tr><td>&quot;202206&quot;</td><td>7.3164e6</td></tr><tr><td>&quot;202207&quot;</td><td>6.6631e6</td></tr><tr><td>&quot;202208&quot;</td><td>6.7595e6</td></tr><tr><td>&quot;202209&quot;</td><td>5.5494e6</td></tr><tr><td>&quot;202210&quot;</td><td>5.4666e6</td></tr><tr><td>&quot;202211&quot;</td><td>6.1707e6</td></tr><tr><td>&quot;202212&quot;</td><td>4.8488e6</td></tr></tbody></table></div>"
      ],
      "text/plain": [
       "shape: (12, 2)\n",
       "┌────────┬──────────┐\n",
       "│ 연월   ┆ 면적     │\n",
       "│ ---    ┆ ---      │\n",
       "│ str    ┆ f64      │\n",
       "╞════════╪══════════╡\n",
       "│ 202201 ┆ 6.0766e6 │\n",
       "│ 202202 ┆ 5.1420e6 │\n",
       "│ 202203 ┆ 8.9975e6 │\n",
       "│ 202204 ┆ 8.4531e6 │\n",
       "│ …      ┆ …        │\n",
       "│ 202209 ┆ 5.5494e6 │\n",
       "│ 202210 ┆ 5.4666e6 │\n",
       "│ 202211 ┆ 6.1707e6 │\n",
       "│ 202212 ┆ 4.8488e6 │\n",
       "└────────┴──────────┘"
      ]
     },
     "execution_count": 60,
     "metadata": {},
     "output_type": "execute_result"
    }
   ],
   "source": [
    "df_groundbreaking_building.filter(pl.col(\"연월\") >= \"202201\")\n"
   ]
  },
  {
   "cell_type": "code",
   "execution_count": 61,
   "metadata": {},
   "outputs": [
    {
     "data": {
      "text/html": [
       "<div><style>\n",
       ".dataframe > thead > tr > th,\n",
       ".dataframe > tbody > tr > td {\n",
       "  text-align: right;\n",
       "}\n",
       "</style>\n",
       "<small>shape: (12, 2)</small><table border=\"1\" class=\"dataframe\"><thead><tr><th>연월</th><th>면적</th></tr><tr><td>str</td><td>f64</td></tr></thead><tbody><tr><td>&quot;202201&quot;</td><td>6.4681e6</td></tr><tr><td>&quot;202202&quot;</td><td>4.6415e6</td></tr><tr><td>&quot;202203&quot;</td><td>6.0643e6</td></tr><tr><td>&quot;202204&quot;</td><td>6.7721e6</td></tr><tr><td>&quot;202205&quot;</td><td>6.6077e6</td></tr><tr><td>&quot;202206&quot;</td><td>6.4318e6</td></tr><tr><td>&quot;202207&quot;</td><td>5.5658e6</td></tr><tr><td>&quot;202208&quot;</td><td>6.1266e6</td></tr><tr><td>&quot;202209&quot;</td><td>5.7970e6</td></tr><tr><td>&quot;202210&quot;</td><td>6.1718e6</td></tr><tr><td>&quot;202211&quot;</td><td>8.8585e6</td></tr><tr><td>&quot;202212&quot;</td><td>1.3204e7</td></tr></tbody></table></div>"
      ],
      "text/plain": [
       "shape: (12, 2)\n",
       "┌────────┬──────────┐\n",
       "│ 연월   ┆ 면적     │\n",
       "│ ---    ┆ ---      │\n",
       "│ str    ┆ f64      │\n",
       "╞════════╪══════════╡\n",
       "│ 202201 ┆ 6.4681e6 │\n",
       "│ 202202 ┆ 4.6415e6 │\n",
       "│ 202203 ┆ 6.0643e6 │\n",
       "│ 202204 ┆ 6.7721e6 │\n",
       "│ …      ┆ …        │\n",
       "│ 202209 ┆ 5.7970e6 │\n",
       "│ 202210 ┆ 6.1718e6 │\n",
       "│ 202211 ┆ 8.8585e6 │\n",
       "│ 202212 ┆ 1.3204e7 │\n",
       "└────────┴──────────┘"
      ]
     },
     "execution_count": 61,
     "metadata": {},
     "output_type": "execute_result"
    }
   ],
   "source": [
    "df_completion_building.filter(pl.col(\"연월\") >= \"202201\")\n"
   ]
  },
  {
   "cell_type": "code",
   "execution_count": 21,
   "metadata": {},
   "outputs": [],
   "source": [
    "df_master_housing = pl.scan_parquet(\"data/주택인허가_기본개요_2022년_12월/*\")\n",
    "df_dong_housing = pl.scan_parquet(\"data/주택인허가_동별개요_2022년_12월/*\")\n",
    "df_floor_housing = pl.scan_parquet(\"data/주택인허가_층별개요_2022년_12월/*\")\n",
    "df_action_housing = pl.scan_parquet(\"data/주택인허가_행위개요_2022년_12월/*\")\n"
   ]
  },
  {
   "cell_type": "code",
   "execution_count": 22,
   "metadata": {},
   "outputs": [
    {
     "name": "stdout",
     "output_type": "stream",
     "text": [
      "['관리_주택대장_PK', '대지_위치', '건물_명', '시군구_코드', '법정동_코드', '대지_구분_코드', '번', '지', '특수지_명', '블록', '로트', '용도_코드', '용도_코드_명', '구조_코드', '구조_코드_명', '주_건축물_수', '연면적(㎡)', '총_세대_수(세대)', '철거_멸실_구분_코드', '철거_멸실_구분_코드_명', '철거_시작_일', '철거_종료_일', '철거_멸실_일', '승인_일', '착공_예정_일', '착공_일', '사용_검사_예정_일', '사용_검사_일', '생성_일자', '__null_dask_index__']\n",
      "['관리_동별_개요_PK', '관리_주택대장_PK', '대지_위치', '건물_명', '시군구_코드', '법정동_코드', '대지_구분_코드', '번', '지', '특수지_명', '블록', '로트', '주_부속_구분_코드', '주_부속_구분_코드_명', '동명', '주_용도_코드', '주_용도_코드_명', '세대_수_국민_임대(세대)', '세대_수_공공_임대_5(세대)', '세대_수_공공_임대_10(세대)', '세대_수_공공_임대_기타(세대)', '세대_수_공공_임대_계(세대)', '세대_수_공공_분양(세대)', '세대_수_사원_임대(세대)', '세대_수_근로_복지(세대)', '세대_수_민간_임대(세대)', '세대_수_민간_분양(세대)', '구조_코드', '구조_코드_명', '지붕_코드', '지붕_코드_명', '건축_면적(㎡)', '연면적(㎡)', '지하_면적(㎡)', '용적_률_산정_연면적(㎡)', '지하_층_수', '지상_층_수', '높이(m)', '승용_승강기_인용_수', '비상용_승강기_인용_수', '층고_FROM', '반자_높이(m)', '계단_유효_폭', '복도_너비', '외벽_두께', '인접_세대_벽_두께', '생성_일자', '__null_dask_index__']\n",
      "['관리_층별_개요_PK', '관리_동별_개요_PK', '대지_위치', '건물_명', '시군구_코드', '법정동_코드', '대지_구분_코드', '번', '지', '특수지_명', '블록', '로트', '동명', '층_번호', '층_구분_코드', '층_구분_코드_명', '층_면적(㎡)', '용도_코드', '용도_코드_명', '생성_일자', '__null_dask_index__']\n",
      "['관리_주택대장_PK', '대지_위치', '시군구_코드', '법정동_코드', '대지_구분_코드', '번', '지', '특수지_명', '블록', '로트', '행위_구분', '행위_구분_코드', '행위_구분_코드_명', '단지_명', '건축물_여부', '시설_종류', '건축_면적(㎡)', '연면적(㎡)', '바닥_면적(㎡)', '주_용도_코드', '주_용도_코드_명', '기타_용도', '공사_면적(㎡)', '지하_층_수', '지상_층_수', '총_사업비', '착공_예정_일', '사용_검사_예정_일', '세대_수(세대)', '단지_층_수_동_수', '대장_구분_코드', '대장_구분_코드_명', '행위_전_용도_코드', '행위_전_용도_코드_명', '행위_전_면적(㎡)', '행위_후_용도_코드', '행위_후_용도_코드_명', '행위_후_면적(㎡)', '시설_명', '행위_전_기타_용도', '행위_후_기타_용도', '생성_일자', '__null_dask_index__']\n"
     ]
    }
   ],
   "source": [
    "print(df_master_housing.columns)\n",
    "print(df_dong_housing.columns)\n",
    "print(df_floor_housing.columns)\n",
    "print(df_action_housing.columns)\n"
   ]
  },
  {
   "cell_type": "code",
   "execution_count": 64,
   "metadata": {},
   "outputs": [],
   "source": [
    "cols_master_housing = [\n",
    "    \"관리_주택대장_PK\",\n",
    "    # \"연면적(㎡)\",\n",
    "    \"철거_멸실_구분_코드\",\n",
    "    \"철거_멸실_구분_코드_명\",\n",
    "    \"철거_시작_일\",\n",
    "    \"철거_종료_일\",\n",
    "    \"철거_멸실_일\",\n",
    "    \"승인_일\",  # 대부분 값 있음\n",
    "    \"착공_예정_일\",  # 절반 정도 있음\n",
    "    \"착공_일\",  # 대부분 null\n",
    "    \"사용_검사_예정_일\",\n",
    "    \"사용_검사_일\",  # 절반 정도 있음\n",
    "]\n",
    "cols_dong_housing = [\n",
    "    \"관리_동별_개요_PK\",\n",
    "    \"관리_주택대장_PK\",\n",
    "    \"건물_명\",\n",
    "    \"동명\",\n",
    "    \"구조_코드\",\n",
    "    \"구조_코드_명\",\n",
    "    # \"연면적(㎡)\",\n",
    "]\n",
    "cols_floor_housing = [\n",
    "    \"관리_층별_개요_PK\",\n",
    "    \"관리_동별_개요_PK\",\n",
    "    \"시군구_코드\",\n",
    "    \"동명\",\n",
    "    \"층_번호\",\n",
    "    \"층_구분_코드\",\n",
    "    \"층_구분_코드_명\",\n",
    "    \"층_면적(㎡)\",\n",
    "    \"용도_코드\",\n",
    "    \"용도_코드_명\",\n",
    "]\n"
   ]
  },
  {
   "cell_type": "code",
   "execution_count": 65,
   "metadata": {},
   "outputs": [
    {
     "data": {
      "text/html": [
       "<div><style>\n",
       ".dataframe > thead > tr > th,\n",
       ".dataframe > tbody > tr > td {\n",
       "  text-align: right;\n",
       "}\n",
       "</style>\n",
       "<small>shape: (9, 12)</small><table border=\"1\" class=\"dataframe\"><thead><tr><th>describe</th><th>관리_주택대장_PK</th><th>철거_멸실_구분_코드</th><th>철거_멸실_구분_코드_명</th><th>철거_시작_일</th><th>철거_종료_일</th><th>철거_멸실_일</th><th>승인_일</th><th>착공_예정_일</th><th>착공_일</th><th>사용_검사_예정_일</th><th>사용_검사_일</th></tr><tr><td>str</td><td>str</td><td>str</td><td>str</td><td>str</td><td>str</td><td>str</td><td>str</td><td>str</td><td>str</td><td>str</td><td>str</td></tr></thead><tbody><tr><td>&quot;count&quot;</td><td>&quot;233865&quot;</td><td>&quot;233865&quot;</td><td>&quot;233865&quot;</td><td>&quot;233865&quot;</td><td>&quot;233865&quot;</td><td>&quot;233865&quot;</td><td>&quot;233865&quot;</td><td>&quot;233865&quot;</td><td>&quot;233865&quot;</td><td>&quot;233865&quot;</td><td>&quot;233865&quot;</td></tr><tr><td>&quot;null_count&quot;</td><td>&quot;0&quot;</td><td>&quot;233172&quot;</td><td>&quot;233172&quot;</td><td>&quot;233255&quot;</td><td>&quot;233259&quot;</td><td>&quot;233810&quot;</td><td>&quot;439&quot;</td><td>&quot;172508&quot;</td><td>&quot;233846&quot;</td><td>&quot;159318&quot;</td><td>&quot;141087&quot;</td></tr><tr><td>&quot;mean&quot;</td><td>null</td><td>null</td><td>null</td><td>null</td><td>null</td><td>null</td><td>null</td><td>null</td><td>null</td><td>null</td><td>null</td></tr><tr><td>&quot;std&quot;</td><td>null</td><td>null</td><td>null</td><td>null</td><td>null</td><td>null</td><td>null</td><td>null</td><td>null</td><td>null</td><td>null</td></tr><tr><td>&quot;min&quot;</td><td>&quot;-100006082&quot;</td><td>&quot;1&quot;</td><td>&quot;멸실&quot;</td><td>&quot;20071001&quot;</td><td>&quot;20070320&quot;</td><td>&quot;20000101&quot;</td><td>&quot;0&quot;</td><td>&quot;02140224&quot;</td><td>&quot;20080410&quot;</td><td>&quot;00301&quot;</td><td>&quot;19780930&quot;</td></tr><tr><td>&quot;max&quot;</td><td>&quot;50130-9&quot;</td><td>&quot;4&quot;</td><td>&quot;철거&quot;</td><td>&quot;21031129&quot;</td><td>&quot;20200930&quot;</td><td>&quot;20190415&quot;</td><td>&quot;30000101&quot;</td><td>&quot;981201&quot;</td><td>&quot;20200618&quot;</td><td>&quot;97&quot;</td><td>&quot;20230920&quot;</td></tr><tr><td>&quot;median&quot;</td><td>null</td><td>null</td><td>null</td><td>null</td><td>null</td><td>null</td><td>null</td><td>null</td><td>null</td><td>null</td><td>null</td></tr><tr><td>&quot;25%&quot;</td><td>null</td><td>null</td><td>null</td><td>null</td><td>null</td><td>null</td><td>null</td><td>null</td><td>null</td><td>null</td><td>null</td></tr><tr><td>&quot;75%&quot;</td><td>null</td><td>null</td><td>null</td><td>null</td><td>null</td><td>null</td><td>null</td><td>null</td><td>null</td><td>null</td><td>null</td></tr></tbody></table></div>"
      ],
      "text/plain": [
       "shape: (9, 12)\n",
       "┌─────┬────────────┬────────────┬────────────┬───┬────────────┬──────────┬────────────┬────────────┐\n",
       "│ des ┆ 관리_주택  ┆ 철거_멸실_ ┆ 철거_멸실_ ┆ … ┆ 착공_예정_ ┆ 착공_일  ┆ 사용_검사_ ┆ 사용_검사_ │\n",
       "│ cri ┆ 대장_PK    ┆ 구분_코드  ┆ 구분_코드_ ┆   ┆ 일         ┆ ---      ┆ 예정_일    ┆ 일         │\n",
       "│ be  ┆ ---        ┆ ---        ┆ 명         ┆   ┆ ---        ┆ str      ┆ ---        ┆ ---        │\n",
       "│ --- ┆ str        ┆ str        ┆ ---        ┆   ┆ str        ┆          ┆ str        ┆ str        │\n",
       "│ str ┆            ┆            ┆ str        ┆   ┆            ┆          ┆            ┆            │\n",
       "╞═════╪════════════╪════════════╪════════════╪═══╪════════════╪══════════╪════════════╪════════════╡\n",
       "│ cou ┆ 233865     ┆ 233865     ┆ 233865     ┆ … ┆ 233865     ┆ 233865   ┆ 233865     ┆ 233865     │\n",
       "│ nt  ┆            ┆            ┆            ┆   ┆            ┆          ┆            ┆            │\n",
       "│ nul ┆ 0          ┆ 233172     ┆ 233172     ┆ … ┆ 172508     ┆ 233846   ┆ 159318     ┆ 141087     │\n",
       "│ l_c ┆            ┆            ┆            ┆   ┆            ┆          ┆            ┆            │\n",
       "│ oun ┆            ┆            ┆            ┆   ┆            ┆          ┆            ┆            │\n",
       "│ t   ┆            ┆            ┆            ┆   ┆            ┆          ┆            ┆            │\n",
       "│ mea ┆ null       ┆ null       ┆ null       ┆ … ┆ null       ┆ null     ┆ null       ┆ null       │\n",
       "│ n   ┆            ┆            ┆            ┆   ┆            ┆          ┆            ┆            │\n",
       "│ std ┆ null       ┆ null       ┆ null       ┆ … ┆ null       ┆ null     ┆ null       ┆ null       │\n",
       "│ min ┆ -100006082 ┆ 1          ┆ 멸실       ┆ … ┆ 02140224   ┆ 20080410 ┆ 00301      ┆ 19780930   │\n",
       "│ max ┆ 50130-9    ┆ 4          ┆ 철거       ┆ … ┆ 981201     ┆ 20200618 ┆ 97         ┆ 20230920   │\n",
       "│ med ┆ null       ┆ null       ┆ null       ┆ … ┆ null       ┆ null     ┆ null       ┆ null       │\n",
       "│ ian ┆            ┆            ┆            ┆   ┆            ┆          ┆            ┆            │\n",
       "│ 25% ┆ null       ┆ null       ┆ null       ┆ … ┆ null       ┆ null     ┆ null       ┆ null       │\n",
       "│ 75% ┆ null       ┆ null       ┆ null       ┆ … ┆ null       ┆ null     ┆ null       ┆ null       │\n",
       "└─────┴────────────┴────────────┴────────────┴───┴────────────┴──────────┴────────────┴────────────┘"
      ]
     },
     "execution_count": 65,
     "metadata": {},
     "output_type": "execute_result"
    }
   ],
   "source": [
    "df_master_housing.select(cols_master_housing).collect().describe()\n"
   ]
  },
  {
   "attachments": {},
   "cell_type": "markdown",
   "metadata": {},
   "source": [
    "착공일이 19개 빼고 없다고?????????????????????????????"
   ]
  },
  {
   "cell_type": "code",
   "execution_count": 66,
   "metadata": {},
   "outputs": [
    {
     "data": {
      "text/html": [
       "<div><style>\n",
       ".dataframe > thead > tr > th,\n",
       ".dataframe > tbody > tr > td {\n",
       "  text-align: right;\n",
       "}\n",
       "</style>\n",
       "<small>shape: (9, 7)</small><table border=\"1\" class=\"dataframe\"><thead><tr><th>describe</th><th>관리_동별_개요_PK</th><th>관리_주택대장_PK</th><th>건물_명</th><th>동명</th><th>구조_코드</th><th>구조_코드_명</th></tr><tr><td>str</td><td>str</td><td>str</td><td>str</td><td>str</td><td>str</td><td>str</td></tr></thead><tbody><tr><td>&quot;count&quot;</td><td>&quot;332074&quot;</td><td>&quot;332074&quot;</td><td>&quot;332074&quot;</td><td>&quot;332074&quot;</td><td>&quot;332074&quot;</td><td>&quot;332074&quot;</td></tr><tr><td>&quot;null_count&quot;</td><td>&quot;0&quot;</td><td>&quot;0&quot;</td><td>&quot;41282&quot;</td><td>&quot;1994&quot;</td><td>&quot;3520&quot;</td><td>&quot;3525&quot;</td></tr><tr><td>&quot;mean&quot;</td><td>null</td><td>null</td><td>null</td><td>null</td><td>null</td><td>null</td></tr><tr><td>&quot;std&quot;</td><td>null</td><td>null</td><td>null</td><td>null</td><td>null</td><td>null</td></tr><tr><td>&quot;min&quot;</td><td>&quot;-100004282&quot;</td><td>&quot;-100006082&quot;</td><td>&quot; ******-******…</td><td>&quot;# 401동&quot;</td><td>&quot;10&quot;</td><td>&quot;강파이프구조&quot;</td></tr><tr><td>&quot;max&quot;</td><td>&quot;50130-99&quot;</td><td>&quot;50130-9&quot;</td><td>&quot;？브르타운 공동주택 신축공…</td><td>&quot;힘멜에듀센터어린이집&quot;</td><td>&quot;99&quot;</td><td>&quot;프리케스트콘크리트구조&quot;</td></tr><tr><td>&quot;median&quot;</td><td>null</td><td>null</td><td>null</td><td>null</td><td>null</td><td>null</td></tr><tr><td>&quot;25%&quot;</td><td>null</td><td>null</td><td>null</td><td>null</td><td>null</td><td>null</td></tr><tr><td>&quot;75%&quot;</td><td>null</td><td>null</td><td>null</td><td>null</td><td>null</td><td>null</td></tr></tbody></table></div>"
      ],
      "text/plain": [
       "shape: (9, 7)\n",
       "┌────────────┬────────────┬──────────────┬──────────────┬──────────────┬────────────┬──────────────┐\n",
       "│ describe   ┆ 관리_동별_ ┆ 관리_주택대  ┆ 건물_명      ┆ 동명         ┆ 구조_코드  ┆ 구조_코드_명 │\n",
       "│ ---        ┆ 개요_PK    ┆ 장_PK        ┆ ---          ┆ ---          ┆ ---        ┆ ---          │\n",
       "│ str        ┆ ---        ┆ ---          ┆ str          ┆ str          ┆ str        ┆ str          │\n",
       "│            ┆ str        ┆ str          ┆              ┆              ┆            ┆              │\n",
       "╞════════════╪════════════╪══════════════╪══════════════╪══════════════╪════════════╪══════════════╡\n",
       "│ count      ┆ 332074     ┆ 332074       ┆ 332074       ┆ 332074       ┆ 332074     ┆ 332074       │\n",
       "│ null_count ┆ 0          ┆ 0            ┆ 41282        ┆ 1994         ┆ 3520       ┆ 3525         │\n",
       "│ mean       ┆ null       ┆ null         ┆ null         ┆ null         ┆ null       ┆ null         │\n",
       "│ std        ┆ null       ┆ null         ┆ null         ┆ null         ┆ null       ┆ null         │\n",
       "│ min        ┆ -100004282 ┆ -100006082   ┆ ******-***** ┆ # 401동      ┆ 10         ┆ 강파이프구조 │\n",
       "│            ┆            ┆              ┆ **250002     ┆              ┆            ┆              │\n",
       "│ max        ┆ 50130-99   ┆ 50130-9      ┆ ？브르타운   ┆ 힘멜에듀센터 ┆ 99         ┆ 프리케스트콘 │\n",
       "│            ┆            ┆              ┆ 공동주택     ┆ 어린이집     ┆            ┆ 크리트구조   │\n",
       "│            ┆            ┆              ┆ 신축공사     ┆              ┆            ┆              │\n",
       "│ median     ┆ null       ┆ null         ┆ null         ┆ null         ┆ null       ┆ null         │\n",
       "│ 25%        ┆ null       ┆ null         ┆ null         ┆ null         ┆ null       ┆ null         │\n",
       "│ 75%        ┆ null       ┆ null         ┆ null         ┆ null         ┆ null       ┆ null         │\n",
       "└────────────┴────────────┴──────────────┴──────────────┴──────────────┴────────────┴──────────────┘"
      ]
     },
     "execution_count": 66,
     "metadata": {},
     "output_type": "execute_result"
    }
   ],
   "source": [
    "df_dong_housing.select(cols_dong_housing).collect().describe()\n"
   ]
  },
  {
   "cell_type": "code",
   "execution_count": 67,
   "metadata": {},
   "outputs": [
    {
     "data": {
      "text/html": [
       "<div><style>\n",
       ".dataframe > thead > tr > th,\n",
       ".dataframe > tbody > tr > td {\n",
       "  text-align: right;\n",
       "}\n",
       "</style>\n",
       "<small>shape: (9, 11)</small><table border=\"1\" class=\"dataframe\"><thead><tr><th>describe</th><th>관리_층별_개요_PK</th><th>관리_동별_개요_PK</th><th>시군구_코드</th><th>동명</th><th>층_번호</th><th>층_구분_코드</th><th>층_구분_코드_명</th><th>층_면적(㎡)</th><th>용도_코드</th><th>용도_코드_명</th></tr><tr><td>str</td><td>str</td><td>str</td><td>str</td><td>str</td><td>f64</td><td>str</td><td>str</td><td>f64</td><td>str</td><td>str</td></tr></thead><tbody><tr><td>&quot;count&quot;</td><td>&quot;2857418&quot;</td><td>&quot;2857418&quot;</td><td>&quot;2857418&quot;</td><td>&quot;2857418&quot;</td><td>2.857418e6</td><td>&quot;2857418&quot;</td><td>&quot;2857418&quot;</td><td>2.857418e6</td><td>&quot;2857418&quot;</td><td>&quot;2857418&quot;</td></tr><tr><td>&quot;null_count&quot;</td><td>&quot;0&quot;</td><td>&quot;0&quot;</td><td>&quot;1400&quot;</td><td>&quot;1559&quot;</td><td>602.0</td><td>&quot;289&quot;</td><td>&quot;305&quot;</td><td>0.0</td><td>&quot;1137&quot;</td><td>&quot;1929&quot;</td></tr><tr><td>&quot;mean&quot;</td><td>null</td><td>null</td><td>null</td><td>null</td><td>11.28422</td><td>null</td><td>null</td><td>1021.854939</td><td>null</td><td>null</td></tr><tr><td>&quot;std&quot;</td><td>null</td><td>null</td><td>null</td><td>null</td><td>31.990283</td><td>null</td><td>null</td><td>162599.672687</td><td>null</td><td>null</td></tr><tr><td>&quot;min&quot;</td><td>&quot;-100076108&quot;</td><td>&quot;-100019201&quot;</td><td>&quot;0700&quot;</td><td>&quot;# 401동&quot;</td><td>-33.0</td><td>&quot;10&quot;</td><td>&quot;복수층(하층)&quot;</td><td>-4821.2229</td><td>&quot;01000&quot;</td><td>&quot;가스배관시설&quot;</td></tr><tr><td>&quot;max&quot;</td><td>&quot;50130-99&quot;</td><td>&quot;50130-99&quot;</td><td>&quot;50130&quot;</td><td>&quot;힘멜에듀센터어린이집&quot;</td><td>1215.0</td><td>&quot;39&quot;</td><td>&quot;지하&quot;</td><td>2.18776697e8</td><td>&quot;n1300&quot;</td><td>&quot;휴게음식점&quot;</td></tr><tr><td>&quot;median&quot;</td><td>null</td><td>null</td><td>null</td><td>null</td><td>9.0</td><td>null</td><td>null</td><td>426.4973</td><td>null</td><td>null</td></tr><tr><td>&quot;25%&quot;</td><td>null</td><td>null</td><td>null</td><td>null</td><td>3.0</td><td>null</td><td>null</td><td>287.9918</td><td>null</td><td>null</td></tr><tr><td>&quot;75%&quot;</td><td>null</td><td>null</td><td>null</td><td>null</td><td>15.0</td><td>null</td><td>null</td><td>516.1017</td><td>null</td><td>null</td></tr></tbody></table></div>"
      ],
      "text/plain": [
       "shape: (9, 11)\n",
       "┌───┬────────────┬────────────┬────────────┬───┬────────────┬────────────┬────────────┬────────────┐\n",
       "│ d ┆ 관리_층별_ ┆ 관리_동별_ ┆ 시군구_코  ┆ … ┆ 층_구분_코 ┆ 층_면적(㎡ ┆ 용도_코드  ┆ 용도_코드_ │\n",
       "│ e ┆ 개요_PK    ┆ 개요_PK    ┆ 드         ┆   ┆ 드_명      ┆ )          ┆ ---        ┆ 명         │\n",
       "│ s ┆ ---        ┆ ---        ┆ ---        ┆   ┆ ---        ┆ ---        ┆ str        ┆ ---        │\n",
       "│ c ┆ str        ┆ str        ┆ str        ┆   ┆ str        ┆ f64        ┆            ┆ str        │\n",
       "│ r ┆            ┆            ┆            ┆   ┆            ┆            ┆            ┆            │\n",
       "│ i ┆            ┆            ┆            ┆   ┆            ┆            ┆            ┆            │\n",
       "│ b ┆            ┆            ┆            ┆   ┆            ┆            ┆            ┆            │\n",
       "│ e ┆            ┆            ┆            ┆   ┆            ┆            ┆            ┆            │\n",
       "│ - ┆            ┆            ┆            ┆   ┆            ┆            ┆            ┆            │\n",
       "│ - ┆            ┆            ┆            ┆   ┆            ┆            ┆            ┆            │\n",
       "│ - ┆            ┆            ┆            ┆   ┆            ┆            ┆            ┆            │\n",
       "│ s ┆            ┆            ┆            ┆   ┆            ┆            ┆            ┆            │\n",
       "│ t ┆            ┆            ┆            ┆   ┆            ┆            ┆            ┆            │\n",
       "│ r ┆            ┆            ┆            ┆   ┆            ┆            ┆            ┆            │\n",
       "╞═══╪════════════╪════════════╪════════════╪═══╪════════════╪════════════╪════════════╪════════════╡\n",
       "│ c ┆ 2857418    ┆ 2857418    ┆ 2857418    ┆ … ┆ 2857418    ┆ 2.857418e6 ┆ 2857418    ┆ 2857418    │\n",
       "│ o ┆            ┆            ┆            ┆   ┆            ┆            ┆            ┆            │\n",
       "│ u ┆            ┆            ┆            ┆   ┆            ┆            ┆            ┆            │\n",
       "│ n ┆            ┆            ┆            ┆   ┆            ┆            ┆            ┆            │\n",
       "│ t ┆            ┆            ┆            ┆   ┆            ┆            ┆            ┆            │\n",
       "│ n ┆ 0          ┆ 0          ┆ 1400       ┆ … ┆ 305        ┆ 0.0        ┆ 1137       ┆ 1929       │\n",
       "│ u ┆            ┆            ┆            ┆   ┆            ┆            ┆            ┆            │\n",
       "│ l ┆            ┆            ┆            ┆   ┆            ┆            ┆            ┆            │\n",
       "│ l ┆            ┆            ┆            ┆   ┆            ┆            ┆            ┆            │\n",
       "│ _ ┆            ┆            ┆            ┆   ┆            ┆            ┆            ┆            │\n",
       "│ c ┆            ┆            ┆            ┆   ┆            ┆            ┆            ┆            │\n",
       "│ o ┆            ┆            ┆            ┆   ┆            ┆            ┆            ┆            │\n",
       "│ u ┆            ┆            ┆            ┆   ┆            ┆            ┆            ┆            │\n",
       "│ n ┆            ┆            ┆            ┆   ┆            ┆            ┆            ┆            │\n",
       "│ t ┆            ┆            ┆            ┆   ┆            ┆            ┆            ┆            │\n",
       "│ m ┆ null       ┆ null       ┆ null       ┆ … ┆ null       ┆ 1021.85493 ┆ null       ┆ null       │\n",
       "│ e ┆            ┆            ┆            ┆   ┆            ┆ 9          ┆            ┆            │\n",
       "│ a ┆            ┆            ┆            ┆   ┆            ┆            ┆            ┆            │\n",
       "│ n ┆            ┆            ┆            ┆   ┆            ┆            ┆            ┆            │\n",
       "│ s ┆ null       ┆ null       ┆ null       ┆ … ┆ null       ┆ 162599.672 ┆ null       ┆ null       │\n",
       "│ t ┆            ┆            ┆            ┆   ┆            ┆ 687        ┆            ┆            │\n",
       "│ d ┆            ┆            ┆            ┆   ┆            ┆            ┆            ┆            │\n",
       "│ m ┆ -100076108 ┆ -100019201 ┆ 0700       ┆ … ┆ 복수층(하  ┆ -4821.2229 ┆ 01000      ┆ 가스배관시 │\n",
       "│ i ┆            ┆            ┆            ┆   ┆ 층)        ┆            ┆            ┆ 설         │\n",
       "│ n ┆            ┆            ┆            ┆   ┆            ┆            ┆            ┆            │\n",
       "│ m ┆ 50130-99   ┆ 50130-99   ┆ 50130      ┆ … ┆ 지하       ┆ 2.18776697 ┆ n1300      ┆ 휴게음식점 │\n",
       "│ a ┆            ┆            ┆            ┆   ┆            ┆ e8         ┆            ┆            │\n",
       "│ x ┆            ┆            ┆            ┆   ┆            ┆            ┆            ┆            │\n",
       "│ m ┆ null       ┆ null       ┆ null       ┆ … ┆ null       ┆ 426.4973   ┆ null       ┆ null       │\n",
       "│ e ┆            ┆            ┆            ┆   ┆            ┆            ┆            ┆            │\n",
       "│ d ┆            ┆            ┆            ┆   ┆            ┆            ┆            ┆            │\n",
       "│ i ┆            ┆            ┆            ┆   ┆            ┆            ┆            ┆            │\n",
       "│ a ┆            ┆            ┆            ┆   ┆            ┆            ┆            ┆            │\n",
       "│ n ┆            ┆            ┆            ┆   ┆            ┆            ┆            ┆            │\n",
       "│ 2 ┆ null       ┆ null       ┆ null       ┆ … ┆ null       ┆ 287.9918   ┆ null       ┆ null       │\n",
       "│ 5 ┆            ┆            ┆            ┆   ┆            ┆            ┆            ┆            │\n",
       "│ % ┆            ┆            ┆            ┆   ┆            ┆            ┆            ┆            │\n",
       "│ 7 ┆ null       ┆ null       ┆ null       ┆ … ┆ null       ┆ 516.1017   ┆ null       ┆ null       │\n",
       "│ 5 ┆            ┆            ┆            ┆   ┆            ┆            ┆            ┆            │\n",
       "│ % ┆            ┆            ┆            ┆   ┆            ┆            ┆            ┆            │\n",
       "└───┴────────────┴────────────┴────────────┴───┴────────────┴────────────┴────────────┴────────────┘"
      ]
     },
     "execution_count": 67,
     "metadata": {},
     "output_type": "execute_result"
    }
   ],
   "source": [
    "df_floor_housing.select(cols_floor_housing).collect().describe()\n"
   ]
  },
  {
   "cell_type": "code",
   "execution_count": 68,
   "metadata": {},
   "outputs": [
    {
     "data": {
      "text/plain": [
       "153052569861.83148"
      ]
     },
     "execution_count": 68,
     "metadata": {},
     "output_type": "execute_result"
    }
   ],
   "source": [
    "df_master_housing.select(\"연면적(㎡)\").sum().collect().item()\n"
   ]
  },
  {
   "cell_type": "code",
   "execution_count": 69,
   "metadata": {},
   "outputs": [
    {
     "data": {
      "text/plain": [
       "4201841082.952662"
      ]
     },
     "execution_count": 69,
     "metadata": {},
     "output_type": "execute_result"
    }
   ],
   "source": [
    "df_dong_housing.select(\"연면적(㎡)\").sum().collect().item()\n"
   ]
  },
  {
   "cell_type": "code",
   "execution_count": 70,
   "metadata": {},
   "outputs": [
    {
     "data": {
      "text/plain": [
       "2919866695.465873"
      ]
     },
     "execution_count": 70,
     "metadata": {},
     "output_type": "execute_result"
    }
   ],
   "source": [
    "df_floor_housing.select(\"층_면적(㎡)\").sum().collect().item()\n"
   ]
  },
  {
   "attachments": {},
   "cell_type": "markdown",
   "metadata": {},
   "source": [
    "153,052,569,861 m²에서 2,919,866,695 m²로 2%만 남음."
   ]
  },
  {
   "cell_type": "code",
   "execution_count": 71,
   "metadata": {},
   "outputs": [],
   "source": [
    "first = (\n",
    "    (pl.col(\"시군구_코드\") == \"36110\")\n",
    "    & (pl.col(\"법정동_코드\") == \"10600\")\n",
    "    & (pl.col(\"대지_구분_코드\") == \"0\")\n",
    "    & (pl.col(\"번\") == \"0939\")\n",
    "    & (pl.col(\"지\") == \"0000\")\n",
    ")\n"
   ]
  },
  {
   "cell_type": "code",
   "execution_count": 72,
   "metadata": {},
   "outputs": [
    {
     "data": {
      "text/html": [
       "<div><style>\n",
       ".dataframe > thead > tr > th,\n",
       ".dataframe > tbody > tr > td {\n",
       "  text-align: right;\n",
       "}\n",
       "</style>\n",
       "<small>shape: (5, 11)</small><table border=\"1\" class=\"dataframe\"><thead><tr><th>관리_주택대장_PK</th><th>철거_멸실_구분_코드</th><th>철거_멸실_구분_코드_명</th><th>철거_시작_일</th><th>철거_종료_일</th><th>철거_멸실_일</th><th>승인_일</th><th>착공_예정_일</th><th>착공_일</th><th>사용_검사_예정_일</th><th>사용_검사_일</th></tr><tr><td>str</td><td>str</td><td>str</td><td>str</td><td>str</td><td>str</td><td>str</td><td>str</td><td>str</td><td>str</td><td>str</td></tr></thead><tbody><tr><td>&quot;36110-50000026…</td><td>null</td><td>null</td><td>null</td><td>null</td><td>null</td><td>&quot;20170914&quot;</td><td>null</td><td>null</td><td>null</td><td>null</td></tr><tr><td>&quot;36110-50000039…</td><td>null</td><td>null</td><td>null</td><td>null</td><td>null</td><td>&quot;20181012&quot;</td><td>null</td><td>null</td><td>null</td><td>&quot;20181120&quot;</td></tr><tr><td>&quot;36110-50000049…</td><td>null</td><td>null</td><td>null</td><td>null</td><td>null</td><td>&quot;20191129&quot;</td><td>null</td><td>null</td><td>&quot;20191225&quot;</td><td>&quot;20191218&quot;</td></tr><tr><td>&quot;36110-50000061…</td><td>null</td><td>null</td><td>null</td><td>null</td><td>null</td><td>&quot;20201211&quot;</td><td>null</td><td>null</td><td>&quot;20201230&quot;</td><td>&quot;20210105&quot;</td></tr><tr><td>&quot;36110-50000062…</td><td>null</td><td>null</td><td>null</td><td>null</td><td>null</td><td>&quot;20210105&quot;</td><td>null</td><td>null</td><td>&quot;20210205&quot;</td><td>&quot;20210513&quot;</td></tr></tbody></table></div>"
      ],
      "text/plain": [
       "shape: (5, 11)\n",
       "┌────────────┬────────────┬────────────┬────────────┬───┬────────────┬──────────┬────────────┬────────────┐\n",
       "│ 관리_주택  ┆ 철거_멸실_ ┆ 철거_멸실_ ┆ 철거_시작_ ┆ … ┆ 착공_예정_ ┆ 착공_일  ┆ 사용_검사_ ┆ 사용_검사_ │\n",
       "│ 대장_PK    ┆ 구분_코드  ┆ 구분_코드_ ┆ 일         ┆   ┆ 일         ┆ ---      ┆ 예정_일    ┆ 일         │\n",
       "│ ---        ┆ ---        ┆ 명         ┆ ---        ┆   ┆ ---        ┆ str      ┆ ---        ┆ ---        │\n",
       "│ str        ┆ str        ┆ ---        ┆ str        ┆   ┆ str        ┆          ┆ str        ┆ str        │\n",
       "│            ┆            ┆ str        ┆            ┆   ┆            ┆          ┆            ┆            │\n",
       "╞════════════╪════════════╪════════════╪════════════╪═══╪════════════╪══════════╪════════════╪════════════╡\n",
       "│ 36110-5000 ┆ null       ┆ null       ┆ null       ┆ … ┆ null       ┆ null     ┆ null       ┆ null       │\n",
       "│ 002622     ┆            ┆            ┆            ┆   ┆            ┆          ┆            ┆            │\n",
       "│ 36110-5000 ┆ null       ┆ null       ┆ null       ┆ … ┆ null       ┆ null     ┆ null       ┆ 20181120   │\n",
       "│ 003962     ┆            ┆            ┆            ┆   ┆            ┆          ┆            ┆            │\n",
       "│ 36110-5000 ┆ null       ┆ null       ┆ null       ┆ … ┆ null       ┆ null     ┆ 20191225   ┆ 20191218   │\n",
       "│ 004982     ┆            ┆            ┆            ┆   ┆            ┆          ┆            ┆            │\n",
       "│ 36110-5000 ┆ null       ┆ null       ┆ null       ┆ … ┆ null       ┆ null     ┆ 20201230   ┆ 20210105   │\n",
       "│ 006162     ┆            ┆            ┆            ┆   ┆            ┆          ┆            ┆            │\n",
       "│ 36110-5000 ┆ null       ┆ null       ┆ null       ┆ … ┆ null       ┆ null     ┆ 20210205   ┆ 20210513   │\n",
       "│ 006242     ┆            ┆            ┆            ┆   ┆            ┆          ┆            ┆            │\n",
       "└────────────┴────────────┴────────────┴────────────┴───┴────────────┴──────────┴────────────┴────────────┘"
      ]
     },
     "execution_count": 72,
     "metadata": {},
     "output_type": "execute_result"
    }
   ],
   "source": [
    "df_master_housing.filter(first).select(cols_master_housing).collect()\n"
   ]
  },
  {
   "cell_type": "code",
   "execution_count": 73,
   "metadata": {},
   "outputs": [
    {
     "data": {
      "text/html": [
       "<div><style>\n",
       ".dataframe > thead > tr > th,\n",
       ".dataframe > tbody > tr > td {\n",
       "  text-align: right;\n",
       "}\n",
       "</style>\n",
       "<small>shape: (1, 6)</small><table border=\"1\" class=\"dataframe\"><thead><tr><th>관리_동별_개요_PK</th><th>관리_주택대장_PK</th><th>건물_명</th><th>동명</th><th>구조_코드</th><th>구조_코드_명</th></tr><tr><td>str</td><td>str</td><td>str</td><td>str</td><td>str</td><td>str</td></tr></thead><tbody><tr><td>&quot;36110-50000068…</td><td>&quot;36110-50000039…</td><td>null</td><td>&quot;지하주차장&quot;</td><td>&quot;21&quot;</td><td>&quot;철근콘크리트구조&quot;</td></tr></tbody></table></div>"
      ],
      "text/plain": [
       "shape: (1, 6)\n",
       "┌───────────────────┬──────────────────┬──────────┬────────────┬────────────┬──────────────────┐\n",
       "│ 관리_동별_개요_PK ┆ 관리_주택대장_PK ┆ 건물_명  ┆ 동명       ┆ 구조_코드  ┆ 구조_코드_명     │\n",
       "│ ---               ┆ ---              ┆ ---      ┆ ---        ┆ ---        ┆ ---              │\n",
       "│ str               ┆ str              ┆ str      ┆ str        ┆ str        ┆ str              │\n",
       "╞═══════════════════╪══════════════════╪══════════╪════════════╪════════════╪══════════════════╡\n",
       "│ 36110-5000006821  ┆ 36110-5000003962 ┆ null     ┆ 지하주차장 ┆ 21         ┆ 철근콘크리트구조 │\n",
       "└───────────────────┴──────────────────┴──────────┴────────────┴────────────┴──────────────────┘"
      ]
     },
     "execution_count": 73,
     "metadata": {},
     "output_type": "execute_result"
    }
   ],
   "source": [
    "df_dong_housing.filter(first).select(cols_dong_housing).collect()\n"
   ]
  },
  {
   "cell_type": "code",
   "execution_count": 74,
   "metadata": {},
   "outputs": [
    {
     "data": {
      "text/plain": [
       "['36110-5000002622',\n",
       " '36110-5000003962',\n",
       " '36110-5000004982',\n",
       " '36110-5000006162',\n",
       " '36110-5000006242']"
      ]
     },
     "execution_count": 74,
     "metadata": {},
     "output_type": "execute_result"
    }
   ],
   "source": [
    "first_master_pk = (\n",
    "    df_master_housing.filter(first).select(\"관리_주택대장_PK\").collect().to_series().to_list()\n",
    ")\n",
    "first_master_pk\n"
   ]
  },
  {
   "cell_type": "code",
   "execution_count": 75,
   "metadata": {},
   "outputs": [
    {
     "data": {
      "text/html": [
       "<div><style>\n",
       ".dataframe > thead > tr > th,\n",
       ".dataframe > tbody > tr > td {\n",
       "  text-align: right;\n",
       "}\n",
       "</style>\n",
       "<small>shape: (1, 6)</small><table border=\"1\" class=\"dataframe\"><thead><tr><th>관리_동별_개요_PK</th><th>관리_주택대장_PK</th><th>건물_명</th><th>동명</th><th>구조_코드</th><th>구조_코드_명</th></tr><tr><td>str</td><td>str</td><td>str</td><td>str</td><td>str</td><td>str</td></tr></thead><tbody><tr><td>&quot;36110-50000068…</td><td>&quot;36110-50000039…</td><td>null</td><td>&quot;지하주차장&quot;</td><td>&quot;21&quot;</td><td>&quot;철근콘크리트구조&quot;</td></tr></tbody></table></div>"
      ],
      "text/plain": [
       "shape: (1, 6)\n",
       "┌───────────────────┬──────────────────┬──────────┬────────────┬────────────┬──────────────────┐\n",
       "│ 관리_동별_개요_PK ┆ 관리_주택대장_PK ┆ 건물_명  ┆ 동명       ┆ 구조_코드  ┆ 구조_코드_명     │\n",
       "│ ---               ┆ ---              ┆ ---      ┆ ---        ┆ ---        ┆ ---              │\n",
       "│ str               ┆ str              ┆ str      ┆ str        ┆ str        ┆ str              │\n",
       "╞═══════════════════╪══════════════════╪══════════╪════════════╪════════════╪══════════════════╡\n",
       "│ 36110-5000006821  ┆ 36110-5000003962 ┆ null     ┆ 지하주차장 ┆ 21         ┆ 철근콘크리트구조 │\n",
       "└───────────────────┴──────────────────┴──────────┴────────────┴────────────┴──────────────────┘"
      ]
     },
     "execution_count": 75,
     "metadata": {},
     "output_type": "execute_result"
    }
   ],
   "source": [
    "df_dong_housing.filter(pl.col(\"관리_주택대장_PK\").is_in(first_master_pk)).select(\n",
    "    cols_dong_housing\n",
    ").collect()\n"
   ]
  },
  {
   "attachments": {},
   "cell_type": "markdown",
   "metadata": {},
   "source": [
    "똑같은데?"
   ]
  },
  {
   "cell_type": "code",
   "execution_count": 76,
   "metadata": {},
   "outputs": [
    {
     "data": {
      "text/html": [
       "<div><style>\n",
       ".dataframe > thead > tr > th,\n",
       ".dataframe > tbody > tr > td {\n",
       "  text-align: right;\n",
       "}\n",
       "</style>\n",
       "<small>shape: (0, 10)</small><table border=\"1\" class=\"dataframe\"><thead><tr><th>관리_층별_개요_PK</th><th>관리_동별_개요_PK</th><th>시군구_코드</th><th>동명</th><th>층_번호</th><th>층_구분_코드</th><th>층_구분_코드_명</th><th>층_면적(㎡)</th><th>용도_코드</th><th>용도_코드_명</th></tr><tr><td>str</td><td>str</td><td>str</td><td>str</td><td>i64</td><td>str</td><td>str</td><td>f64</td><td>str</td><td>str</td></tr></thead><tbody></tbody></table></div>"
      ],
      "text/plain": [
       "shape: (0, 10)\n",
       "┌────────────┬────────────┬────────────┬──────┬───┬────────────┬────────────┬────────────┬────────────┐\n",
       "│ 관리_층별_ ┆ 관리_동별_ ┆ 시군구_코  ┆ 동명 ┆ … ┆ 층_구분_코 ┆ 층_면적(㎡ ┆ 용도_코드  ┆ 용도_코드_ │\n",
       "│ 개요_PK    ┆ 개요_PK    ┆ 드         ┆ ---  ┆   ┆ 드_명      ┆ )          ┆ ---        ┆ 명         │\n",
       "│ ---        ┆ ---        ┆ ---        ┆ str  ┆   ┆ ---        ┆ ---        ┆ str        ┆ ---        │\n",
       "│ str        ┆ str        ┆ str        ┆      ┆   ┆ str        ┆ f64        ┆            ┆ str        │\n",
       "╞════════════╪════════════╪════════════╪══════╪═══╪════════════╪════════════╪════════════╪════════════╡\n",
       "└────────────┴────────────┴────────────┴──────┴───┴────────────┴────────────┴────────────┴────────────┘"
      ]
     },
     "execution_count": 76,
     "metadata": {},
     "output_type": "execute_result"
    }
   ],
   "source": [
    "df_floor_housing.filter(first).select(cols_floor_housing).collect()\n"
   ]
  },
  {
   "cell_type": "code",
   "execution_count": 77,
   "metadata": {},
   "outputs": [
    {
     "data": {
      "text/plain": [
       "['36110-5000006821']"
      ]
     },
     "execution_count": 77,
     "metadata": {},
     "output_type": "execute_result"
    }
   ],
   "source": [
    "first_dong_pk = (\n",
    "    df_dong_housing.filter(first).select(\"관리_동별_개요_PK\").collect().to_series().to_list()\n",
    ")\n",
    "first_dong_pk\n"
   ]
  },
  {
   "cell_type": "code",
   "execution_count": 78,
   "metadata": {},
   "outputs": [
    {
     "data": {
      "text/html": [
       "<div><style>\n",
       ".dataframe > thead > tr > th,\n",
       ".dataframe > tbody > tr > td {\n",
       "  text-align: right;\n",
       "}\n",
       "</style>\n",
       "<small>shape: (0, 10)</small><table border=\"1\" class=\"dataframe\"><thead><tr><th>관리_층별_개요_PK</th><th>관리_동별_개요_PK</th><th>시군구_코드</th><th>동명</th><th>층_번호</th><th>층_구분_코드</th><th>층_구분_코드_명</th><th>층_면적(㎡)</th><th>용도_코드</th><th>용도_코드_명</th></tr><tr><td>str</td><td>str</td><td>str</td><td>str</td><td>i64</td><td>str</td><td>str</td><td>f64</td><td>str</td><td>str</td></tr></thead><tbody></tbody></table></div>"
      ],
      "text/plain": [
       "shape: (0, 10)\n",
       "┌────────────┬────────────┬────────────┬──────┬───┬────────────┬────────────┬────────────┬────────────┐\n",
       "│ 관리_층별_ ┆ 관리_동별_ ┆ 시군구_코  ┆ 동명 ┆ … ┆ 층_구분_코 ┆ 층_면적(㎡ ┆ 용도_코드  ┆ 용도_코드_ │\n",
       "│ 개요_PK    ┆ 개요_PK    ┆ 드         ┆ ---  ┆   ┆ 드_명      ┆ )          ┆ ---        ┆ 명         │\n",
       "│ ---        ┆ ---        ┆ ---        ┆ str  ┆   ┆ ---        ┆ ---        ┆ str        ┆ ---        │\n",
       "│ str        ┆ str        ┆ str        ┆      ┆   ┆ str        ┆ f64        ┆            ┆ str        │\n",
       "╞════════════╪════════════╪════════════╪══════╪═══╪════════════╪════════════╪════════════╪════════════╡\n",
       "└────────────┴────────────┴────────────┴──────┴───┴────────────┴────────────┴────────────┴────────────┘"
      ]
     },
     "execution_count": 78,
     "metadata": {},
     "output_type": "execute_result"
    }
   ],
   "source": [
    "df_floor_housing.filter(pl.col(\"관리_동별_개요_PK\").is_in(first_dong_pk)).select(\n",
    "    cols_floor_housing\n",
    ").collect()\n"
   ]
  },
  {
   "attachments": {},
   "cell_type": "markdown",
   "metadata": {},
   "source": [
    "똑같은데??? 없는데?????"
   ]
  },
  {
   "cell_type": "code",
   "execution_count": 79,
   "metadata": {},
   "outputs": [
    {
     "data": {
      "text/html": [
       "<div><style>\n",
       ".dataframe > thead > tr > th,\n",
       ".dataframe > tbody > tr > td {\n",
       "  text-align: right;\n",
       "}\n",
       "</style>\n",
       "<small>shape: (0, 4)</small><table border=\"1\" class=\"dataframe\"><thead><tr><th>관리_동별_개요_PK</th><th>관리_허가대장_PK</th><th>구조_코드</th><th>구조_코드_명</th></tr><tr><td>str</td><td>str</td><td>str</td><td>str</td></tr></thead><tbody></tbody></table></div>"
      ],
      "text/plain": [
       "shape: (0, 4)\n",
       "┌───────────────────┬──────────────────┬────────────┬──────────────┐\n",
       "│ 관리_동별_개요_PK ┆ 관리_허가대장_PK ┆ 구조_코드  ┆ 구조_코드_명 │\n",
       "│ ---               ┆ ---              ┆ ---        ┆ ---          │\n",
       "│ str               ┆ str              ┆ str        ┆ str          │\n",
       "╞═══════════════════╪══════════════════╪════════════╪══════════════╡\n",
       "└───────────────────┴──────────────────┴────────────┴──────────────┘"
      ]
     },
     "execution_count": 79,
     "metadata": {},
     "output_type": "execute_result"
    }
   ],
   "source": [
    "df_dong_building.filter(first).select(cols_dong_building).collect()\n"
   ]
  },
  {
   "cell_type": "code",
   "execution_count": 80,
   "metadata": {},
   "outputs": [
    {
     "data": {
      "text/html": [
       "<div><style>\n",
       ".dataframe > thead > tr > th,\n",
       ".dataframe > tbody > tr > td {\n",
       "  text-align: right;\n",
       "}\n",
       "</style>\n",
       "<small>shape: (0, 12)</small><table border=\"1\" class=\"dataframe\"><thead><tr><th>관리_층별_개요_PK</th><th>관리_동별_개요_PK</th><th>관리_허가대장_PK</th><th>시군구_코드</th><th>주_용도_코드</th><th>주_용도_코드_명</th><th>층_번호</th><th>층_면적(㎡)</th><th>층_구분_코드</th><th>층_구분_코드_명</th><th>건축_구분_코드</th><th>건축_구분_코드_명</th></tr><tr><td>str</td><td>str</td><td>str</td><td>str</td><td>str</td><td>str</td><td>i64</td><td>f64</td><td>str</td><td>str</td><td>str</td><td>str</td></tr></thead><tbody></tbody></table></div>"
      ],
      "text/plain": [
       "shape: (0, 12)\n",
       "┌────────────┬────────────┬────────────┬────────────┬───┬────────────┬────────────┬────────────┬────────────┐\n",
       "│ 관리_층별_ ┆ 관리_동별_ ┆ 관리_허가  ┆ 시군구_코  ┆ … ┆ 층_구분_코 ┆ 층_구분_코 ┆ 건축_구분_ ┆ 건축_구분_ │\n",
       "│ 개요_PK    ┆ 개요_PK    ┆ 대장_PK    ┆ 드         ┆   ┆ 드         ┆ 드_명      ┆ 코드       ┆ 코드_명    │\n",
       "│ ---        ┆ ---        ┆ ---        ┆ ---        ┆   ┆ ---        ┆ ---        ┆ ---        ┆ ---        │\n",
       "│ str        ┆ str        ┆ str        ┆ str        ┆   ┆ str        ┆ str        ┆ str        ┆ str        │\n",
       "╞════════════╪════════════╪════════════╪════════════╪═══╪════════════╪════════════╪════════════╪════════════╡\n",
       "└────────────┴────────────┴────────────┴────────────┴───┴────────────┴────────────┴────────────┴────────────┘"
      ]
     },
     "execution_count": 80,
     "metadata": {},
     "output_type": "execute_result"
    }
   ],
   "source": [
    "df_floor_building.filter(first).select(cols_floor_building).collect()\n"
   ]
  },
  {
   "attachments": {},
   "cell_type": "markdown",
   "metadata": {},
   "source": [
    "건축인허가대장에도 없긴 마찬가진데..."
   ]
  },
  {
   "cell_type": "code",
   "execution_count": 131,
   "metadata": {},
   "outputs": [
    {
     "data": {
      "text/html": [
       "<div><style>\n",
       ".dataframe > thead > tr > th,\n",
       ".dataframe > tbody > tr > td {\n",
       "  text-align: right;\n",
       "}\n",
       "</style>\n",
       "<small>shape: (1, 30)</small><table border=\"1\" class=\"dataframe\"><thead><tr><th>관리_주택대장_PK</th><th>대지_위치</th><th>건물_명</th><th>시군구_코드</th><th>법정동_코드</th><th>대지_구분_코드</th><th>번</th><th>지</th><th>특수지_명</th><th>블록</th><th>로트</th><th>용도_코드</th><th>용도_코드_명</th><th>구조_코드</th><th>구조_코드_명</th><th>주_건축물_수</th><th>연면적(㎡)</th><th>총_세대_수(세대)</th><th>철거_멸실_구분_코드</th><th>철거_멸실_구분_코드_명</th><th>철거_시작_일</th><th>철거_종료_일</th><th>철거_멸실_일</th><th>승인_일</th><th>착공_예정_일</th><th>착공_일</th><th>사용_검사_예정_일</th><th>사용_검사_일</th><th>생성_일자</th><th>__null_dask_index__</th></tr><tr><td>str</td><td>str</td><td>str</td><td>str</td><td>str</td><td>str</td><td>str</td><td>str</td><td>str</td><td>str</td><td>str</td><td>str</td><td>str</td><td>str</td><td>str</td><td>i64</td><td>f64</td><td>i64</td><td>str</td><td>str</td><td>str</td><td>str</td><td>str</td><td>str</td><td>str</td><td>str</td><td>str</td><td>str</td><td>str</td><td>i64</td></tr></thead><tbody><tr><td>&quot;36110-10000412…</td><td>&quot;세종특별자치시  나성동 블…</td><td>&quot;첫마을 아파트&quot;</td><td>&quot;36110&quot;</td><td>&quot;10700&quot;</td><td>&quot;2&quot;</td><td>null</td><td>null</td><td>&quot;,송원리 일원(첫마을)&quot;</td><td>&quot;A1 BL&quot;</td><td>null</td><td>&quot;02000&quot;</td><td>&quot;공동주택&quot;</td><td>null</td><td>null</td><td>11</td><td>169706.83</td><td>895</td><td>null</td><td>null</td><td>null</td><td>null</td><td>null</td><td>&quot;20071227&quot;</td><td>&quot;20090301&quot;</td><td>null</td><td>&quot;20111031&quot;</td><td>null</td><td>&quot;20140821&quot;</td><td>133578</td></tr></tbody></table></div>"
      ],
      "text/plain": [
       "shape: (1, 30)\n",
       "┌────────────┬────────────┬──────────┬────────────┬───┬────────────┬────────────┬────────────┬────────────┐\n",
       "│ 관리_주택  ┆ 대지_위치  ┆ 건물_명  ┆ 시군구_코  ┆ … ┆ 사용_검사_ ┆ 사용_검사_ ┆ 생성_일자  ┆ __null_das │\n",
       "│ 대장_PK    ┆ ---        ┆ ---      ┆ 드         ┆   ┆ 예정_일    ┆ 일         ┆ ---        ┆ k_index__  │\n",
       "│ ---        ┆ str        ┆ str      ┆ ---        ┆   ┆ ---        ┆ ---        ┆ str        ┆ ---        │\n",
       "│ str        ┆            ┆          ┆ str        ┆   ┆ str        ┆ str        ┆            ┆ i64        │\n",
       "╞════════════╪════════════╪══════════╪════════════╪═══╪════════════╪════════════╪════════════╪════════════╡\n",
       "│ 36110-1000 ┆ 세종특별자 ┆ 첫마을   ┆ 36110      ┆ … ┆ 20111031   ┆ null       ┆ 20140821   ┆ 133578     │\n",
       "│ 04121      ┆ 치시       ┆ 아파트   ┆            ┆   ┆            ┆            ┆            ┆            │\n",
       "│            ┆ 나성동     ┆          ┆            ┆   ┆            ┆            ┆            ┆            │\n",
       "│            ┆ 블록       ┆          ┆            ┆   ┆            ┆            ┆            ┆            │\n",
       "│            ┆ ,송원리    ┆          ┆            ┆   ┆            ┆            ┆            ┆            │\n",
       "│            ┆ 일원(첫마  ┆          ┆            ┆   ┆            ┆            ┆            ┆            │\n",
       "│            ┆ 을)지구 A… ┆          ┆            ┆   ┆            ┆            ┆            ┆            │\n",
       "└────────────┴────────────┴──────────┴────────────┴───┴────────────┴────────────┴────────────┴────────────┘"
      ]
     },
     "execution_count": 131,
     "metadata": {},
     "output_type": "execute_result"
    }
   ],
   "source": [
    "df_master_housing.filter(pl.col(\"관리_주택대장_PK\").is_in([\"36110-100004121\"])).collect()\n"
   ]
  },
  {
   "cell_type": "code",
   "execution_count": 130,
   "metadata": {},
   "outputs": [
    {
     "data": {
      "text/html": [
       "<div><style>\n",
       ".dataframe > thead > tr > th,\n",
       ".dataframe > tbody > tr > td {\n",
       "  text-align: right;\n",
       "}\n",
       "</style>\n",
       "<small>shape: (28, 6)</small><table border=\"1\" class=\"dataframe\"><thead><tr><th>관리_동별_개요_PK</th><th>관리_주택대장_PK</th><th>건물_명</th><th>동명</th><th>구조_코드</th><th>구조_코드_명</th></tr><tr><td>str</td><td>str</td><td>str</td><td>str</td><td>str</td><td>str</td></tr></thead><tbody><tr><td>&quot;36110-10000396…</td><td>&quot;36110-10000412…</td><td>&quot;첫마을 아파트&quot;</td><td>&quot;101동&quot;</td><td>&quot;21&quot;</td><td>&quot;철근콘크리트구조&quot;</td></tr><tr><td>&quot;36110-10000396…</td><td>&quot;36110-10000412…</td><td>&quot;첫마을 아파트&quot;</td><td>&quot;경로당&quot;</td><td>&quot;21&quot;</td><td>&quot;철근콘크리트구조&quot;</td></tr><tr><td>&quot;36110-10000396…</td><td>&quot;36110-10000412…</td><td>&quot;첫마을 아파트&quot;</td><td>&quot;주민공동시설-3&quot;</td><td>&quot;21&quot;</td><td>&quot;철근콘크리트구조&quot;</td></tr><tr><td>&quot;36110-10000396…</td><td>&quot;36110-10000412…</td><td>&quot;첫마을 아파트&quot;</td><td>&quot;110동&quot;</td><td>&quot;21&quot;</td><td>&quot;철근콘크리트구조&quot;</td></tr><tr><td>&quot;36110-10000396…</td><td>&quot;36110-10000412…</td><td>&quot;첫마을 아파트&quot;</td><td>&quot;주민공동시설-1&quot;</td><td>&quot;21&quot;</td><td>&quot;철근콘크리트구조&quot;</td></tr><tr><td>&quot;36110-10000396…</td><td>&quot;36110-10000412…</td><td>&quot;첫마을 아파트&quot;</td><td>&quot;108동&quot;</td><td>&quot;21&quot;</td><td>&quot;철근콘크리트구조&quot;</td></tr><tr><td>&quot;36110-10000396…</td><td>&quot;36110-10000412…</td><td>&quot;첫마을 아파트&quot;</td><td>&quot;경비실-1&quot;</td><td>&quot;21&quot;</td><td>&quot;철근콘크리트구조&quot;</td></tr><tr><td>&quot;36110-10000396…</td><td>&quot;36110-10000412…</td><td>&quot;첫마을 아파트&quot;</td><td>&quot;근린생활시설&quot;</td><td>&quot;21&quot;</td><td>&quot;철근콘크리트구조&quot;</td></tr><tr><td>&quot;36110-10000396…</td><td>&quot;36110-10000412…</td><td>&quot;첫마을 아파트&quot;</td><td>&quot;109동&quot;</td><td>&quot;21&quot;</td><td>&quot;철근콘크리트구조&quot;</td></tr><tr><td>&quot;36110-10000397…</td><td>&quot;36110-10000412…</td><td>&quot;첫마을 아파트&quot;</td><td>&quot;기계/전기실&quot;</td><td>&quot;21&quot;</td><td>&quot;철근콘크리트구조&quot;</td></tr><tr><td>&quot;36110-10000397…</td><td>&quot;36110-10000412…</td><td>&quot;첫마을 아파트&quot;</td><td>&quot;A1-PARK&quot;</td><td>&quot;21&quot;</td><td>&quot;철근콘크리트구조&quot;</td></tr><tr><td>&quot;36110-10000397…</td><td>&quot;36110-10000412…</td><td>&quot;첫마을 아파트&quot;</td><td>&quot;107동&quot;</td><td>&quot;21&quot;</td><td>&quot;철근콘크리트구조&quot;</td></tr><tr><td>&hellip;</td><td>&hellip;</td><td>&hellip;</td><td>&hellip;</td><td>&hellip;</td><td>&hellip;</td></tr><tr><td>&quot;36110-10000397…</td><td>&quot;36110-10000412…</td><td>&quot;첫마을 아파트&quot;</td><td>&quot;관리사무소&quot;</td><td>&quot;21&quot;</td><td>&quot;철근콘크리트구조&quot;</td></tr><tr><td>&quot;36110-10000397…</td><td>&quot;36110-10000412…</td><td>&quot;첫마을 아파트&quot;</td><td>&quot;문고/독서실&quot;</td><td>&quot;21&quot;</td><td>&quot;철근콘크리트구조&quot;</td></tr><tr><td>&quot;36110-10000397…</td><td>&quot;36110-10000412…</td><td>&quot;첫마을 아파트&quot;</td><td>&quot;경비실-3&quot;</td><td>&quot;21&quot;</td><td>&quot;철근콘크리트구조&quot;</td></tr><tr><td>&quot;36110-10000398…</td><td>&quot;36110-10000412…</td><td>&quot;첫마을 아파트&quot;</td><td>&quot;102동&quot;</td><td>&quot;21&quot;</td><td>&quot;철근콘크리트구조&quot;</td></tr><tr><td>&quot;36110-10000398…</td><td>&quot;36110-10000412…</td><td>&quot;첫마을 아파트&quot;</td><td>&quot;106동&quot;</td><td>&quot;21&quot;</td><td>&quot;철근콘크리트구조&quot;</td></tr><tr><td>&quot;36110-10000398…</td><td>&quot;36110-10000412…</td><td>&quot;첫마을 아파트&quot;</td><td>&quot;경비실-2&quot;</td><td>&quot;21&quot;</td><td>&quot;철근콘크리트구조&quot;</td></tr><tr><td>&quot;36110-10000398…</td><td>&quot;36110-10000412…</td><td>&quot;첫마을 아파트&quot;</td><td>&quot;주민공동시설-2&quot;</td><td>&quot;21&quot;</td><td>&quot;철근콘크리트구조&quot;</td></tr><tr><td>&quot;36110-10000398…</td><td>&quot;36110-10000412…</td><td>&quot;첫마을 아파트&quot;</td><td>&quot;경비실-4&quot;</td><td>&quot;21&quot;</td><td>&quot;철근콘크리트구조&quot;</td></tr><tr><td>&quot;36110-10000398…</td><td>&quot;36110-10000412…</td><td>&quot;첫마을 아파트&quot;</td><td>&quot;111동&quot;</td><td>&quot;21&quot;</td><td>&quot;철근콘크리트구조&quot;</td></tr><tr><td>&quot;36110-10000398…</td><td>&quot;36110-10000412…</td><td>&quot;첫마을 아파트&quot;</td><td>&quot;105동&quot;</td><td>&quot;21&quot;</td><td>&quot;철근콘크리트구조&quot;</td></tr><tr><td>&quot;36110-10000398…</td><td>&quot;36110-10000412…</td><td>&quot;첫마을 아파트&quot;</td><td>&quot;세대공용창고-2&quot;</td><td>&quot;21&quot;</td><td>&quot;철근콘크리트구조&quot;</td></tr><tr><td>&quot;36110-10000398…</td><td>&quot;36110-10000412…</td><td>&quot;첫마을 아파트&quot;</td><td>&quot;104동&quot;</td><td>&quot;21&quot;</td><td>&quot;철근콘크리트구조&quot;</td></tr></tbody></table></div>"
      ],
      "text/plain": [
       "shape: (28, 6)\n",
       "┌─────────────────┬─────────────────┬───────────────┬────────────────┬────────────┬────────────────┐\n",
       "│ 관리_동별_개요_ ┆ 관리_주택대장_P ┆ 건물_명       ┆ 동명           ┆ 구조_코드  ┆ 구조_코드_명   │\n",
       "│ PK              ┆ K               ┆ ---           ┆ ---            ┆ ---        ┆ ---            │\n",
       "│ ---             ┆ ---             ┆ str           ┆ str            ┆ str        ┆ str            │\n",
       "│ str             ┆ str             ┆               ┆                ┆            ┆                │\n",
       "╞═════════════════╪═════════════════╪═══════════════╪════════════════╪════════════╪════════════════╡\n",
       "│ 36110-100003961 ┆ 36110-100004121 ┆ 첫마을 아파트 ┆ 101동          ┆ 21         ┆ 철근콘크리트구 │\n",
       "│                 ┆                 ┆               ┆                ┆            ┆ 조             │\n",
       "│ 36110-100003962 ┆ 36110-100004121 ┆ 첫마을 아파트 ┆ 경로당         ┆ 21         ┆ 철근콘크리트구 │\n",
       "│                 ┆                 ┆               ┆                ┆            ┆ 조             │\n",
       "│ 36110-100003963 ┆ 36110-100004121 ┆ 첫마을 아파트 ┆ 주민공동시설-3 ┆ 21         ┆ 철근콘크리트구 │\n",
       "│                 ┆                 ┆               ┆                ┆            ┆ 조             │\n",
       "│ 36110-100003964 ┆ 36110-100004121 ┆ 첫마을 아파트 ┆ 110동          ┆ 21         ┆ 철근콘크리트구 │\n",
       "│                 ┆                 ┆               ┆                ┆            ┆ 조             │\n",
       "│ …               ┆ …               ┆ …             ┆ …              ┆ …          ┆ …              │\n",
       "│ 36110-100003985 ┆ 36110-100004121 ┆ 첫마을 아파트 ┆ 111동          ┆ 21         ┆ 철근콘크리트구 │\n",
       "│                 ┆                 ┆               ┆                ┆            ┆ 조             │\n",
       "│ 36110-100003986 ┆ 36110-100004121 ┆ 첫마을 아파트 ┆ 105동          ┆ 21         ┆ 철근콘크리트구 │\n",
       "│                 ┆                 ┆               ┆                ┆            ┆ 조             │\n",
       "│ 36110-100003987 ┆ 36110-100004121 ┆ 첫마을 아파트 ┆ 세대공용창고-2 ┆ 21         ┆ 철근콘크리트구 │\n",
       "│                 ┆                 ┆               ┆                ┆            ┆ 조             │\n",
       "│ 36110-100003988 ┆ 36110-100004121 ┆ 첫마을 아파트 ┆ 104동          ┆ 21         ┆ 철근콘크리트구 │\n",
       "│                 ┆                 ┆               ┆                ┆            ┆ 조             │\n",
       "└─────────────────┴─────────────────┴───────────────┴────────────────┴────────────┴────────────────┘"
      ]
     },
     "execution_count": 130,
     "metadata": {},
     "output_type": "execute_result"
    }
   ],
   "source": [
    "df_dong_housing.filter(pl.col(\"관리_주택대장_PK\").is_in([\"36110-100004121\"])).select(\n",
    "    cols_dong_housing\n",
    ").collect()\n"
   ]
  },
  {
   "attachments": {},
   "cell_type": "markdown",
   "metadata": {},
   "source": [
    "주소가... 바뀌었구나"
   ]
  },
  {
   "cell_type": "code",
   "execution_count": 89,
   "metadata": {},
   "outputs": [],
   "source": [
    "df_result_housing = (\n",
    "    df_master_housing.select(cols_master_housing)\n",
    "    .filter(  # 2022년까지 데이터만\n",
    "        (pl.col(\"승인_일\").str.lengths() == 8) & (pl.col(\"승인_일\") <= \"20221231\")\n",
    "    )\n",
    "    .join(df_dong_housing.select(cols_dong_housing), \"관리_주택대장_PK\", suffix=\"_dong\")\n",
    "    .join(df_floor_housing.select(cols_floor_housing), \"관리_동별_개요_PK\", suffix=\"_floor\")\n",
    ")\n"
   ]
  },
  {
   "cell_type": "code",
   "execution_count": 90,
   "metadata": {},
   "outputs": [
    {
     "data": {
      "text/html": [
       "<div><style>\n",
       ".dataframe > thead > tr > th,\n",
       ".dataframe > tbody > tr > td {\n",
       "  text-align: right;\n",
       "}\n",
       "</style>\n",
       "<small>shape: (5, 25)</small><table border=\"1\" class=\"dataframe\"><thead><tr><th>관리_주택대장_PK</th><th>철거_멸실_구분_코드</th><th>철거_멸실_구분_코드_명</th><th>철거_시작_일</th><th>철거_종료_일</th><th>철거_멸실_일</th><th>승인_일</th><th>착공_예정_일</th><th>착공_일</th><th>사용_검사_예정_일</th><th>사용_검사_일</th><th>관리_동별_개요_PK</th><th>건물_명</th><th>동명</th><th>구조_코드</th><th>구조_코드_명</th><th>관리_층별_개요_PK</th><th>시군구_코드</th><th>동명_floor</th><th>층_번호</th><th>층_구분_코드</th><th>층_구분_코드_명</th><th>층_면적(㎡)</th><th>용도_코드</th><th>용도_코드_명</th></tr><tr><td>str</td><td>str</td><td>str</td><td>str</td><td>str</td><td>str</td><td>str</td><td>str</td><td>str</td><td>str</td><td>str</td><td>str</td><td>str</td><td>str</td><td>str</td><td>str</td><td>str</td><td>str</td><td>str</td><td>i64</td><td>str</td><td>str</td><td>f64</td><td>str</td><td>str</td></tr></thead><tbody><tr><td>&quot;45130-10000429…</td><td>null</td><td>null</td><td>null</td><td>null</td><td>null</td><td>&quot;20071031&quot;</td><td>&quot;20081023&quot;</td><td>null</td><td>&quot;20110331&quot;</td><td>&quot;20110331&quot;</td><td>&quot;45130-10000368…</td><td>&quot;수송2차 오투그란데&quot;</td><td>&quot;708동&quot;</td><td>&quot;21&quot;</td><td>&quot;철근콘크리트구조&quot;</td><td>&quot;45130-10000879…</td><td>&quot;45130&quot;</td><td>&quot;708동&quot;</td><td>16</td><td>&quot;20&quot;</td><td>&quot;지상&quot;</td><td>328.9408</td><td>&quot;02001&quot;</td><td>&quot;아파트&quot;</td></tr><tr><td>&quot;45130-10000429…</td><td>null</td><td>null</td><td>null</td><td>null</td><td>null</td><td>&quot;20071031&quot;</td><td>&quot;20081023&quot;</td><td>null</td><td>&quot;20110331&quot;</td><td>&quot;20110331&quot;</td><td>&quot;45130-10000368…</td><td>&quot;수송2차 오투그란데&quot;</td><td>&quot;708동&quot;</td><td>&quot;21&quot;</td><td>&quot;철근콘크리트구조&quot;</td><td>&quot;45130-10000879…</td><td>&quot;45130&quot;</td><td>&quot;708동&quot;</td><td>17</td><td>&quot;20&quot;</td><td>&quot;지상&quot;</td><td>264.54</td><td>&quot;02001&quot;</td><td>&quot;아파트&quot;</td></tr><tr><td>&quot;45130-10000429…</td><td>null</td><td>null</td><td>null</td><td>null</td><td>null</td><td>&quot;20071031&quot;</td><td>&quot;20081023&quot;</td><td>null</td><td>&quot;20110331&quot;</td><td>&quot;20110331&quot;</td><td>&quot;45130-10000368…</td><td>&quot;수송2차 오투그란데&quot;</td><td>&quot;708동&quot;</td><td>&quot;21&quot;</td><td>&quot;철근콘크리트구조&quot;</td><td>&quot;45130-10000880…</td><td>&quot;45130&quot;</td><td>&quot;708동&quot;</td><td>18</td><td>&quot;20&quot;</td><td>&quot;지상&quot;</td><td>264.54</td><td>&quot;02001&quot;</td><td>&quot;아파트&quot;</td></tr><tr><td>&quot;45130-10000429…</td><td>null</td><td>null</td><td>null</td><td>null</td><td>null</td><td>&quot;20071031&quot;</td><td>&quot;20081023&quot;</td><td>null</td><td>&quot;20110331&quot;</td><td>&quot;20110331&quot;</td><td>&quot;45130-10000368…</td><td>&quot;수송2차 오투그란데&quot;</td><td>&quot;708동&quot;</td><td>&quot;21&quot;</td><td>&quot;철근콘크리트구조&quot;</td><td>&quot;45130-10000880…</td><td>&quot;45130&quot;</td><td>&quot;708동&quot;</td><td>19</td><td>&quot;20&quot;</td><td>&quot;지상&quot;</td><td>264.54</td><td>&quot;02001&quot;</td><td>&quot;아파트&quot;</td></tr><tr><td>&quot;45130-10000429…</td><td>null</td><td>null</td><td>null</td><td>null</td><td>null</td><td>&quot;20071031&quot;</td><td>&quot;20081023&quot;</td><td>null</td><td>&quot;20110331&quot;</td><td>&quot;20110331&quot;</td><td>&quot;45130-10000368…</td><td>&quot;수송2차 오투그란데&quot;</td><td>&quot;708동&quot;</td><td>&quot;21&quot;</td><td>&quot;철근콘크리트구조&quot;</td><td>&quot;45130-10000880…</td><td>&quot;45130&quot;</td><td>&quot;708동&quot;</td><td>20</td><td>&quot;20&quot;</td><td>&quot;지상&quot;</td><td>264.54</td><td>&quot;02001&quot;</td><td>&quot;아파트&quot;</td></tr></tbody></table></div>"
      ],
      "text/plain": [
       "shape: (5, 25)\n",
       "┌────────────┬────────────┬────────────┬────────────┬───┬────────────┬────────────┬────────────┬────────────┐\n",
       "│ 관리_주택  ┆ 철거_멸실_ ┆ 철거_멸실_ ┆ 철거_시작_ ┆ … ┆ 층_구분_코 ┆ 층_면적(㎡ ┆ 용도_코드  ┆ 용도_코드_ │\n",
       "│ 대장_PK    ┆ 구분_코드  ┆ 구분_코드_ ┆ 일         ┆   ┆ 드_명      ┆ )          ┆ ---        ┆ 명         │\n",
       "│ ---        ┆ ---        ┆ 명         ┆ ---        ┆   ┆ ---        ┆ ---        ┆ str        ┆ ---        │\n",
       "│ str        ┆ str        ┆ ---        ┆ str        ┆   ┆ str        ┆ f64        ┆            ┆ str        │\n",
       "│            ┆            ┆ str        ┆            ┆   ┆            ┆            ┆            ┆            │\n",
       "╞════════════╪════════════╪════════════╪════════════╪═══╪════════════╪════════════╪════════════╪════════════╡\n",
       "│ 45130-1000 ┆ null       ┆ null       ┆ null       ┆ … ┆ 지상       ┆ 328.9408   ┆ 02001      ┆ 아파트     │\n",
       "│ 04295      ┆            ┆            ┆            ┆   ┆            ┆            ┆            ┆            │\n",
       "│ 45130-1000 ┆ null       ┆ null       ┆ null       ┆ … ┆ 지상       ┆ 264.54     ┆ 02001      ┆ 아파트     │\n",
       "│ 04295      ┆            ┆            ┆            ┆   ┆            ┆            ┆            ┆            │\n",
       "│ 45130-1000 ┆ null       ┆ null       ┆ null       ┆ … ┆ 지상       ┆ 264.54     ┆ 02001      ┆ 아파트     │\n",
       "│ 04295      ┆            ┆            ┆            ┆   ┆            ┆            ┆            ┆            │\n",
       "│ 45130-1000 ┆ null       ┆ null       ┆ null       ┆ … ┆ 지상       ┆ 264.54     ┆ 02001      ┆ 아파트     │\n",
       "│ 04295      ┆            ┆            ┆            ┆   ┆            ┆            ┆            ┆            │\n",
       "│ 45130-1000 ┆ null       ┆ null       ┆ null       ┆ … ┆ 지상       ┆ 264.54     ┆ 02001      ┆ 아파트     │\n",
       "│ 04295      ┆            ┆            ┆            ┆   ┆            ┆            ┆            ┆            │\n",
       "└────────────┴────────────┴────────────┴────────────┴───┴────────────┴────────────┴────────────┴────────────┘"
      ]
     },
     "execution_count": 90,
     "metadata": {},
     "output_type": "execute_result"
    }
   ],
   "source": [
    "df_result_housing.head().collect()\n"
   ]
  },
  {
   "cell_type": "code",
   "execution_count": 125,
   "metadata": {},
   "outputs": [],
   "source": [
    "df_permit_housing = agg_by_yearmonth(df_result_housing, \"승인_일\", \"층_면적(㎡)\")\n",
    "df_groundbreaking_housing = agg_by_yearmonth(df_result_housing, \"착공_일\", \"층_면적(㎡)\")\n",
    "df_completion_housing = agg_by_yearmonth(df_result_housing, \"사용_검사_일\", \"층_면적(㎡)\")\n"
   ]
  },
  {
   "cell_type": "code",
   "execution_count": 115,
   "metadata": {},
   "outputs": [
    {
     "data": {
      "text/html": [
       "<div><style>\n",
       ".dataframe > thead > tr > th,\n",
       ".dataframe > tbody > tr > td {\n",
       "  text-align: right;\n",
       "}\n",
       "</style>\n",
       "<small>shape: (12, 2)</small><table border=\"1\" class=\"dataframe\"><thead><tr><th>연월</th><th>면적</th></tr><tr><td>str</td><td>f64</td></tr></thead><tbody><tr><td>&quot;202201&quot;</td><td>6.1172e6</td></tr><tr><td>&quot;202202&quot;</td><td>4.1392e6</td></tr><tr><td>&quot;202203&quot;</td><td>5.6843e6</td></tr><tr><td>&quot;202204&quot;</td><td>8.1688e6</td></tr><tr><td>&quot;202205&quot;</td><td>1.5695e7</td></tr><tr><td>&quot;202206&quot;</td><td>6.7948e6</td></tr><tr><td>&quot;202207&quot;</td><td>6.7229e6</td></tr><tr><td>&quot;202208&quot;</td><td>4.6275e7</td></tr><tr><td>&quot;202209&quot;</td><td>5.5424e6</td></tr><tr><td>&quot;202210&quot;</td><td>7.0306e7</td></tr><tr><td>&quot;202211&quot;</td><td>5.8955e6</td></tr><tr><td>&quot;202212&quot;</td><td>7.3549e6</td></tr></tbody></table></div>"
      ],
      "text/plain": [
       "shape: (12, 2)\n",
       "┌────────┬──────────┐\n",
       "│ 연월   ┆ 면적     │\n",
       "│ ---    ┆ ---      │\n",
       "│ str    ┆ f64      │\n",
       "╞════════╪══════════╡\n",
       "│ 202201 ┆ 6.1172e6 │\n",
       "│ 202202 ┆ 4.1392e6 │\n",
       "│ 202203 ┆ 5.6843e6 │\n",
       "│ 202204 ┆ 8.1688e6 │\n",
       "│ …      ┆ …        │\n",
       "│ 202209 ┆ 5.5424e6 │\n",
       "│ 202210 ┆ 7.0306e7 │\n",
       "│ 202211 ┆ 5.8955e6 │\n",
       "│ 202212 ┆ 7.3549e6 │\n",
       "└────────┴──────────┘"
      ]
     },
     "execution_count": 115,
     "metadata": {},
     "output_type": "execute_result"
    }
   ],
   "source": [
    "df_permit_housing.filter(pl.col(\"연월\") >= \"202201\")\n"
   ]
  },
  {
   "cell_type": "code",
   "execution_count": 116,
   "metadata": {},
   "outputs": [
    {
     "data": {
      "text/html": [
       "<div><style>\n",
       ".dataframe > thead > tr > th,\n",
       ".dataframe > tbody > tr > td {\n",
       "  text-align: right;\n",
       "}\n",
       "</style>\n",
       "<small>shape: (0, 2)</small><table border=\"1\" class=\"dataframe\"><thead><tr><th>연월</th><th>면적</th></tr><tr><td>str</td><td>f64</td></tr></thead><tbody></tbody></table></div>"
      ],
      "text/plain": [
       "shape: (0, 2)\n",
       "┌──────┬──────┐\n",
       "│ 연월 ┆ 면적 │\n",
       "│ ---  ┆ ---  │\n",
       "│ str  ┆ f64  │\n",
       "╞══════╪══════╡\n",
       "└──────┴──────┘"
      ]
     },
     "execution_count": 116,
     "metadata": {},
     "output_type": "execute_result"
    }
   ],
   "source": [
    "df_groundbreaking_housing.filter(pl.col(\"연월\") >= \"202201\")  #### 1년 동안 착공이 없다고?\n"
   ]
  },
  {
   "cell_type": "code",
   "execution_count": 117,
   "metadata": {},
   "outputs": [
    {
     "data": {
      "text/html": [
       "<div><style>\n",
       ".dataframe > thead > tr > th,\n",
       ".dataframe > tbody > tr > td {\n",
       "  text-align: right;\n",
       "}\n",
       "</style>\n",
       "<small>shape: (12, 2)</small><table border=\"1\" class=\"dataframe\"><thead><tr><th>연월</th><th>면적</th></tr><tr><td>str</td><td>f64</td></tr></thead><tbody><tr><td>&quot;202201&quot;</td><td>3.7825e6</td></tr><tr><td>&quot;202202&quot;</td><td>1.8245e6</td></tr><tr><td>&quot;202203&quot;</td><td>2.8075e6</td></tr><tr><td>&quot;202204&quot;</td><td>4.5424e6</td></tr><tr><td>&quot;202205&quot;</td><td>4.4403e6</td></tr><tr><td>&quot;202206&quot;</td><td>3.7849e6</td></tr><tr><td>&quot;202207&quot;</td><td>3.8513e6</td></tr><tr><td>&quot;202208&quot;</td><td>5.1095e6</td></tr><tr><td>&quot;202209&quot;</td><td>3.6833e7</td></tr><tr><td>&quot;202210&quot;</td><td>6.7656e7</td></tr><tr><td>&quot;202211&quot;</td><td>1.0150e7</td></tr><tr><td>&quot;202212&quot;</td><td>1.4028e7</td></tr></tbody></table></div>"
      ],
      "text/plain": [
       "shape: (12, 2)\n",
       "┌────────┬──────────┐\n",
       "│ 연월   ┆ 면적     │\n",
       "│ ---    ┆ ---      │\n",
       "│ str    ┆ f64      │\n",
       "╞════════╪══════════╡\n",
       "│ 202201 ┆ 3.7825e6 │\n",
       "│ 202202 ┆ 1.8245e6 │\n",
       "│ 202203 ┆ 2.8075e6 │\n",
       "│ 202204 ┆ 4.5424e6 │\n",
       "│ …      ┆ …        │\n",
       "│ 202209 ┆ 3.6833e7 │\n",
       "│ 202210 ┆ 6.7656e7 │\n",
       "│ 202211 ┆ 1.0150e7 │\n",
       "│ 202212 ┆ 1.4028e7 │\n",
       "└────────┴──────────┘"
      ]
     },
     "execution_count": 117,
     "metadata": {},
     "output_type": "execute_result"
    }
   ],
   "source": [
    "df_completion_housing.filter(pl.col(\"연월\") >= \"202201\")\n"
   ]
  },
  {
   "cell_type": "code",
   "execution_count": 126,
   "metadata": {},
   "outputs": [],
   "source": [
    "df_permit = (\n",
    "    pl.concat([df_permit_building, df_permit_housing])\n",
    "    .groupby(\"연월\")\n",
    "    .agg(pl.col(\"면적\").sum().alias(\"인허가\"))\n",
    "    .sort(\"연월\")\n",
    ")\n",
    "df_groundbreaking = (\n",
    "    pl.concat([df_groundbreaking_building, df_groundbreaking_housing])\n",
    "    .groupby(\"연월\")\n",
    "    .agg(pl.col(\"면적\").sum().alias(\"착공\"))\n",
    "    .sort(\"연월\")\n",
    ")\n",
    "df_completion = (\n",
    "    pl.concat([df_completion_building, df_completion_housing])\n",
    "    .groupby(\"연월\")\n",
    "    .agg(pl.col(\"면적\").sum().alias(\"준공\"))\n",
    "    .sort(\"연월\")\n",
    ")\n",
    "df_result = (\n",
    "    df_permit.join(df_groundbreaking, \"연월\", \"outer\")\n",
    "    .join(df_completion, \"연월\", \"outer\")\n",
    "    .sort(\"연월\")\n",
    ")\n"
   ]
  },
  {
   "cell_type": "code",
   "execution_count": 127,
   "metadata": {},
   "outputs": [
    {
     "data": {
      "text/html": [
       "<div><style>\n",
       ".dataframe > thead > tr > th,\n",
       ".dataframe > tbody > tr > td {\n",
       "  text-align: right;\n",
       "}\n",
       "</style>\n",
       "<small>shape: (120, 4)</small><table border=\"1\" class=\"dataframe\"><thead><tr><th>연월</th><th>인허가</th><th>착공</th><th>준공</th></tr><tr><td>str</td><td>f64</td><td>f64</td><td>f64</td></tr></thead><tbody><tr><td>&quot;201301&quot;</td><td>8.5849e6</td><td>4.3207e6</td><td>6.8075e6</td></tr><tr><td>&quot;201302&quot;</td><td>7.8529e6</td><td>5.4231e6</td><td>8.2018e6</td></tr><tr><td>&quot;201303&quot;</td><td>1.0497e7</td><td>6.3643e6</td><td>6.0214e6</td></tr><tr><td>&quot;201304&quot;</td><td>1.0765e7</td><td>7.2707e6</td><td>8.5601e6</td></tr><tr><td>&quot;201305&quot;</td><td>1.3459e7</td><td>7.0361e6</td><td>7.9618e6</td></tr><tr><td>&quot;201306&quot;</td><td>1.3006e7</td><td>6.0840e6</td><td>1.2671e7</td></tr><tr><td>&quot;201307&quot;</td><td>1.3777e7</td><td>6.9213e6</td><td>8.0384e6</td></tr><tr><td>&quot;201308&quot;</td><td>1.2221e7</td><td>6.7267e6</td><td>8.6422e6</td></tr><tr><td>&quot;201309&quot;</td><td>1.1558e7</td><td>5.8024e6</td><td>7.6727e6</td></tr><tr><td>&quot;201310&quot;</td><td>1.1111e7</td><td>7.5256e6</td><td>7.7525e6</td></tr><tr><td>&quot;201311&quot;</td><td>1.1995e7</td><td>6.4547e6</td><td>8.8473e6</td></tr><tr><td>&quot;201312&quot;</td><td>3.3504e7</td><td>5.6303e6</td><td>2.8999e7</td></tr><tr><td>&hellip;</td><td>&hellip;</td><td>&hellip;</td><td>&hellip;</td></tr><tr><td>&quot;202201&quot;</td><td>1.4774e7</td><td>6.0766e6</td><td>1.0251e7</td></tr><tr><td>&quot;202202&quot;</td><td>1.2732e7</td><td>5.1420e6</td><td>6.4660e6</td></tr><tr><td>&quot;202203&quot;</td><td>1.6271e7</td><td>8.9975e6</td><td>8.8718e6</td></tr><tr><td>&quot;202204&quot;</td><td>1.9305e7</td><td>8.4531e6</td><td>1.1314e7</td></tr><tr><td>&quot;202205&quot;</td><td>2.9024e7</td><td>8.2808e6</td><td>1.1048e7</td></tr><tr><td>&quot;202206&quot;</td><td>1.6242e7</td><td>7.3164e6</td><td>1.0217e7</td></tr><tr><td>&quot;202207&quot;</td><td>1.6503e7</td><td>6.6631e6</td><td>9.4171e6</td></tr><tr><td>&quot;202208&quot;</td><td>5.6188e7</td><td>6.7595e6</td><td>1.1236e7</td></tr><tr><td>&quot;202209&quot;</td><td>1.4536e7</td><td>5.5494e6</td><td>4.2630e7</td></tr><tr><td>&quot;202210&quot;</td><td>7.9537e7</td><td>5.4666e6</td><td>7.3828e7</td></tr><tr><td>&quot;202211&quot;</td><td>1.3269e7</td><td>6.1707e6</td><td>1.9009e7</td></tr><tr><td>&quot;202212&quot;</td><td>1.5784e7</td><td>4.8488e6</td><td>2.7231e7</td></tr></tbody></table></div>"
      ],
      "text/plain": [
       "shape: (120, 4)\n",
       "┌────────┬──────────┬──────────┬──────────┐\n",
       "│ 연월   ┆ 인허가   ┆ 착공     ┆ 준공     │\n",
       "│ ---    ┆ ---      ┆ ---      ┆ ---      │\n",
       "│ str    ┆ f64      ┆ f64      ┆ f64      │\n",
       "╞════════╪══════════╪══════════╪══════════╡\n",
       "│ 201301 ┆ 8.5849e6 ┆ 4.3207e6 ┆ 6.8075e6 │\n",
       "│ 201302 ┆ 7.8529e6 ┆ 5.4231e6 ┆ 8.2018e6 │\n",
       "│ 201303 ┆ 1.0497e7 ┆ 6.3643e6 ┆ 6.0214e6 │\n",
       "│ 201304 ┆ 1.0765e7 ┆ 7.2707e6 ┆ 8.5601e6 │\n",
       "│ …      ┆ …        ┆ …        ┆ …        │\n",
       "│ 202209 ┆ 1.4536e7 ┆ 5.5494e6 ┆ 4.2630e7 │\n",
       "│ 202210 ┆ 7.9537e7 ┆ 5.4666e6 ┆ 7.3828e7 │\n",
       "│ 202211 ┆ 1.3269e7 ┆ 6.1707e6 ┆ 1.9009e7 │\n",
       "│ 202212 ┆ 1.5784e7 ┆ 4.8488e6 ┆ 2.7231e7 │\n",
       "└────────┴──────────┴──────────┴──────────┘"
      ]
     },
     "execution_count": 127,
     "metadata": {},
     "output_type": "execute_result"
    }
   ],
   "source": [
    "df_result\n"
   ]
  },
  {
   "cell_type": "code",
   "execution_count": 132,
   "metadata": {},
   "outputs": [],
   "source": [
    "df_result.rename(\n",
    "    {\"연월\": \"yearmonth\", \"인허가\": \"permit\", \"착공\": \"groundbreaking\", \"준공\": \"completion\"}\n",
    ").to_pandas().to_csv(\"output/permit.csv\", encoding=\"utf-8-sig\", index=False)\n"
   ]
  },
  {
   "attachments": {},
   "cell_type": "markdown",
   "metadata": {},
   "source": []
  },
  {
   "attachments": {},
   "cell_type": "markdown",
   "metadata": {},
   "source": []
  },
  {
   "attachments": {},
   "cell_type": "markdown",
   "metadata": {},
   "source": []
  },
  {
   "cell_type": "code",
   "execution_count": 15,
   "metadata": {},
   "outputs": [],
   "source": [
    "sejong = pl.col(\"시군구_코드\").str.starts_with(\"36\")\n"
   ]
  },
  {
   "cell_type": "code",
   "execution_count": 28,
   "metadata": {},
   "outputs": [],
   "source": [
    "df_master_sejong = df_master.filter(sejong)\n",
    "df_dong_sejong = df_dong.filter(sejong)\n",
    "df_floor_sejong = df_floor.filter(sejong)\n"
   ]
  },
  {
   "cell_type": "code",
   "execution_count": null,
   "metadata": {},
   "outputs": [],
   "source": [
    "df_master_sejong.head()\n"
   ]
  },
  {
   "cell_type": "code",
   "execution_count": 31,
   "metadata": {},
   "outputs": [],
   "source": [
    "df_master_sejong_202212 = df_master_sejong.filter(\n",
    "    pl.col(\"건축_허가_일\").str.starts_with(\"202212\")\n",
    ")\n",
    "df_master_sejong_202212 = df_master_sejong_202212.select(\n",
    "    [\n",
    "        \"관리_허가대장_PK\",\n",
    "        \"시군구_코드\",\n",
    "        \"건축_구분_코드\",\n",
    "        \"건축_구분_코드_명\",\n",
    "        \"대지_면적(㎡)\",\n",
    "        \"건축_면적(㎡)\",\n",
    "        \"건폐_율(%)\",\n",
    "        \"연면적(㎡)\",\n",
    "        \"용적_률_산정_연면적(㎡)\",\n",
    "        \"용적_률(%)\",\n",
    "    ]\n",
    ")\n"
   ]
  },
  {
   "cell_type": "code",
   "execution_count": 49,
   "metadata": {},
   "outputs": [],
   "source": [
    "df_dong_sejong_202212 = df_master_sejong_202212.join(df_dong_sejong, \"관리_허가대장_PK\")\n",
    "df_dong_sejong_202212 = df_dong_sejong_202212.select(\n",
    "    [\n",
    "        \"관리_허가대장_PK\",\n",
    "        \"시군구_코드\",\n",
    "        \"건축_구분_코드\",\n",
    "        \"건축_구분_코드_명\",\n",
    "        \"대지_면적(㎡)\",\n",
    "        \"건축_면적(㎡)\",\n",
    "        \"건폐_율(%)\",\n",
    "        \"연면적(㎡)\",\n",
    "        \"용적_률_산정_연면적(㎡)\",\n",
    "        \"용적_률(%)\",\n",
    "        \"관리_동별_개요_PK\",\n",
    "        \"건물_명\",\n",
    "        \"주_부속_구분_코드\",\n",
    "        \"주_부속_구분_코드_명\",\n",
    "        \"주_용도_코드\",\n",
    "        \"주_용도_코드_명\",\n",
    "        \"구조_코드\",\n",
    "        \"구조_코드_명\",\n",
    "        \"지붕_코드\",\n",
    "        \"지붕_코드_명\",\n",
    "        \"건축_면적(㎡)_right\",\n",
    "        \"연면적(㎡)_right\",\n",
    "        \"용적_률_산정_연면적(㎡)_right\",\n",
    "    ]\n",
    ")\n",
    "df_dong_sejong_202212 = df_dong_sejong_202212.rename(\n",
    "    {\n",
    "        \"건축_면적(㎡)_right\": \"건축_면적(㎡)_동\",\n",
    "        \"연면적(㎡)_right\": \"연면적(㎡)_동\",\n",
    "        \"용적_률_산정_연면적(㎡)_right\": \"용적_률_산정_연면적(㎡)_동\",\n",
    "    }\n",
    ")\n"
   ]
  },
  {
   "cell_type": "code",
   "execution_count": 50,
   "metadata": {},
   "outputs": [
    {
     "data": {
      "text/html": [
       "<div><style>\n",
       ".dataframe > thead > tr > th,\n",
       ".dataframe > tbody > tr > td {\n",
       "  text-align: right;\n",
       "}\n",
       "</style>\n",
       "<small>shape: (5, 23)</small><table border=\"1\" class=\"dataframe\"><thead><tr><th>관리_허가대장_PK</th><th>시군구_코드</th><th>건축_구분_코드</th><th>건축_구분_코드_명</th><th>대지_면적(㎡)</th><th>건축_면적(㎡)</th><th>건폐_율(%)</th><th>연면적(㎡)</th><th>용적_률_산정_연면적(㎡)</th><th>용적_률(%)</th><th>관리_동별_개요_PK</th><th>건물_명</th><th>주_부속_구분_코드</th><th>주_부속_구분_코드_명</th><th>주_용도_코드</th><th>주_용도_코드_명</th><th>구조_코드</th><th>구조_코드_명</th><th>지붕_코드</th><th>지붕_코드_명</th><th>건축_면적(㎡)_동</th><th>연면적(㎡)_동</th><th>용적_률_산정_연면적(㎡)_동</th></tr><tr><td>str</td><td>str</td><td>str</td><td>str</td><td>f64</td><td>f64</td><td>f64</td><td>f64</td><td>f64</td><td>f64</td><td>str</td><td>str</td><td>str</td><td>str</td><td>str</td><td>str</td><td>str</td><td>str</td><td>str</td><td>str</td><td>f64</td><td>f64</td><td>f64</td></tr></thead><tbody><tr><td>&quot;36110-10000000…</td><td>&quot;36110&quot;</td><td>null</td><td>null</td><td>610.0</td><td>18.0</td><td>0.0</td><td>0.0</td><td>0.0</td><td>0.0</td><td>&quot;36110-10000000…</td><td>null</td><td>&quot;0&quot;</td><td>&quot;주건축물&quot;</td><td>&quot;28000&quot;</td><td>&quot;가설건축물&quot;</td><td>&quot;74&quot;</td><td>&quot;컨테이너조&quot;</td><td>null</td><td>null</td><td>18.0</td><td>18.0</td><td>18.0</td></tr><tr><td>&quot;36110-10000000…</td><td>&quot;36110&quot;</td><td>null</td><td>null</td><td>622.0</td><td>18.0</td><td>0.0</td><td>18.0</td><td>0.0</td><td>0.0</td><td>&quot;36110-10000000…</td><td>null</td><td>&quot;0&quot;</td><td>&quot;주건축물&quot;</td><td>&quot;28000&quot;</td><td>&quot;가설건축물&quot;</td><td>&quot;74&quot;</td><td>&quot;컨테이너조&quot;</td><td>null</td><td>null</td><td>18.0</td><td>18.0</td><td>18.0</td></tr><tr><td>&quot;36110-10000000…</td><td>&quot;36110&quot;</td><td>null</td><td>null</td><td>1653.0</td><td>60.0</td><td>0.0</td><td>60.0</td><td>0.0</td><td>0.0</td><td>&quot;36110-10000000…</td><td>null</td><td>&quot;0&quot;</td><td>&quot;주건축물&quot;</td><td>&quot;28000&quot;</td><td>&quot;가설건축물&quot;</td><td>&quot;33&quot;</td><td>&quot;강파이프구조&quot;</td><td>null</td><td>null</td><td>60.0</td><td>60.0</td><td>60.0</td></tr><tr><td>&quot;36110-10000000…</td><td>&quot;36110&quot;</td><td>null</td><td>null</td><td>11407.4</td><td>99.0</td><td>0.0</td><td>99.0</td><td>0.0</td><td>0.0</td><td>&quot;36110-10000000…</td><td>null</td><td>&quot;0&quot;</td><td>&quot;주건축물&quot;</td><td>&quot;18000&quot;</td><td>&quot;창고시설&quot;</td><td>&quot;33&quot;</td><td>&quot;강파이프구조&quot;</td><td>null</td><td>null</td><td>99.0</td><td>99.0</td><td>99.0</td></tr><tr><td>&quot;36110-10000000…</td><td>&quot;36110&quot;</td><td>&quot;0200&quot;</td><td>&quot;증축&quot;</td><td>3804.0</td><td>1634.15</td><td>42.96</td><td>1634.15</td><td>1634.15</td><td>42.96</td><td>&quot;36110-10000000…</td><td>&quot;연동면 송용리 1028-1…</td><td>&quot;0&quot;</td><td>&quot;주건축물&quot;</td><td>&quot;21000&quot;</td><td>&quot;동.식물관련시설&quot;</td><td>&quot;33&quot;</td><td>&quot;강파이프구조&quot;</td><td>&quot;90&quot;</td><td>&quot;기타지붕&quot;</td><td>1382.15</td><td>1382.15</td><td>1382.15</td></tr></tbody></table></div>"
      ],
      "text/plain": [
       "shape: (5, 23)\n",
       "┌────────────┬────────────┬────────────┬────────────┬───┬────────────┬────────────┬────────────┬────────────┐\n",
       "│ 관리_허가  ┆ 시군구_코  ┆ 건축_구분_ ┆ 건축_구분_ ┆ … ┆ 지붕_코드_ ┆ 건축_면적( ┆ 연면적(㎡) ┆ 용적_률_산 │\n",
       "│ 대장_PK    ┆ 드         ┆ 코드       ┆ 코드_명    ┆   ┆ 명         ┆ ㎡)_동     ┆ _동        ┆ 정_연면적( │\n",
       "│ ---        ┆ ---        ┆ ---        ┆ ---        ┆   ┆ ---        ┆ ---        ┆ ---        ┆ ㎡)_동     │\n",
       "│ str        ┆ str        ┆ str        ┆ str        ┆   ┆ str        ┆ f64        ┆ f64        ┆ ---        │\n",
       "│            ┆            ┆            ┆            ┆   ┆            ┆            ┆            ┆ f64        │\n",
       "╞════════════╪════════════╪════════════╪════════════╪═══╪════════════╪════════════╪════════════╪════════════╡\n",
       "│ 36110-1000 ┆ 36110      ┆ null       ┆ null       ┆ … ┆ null       ┆ 18.0       ┆ 18.0       ┆ 18.0       │\n",
       "│ 0000000000 ┆            ┆            ┆            ┆   ┆            ┆            ┆            ┆            │\n",
       "│ 00197128   ┆            ┆            ┆            ┆   ┆            ┆            ┆            ┆            │\n",
       "│ 36110-1000 ┆ 36110      ┆ null       ┆ null       ┆ … ┆ null       ┆ 18.0       ┆ 18.0       ┆ 18.0       │\n",
       "│ 0000000000 ┆            ┆            ┆            ┆   ┆            ┆            ┆            ┆            │\n",
       "│ 00205661   ┆            ┆            ┆            ┆   ┆            ┆            ┆            ┆            │\n",
       "│ 36110-1000 ┆ 36110      ┆ null       ┆ null       ┆ … ┆ null       ┆ 60.0       ┆ 60.0       ┆ 60.0       │\n",
       "│ 0000000000 ┆            ┆            ┆            ┆   ┆            ┆            ┆            ┆            │\n",
       "│ 00191378   ┆            ┆            ┆            ┆   ┆            ┆            ┆            ┆            │\n",
       "│ 36110-1000 ┆ 36110      ┆ null       ┆ null       ┆ … ┆ null       ┆ 99.0       ┆ 99.0       ┆ 99.0       │\n",
       "│ 0000000000 ┆            ┆            ┆            ┆   ┆            ┆            ┆            ┆            │\n",
       "│ 00204776   ┆            ┆            ┆            ┆   ┆            ┆            ┆            ┆            │\n",
       "│ 36110-1000 ┆ 36110      ┆ 0200       ┆ 증축       ┆ … ┆ 기타지붕   ┆ 1382.15    ┆ 1382.15    ┆ 1382.15    │\n",
       "│ 0000000000 ┆            ┆            ┆            ┆   ┆            ┆            ┆            ┆            │\n",
       "│ 00203346   ┆            ┆            ┆            ┆   ┆            ┆            ┆            ┆            │\n",
       "└────────────┴────────────┴────────────┴────────────┴───┴────────────┴────────────┴────────────┴────────────┘"
      ]
     },
     "execution_count": 50,
     "metadata": {},
     "output_type": "execute_result"
    }
   ],
   "source": [
    "df_dong_sejong_202212.head()\n"
   ]
  },
  {
   "cell_type": "code",
   "execution_count": 77,
   "metadata": {},
   "outputs": [
    {
     "data": {
      "text/html": [
       "<div><style>\n",
       ".dataframe > thead > tr > th,\n",
       ".dataframe > tbody > tr > td {\n",
       "  text-align: right;\n",
       "}\n",
       "</style>\n",
       "<small>shape: (4, 23)</small><table border=\"1\" class=\"dataframe\"><thead><tr><th>건축_구분_코드</th><th>관리_허가대장_PK</th><th>시군구_코드</th><th>건축_구분_코드_명</th><th>대지_면적(㎡)</th><th>건축_면적(㎡)</th><th>건폐_율(%)</th><th>연면적(㎡)</th><th>용적_률_산정_연면적(㎡)</th><th>용적_률(%)</th><th>관리_동별_개요_PK</th><th>건물_명</th><th>주_부속_구분_코드</th><th>주_부속_구분_코드_명</th><th>주_용도_코드</th><th>주_용도_코드_명</th><th>구조_코드</th><th>구조_코드_명</th><th>지붕_코드</th><th>지붕_코드_명</th><th>건축_면적(㎡)_동</th><th>연면적(㎡)_동</th><th>용적_률_산정_연면적(㎡)_동</th></tr><tr><td>str</td><td>str</td><td>str</td><td>str</td><td>f64</td><td>f64</td><td>f64</td><td>f64</td><td>f64</td><td>f64</td><td>str</td><td>str</td><td>str</td><td>str</td><td>str</td><td>str</td><td>str</td><td>str</td><td>str</td><td>str</td><td>f64</td><td>f64</td><td>f64</td></tr></thead><tbody><tr><td>null</td><td>null</td><td>null</td><td>null</td><td>2939652.4</td><td>16012.02</td><td>0.0</td><td>16654.58</td><td>0.0</td><td>0.0</td><td>null</td><td>null</td><td>null</td><td>null</td><td>null</td><td>null</td><td>null</td><td>null</td><td>null</td><td>null</td><td>4960.228</td><td>5302.228</td><td>5287.228</td></tr><tr><td>&quot;0100&quot;</td><td>null</td><td>null</td><td>null</td><td>248611.0</td><td>62544.56</td><td>894.1005</td><td>102777.55</td><td>102356.5</td><td>1097.7287</td><td>null</td><td>null</td><td>null</td><td>null</td><td>null</td><td>null</td><td>null</td><td>null</td><td>null</td><td>null</td><td>33244.43</td><td>54907.86</td><td>54486.81</td></tr><tr><td>&quot;0700&quot;</td><td>null</td><td>null</td><td>null</td><td>19728.0</td><td>12364.79</td><td>322.425</td><td>109317.571</td><td>66973.545</td><td>1550.3116</td><td>null</td><td>null</td><td>null</td><td>null</td><td>null</td><td>null</td><td>null</td><td>null</td><td>null</td><td>null</td><td>1433.14</td><td>135.98</td><td>10572.0</td></tr><tr><td>&quot;0200&quot;</td><td>null</td><td>null</td><td>null</td><td>673008.5</td><td>59479.575</td><td>495.1454</td><td>174474.105</td><td>162738.045</td><td>939.7232</td><td>null</td><td>null</td><td>null</td><td>null</td><td>null</td><td>null</td><td>null</td><td>null</td><td>null</td><td>null</td><td>3438.237</td><td>6224.057</td><td>5755.657</td></tr></tbody></table></div>"
      ],
      "text/plain": [
       "shape: (4, 23)\n",
       "┌────────────┬────────────┬────────────┬────────────┬───┬────────────┬────────────┬────────────┬────────────┐\n",
       "│ 건축_구분_ ┆ 관리_허가  ┆ 시군구_코  ┆ 건축_구분_ ┆ … ┆ 지붕_코드_ ┆ 건축_면적( ┆ 연면적(㎡) ┆ 용적_률_산 │\n",
       "│ 코드       ┆ 대장_PK    ┆ 드         ┆ 코드_명    ┆   ┆ 명         ┆ ㎡)_동     ┆ _동        ┆ 정_연면적( │\n",
       "│ ---        ┆ ---        ┆ ---        ┆ ---        ┆   ┆ ---        ┆ ---        ┆ ---        ┆ ㎡)_동     │\n",
       "│ str        ┆ str        ┆ str        ┆ str        ┆   ┆ str        ┆ f64        ┆ f64        ┆ ---        │\n",
       "│            ┆            ┆            ┆            ┆   ┆            ┆            ┆            ┆ f64        │\n",
       "╞════════════╪════════════╪════════════╪════════════╪═══╪════════════╪════════════╪════════════╪════════════╡\n",
       "│ null       ┆ null       ┆ null       ┆ null       ┆ … ┆ null       ┆ 4960.228   ┆ 5302.228   ┆ 5287.228   │\n",
       "│ 0100       ┆ null       ┆ null       ┆ null       ┆ … ┆ null       ┆ 33244.43   ┆ 54907.86   ┆ 54486.81   │\n",
       "│ 0700       ┆ null       ┆ null       ┆ null       ┆ … ┆ null       ┆ 1433.14    ┆ 135.98     ┆ 10572.0    │\n",
       "│ 0200       ┆ null       ┆ null       ┆ null       ┆ … ┆ null       ┆ 3438.237   ┆ 6224.057   ┆ 5755.657   │\n",
       "└────────────┴────────────┴────────────┴────────────┴───┴────────────┴────────────┴────────────┴────────────┘"
      ]
     },
     "execution_count": 77,
     "metadata": {},
     "output_type": "execute_result"
    }
   ],
   "source": [
    "df_dong_sejong_202212.groupby(\"건축_구분_코드\").sum()\n"
   ]
  },
  {
   "cell_type": "code",
   "execution_count": 51,
   "metadata": {},
   "outputs": [
    {
     "data": {
      "text/html": [
       "<div><style>\n",
       ".dataframe > thead > tr > th,\n",
       ".dataframe > tbody > tr > td {\n",
       "  text-align: right;\n",
       "}\n",
       "</style>\n",
       "<small>shape: (5, 25)</small><table border=\"1\" class=\"dataframe\"><thead><tr><th>관리_층별_개요_PK</th><th>관리_동별_개요_PK</th><th>관리_허가대장_PK</th><th>대지_위치</th><th>건물_명</th><th>시군구_코드</th><th>법정동_코드</th><th>대지_구분_코드</th><th>번</th><th>지</th><th>특수지_명</th><th>블록</th><th>로트</th><th>구조_코드</th><th>구조_코드_명</th><th>주_용도_코드</th><th>주_용도_코드_명</th><th>층_번호</th><th>층_면적(㎡)</th><th>층_구분_코드</th><th>층_구분_코드_명</th><th>건축_구분_코드</th><th>건축_구분_코드_명</th><th>생성_일자</th><th>__null_dask_index__</th></tr><tr><td>str</td><td>str</td><td>str</td><td>str</td><td>str</td><td>str</td><td>str</td><td>str</td><td>str</td><td>str</td><td>str</td><td>str</td><td>str</td><td>str</td><td>str</td><td>str</td><td>str</td><td>i64</td><td>f64</td><td>str</td><td>str</td><td>str</td><td>str</td><td>str</td><td>i64</td></tr></thead><tbody><tr><td>&quot;36110-50002046…</td><td>&quot;36110-50002593…</td><td>&quot;36110-50001466…</td><td>&quot;세종특별자치시  전의면 읍…</td><td>null</td><td>&quot;36110&quot;</td><td>&quot;37021&quot;</td><td>&quot;0&quot;</td><td>&quot;0100&quot;</td><td>&quot;0005&quot;</td><td>null</td><td>null</td><td>null</td><td>&quot;33&quot;</td><td>&quot;강파이프구조&quot;</td><td>&quot;28010&quot;</td><td>&quot;임시창고&quot;</td><td>1</td><td>168.75</td><td>&quot;20&quot;</td><td>&quot;지상&quot;</td><td>&quot;0100&quot;</td><td>&quot;신축&quot;</td><td>&quot;20221108&quot;</td><td>1035</td></tr><tr><td>&quot;36110-20000170…</td><td>&quot;36110-20000116…</td><td>&quot;36110-20000076…</td><td>&quot;세종특별자치시  부강면 금…</td><td>null</td><td>&quot;36110&quot;</td><td>&quot;33028&quot;</td><td>&quot;0&quot;</td><td>&quot;0662&quot;</td><td>&quot;0000&quot;</td><td>null</td><td>null</td><td>null</td><td>&quot;31&quot;</td><td>&quot;일반철골구조&quot;</td><td>&quot;17100&quot;</td><td>&quot;일반공장&quot;</td><td>1</td><td>0.0</td><td>&quot;20&quot;</td><td>&quot;지상&quot;</td><td>&quot;2000&quot;</td><td>&quot;허가/신고사항변경&quot;</td><td>&quot;20230105&quot;</td><td>1390</td></tr><tr><td>&quot;36110-50001386…</td><td>&quot;36110-50001737…</td><td>&quot;36110-50000926…</td><td>&quot;세종특별자치시  전동면 송…</td><td>null</td><td>&quot;36110&quot;</td><td>&quot;38026&quot;</td><td>&quot;0&quot;</td><td>&quot;0311&quot;</td><td>&quot;0000&quot;</td><td>null</td><td>null</td><td>null</td><td>&quot;32&quot;</td><td>&quot;경량철골구조&quot;</td><td>&quot;18101&quot;</td><td>&quot;일반창고&quot;</td><td>1</td><td>135.0</td><td>&quot;20&quot;</td><td>&quot;지상&quot;</td><td>&quot;0100&quot;</td><td>&quot;신축&quot;</td><td>&quot;20230105&quot;</td><td>1435</td></tr><tr><td>&quot;36110-50000171…</td><td>&quot;36110-50000162…</td><td>&quot;36110-50000101…</td><td>&quot;세종특별자치시  나성동 블…</td><td>null</td><td>&quot;36110&quot;</td><td>&quot;10700&quot;</td><td>&quot;2&quot;</td><td>&quot;0000&quot;</td><td>&quot;0000&quot;</td><td>&quot;행정중심복합도시&quot;</td><td>&quot;2-4생활권&quot;</td><td>&quot;CB3-3&quot;</td><td>&quot;39&quot;</td><td>&quot;기타강구조&quot;</td><td>&quot;28009&quot;</td><td>&quot;임시사무실&quot;</td><td>1</td><td>18.0</td><td>&quot;20&quot;</td><td>&quot;지상&quot;</td><td>&quot;0100&quot;</td><td>&quot;신축&quot;</td><td>&quot;20130820&quot;</td><td>1957</td></tr><tr><td>&quot;36110-50000574…</td><td>&quot;36110-50000612…</td><td>&quot;36110-50000374…</td><td>&quot;세종특별자치시  고운동 블…</td><td>&quot;성진프라자&quot;</td><td>&quot;36110&quot;</td><td>&quot;11200&quot;</td><td>&quot;2&quot;</td><td>&quot;0000&quot;</td><td>&quot;0000&quot;</td><td>&quot;1-1생활권&quot;</td><td>&quot;C1&quot;</td><td>&quot;2&quot;</td><td>&quot;21&quot;</td><td>&quot;철근콘크리트구조&quot;</td><td>&quot;03020&quot;</td><td>&quot;체육도장&quot;</td><td>7</td><td>64.68</td><td>&quot;20&quot;</td><td>&quot;지상&quot;</td><td>&quot;0700&quot;</td><td>&quot;용도변경&quot;</td><td>&quot;20230105&quot;</td><td>2207</td></tr></tbody></table></div>"
      ],
      "text/plain": [
       "shape: (5, 25)\n",
       "┌────────────┬────────────┬────────────┬────────────┬───┬────────────┬────────────┬────────────┬────────────┐\n",
       "│ 관리_층별_ ┆ 관리_동별_ ┆ 관리_허가  ┆ 대지_위치  ┆ … ┆ 건축_구분_ ┆ 건축_구분_ ┆ 생성_일자  ┆ __null_das │\n",
       "│ 개요_PK    ┆ 개요_PK    ┆ 대장_PK    ┆ ---        ┆   ┆ 코드       ┆ 코드_명    ┆ ---        ┆ k_index__  │\n",
       "│ ---        ┆ ---        ┆ ---        ┆ str        ┆   ┆ ---        ┆ ---        ┆ str        ┆ ---        │\n",
       "│ str        ┆ str        ┆ str        ┆            ┆   ┆ str        ┆ str        ┆            ┆ i64        │\n",
       "╞════════════╪════════════╪════════════╪════════════╪═══╪════════════╪════════════╪════════════╪════════════╡\n",
       "│ 36110-5000 ┆ 36110-5000 ┆ 36110-5000 ┆ 세종특별자 ┆ … ┆ 0100       ┆ 신축       ┆ 20221108   ┆ 1035       │\n",
       "│ 204629     ┆ 259387     ┆ 146654     ┆ 치시       ┆   ┆            ┆            ┆            ┆            │\n",
       "│            ┆            ┆            ┆ 전의면     ┆   ┆            ┆            ┆            ┆            │\n",
       "│            ┆            ┆            ┆ 읍내리     ┆   ┆            ┆            ┆            ┆            │\n",
       "│            ┆            ┆            ┆ 100-5번지  ┆   ┆            ┆            ┆            ┆            │\n",
       "│ 36110-2000 ┆ 36110-2000 ┆ 36110-2000 ┆ 세종특별자 ┆ … ┆ 2000       ┆ 허가/신고  ┆ 20230105   ┆ 1390       │\n",
       "│ 017050     ┆ 011682     ┆ 007677     ┆ 치시       ┆   ┆            ┆ 사항변경   ┆            ┆            │\n",
       "│            ┆            ┆            ┆ 부강면     ┆   ┆            ┆            ┆            ┆            │\n",
       "│            ┆            ┆            ┆ 금호리     ┆   ┆            ┆            ┆            ┆            │\n",
       "│            ┆            ┆            ┆ 662번지    ┆   ┆            ┆            ┆            ┆            │\n",
       "│ 36110-5000 ┆ 36110-5000 ┆ 36110-5000 ┆ 세종특별자 ┆ … ┆ 0100       ┆ 신축       ┆ 20230105   ┆ 1435       │\n",
       "│ 138626     ┆ 173744     ┆ 092697     ┆ 치시       ┆   ┆            ┆            ┆            ┆            │\n",
       "│            ┆            ┆            ┆ 전동면     ┆   ┆            ┆            ┆            ┆            │\n",
       "│            ┆            ┆            ┆ 송곡리     ┆   ┆            ┆            ┆            ┆            │\n",
       "│            ┆            ┆            ┆ 311번지    ┆   ┆            ┆            ┆            ┆            │\n",
       "│ 36110-5000 ┆ 36110-5000 ┆ 36110-5000 ┆ 세종특별자 ┆ … ┆ 0100       ┆ 신축       ┆ 20130820   ┆ 1957       │\n",
       "│ 017195     ┆ 016202     ┆ 010182     ┆ 치시       ┆   ┆            ┆            ┆            ┆            │\n",
       "│            ┆            ┆            ┆ 나성동     ┆   ┆            ┆            ┆            ┆            │\n",
       "│            ┆            ┆            ┆ 블록 행정  ┆   ┆            ┆            ┆            ┆            │\n",
       "│            ┆            ┆            ┆ 중심복합도 ┆   ┆            ┆            ┆            ┆            │\n",
       "│            ┆            ┆            ┆ 시지구     ┆   ┆            ┆            ┆            ┆            │\n",
       "│            ┆            ┆            ┆ 2-4생활…   ┆   ┆            ┆            ┆            ┆            │\n",
       "│ 36110-5000 ┆ 36110-5000 ┆ 36110-5000 ┆ 세종특별자 ┆ … ┆ 0700       ┆ 용도변경   ┆ 20230105   ┆ 2207       │\n",
       "│ 057411     ┆ 061292     ┆ 037473     ┆ 치시       ┆   ┆            ┆            ┆            ┆            │\n",
       "│            ┆            ┆            ┆ 고운동     ┆   ┆            ┆            ┆            ┆            │\n",
       "│            ┆            ┆            ┆ 블록 1-1생 ┆   ┆            ┆            ┆            ┆            │\n",
       "│            ┆            ┆            ┆ 활권지구   ┆   ┆            ┆            ┆            ┆            │\n",
       "│            ┆            ┆            ┆ C1블록     ┆   ┆            ┆            ┆            ┆            │\n",
       "│            ┆            ┆            ┆ 2로…       ┆   ┆            ┆            ┆            ┆            │\n",
       "└────────────┴────────────┴────────────┴────────────┴───┴────────────┴────────────┴────────────┴────────────┘"
      ]
     },
     "execution_count": 51,
     "metadata": {},
     "output_type": "execute_result"
    }
   ],
   "source": [
    "df_floor_sejong.head()\n"
   ]
  },
  {
   "cell_type": "code",
   "execution_count": 71,
   "metadata": {},
   "outputs": [],
   "source": [
    "df_floor_sejong_202212 = df_dong_sejong_202212.join(df_floor_sejong, \"관리_동별_개요_PK\")\n",
    "df_floor_sejong_202212 = df_floor_sejong_202212.select(\n",
    "    [\n",
    "        \"관리_허가대장_PK\",\n",
    "        \"시군구_코드\",\n",
    "        \"건축_구분_코드\",\n",
    "        \"건축_구분_코드_명\",\n",
    "        \"대지_면적(㎡)\",\n",
    "        \"건축_면적(㎡)\",\n",
    "        \"건폐_율(%)\",\n",
    "        \"연면적(㎡)\",\n",
    "        \"용적_률_산정_연면적(㎡)\",\n",
    "        \"용적_률(%)\",\n",
    "        \"관리_동별_개요_PK\",\n",
    "        \"건물_명\",\n",
    "        \"주_부속_구분_코드\",\n",
    "        \"주_부속_구분_코드_명\",\n",
    "        \"주_용도_코드\",\n",
    "        \"주_용도_코드_명\",\n",
    "        \"구조_코드\",\n",
    "        \"구조_코드_명\",\n",
    "        \"지붕_코드\",\n",
    "        \"지붕_코드_명\",\n",
    "        \"건축_면적(㎡)_동\",\n",
    "        \"연면적(㎡)_동\",\n",
    "        \"용적_률_산정_연면적(㎡)_동\",\n",
    "        \"관리_층별_개요_PK\",\n",
    "        \"주_용도_코드_right\",\n",
    "        \"주_용도_코드_명_right\",\n",
    "        \"층_번호\",\n",
    "        \"층_면적(㎡)\",\n",
    "        \"층_구분_코드\",\n",
    "        \"층_구분_코드_명\",\n",
    "        \"건축_구분_코드_right\",\n",
    "        \"건축_구분_코드_명_right\",\n",
    "    ]\n",
    ")\n",
    "df_floor_sejong_202212 = df_floor_sejong_202212.rename(\n",
    "    {\n",
    "        \"주_용도_코드_right\": \"주_용도_코드_층\",\n",
    "        \"주_용도_코드_명_right\": \"주_용도_코드_명_층\",\n",
    "        \"건축_구분_코드_right\": \"건축_구분_코드_층\",\n",
    "        \"건축_구분_코드_명_right\": \"건축_구분_코드_명_층\",\n",
    "    }\n",
    ")\n"
   ]
  },
  {
   "cell_type": "code",
   "execution_count": 72,
   "metadata": {},
   "outputs": [
    {
     "data": {
      "text/html": [
       "<div><style>\n",
       ".dataframe > thead > tr > th,\n",
       ".dataframe > tbody > tr > td {\n",
       "  text-align: right;\n",
       "}\n",
       "</style>\n",
       "<small>shape: (5, 32)</small><table border=\"1\" class=\"dataframe\"><thead><tr><th>관리_허가대장_PK</th><th>시군구_코드</th><th>건축_구분_코드</th><th>건축_구분_코드_명</th><th>대지_면적(㎡)</th><th>건축_면적(㎡)</th><th>건폐_율(%)</th><th>연면적(㎡)</th><th>용적_률_산정_연면적(㎡)</th><th>용적_률(%)</th><th>관리_동별_개요_PK</th><th>건물_명</th><th>주_부속_구분_코드</th><th>주_부속_구분_코드_명</th><th>주_용도_코드</th><th>주_용도_코드_명</th><th>구조_코드</th><th>구조_코드_명</th><th>지붕_코드</th><th>지붕_코드_명</th><th>건축_면적(㎡)_동</th><th>연면적(㎡)_동</th><th>용적_률_산정_연면적(㎡)_동</th><th>관리_층별_개요_PK</th><th>주_용도_코드_층</th><th>주_용도_코드_명_층</th><th>층_번호</th><th>층_면적(㎡)</th><th>층_구분_코드</th><th>층_구분_코드_명</th><th>건축_구분_코드_층</th><th>건축_구분_코드_명_층</th></tr><tr><td>str</td><td>str</td><td>str</td><td>str</td><td>f64</td><td>f64</td><td>f64</td><td>f64</td><td>f64</td><td>f64</td><td>str</td><td>str</td><td>str</td><td>str</td><td>str</td><td>str</td><td>str</td><td>str</td><td>str</td><td>str</td><td>f64</td><td>f64</td><td>f64</td><td>str</td><td>str</td><td>str</td><td>i64</td><td>f64</td><td>str</td><td>str</td><td>str</td><td>str</td></tr></thead><tbody><tr><td>&quot;36110-10000000…</td><td>&quot;36110&quot;</td><td>null</td><td>null</td><td>1200.0</td><td>18.0</td><td>0.0</td><td>18.0</td><td>0.0</td><td>0.0</td><td>&quot;36110-10000000…</td><td>null</td><td>&quot;0&quot;</td><td>&quot;주건축물&quot;</td><td>&quot;28000&quot;</td><td>&quot;가설건축물&quot;</td><td>&quot;74&quot;</td><td>&quot;컨테이너조&quot;</td><td>null</td><td>null</td><td>18.0</td><td>18.0</td><td>18.0</td><td>&quot;36110-10000000…</td><td>&quot;28004&quot;</td><td>&quot;공사용가설건축물&quot;</td><td>1</td><td>18.0</td><td>&quot;20&quot;</td><td>&quot;지상&quot;</td><td>null</td><td>null</td></tr><tr><td>&quot;36110-10000000…</td><td>&quot;36110&quot;</td><td>&quot;0100&quot;</td><td>&quot;신축&quot;</td><td>1002.0</td><td>120.0</td><td>11.98</td><td>120.0</td><td>120.0</td><td>11.98</td><td>&quot;36110-10000000…</td><td>&quot;장군면 용암리 72-11 …</td><td>&quot;0&quot;</td><td>&quot;주건축물&quot;</td><td>&quot;03000&quot;</td><td>&quot;제1종근린생활시설&quot;</td><td>&quot;32&quot;</td><td>&quot;경량철골구조&quot;</td><td>&quot;90&quot;</td><td>&quot;기타지붕&quot;</td><td>120.0</td><td>120.0</td><td>120.0</td><td>&quot;36110-10000000…</td><td>&quot;03001&quot;</td><td>&quot;소매점&quot;</td><td>1</td><td>120.0</td><td>&quot;20&quot;</td><td>&quot;지상&quot;</td><td>&quot;0100&quot;</td><td>&quot;신축&quot;</td></tr><tr><td>&quot;36110-10000000…</td><td>&quot;36110&quot;</td><td>null</td><td>null</td><td>10464.7</td><td>12.0</td><td>0.0</td><td>12.0</td><td>0.0</td><td>0.0</td><td>&quot;36110-10000000…</td><td>null</td><td>&quot;0&quot;</td><td>&quot;주건축물&quot;</td><td>&quot;28999&quot;</td><td>&quot;기타가설건축물&quot;</td><td>&quot;74&quot;</td><td>&quot;컨테이너조&quot;</td><td>null</td><td>null</td><td>12.0</td><td>12.0</td><td>12.0</td><td>&quot;36110-10000000…</td><td>&quot;17301&quot;</td><td>&quot;물품 제조공장&quot;</td><td>1</td><td>12.0</td><td>&quot;20&quot;</td><td>&quot;지상&quot;</td><td>null</td><td>null</td></tr><tr><td>&quot;36110-10000000…</td><td>&quot;36110&quot;</td><td>null</td><td>null</td><td>3453.0</td><td>395.9</td><td>0.0</td><td>395.9</td><td>0.0</td><td>0.0</td><td>&quot;36110-10000000…</td><td>null</td><td>&quot;0&quot;</td><td>&quot;주건축물&quot;</td><td>&quot;28000&quot;</td><td>&quot;가설건축물&quot;</td><td>&quot;33&quot;</td><td>&quot;강파이프구조&quot;</td><td>null</td><td>null</td><td>207.9</td><td>207.9</td><td>207.9</td><td>&quot;36110-10000000…</td><td>&quot;28010&quot;</td><td>&quot;임시창고&quot;</td><td>1</td><td>207.9</td><td>&quot;20&quot;</td><td>&quot;지상&quot;</td><td>null</td><td>null</td></tr><tr><td>&quot;36110-10000000…</td><td>&quot;36110&quot;</td><td>null</td><td>null</td><td>2810.8</td><td>161.23</td><td>0.0</td><td>161.23</td><td>0.0</td><td>0.0</td><td>&quot;36110-10000000…</td><td>null</td><td>&quot;0&quot;</td><td>&quot;주건축물&quot;</td><td>&quot;28000&quot;</td><td>&quot;가설건축물&quot;</td><td>&quot;32&quot;</td><td>&quot;경량철골구조&quot;</td><td>null</td><td>null</td><td>161.238</td><td>161.238</td><td>161.238</td><td>&quot;36110-10000000…</td><td>&quot;28008&quot;</td><td>&quot;임시자동차차고&quot;</td><td>1</td><td>161.238</td><td>&quot;20&quot;</td><td>&quot;지상&quot;</td><td>null</td><td>null</td></tr></tbody></table></div>"
      ],
      "text/plain": [
       "shape: (5, 32)\n",
       "┌────────────┬────────────┬────────────┬────────────┬───┬────────────┬────────────┬────────────┬────────────┐\n",
       "│ 관리_허가  ┆ 시군구_코  ┆ 건축_구분_ ┆ 건축_구분_ ┆ … ┆ 층_구분_코 ┆ 층_구분_코 ┆ 건축_구분_ ┆ 건축_구분_ │\n",
       "│ 대장_PK    ┆ 드         ┆ 코드       ┆ 코드_명    ┆   ┆ 드         ┆ 드_명      ┆ 코드_층    ┆ 코드_명_층 │\n",
       "│ ---        ┆ ---        ┆ ---        ┆ ---        ┆   ┆ ---        ┆ ---        ┆ ---        ┆ ---        │\n",
       "│ str        ┆ str        ┆ str        ┆ str        ┆   ┆ str        ┆ str        ┆ str        ┆ str        │\n",
       "╞════════════╪════════════╪════════════╪════════════╪═══╪════════════╪════════════╪════════════╪════════════╡\n",
       "│ 36110-1000 ┆ 36110      ┆ null       ┆ null       ┆ … ┆ 20         ┆ 지상       ┆ null       ┆ null       │\n",
       "│ 0000000000 ┆            ┆            ┆            ┆   ┆            ┆            ┆            ┆            │\n",
       "│ 00197276   ┆            ┆            ┆            ┆   ┆            ┆            ┆            ┆            │\n",
       "│ 36110-1000 ┆ 36110      ┆ 0100       ┆ 신축       ┆ … ┆ 20         ┆ 지상       ┆ 0100       ┆ 신축       │\n",
       "│ 0000000000 ┆            ┆            ┆            ┆   ┆            ┆            ┆            ┆            │\n",
       "│ 00196387   ┆            ┆            ┆            ┆   ┆            ┆            ┆            ┆            │\n",
       "│ 36110-1000 ┆ 36110      ┆ null       ┆ null       ┆ … ┆ 20         ┆ 지상       ┆ null       ┆ null       │\n",
       "│ 0000000000 ┆            ┆            ┆            ┆   ┆            ┆            ┆            ┆            │\n",
       "│ 00193820   ┆            ┆            ┆            ┆   ┆            ┆            ┆            ┆            │\n",
       "│ 36110-1000 ┆ 36110      ┆ null       ┆ null       ┆ … ┆ 20         ┆ 지상       ┆ null       ┆ null       │\n",
       "│ 0000000000 ┆            ┆            ┆            ┆   ┆            ┆            ┆            ┆            │\n",
       "│ 00185301   ┆            ┆            ┆            ┆   ┆            ┆            ┆            ┆            │\n",
       "│ 36110-1000 ┆ 36110      ┆ null       ┆ null       ┆ … ┆ 20         ┆ 지상       ┆ null       ┆ null       │\n",
       "│ 0000000000 ┆            ┆            ┆            ┆   ┆            ┆            ┆            ┆            │\n",
       "│ 00191695   ┆            ┆            ┆            ┆   ┆            ┆            ┆            ┆            │\n",
       "└────────────┴────────────┴────────────┴────────────┴───┴────────────┴────────────┴────────────┴────────────┘"
      ]
     },
     "execution_count": 72,
     "metadata": {},
     "output_type": "execute_result"
    }
   ],
   "source": [
    "df_floor_sejong_202212.head()\n"
   ]
  },
  {
   "cell_type": "code",
   "execution_count": 75,
   "metadata": {},
   "outputs": [
    {
     "data": {
      "text/html": [
       "<div><style>\n",
       ".dataframe > thead > tr > th,\n",
       ".dataframe > tbody > tr > td {\n",
       "  text-align: right;\n",
       "}\n",
       "</style>\n",
       "<small>shape: (1, 32)</small><table border=\"1\" class=\"dataframe\"><thead><tr><th>관리_허가대장_PK</th><th>시군구_코드</th><th>건축_구분_코드</th><th>건축_구분_코드_명</th><th>대지_면적(㎡)</th><th>건축_면적(㎡)</th><th>건폐_율(%)</th><th>연면적(㎡)</th><th>용적_률_산정_연면적(㎡)</th><th>용적_률(%)</th><th>관리_동별_개요_PK</th><th>건물_명</th><th>주_부속_구분_코드</th><th>주_부속_구분_코드_명</th><th>주_용도_코드</th><th>주_용도_코드_명</th><th>구조_코드</th><th>구조_코드_명</th><th>지붕_코드</th><th>지붕_코드_명</th><th>건축_면적(㎡)_동</th><th>연면적(㎡)_동</th><th>용적_률_산정_연면적(㎡)_동</th><th>관리_층별_개요_PK</th><th>주_용도_코드_층</th><th>주_용도_코드_명_층</th><th>층_번호</th><th>층_면적(㎡)</th><th>층_구분_코드</th><th>층_구분_코드_명</th><th>건축_구분_코드_층</th><th>건축_구분_코드_명_층</th></tr><tr><td>str</td><td>str</td><td>str</td><td>str</td><td>f64</td><td>f64</td><td>f64</td><td>f64</td><td>f64</td><td>f64</td><td>str</td><td>str</td><td>str</td><td>str</td><td>str</td><td>str</td><td>str</td><td>str</td><td>str</td><td>str</td><td>f64</td><td>f64</td><td>f64</td><td>str</td><td>str</td><td>str</td><td>i64</td><td>f64</td><td>str</td><td>str</td><td>str</td><td>str</td></tr></thead><tbody><tr><td>null</td><td>null</td><td>null</td><td>null</td><td>5540752.3</td><td>431326.465</td><td>3003.2183</td><td>1.2589e6</td><td>1.1362e6</td><td>7311.6733</td><td>null</td><td>null</td><td>null</td><td>null</td><td>null</td><td>null</td><td>null</td><td>null</td><td>null</td><td>null</td><td>163298.935</td><td>287355.875</td><td>303364.465</td><td>null</td><td>null</td><td>null</td><td>441</td><td>71483.148</td><td>null</td><td>null</td><td>null</td><td>null</td></tr></tbody></table></div>"
      ],
      "text/plain": [
       "shape: (1, 32)\n",
       "┌────────────┬────────────┬────────────┬────────────┬───┬────────────┬────────────┬────────────┬────────────┐\n",
       "│ 관리_허가  ┆ 시군구_코  ┆ 건축_구분_ ┆ 건축_구분_ ┆ … ┆ 층_구분_코 ┆ 층_구분_코 ┆ 건축_구분_ ┆ 건축_구분_ │\n",
       "│ 대장_PK    ┆ 드         ┆ 코드       ┆ 코드_명    ┆   ┆ 드         ┆ 드_명      ┆ 코드_층    ┆ 코드_명_층 │\n",
       "│ ---        ┆ ---        ┆ ---        ┆ ---        ┆   ┆ ---        ┆ ---        ┆ ---        ┆ ---        │\n",
       "│ str        ┆ str        ┆ str        ┆ str        ┆   ┆ str        ┆ str        ┆ str        ┆ str        │\n",
       "╞════════════╪════════════╪════════════╪════════════╪═══╪════════════╪════════════╪════════════╪════════════╡\n",
       "│ null       ┆ null       ┆ null       ┆ null       ┆ … ┆ null       ┆ null       ┆ null       ┆ null       │\n",
       "└────────────┴────────────┴────────────┴────────────┴───┴────────────┴────────────┴────────────┴────────────┘"
      ]
     },
     "execution_count": 75,
     "metadata": {},
     "output_type": "execute_result"
    }
   ],
   "source": [
    "df_floor_sejong_202212.sum()\n"
   ]
  },
  {
   "cell_type": "code",
   "execution_count": 76,
   "metadata": {},
   "outputs": [
    {
     "data": {
      "text/html": [
       "<div><style>\n",
       ".dataframe > thead > tr > th,\n",
       ".dataframe > tbody > tr > td {\n",
       "  text-align: right;\n",
       "}\n",
       "</style>\n",
       "<small>shape: (4, 32)</small><table border=\"1\" class=\"dataframe\"><thead><tr><th>건축_구분_코드</th><th>관리_허가대장_PK</th><th>시군구_코드</th><th>건축_구분_코드_명</th><th>대지_면적(㎡)</th><th>건축_면적(㎡)</th><th>건폐_율(%)</th><th>연면적(㎡)</th><th>용적_률_산정_연면적(㎡)</th><th>용적_률(%)</th><th>관리_동별_개요_PK</th><th>건물_명</th><th>주_부속_구분_코드</th><th>주_부속_구분_코드_명</th><th>주_용도_코드</th><th>주_용도_코드_명</th><th>구조_코드</th><th>구조_코드_명</th><th>지붕_코드</th><th>지붕_코드_명</th><th>건축_면적(㎡)_동</th><th>연면적(㎡)_동</th><th>용적_률_산정_연면적(㎡)_동</th><th>관리_층별_개요_PK</th><th>주_용도_코드_층</th><th>주_용도_코드_명_층</th><th>층_번호</th><th>층_면적(㎡)</th><th>층_구분_코드</th><th>층_구분_코드_명</th><th>건축_구분_코드_층</th><th>건축_구분_코드_명_층</th></tr><tr><td>str</td><td>str</td><td>str</td><td>str</td><td>f64</td><td>f64</td><td>f64</td><td>f64</td><td>f64</td><td>f64</td><td>str</td><td>str</td><td>str</td><td>str</td><td>str</td><td>str</td><td>str</td><td>str</td><td>str</td><td>str</td><td>f64</td><td>f64</td><td>f64</td><td>str</td><td>str</td><td>str</td><td>i64</td><td>f64</td><td>str</td><td>str</td><td>str</td><td>str</td></tr></thead><tbody><tr><td>&quot;0700&quot;</td><td>null</td><td>null</td><td>null</td><td>22036.0</td><td>13894.64</td><td>442.0437</td><td>124928.761</td><td>77748.505</td><td>2180.1916</td><td>null</td><td>null</td><td>null</td><td>null</td><td>null</td><td>null</td><td>null</td><td>null</td><td>null</td><td>null</td><td>2781.52</td><td>135.98</td><td>21008.02</td><td>null</td><td>null</td><td>null</td><td>29</td><td>4706.203</td><td>null</td><td>null</td><td>null</td><td>null</td></tr><tr><td>&quot;0200&quot;</td><td>null</td><td>null</td><td>null</td><td>1893440.5</td><td>224541.585</td><td>1181.6845</td><td>815083.165</td><td>758518.645</td><td>3062.653</td><td>null</td><td>null</td><td>null</td><td>null</td><td>null</td><td>null</td><td>null</td><td>null</td><td>null</td><td>null</td><td>10818.247</td><td>30470.257</td><td>27619.057</td><td>null</td><td>null</td><td>null</td><td>160</td><td>6263.447</td><td>null</td><td>null</td><td>null</td><td>null</td></tr><tr><td>&quot;0100&quot;</td><td>null</td><td>null</td><td>null</td><td>659648.0</td><td>176678.97</td><td>1379.4901</td><td>301912.0</td><td>299914.75</td><td>2068.8287</td><td>null</td><td>null</td><td>null</td><td>null</td><td>null</td><td>null</td><td>null</td><td>null</td><td>null</td><td>null</td><td>144593.69</td><td>251257.16</td><td>249259.91</td><td>null</td><td>null</td><td>null</td><td>90</td><td>55208.27</td><td>null</td><td>null</td><td>null</td><td>null</td></tr><tr><td>null</td><td>null</td><td>null</td><td>null</td><td>2965627.8</td><td>16211.27</td><td>0.0</td><td>16943.83</td><td>0.0</td><td>0.0</td><td>null</td><td>null</td><td>null</td><td>null</td><td>null</td><td>null</td><td>null</td><td>null</td><td>null</td><td>null</td><td>5105.478</td><td>5492.478</td><td>5477.478</td><td>null</td><td>null</td><td>null</td><td>162</td><td>5305.228</td><td>null</td><td>null</td><td>null</td><td>null</td></tr></tbody></table></div>"
      ],
      "text/plain": [
       "shape: (4, 32)\n",
       "┌────────────┬────────────┬────────────┬────────────┬───┬────────────┬────────────┬────────────┬────────────┐\n",
       "│ 건축_구분_ ┆ 관리_허가  ┆ 시군구_코  ┆ 건축_구분_ ┆ … ┆ 층_구분_코 ┆ 층_구분_코 ┆ 건축_구분_ ┆ 건축_구분_ │\n",
       "│ 코드       ┆ 대장_PK    ┆ 드         ┆ 코드_명    ┆   ┆ 드         ┆ 드_명      ┆ 코드_층    ┆ 코드_명_층 │\n",
       "│ ---        ┆ ---        ┆ ---        ┆ ---        ┆   ┆ ---        ┆ ---        ┆ ---        ┆ ---        │\n",
       "│ str        ┆ str        ┆ str        ┆ str        ┆   ┆ str        ┆ str        ┆ str        ┆ str        │\n",
       "╞════════════╪════════════╪════════════╪════════════╪═══╪════════════╪════════════╪════════════╪════════════╡\n",
       "│ 0700       ┆ null       ┆ null       ┆ null       ┆ … ┆ null       ┆ null       ┆ null       ┆ null       │\n",
       "│ 0200       ┆ null       ┆ null       ┆ null       ┆ … ┆ null       ┆ null       ┆ null       ┆ null       │\n",
       "│ 0100       ┆ null       ┆ null       ┆ null       ┆ … ┆ null       ┆ null       ┆ null       ┆ null       │\n",
       "│ null       ┆ null       ┆ null       ┆ null       ┆ … ┆ null       ┆ null       ┆ null       ┆ null       │\n",
       "└────────────┴────────────┴────────────┴────────────┴───┴────────────┴────────────┴────────────┴────────────┘"
      ]
     },
     "execution_count": 76,
     "metadata": {},
     "output_type": "execute_result"
    }
   ],
   "source": [
    "df_floor_sejong_202212.groupby(\"건축_구분_코드\").sum()\n"
   ]
  },
  {
   "cell_type": "code",
   "execution_count": 85,
   "metadata": {},
   "outputs": [
    {
     "data": {
      "text/html": [
       "<div><style>\n",
       ".dataframe > thead > tr > th,\n",
       ".dataframe > tbody > tr > td {\n",
       "  text-align: right;\n",
       "}\n",
       "</style>\n",
       "<small>shape: (19, 32)</small><table border=\"1\" class=\"dataframe\"><thead><tr><th>건축_구분_코드_명</th><th>구조_코드_명</th><th>관리_허가대장_PK</th><th>시군구_코드</th><th>건축_구분_코드</th><th>대지_면적(㎡)</th><th>건축_면적(㎡)</th><th>건폐_율(%)</th><th>연면적(㎡)</th><th>용적_률_산정_연면적(㎡)</th><th>용적_률(%)</th><th>관리_동별_개요_PK</th><th>건물_명</th><th>주_부속_구분_코드</th><th>주_부속_구분_코드_명</th><th>주_용도_코드</th><th>주_용도_코드_명</th><th>구조_코드</th><th>지붕_코드</th><th>지붕_코드_명</th><th>건축_면적(㎡)_동</th><th>연면적(㎡)_동</th><th>용적_률_산정_연면적(㎡)_동</th><th>관리_층별_개요_PK</th><th>주_용도_코드_층</th><th>주_용도_코드_명_층</th><th>층_번호</th><th>층_면적(㎡)</th><th>층_구분_코드</th><th>층_구분_코드_명</th><th>건축_구분_코드_층</th><th>건축_구분_코드_명_층</th></tr><tr><td>str</td><td>str</td><td>str</td><td>str</td><td>str</td><td>f64</td><td>f64</td><td>f64</td><td>f64</td><td>f64</td><td>f64</td><td>str</td><td>str</td><td>str</td><td>str</td><td>str</td><td>str</td><td>str</td><td>str</td><td>str</td><td>f64</td><td>f64</td><td>f64</td><td>str</td><td>str</td><td>str</td><td>i64</td><td>f64</td><td>str</td><td>str</td><td>str</td><td>str</td></tr></thead><tbody><tr><td>null</td><td>&quot;강파이프구조&quot;</td><td>null</td><td>null</td><td>null</td><td>39733.2</td><td>2317.12</td><td>0.0</td><td>2317.12</td><td>0.0</td><td>0.0</td><td>null</td><td>null</td><td>null</td><td>null</td><td>null</td><td>null</td><td>null</td><td>null</td><td>null</td><td>1114.06</td><td>1114.06</td><td>1114.06</td><td>null</td><td>null</td><td>null</td><td>11</td><td>1022.81</td><td>null</td><td>null</td><td>null</td><td>null</td></tr><tr><td>null</td><td>&quot;경량철골구조&quot;</td><td>null</td><td>null</td><td>null</td><td>3773.8</td><td>192.94</td><td>0.0</td><td>192.94</td><td>0.0</td><td>0.0</td><td>null</td><td>null</td><td>null</td><td>null</td><td>null</td><td>null</td><td>null</td><td>null</td><td>null</td><td>192.948</td><td>192.948</td><td>192.948</td><td>null</td><td>null</td><td>null</td><td>2</td><td>192.948</td><td>null</td><td>null</td><td>null</td><td>null</td></tr><tr><td>null</td><td>&quot;기타강구조&quot;</td><td>null</td><td>null</td><td>null</td><td>71511.0</td><td>45.0</td><td>0.0</td><td>45.0</td><td>0.0</td><td>0.0</td><td>null</td><td>null</td><td>null</td><td>null</td><td>null</td><td>null</td><td>null</td><td>null</td><td>null</td><td>30.0</td><td>30.0</td><td>30.0</td><td>null</td><td>null</td><td>null</td><td>3</td><td>30.0</td><td>null</td><td>null</td><td>null</td><td>null</td></tr><tr><td>null</td><td>&quot;막구조&quot;</td><td>null</td><td>null</td><td>null</td><td>8451.0</td><td>400.0</td><td>0.0</td><td>400.0</td><td>0.0</td><td>0.0</td><td>null</td><td>null</td><td>null</td><td>null</td><td>null</td><td>null</td><td>null</td><td>null</td><td>null</td><td>400.0</td><td>400.0</td><td>400.0</td><td>null</td><td>null</td><td>null</td><td>1</td><td>400.0</td><td>null</td><td>null</td><td>null</td><td>null</td></tr><tr><td>null</td><td>&quot;조립식판넬조&quot;</td><td>null</td><td>null</td><td>null</td><td>296907.4</td><td>332.17</td><td>0.0</td><td>332.17</td><td>0.0</td><td>0.0</td><td>null</td><td>null</td><td>null</td><td>null</td><td>null</td><td>null</td><td>null</td><td>null</td><td>null</td><td>298.17</td><td>298.17</td><td>298.17</td><td>null</td><td>null</td><td>null</td><td>5</td><td>298.17</td><td>null</td><td>null</td><td>null</td><td>null</td></tr><tr><td>null</td><td>&quot;컨테이너조&quot;</td><td>null</td><td>null</td><td>null</td><td>2545251.4</td><td>12924.04</td><td>0.0</td><td>13656.6</td><td>0.0</td><td>0.0</td><td>null</td><td>null</td><td>null</td><td>null</td><td>null</td><td>null</td><td>null</td><td>null</td><td>null</td><td>3070.3</td><td>3457.3</td><td>3442.3</td><td>null</td><td>null</td><td>null</td><td>140</td><td>3361.3</td><td>null</td><td>null</td><td>null</td><td>null</td></tr><tr><td>&quot;신축&quot;</td><td>&quot;경량철골구조&quot;</td><td>null</td><td>null</td><td>null</td><td>33596.0</td><td>4383.63</td><td>517.9981</td><td>4342.28</td><td>4270.28</td><td>502.0187</td><td>null</td><td>null</td><td>null</td><td>null</td><td>null</td><td>null</td><td>null</td><td>null</td><td>null</td><td>2667.09</td><td>2645.84</td><td>2573.84</td><td>null</td><td>null</td><td>null</td><td>31</td><td>2517.62</td><td>null</td><td>null</td><td>null</td><td>null</td></tr><tr><td>&quot;신축&quot;</td><td>&quot;일반철골구조&quot;</td><td>null</td><td>null</td><td>null</td><td>104613.0</td><td>28568.23</td><td>162.76</td><td>47157.89</td><td>47157.89</td><td>204.65</td><td>null</td><td>null</td><td>null</td><td>null</td><td>null</td><td>null</td><td>null</td><td>null</td><td>null</td><td>1832.99</td><td>1832.99</td><td>1832.99</td><td>null</td><td>null</td><td>null</td><td>7</td><td>1832.99</td><td>null</td><td>null</td><td>null</td><td>null</td></tr><tr><td>&quot;신축&quot;</td><td>&quot;철골콘크리트구조&quot;</td><td>null</td><td>null</td><td>null</td><td>479380.0</td><td>134502.2</td><td>278.85</td><td>226908.5</td><td>226908.5</td><td>470.5</td><td>null</td><td>null</td><td>null</td><td>null</td><td>null</td><td>null</td><td>null</td><td>null</td><td>null</td><td>131274.2</td><td>223680.5</td><td>223680.5</td><td>null</td><td>null</td><td>null</td><td>22</td><td>45035.63</td><td>null</td><td>null</td><td>null</td><td>null</td></tr><tr><td>&quot;신축&quot;</td><td>&quot;철근콘크리트구조&quot;</td><td>null</td><td>null</td><td>null</td><td>42059.0</td><td>9224.91</td><td>419.882</td><td>23503.33</td><td>21578.08</td><td>891.66</td><td>null</td><td>null</td><td>null</td><td>null</td><td>null</td><td>null</td><td>null</td><td>null</td><td>null</td><td>8819.41</td><td>23097.83</td><td>21172.58</td><td>null</td><td>null</td><td>null</td><td>30</td><td>5822.03</td><td>null</td><td>null</td><td>null</td><td>null</td></tr><tr><td>&quot;용도변경&quot;</td><td>&quot;경량철골구조&quot;</td><td>null</td><td>null</td><td>null</td><td>2075.0</td><td>172.84</td><td>18.7521</td><td>172.84</td><td>172.84</td><td>18.7521</td><td>null</td><td>null</td><td>null</td><td>null</td><td>null</td><td>null</td><td>null</td><td>null</td><td>null</td><td>84.76</td><td>84.76</td><td>84.76</td><td>null</td><td>null</td><td>null</td><td>2</td><td>84.76</td><td>null</td><td>null</td><td>null</td><td>null</td></tr><tr><td>&quot;용도변경&quot;</td><td>&quot;철골철근콘크리트구조&quot;</td><td>null</td><td>null</td><td>null</td><td>4667.0</td><td>3246.42</td><td>69.56</td><td>43045.071</td><td>23321.975</td><td>499.72</td><td>null</td><td>null</td><td>null</td><td>null</td><td>null</td><td>null</td><td>null</td><td>null</td><td>null</td><td>0.0</td><td>0.0</td><td>0.0</td><td>null</td><td>null</td><td>null</td><td>5</td><td>2908.833</td><td>null</td><td>null</td><td>null</td><td>null</td></tr><tr><td>&quot;용도변경&quot;</td><td>&quot;철근콘크리트구조&quot;</td><td>null</td><td>null</td><td>null</td><td>15294.0</td><td>10475.38</td><td>353.7316</td><td>81710.85</td><td>54253.69</td><td>1661.7195</td><td>null</td><td>null</td><td>null</td><td>null</td><td>null</td><td>null</td><td>null</td><td>null</td><td>null</td><td>2696.76</td><td>51.22</td><td>20923.26</td><td>null</td><td>null</td><td>null</td><td>22</td><td>1712.61</td><td>null</td><td>null</td><td>null</td><td>null</td></tr><tr><td>&quot;증축&quot;</td><td>&quot;강파이프구조&quot;</td><td>null</td><td>null</td><td>null</td><td>7608.0</td><td>3268.3</td><td>85.92</td><td>3268.3</td><td>3268.3</td><td>85.92</td><td>null</td><td>null</td><td>null</td><td>null</td><td>null</td><td>null</td><td>null</td><td>null</td><td>null</td><td>2764.3</td><td>2764.3</td><td>2764.3</td><td>null</td><td>null</td><td>null</td><td>2</td><td>1382.15</td><td>null</td><td>null</td><td>null</td><td>null</td></tr><tr><td>&quot;증축&quot;</td><td>&quot;경량철골구조&quot;</td><td>null</td><td>null</td><td>null</td><td>14584.0</td><td>2969.025</td><td>146.17</td><td>3873.705</td><td>3745.705</td><td>193.81</td><td>null</td><td>null</td><td>null</td><td>null</td><td>null</td><td>null</td><td>null</td><td>null</td><td>null</td><td>168.2</td><td>168.2</td><td>168.2</td><td>null</td><td>null</td><td>null</td><td>6</td><td>168.2</td><td>null</td><td>null</td><td>null</td><td>null</td></tr><tr><td>&quot;증축&quot;</td><td>&quot;일반목구조&quot;</td><td>null</td><td>null</td><td>null</td><td>346308.0</td><td>4415.395</td><td>25.081</td><td>4724.345</td><td>4596.345</td><td>35.23</td><td>null</td><td>null</td><td>null</td><td>null</td><td>null</td><td>null</td><td>null</td><td>null</td><td>null</td><td>418.817</td><td>427.067</td><td>427.067</td><td>null</td><td>null</td><td>null</td><td>11</td><td>426.077</td><td>null</td><td>null</td><td>null</td><td>null</td></tr><tr><td>&quot;증축&quot;</td><td>&quot;일반철골구조&quot;</td><td>null</td><td>null</td><td>null</td><td>11526.0</td><td>2449.66</td><td>124.86</td><td>2584.0</td><td>2584.0</td><td>167.84</td><td>null</td><td>null</td><td>null</td><td>null</td><td>null</td><td>null</td><td>null</td><td>null</td><td>null</td><td>1076.74</td><td>1219.08</td><td>1219.08</td><td>null</td><td>null</td><td>null</td><td>5</td><td>609.54</td><td>null</td><td>null</td><td>null</td><td>null</td></tr><tr><td>&quot;증축&quot;</td><td>&quot;철골철근콘크리트구조&quot;</td><td>null</td><td>null</td><td>null</td><td>38292.5</td><td>13578.29</td><td>35.46</td><td>23897.97</td><td>22238.55</td><td>58.08</td><td>null</td><td>null</td><td>null</td><td>null</td><td>null</td><td>null</td><td>null</td><td>null</td><td>null</td><td>16.8</td><td>16.8</td><td>16.8</td><td>null</td><td>null</td><td>null</td><td>1</td><td>16.8</td><td>null</td><td>null</td><td>null</td><td>null</td></tr><tr><td>&quot;증축&quot;</td><td>&quot;철근콘크리트구조&quot;</td><td>null</td><td>null</td><td>null</td><td>1.475122e6</td><td>197860.915</td><td>764.1935</td><td>776734.845</td><td>722085.745</td><td>2521.773</td><td>null</td><td>null</td><td>null</td><td>null</td><td>null</td><td>null</td><td>null</td><td>null</td><td>null</td><td>6373.39</td><td>25874.81</td><td>23023.61</td><td>null</td><td>null</td><td>null</td><td>135</td><td>3660.68</td><td>null</td><td>null</td><td>null</td><td>null</td></tr></tbody></table></div>"
      ],
      "text/plain": [
       "shape: (19, 32)\n",
       "┌────────────┬────────────┬────────────┬────────────┬───┬────────────┬────────────┬────────────┬────────────┐\n",
       "│ 건축_구분_ ┆ 구조_코드_ ┆ 관리_허가  ┆ 시군구_코  ┆ … ┆ 층_구분_코 ┆ 층_구분_코 ┆ 건축_구분_ ┆ 건축_구분_ │\n",
       "│ 코드_명    ┆ 명         ┆ 대장_PK    ┆ 드         ┆   ┆ 드         ┆ 드_명      ┆ 코드_층    ┆ 코드_명_층 │\n",
       "│ ---        ┆ ---        ┆ ---        ┆ ---        ┆   ┆ ---        ┆ ---        ┆ ---        ┆ ---        │\n",
       "│ str        ┆ str        ┆ str        ┆ str        ┆   ┆ str        ┆ str        ┆ str        ┆ str        │\n",
       "╞════════════╪════════════╪════════════╪════════════╪═══╪════════════╪════════════╪════════════╪════════════╡\n",
       "│ null       ┆ 강파이프구 ┆ null       ┆ null       ┆ … ┆ null       ┆ null       ┆ null       ┆ null       │\n",
       "│            ┆ 조         ┆            ┆            ┆   ┆            ┆            ┆            ┆            │\n",
       "│ null       ┆ 경량철골구 ┆ null       ┆ null       ┆ … ┆ null       ┆ null       ┆ null       ┆ null       │\n",
       "│            ┆ 조         ┆            ┆            ┆   ┆            ┆            ┆            ┆            │\n",
       "│ null       ┆ 기타강구조 ┆ null       ┆ null       ┆ … ┆ null       ┆ null       ┆ null       ┆ null       │\n",
       "│ null       ┆ 막구조     ┆ null       ┆ null       ┆ … ┆ null       ┆ null       ┆ null       ┆ null       │\n",
       "│ …          ┆ …          ┆ …          ┆ …          ┆ … ┆ …          ┆ …          ┆ …          ┆ …          │\n",
       "│ 증축       ┆ 일반목구조 ┆ null       ┆ null       ┆ … ┆ null       ┆ null       ┆ null       ┆ null       │\n",
       "│ 증축       ┆ 일반철골구 ┆ null       ┆ null       ┆ … ┆ null       ┆ null       ┆ null       ┆ null       │\n",
       "│            ┆ 조         ┆            ┆            ┆   ┆            ┆            ┆            ┆            │\n",
       "│ 증축       ┆ 철골철근콘 ┆ null       ┆ null       ┆ … ┆ null       ┆ null       ┆ null       ┆ null       │\n",
       "│            ┆ 크리트구조 ┆            ┆            ┆   ┆            ┆            ┆            ┆            │\n",
       "│ 증축       ┆ 철근콘크리 ┆ null       ┆ null       ┆ … ┆ null       ┆ null       ┆ null       ┆ null       │\n",
       "│            ┆ 트구조     ┆            ┆            ┆   ┆            ┆            ┆            ┆            │\n",
       "└────────────┴────────────┴────────────┴────────────┴───┴────────────┴────────────┴────────────┴────────────┘"
      ]
     },
     "execution_count": 85,
     "metadata": {},
     "output_type": "execute_result"
    }
   ],
   "source": [
    "df_floor_sejong_202212.groupby([\"건축_구분_코드_명\", \"구조_코드_명\"]).sum().sort(\n",
    "    [\"건축_구분_코드_명\", \"구조_코드_명\"]\n",
    ")\n"
   ]
  },
  {
   "cell_type": "code",
   "execution_count": 87,
   "metadata": {},
   "outputs": [],
   "source": [
    "df_202212 = (\n",
    "    df_master.filter(pl.col(\"건축_허가_일\").str.starts_with(\"202212\"))\n",
    "    .join(df_dong, \"관리_허가대장_PK\", suffix=\"_동\")\n",
    "    .join(df_floor, \"관리_동별_개요_PK\", suffix=\"_층\")\n",
    ")\n"
   ]
  },
  {
   "cell_type": "code",
   "execution_count": 104,
   "metadata": {},
   "outputs": [
    {
     "data": {
      "text/html": [
       "<div><style>\n",
       ".dataframe > thead > tr > th,\n",
       ".dataframe > tbody > tr > td {\n",
       "  text-align: right;\n",
       "}\n",
       "</style>\n",
       "<small>shape: (20, 8)</small><table border=\"1\" class=\"dataframe\"><thead><tr><th>관리_허가대장_PK</th><th>관리_동별_개요_PK</th><th>관리_층별_개요_PK</th><th>주_용도_코드</th><th>주_용도_코드_명</th><th>주_용도_코드_층</th><th>주_용도_코드_명_층</th><th>층_면적(㎡)</th></tr><tr><td>str</td><td>str</td><td>str</td><td>str</td><td>str</td><td>str</td><td>str</td><td>f64</td></tr></thead><tbody><tr><td>&quot;11000-10000000…</td><td>&quot;11000-10000000…</td><td>&quot;11000-10000000…</td><td>&quot;02000&quot;</td><td>&quot;공동주택&quot;</td><td>&quot;02005&quot;</td><td>&quot;부대시설&quot;</td><td>239.9274</td></tr><tr><td>&quot;11000-10000000…</td><td>&quot;11000-10000000…</td><td>&quot;11000-10000000…</td><td>&quot;02000&quot;</td><td>&quot;공동주택&quot;</td><td>&quot;02001&quot;</td><td>&quot;아파트&quot;</td><td>678.4546</td></tr><tr><td>&quot;11000-10000000…</td><td>&quot;11000-10000000…</td><td>&quot;11000-10000000…</td><td>&quot;02000&quot;</td><td>&quot;공동주택&quot;</td><td>&quot;02001&quot;</td><td>&quot;아파트&quot;</td><td>703.3728</td></tr><tr><td>&quot;11000-10000000…</td><td>&quot;11000-10000000…</td><td>&quot;11000-10000000…</td><td>&quot;02000&quot;</td><td>&quot;공동주택&quot;</td><td>&quot;02001&quot;</td><td>&quot;아파트&quot;</td><td>64.71</td></tr><tr><td>&quot;11000-10000000…</td><td>&quot;11000-10000000…</td><td>&quot;11000-10000000…</td><td>&quot;02000&quot;</td><td>&quot;공동주택&quot;</td><td>&quot;02005&quot;</td><td>&quot;부대시설&quot;</td><td>229.0583</td></tr><tr><td>&quot;11000-10000000…</td><td>&quot;11000-10000000…</td><td>&quot;11000-10000000…</td><td>&quot;02000&quot;</td><td>&quot;공동주택&quot;</td><td>&quot;02001&quot;</td><td>&quot;아파트&quot;</td><td>1412.3156</td></tr><tr><td>&quot;11000-10000000…</td><td>&quot;11000-10000000…</td><td>&quot;11000-10000000…</td><td>&quot;02000&quot;</td><td>&quot;공동주택&quot;</td><td>&quot;02001&quot;</td><td>&quot;아파트&quot;</td><td>678.4546</td></tr><tr><td>&quot;11000-10000000…</td><td>&quot;11000-10000000…</td><td>&quot;11000-10000000…</td><td>&quot;02000&quot;</td><td>&quot;공동주택&quot;</td><td>&quot;02001&quot;</td><td>&quot;아파트&quot;</td><td>243.4553</td></tr><tr><td>&quot;11000-10000000…</td><td>&quot;11000-10000000…</td><td>&quot;11000-10000000…</td><td>&quot;02000&quot;</td><td>&quot;공동주택&quot;</td><td>&quot;02001&quot;</td><td>&quot;아파트&quot;</td><td>633.6946</td></tr><tr><td>&quot;11000-10000000…</td><td>&quot;11000-10000000…</td><td>&quot;11000-10000000…</td><td>&quot;02000&quot;</td><td>&quot;공동주택&quot;</td><td>&quot;02001&quot;</td><td>&quot;아파트&quot;</td><td>678.4546</td></tr><tr><td>&quot;11000-10000000…</td><td>&quot;11000-10000000…</td><td>&quot;11000-10000000…</td><td>&quot;02000&quot;</td><td>&quot;공동주택&quot;</td><td>&quot;02001&quot;</td><td>&quot;아파트&quot;</td><td>678.4546</td></tr><tr><td>&quot;11000-10000000…</td><td>&quot;11000-10000000…</td><td>&quot;11000-10000000…</td><td>&quot;02000&quot;</td><td>&quot;공동주택&quot;</td><td>&quot;04001&quot;</td><td>&quot;일반음식점&quot;</td><td>161.4036</td></tr><tr><td>&quot;11000-10000000…</td><td>&quot;11000-10000000…</td><td>&quot;11000-10000000…</td><td>&quot;02000&quot;</td><td>&quot;공동주택&quot;</td><td>&quot;02001&quot;</td><td>&quot;아파트&quot;</td><td>1422.5008</td></tr><tr><td>&quot;11000-10000000…</td><td>&quot;11000-10000000…</td><td>&quot;11000-10000000…</td><td>&quot;02000&quot;</td><td>&quot;공동주택&quot;</td><td>&quot;04001&quot;</td><td>&quot;일반음식점&quot;</td><td>762.3981</td></tr><tr><td>&quot;11000-10000000…</td><td>&quot;11000-10000000…</td><td>&quot;11000-10000000…</td><td>&quot;02000&quot;</td><td>&quot;공동주택&quot;</td><td>&quot;04001&quot;</td><td>&quot;일반음식점&quot;</td><td>278.935</td></tr><tr><td>&quot;11000-10000000…</td><td>&quot;11000-10000000…</td><td>&quot;11000-10000000…</td><td>&quot;02000&quot;</td><td>&quot;공동주택&quot;</td><td>&quot;04999&quot;</td><td>&quot;기타제2종근린생활시설&quot;</td><td>908.1842</td></tr><tr><td>&quot;11000-10000000…</td><td>&quot;11000-10000000…</td><td>&quot;11000-10000000…</td><td>&quot;02000&quot;</td><td>&quot;공동주택&quot;</td><td>&quot;02001&quot;</td><td>&quot;아파트&quot;</td><td>673.4577</td></tr><tr><td>&quot;11000-10000000…</td><td>&quot;11000-10000000…</td><td>&quot;11000-10000000…</td><td>&quot;02000&quot;</td><td>&quot;공동주택&quot;</td><td>&quot;02001&quot;</td><td>&quot;아파트&quot;</td><td>678.4546</td></tr><tr><td>&quot;11000-10000000…</td><td>&quot;11000-10000000…</td><td>&quot;11000-10000000…</td><td>&quot;02000&quot;</td><td>&quot;공동주택&quot;</td><td>&quot;02001&quot;</td><td>&quot;아파트&quot;</td><td>678.4546</td></tr><tr><td>&quot;11000-10000000…</td><td>&quot;11000-10000000…</td><td>&quot;11000-10000000…</td><td>&quot;02000&quot;</td><td>&quot;공동주택&quot;</td><td>&quot;02001&quot;</td><td>&quot;아파트&quot;</td><td>678.4546</td></tr></tbody></table></div>"
      ],
      "text/plain": [
       "shape: (20, 8)\n",
       "┌────────────┬────────────┬────────────┬────────────┬────────────┬────────────┬────────────┬────────────┐\n",
       "│ 관리_허가  ┆ 관리_동별_ ┆ 관리_층별_ ┆ 주_용도_코 ┆ 주_용도_코 ┆ 주_용도_코 ┆ 주_용도_코 ┆ 층_면적(㎡ │\n",
       "│ 대장_PK    ┆ 개요_PK    ┆ 개요_PK    ┆ 드         ┆ 드_명      ┆ 드_층      ┆ 드_명_층   ┆ )          │\n",
       "│ ---        ┆ ---        ┆ ---        ┆ ---        ┆ ---        ┆ ---        ┆ ---        ┆ ---        │\n",
       "│ str        ┆ str        ┆ str        ┆ str        ┆ str        ┆ str        ┆ str        ┆ f64        │\n",
       "╞════════════╪════════════╪════════════╪════════════╪════════════╪════════════╪════════════╪════════════╡\n",
       "│ 11000-1000 ┆ 11000-1000 ┆ 11000-1000 ┆ 02000      ┆ 공동주택   ┆ 02005      ┆ 부대시설   ┆ 239.9274   │\n",
       "│ 0000000000 ┆ 0000000000 ┆ 0000000000 ┆            ┆            ┆            ┆            ┆            │\n",
       "│ 00183862   ┆ 00412847   ┆ 00332157   ┆            ┆            ┆            ┆            ┆            │\n",
       "│ 11000-1000 ┆ 11000-1000 ┆ 11000-1000 ┆ 02000      ┆ 공동주택   ┆ 02001      ┆ 아파트     ┆ 678.4546   │\n",
       "│ 0000000000 ┆ 0000000000 ┆ 0000000000 ┆            ┆            ┆            ┆            ┆            │\n",
       "│ 00183862   ┆ 00412847   ┆ 00332156   ┆            ┆            ┆            ┆            ┆            │\n",
       "│ 11000-1000 ┆ 11000-1000 ┆ 11000-1000 ┆ 02000      ┆ 공동주택   ┆ 02001      ┆ 아파트     ┆ 703.3728   │\n",
       "│ 0000000000 ┆ 0000000000 ┆ 0000000000 ┆            ┆            ┆            ┆            ┆            │\n",
       "│ 00183862   ┆ 00412847   ┆ 00332105   ┆            ┆            ┆            ┆            ┆            │\n",
       "│ 11000-1000 ┆ 11000-1000 ┆ 11000-1000 ┆ 02000      ┆ 공동주택   ┆ 02001      ┆ 아파트     ┆ 64.71      │\n",
       "│ 0000000000 ┆ 0000000000 ┆ 0000000000 ┆            ┆            ┆            ┆            ┆            │\n",
       "│ 00183862   ┆ 00412847   ┆ 00332104   ┆            ┆            ┆            ┆            ┆            │\n",
       "│ …          ┆ …          ┆ …          ┆ …          ┆ …          ┆ …          ┆ …          ┆ …          │\n",
       "│ 11000-1000 ┆ 11000-1000 ┆ 11000-1000 ┆ 02000      ┆ 공동주택   ┆ 02001      ┆ 아파트     ┆ 673.4577   │\n",
       "│ 0000000000 ┆ 0000000000 ┆ 0000000000 ┆            ┆            ┆            ┆            ┆            │\n",
       "│ 00183862   ┆ 00412847   ┆ 00332091   ┆            ┆            ┆            ┆            ┆            │\n",
       "│ 11000-1000 ┆ 11000-1000 ┆ 11000-1000 ┆ 02000      ┆ 공동주택   ┆ 02001      ┆ 아파트     ┆ 678.4546   │\n",
       "│ 0000000000 ┆ 0000000000 ┆ 0000000000 ┆            ┆            ┆            ┆            ┆            │\n",
       "│ 00183862   ┆ 00412847   ┆ 00332090   ┆            ┆            ┆            ┆            ┆            │\n",
       "│ 11000-1000 ┆ 11000-1000 ┆ 11000-1000 ┆ 02000      ┆ 공동주택   ┆ 02001      ┆ 아파트     ┆ 678.4546   │\n",
       "│ 0000000000 ┆ 0000000000 ┆ 0000000000 ┆            ┆            ┆            ┆            ┆            │\n",
       "│ 00183862   ┆ 00412847   ┆ 00332089   ┆            ┆            ┆            ┆            ┆            │\n",
       "│ 11000-1000 ┆ 11000-1000 ┆ 11000-1000 ┆ 02000      ┆ 공동주택   ┆ 02001      ┆ 아파트     ┆ 678.4546   │\n",
       "│ 0000000000 ┆ 0000000000 ┆ 0000000000 ┆            ┆            ┆            ┆            ┆            │\n",
       "│ 00183862   ┆ 00412847   ┆ 00332088   ┆            ┆            ┆            ┆            ┆            │\n",
       "└────────────┴────────────┴────────────┴────────────┴────────────┴────────────┴────────────┴────────────┘"
      ]
     },
     "execution_count": 104,
     "metadata": {},
     "output_type": "execute_result"
    }
   ],
   "source": [
    "df_202212.select(\n",
    "    [\n",
    "        \"관리_허가대장_PK\",\n",
    "        \"관리_동별_개요_PK\",\n",
    "        \"관리_층별_개요_PK\",\n",
    "        \"주_용도_코드\",\n",
    "        \"주_용도_코드_명\",\n",
    "        \"주_용도_코드_층\",\n",
    "        \"주_용도_코드_명_층\",\n",
    "        \"층_면적(㎡)\",\n",
    "    ]\n",
    ").sort(\"관리_허가대장_PK\").head(20)\n"
   ]
  },
  {
   "cell_type": "code",
   "execution_count": 107,
   "metadata": {},
   "outputs": [
    {
     "data": {
      "text/html": [
       "<div><style>\n",
       ".dataframe > thead > tr > th,\n",
       ".dataframe > tbody > tr > td {\n",
       "  text-align: right;\n",
       "}\n",
       "</style>\n",
       "<small>shape: (34, 4)</small><table border=\"1\" class=\"dataframe\"><thead><tr><th>층_용도_코드_대분류</th><th>주_용도_코드_층</th><th>주_용도_코드_명_층</th><th>층_면적(㎡)</th></tr><tr><td>str</td><td>str</td><td>str</td><td>f64</td></tr></thead><tbody><tr><td>&quot;28&quot;</td><td>null</td><td>null</td><td>781774.5337</td></tr><tr><td>&quot;23&quot;</td><td>null</td><td>null</td><td>59647.3275</td></tr><tr><td>&quot;10&quot;</td><td>null</td><td>null</td><td>328070.8959</td></tr><tr><td>&quot;29&quot;</td><td>null</td><td>null</td><td>1980.29</td></tr><tr><td>&quot;04&quot;</td><td>null</td><td>null</td><td>849100.44677</td></tr><tr><td>&quot;07&quot;</td><td>null</td><td>null</td><td>108453.6994</td></tr><tr><td>&quot;02&quot;</td><td>null</td><td>null</td><td>722936.0854</td></tr><tr><td>&quot;31&quot;</td><td>null</td><td>null</td><td>5631.27</td></tr><tr><td>&quot;12&quot;</td><td>null</td><td>null</td><td>11208.94</td></tr><tr><td>&quot;20&quot;</td><td>null</td><td>null</td><td>212966.0048</td></tr><tr><td>&quot;19&quot;</td><td>null</td><td>null</td><td>11167.05</td></tr><tr><td>&quot;26&quot;</td><td>null</td><td>null</td><td>4182.59</td></tr><tr><td>&hellip;</td><td>&hellip;</td><td>&hellip;</td><td>&hellip;</td></tr><tr><td>&quot;16&quot;</td><td>null</td><td>null</td><td>13104.5743</td></tr><tr><td>&quot;15&quot;</td><td>null</td><td>null</td><td>222356.9904</td></tr><tr><td>&quot;30&quot;</td><td>null</td><td>null</td><td>47262.065</td></tr><tr><td>&quot;13&quot;</td><td>null</td><td>null</td><td>151530.6494</td></tr><tr><td>&quot;24&quot;</td><td>null</td><td>null</td><td>93353.54</td></tr><tr><td>&quot;21&quot;</td><td>null</td><td>null</td><td>333316.575</td></tr><tr><td>&quot;22&quot;</td><td>null</td><td>null</td><td>177.16</td></tr><tr><td>&quot;09&quot;</td><td>null</td><td>null</td><td>138622.2014</td></tr><tr><td>&quot;08&quot;</td><td>null</td><td>null</td><td>3571.49</td></tr><tr><td>&quot;Z8&quot;</td><td>null</td><td>null</td><td>7931.505</td></tr><tr><td>&quot;27&quot;</td><td>null</td><td>null</td><td>20697.175</td></tr><tr><td>&quot;06&quot;</td><td>null</td><td>null</td><td>71868.407</td></tr></tbody></table></div>"
      ],
      "text/plain": [
       "shape: (34, 4)\n",
       "┌─────────────────────┬─────────────────┬────────────────────┬─────────────┐\n",
       "│ 층_용도_코드_대분류 ┆ 주_용도_코드_층 ┆ 주_용도_코드_명_층 ┆ 층_면적(㎡) │\n",
       "│ ---                 ┆ ---             ┆ ---                ┆ ---         │\n",
       "│ str                 ┆ str             ┆ str                ┆ f64         │\n",
       "╞═════════════════════╪═════════════════╪════════════════════╪═════════════╡\n",
       "│ 28                  ┆ null            ┆ null               ┆ 781774.5337 │\n",
       "│ 23                  ┆ null            ┆ null               ┆ 59647.3275  │\n",
       "│ 10                  ┆ null            ┆ null               ┆ 328070.8959 │\n",
       "│ 29                  ┆ null            ┆ null               ┆ 1980.29     │\n",
       "│ …                   ┆ …               ┆ …                  ┆ …           │\n",
       "│ 08                  ┆ null            ┆ null               ┆ 3571.49     │\n",
       "│ Z8                  ┆ null            ┆ null               ┆ 7931.505    │\n",
       "│ 27                  ┆ null            ┆ null               ┆ 20697.175   │\n",
       "│ 06                  ┆ null            ┆ null               ┆ 71868.407   │\n",
       "└─────────────────────┴─────────────────┴────────────────────┴─────────────┘"
      ]
     },
     "execution_count": 107,
     "metadata": {},
     "output_type": "execute_result"
    }
   ],
   "source": [
    "df_202212.select([\"주_용도_코드_층\", \"주_용도_코드_명_층\", \"층_면적(㎡)\"]).with_columns(\n",
    "    pl.col(\"주_용도_코드_층\").str.slice(0, 2).alias(\"층_용도_코드_대분류\")\n",
    ").groupby([\"층_용도_코드_대분류\"]).sum()\n"
   ]
  },
  {
   "cell_type": "code",
   "execution_count": null,
   "metadata": {},
   "outputs": [],
   "source": []
  }
 ],
 "metadata": {
  "kernelspec": {
   "display_name": "venv",
   "language": "python",
   "name": "python3"
  },
  "language_info": {
   "codemirror_mode": {
    "name": "ipython",
    "version": 3
   },
   "file_extension": ".py",
   "mimetype": "text/x-python",
   "name": "python",
   "nbconvert_exporter": "python",
   "pygments_lexer": "ipython3",
   "version": "3.11.1"
  },
  "orig_nbformat": 4
 },
 "nbformat": 4,
 "nbformat_minor": 2
}
