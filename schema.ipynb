{
 "cells": [
  {
   "cell_type": "code",
   "execution_count": 1,
   "metadata": {},
   "outputs": [],
   "source": [
    "import polars as pl"
   ]
  },
  {
   "cell_type": "code",
   "execution_count": 2,
   "metadata": {},
   "outputs": [
    {
     "name": "stdout",
     "output_type": "stream",
     "text": [
      "data\\schema\\데이터구조_건축인허가_가설건축물.xls <class 'pathlib.WindowsPath'>\n",
      "data\\schema\\데이터구조_건축인허가_공작물관리대장.xls <class 'pathlib.WindowsPath'>\n",
      "data\\schema\\데이터구조_건축인허가_기본개요.xls <class 'pathlib.WindowsPath'>\n",
      "data\\schema\\데이터구조_건축인허가_대수선.xls <class 'pathlib.WindowsPath'>\n",
      "data\\schema\\데이터구조_건축인허가_대지위치.xls <class 'pathlib.WindowsPath'>\n",
      "data\\schema\\데이터구조_건축인허가_도로대장.xls <class 'pathlib.WindowsPath'>\n",
      "data\\schema\\데이터구조_건축인허가_동별개요.xls <class 'pathlib.WindowsPath'>\n",
      "data\\schema\\데이터구조_건축인허가_부설주차장.xls <class 'pathlib.WindowsPath'>\n",
      "data\\schema\\데이터구조_건축인허가_오수정화시설.xls <class 'pathlib.WindowsPath'>\n",
      "data\\schema\\데이터구조_건축인허가_전유공용면적.xls <class 'pathlib.WindowsPath'>\n",
      "data\\schema\\데이터구조_건축인허가_주차장.xls <class 'pathlib.WindowsPath'>\n",
      "data\\schema\\데이터구조_건축인허가_주택유형.xls <class 'pathlib.WindowsPath'>\n",
      "data\\schema\\데이터구조_건축인허가_지역지구구역.xls <class 'pathlib.WindowsPath'>\n",
      "data\\schema\\데이터구조_건축인허가_철거멸실관리대장.xls <class 'pathlib.WindowsPath'>\n",
      "data\\schema\\데이터구조_건축인허가_층별개요.xls <class 'pathlib.WindowsPath'>\n",
      "data\\schema\\데이터구조_건축인허가_호별개요.xls <class 'pathlib.WindowsPath'>\n",
      "data\\schema\\데이터구조_건축인허가_호별전유공용면적.xls <class 'pathlib.WindowsPath'>\n",
      "data\\schema\\데이터구조_주택인허가_관리공동부대복리시설.xls <class 'pathlib.WindowsPath'>\n",
      "data\\schema\\데이터구조_주택인허가_관리공동형별개요.xls <class 'pathlib.WindowsPath'>\n",
      "data\\schema\\데이터구조_주택인허가_기본개요.xls <class 'pathlib.WindowsPath'>\n",
      "data\\schema\\데이터구조_주택인허가_대지위치.xls <class 'pathlib.WindowsPath'>\n",
      "data\\schema\\데이터구조_주택인허가_동별개요.xls <class 'pathlib.WindowsPath'>\n",
      "data\\schema\\데이터구조_주택인허가_복리분양시설.xls <class 'pathlib.WindowsPath'>\n",
      "data\\schema\\데이터구조_주택인허가_부대시설.xls <class 'pathlib.WindowsPath'>\n",
      "data\\schema\\데이터구조_주택인허가_부설주차장.xls <class 'pathlib.WindowsPath'>\n",
      "data\\schema\\데이터구조_주택인허가_오수정화시설.xls <class 'pathlib.WindowsPath'>\n",
      "data\\schema\\데이터구조_주택인허가_전유공용면적.xls <class 'pathlib.WindowsPath'>\n",
      "data\\schema\\데이터구조_주택인허가_주차장.xls <class 'pathlib.WindowsPath'>\n",
      "data\\schema\\데이터구조_주택인허가_지역지구구역.xls <class 'pathlib.WindowsPath'>\n",
      "data\\schema\\데이터구조_주택인허가_층별개요.xls <class 'pathlib.WindowsPath'>\n",
      "data\\schema\\데이터구조_주택인허가_행위개요.xls <class 'pathlib.WindowsPath'>\n",
      "data\\schema\\데이터구조_주택인허가_행위호전유면적.xls <class 'pathlib.WindowsPath'>\n",
      "data\\schema\\데이터구조_주택인허가_호별개요.xls <class 'pathlib.WindowsPath'>\n"
     ]
    }
   ],
   "source": [
    "from pathlib import Path\n",
    "\n",
    "schema_dir = Path(\"data/schema\")\n",
    "schema_files = list(schema_dir.glob('*.xls'))\n",
    "\n",
    "for file in schema_files:\n",
    "    print(str(file), type(file))\n"
   ]
  },
  {
   "cell_type": "code",
   "execution_count": 3,
   "metadata": {},
   "outputs": [],
   "source": [
    "# file = schema_files[0]\n",
    "\n",
    "# schema_read_options = {'skip_rows': 1}\n",
    "\n",
    "# pl.read_excel(file, read_csv_options=schema_read_options)"
   ]
  },
  {
   "cell_type": "code",
   "execution_count": null,
   "metadata": {},
   "outputs": [],
   "source": [
    "# import openpyxl\n",
    "\n",
    "# workbook = openpyxl.load_workbook(file)\n",
    "# worksheet = workbook.active"
   ]
  },
  {
   "cell_type": "code",
   "execution_count": 5,
   "metadata": {},
   "outputs": [
    {
     "name": "stdout",
     "output_type": "stream",
     "text": [
      "[text:'데이터구조', empty:'', empty:'']\n",
      "[text:'컬럼 한글명', text:'데이터 타입', text:'비고']\n",
      "[text:'관리_호별_명세_PK', text:'VARCHAR(33)', empty:'']\n",
      "[text:'관리_동별_개요_PK', text:'VARCHAR(33)', empty:'']\n",
      "[text:'대지_위치', text:'VARCHAR(500)', empty:'']\n",
      "[text:'건물_명', text:'VARCHAR(100)', empty:'']\n",
      "[text:'시군구_코드', text:'VARCHAR(5)', empty:'']\n",
      "[text:'법정동_코드', text:'VARCHAR(5)', empty:'']\n",
      "[text:'대지_구분_코드', text:'VARCHAR(1)', empty:'']\n",
      "[text:'번', text:'VARCHAR(4)', empty:'']\n",
      "[text:'지', text:'VARCHAR(4)', empty:'']\n",
      "[text:'특수지_명', text:'VARCHAR(200)', empty:'']\n",
      "[text:'블록', text:'VARCHAR(20)', empty:'']\n",
      "[text:'로트', text:'VARCHAR(20)', empty:'']\n",
      "[text:'동명', text:'VARCHAR(100)', empty:'']\n",
      "[text:'층_번호', text:'NUMERIC(4)', empty:'']\n",
      "[text:'층_구분_코드', text:'VARCHAR(2)', empty:'']\n",
      "[text:'층_구분_코드_명', text:'VARCHAR(100)', empty:'']\n",
      "[text:'호_번호', text:'NUMERIC(6)', empty:'']\n",
      "[text:'호_명', text:'VARCHAR(100)', empty:'']\n",
      "[text:'평형_구분_명', text:'VARCHAR(100)', empty:'']\n",
      "[text:'변경_구분_코드', text:'CHAR(1)', empty:'']\n",
      "[text:'변경_구분_코드_명', text:'VARCHAR(100)', empty:'']\n",
      "[text:'생성_일자', text:'VARCHAR(8)', empty:'']\n"
     ]
    }
   ],
   "source": [
    "import xlrd\n",
    "\n",
    "book = xlrd.open_workbook(file)\n",
    "sheet = book.sheet_by_index(0)\n",
    "for rowx in range(sheet.nrows):\n",
    "    print(sheet.row(rowx))"
   ]
  },
  {
   "cell_type": "code",
   "execution_count": 16,
   "metadata": {},
   "outputs": [
    {
     "data": {
      "text/plain": [
       "True"
      ]
     },
     "execution_count": 16,
     "metadata": {},
     "output_type": "execute_result"
    }
   ],
   "source": [
    "[cell.value for cell in sheet.row(1)] == ['컬럼 한글명', '데이터 타입', '비고']"
   ]
  },
  {
   "cell_type": "code",
   "execution_count": 11,
   "metadata": {},
   "outputs": [
    {
     "name": "stdout",
     "output_type": "stream",
     "text": [
      "관리_호별_명세_PK\n",
      "관리_동별_개요_PK\n",
      "대지_위치\n",
      "건물_명\n",
      "시군구_코드\n",
      "법정동_코드\n",
      "대지_구분_코드\n",
      "번\n",
      "지\n",
      "특수지_명\n",
      "블록\n",
      "로트\n",
      "동명\n",
      "층_번호\n",
      "층_구분_코드\n",
      "층_구분_코드_명\n",
      "호_번호\n",
      "호_명\n",
      "평형_구분_명\n",
      "변경_구분_코드\n",
      "변경_구분_코드_명\n",
      "생성_일자\n"
     ]
    }
   ],
   "source": [
    "for row_idx in range(2, sheet.nrows):\n",
    "    print(sheet.cell_value(row_idx, 0))"
   ]
  },
  {
   "cell_type": "code",
   "execution_count": 17,
   "metadata": {},
   "outputs": [
    {
     "name": "stdout",
     "output_type": "stream",
     "text": [
      "VARCHAR(33)\n",
      "VARCHAR(33)\n",
      "VARCHAR(500)\n",
      "VARCHAR(100)\n",
      "VARCHAR(5)\n",
      "VARCHAR(5)\n",
      "VARCHAR(1)\n",
      "VARCHAR(4)\n",
      "VARCHAR(4)\n",
      "VARCHAR(200)\n",
      "VARCHAR(20)\n",
      "VARCHAR(20)\n",
      "VARCHAR(100)\n",
      "NUMERIC(4)\n",
      "VARCHAR(2)\n",
      "VARCHAR(100)\n",
      "NUMERIC(6)\n",
      "VARCHAR(100)\n",
      "VARCHAR(100)\n",
      "CHAR(1)\n",
      "VARCHAR(100)\n",
      "VARCHAR(8)\n"
     ]
    }
   ],
   "source": [
    "for row_idx in range(2, sheet.nrows):\n",
    "    print(sheet.cell_value(row_idx, 1))"
   ]
  },
  {
   "cell_type": "code",
   "execution_count": 18,
   "metadata": {},
   "outputs": [
    {
     "name": "stdout",
     "output_type": "stream",
     "text": [
      "Utf8\n",
      "Utf8\n",
      "Float64\n",
      "Int64\n"
     ]
    }
   ],
   "source": [
    "import re\n",
    "\n",
    "tests = [\n",
    "    \"VARCHAR(100)\",\n",
    "    \"CHAR(1)\",\n",
    "    \"NUMERIC(19,9)\",\n",
    "    \"NUMERIC(5)\",\n",
    "]\n",
    "\n",
    "def get_polars_type(dtype_openeais: str):\n",
    "    split_characters = r\"[(,)]\"\n",
    "\n",
    "    substrings = re.split(split_characters, dtype_openeais)\n",
    "\n",
    "    if substrings[0] in [\"VARCHAR\", \"CHAR\"]:\n",
    "        return pl.Utf8\n",
    "    elif substrings[0] in [\"NUMERIC\"]:\n",
    "        if ',' in dtype_openeais:\n",
    "            return pl.Float64\n",
    "        else:\n",
    "            return pl.Int64\n",
    "    else:\n",
    "        raise\n",
    "\n",
    "for t in tests:\n",
    "    print(get_polars_type(t))"
   ]
  },
  {
   "cell_type": "code",
   "execution_count": 19,
   "metadata": {},
   "outputs": [
    {
     "data": {
      "text/plain": [
       "WindowsPath('data/schema/데이터구조_주택인허가_호별개요.xls')"
      ]
     },
     "execution_count": 19,
     "metadata": {},
     "output_type": "execute_result"
    }
   ],
   "source": [
    "file"
   ]
  },
  {
   "cell_type": "code",
   "execution_count": 20,
   "metadata": {},
   "outputs": [
    {
     "data": {
      "text/plain": [
       "'데이터구조_주택인허가_호별개요.xls'"
      ]
     },
     "execution_count": 20,
     "metadata": {},
     "output_type": "execute_result"
    }
   ],
   "source": [
    "file.name"
   ]
  },
  {
   "cell_type": "code",
   "execution_count": 25,
   "metadata": {},
   "outputs": [],
   "source": [
    "substrings_name = re.split(r\"[_ \\.]\", str(file.name))"
   ]
  },
  {
   "cell_type": "code",
   "execution_count": 26,
   "metadata": {},
   "outputs": [
    {
     "data": {
      "text/plain": [
       "['데이터구조', '주택인허가', '호별개요', 'xls']"
      ]
     },
     "execution_count": 26,
     "metadata": {},
     "output_type": "execute_result"
    }
   ],
   "source": [
    "substrings_name"
   ]
  },
  {
   "cell_type": "code",
   "execution_count": 28,
   "metadata": {},
   "outputs": [
    {
     "data": {
      "text/plain": [
       "'schema_주택인허가_호별개요'"
      ]
     },
     "execution_count": 28,
     "metadata": {},
     "output_type": "execute_result"
    }
   ],
   "source": [
    "\"_\".join([\"schema\"]+substrings_name[1:3])"
   ]
  },
  {
   "cell_type": "code",
   "execution_count": 30,
   "metadata": {},
   "outputs": [
    {
     "data": {
      "text/plain": [
       "WindowsPath('data/schema/schema_주택인허가_호별개요.csv')"
      ]
     },
     "execution_count": 30,
     "metadata": {},
     "output_type": "execute_result"
    }
   ],
   "source": [
    "schema_dir / (\"_\".join([\"schema\"]+substrings_name[1:3])+\".csv\")"
   ]
  },
  {
   "cell_type": "code",
   "execution_count": 32,
   "metadata": {},
   "outputs": [],
   "source": [
    "import csv\n",
    "\n",
    "\n"
   ]
  },
  {
   "cell_type": "code",
   "execution_count": 34,
   "metadata": {},
   "outputs": [],
   "source": [
    "schema_dir = Path(\"data/schema\")\n",
    "schema_files = list(schema_dir.glob(\"*.xls\"))\n",
    "\n",
    "for file in schema_files:\n",
    "    substrings_name = re.split(r\"[_ \\.]\", str(file.name))\n",
    "    \n",
    "    with open(\n",
    "        schema_dir / (\"_\".join([\"schema\"] + substrings_name[1:3]) + \".csv\"),\n",
    "        \"w\",\n",
    "        newline=\"\",\n",
    "        encoding=\"utf-8-sig\",\n",
    "    ) as f:\n",
    "        writer = csv.writer(f)\n",
    "        for row_idx in range(2, sheet.nrows):\n",
    "            writer.writerow(\n",
    "                [sheet.cell_value(row_idx, col_idx) for col_idx in range(2)]\n",
    "            )\n"
   ]
  },
  {
   "cell_type": "code",
   "execution_count": 47,
   "metadata": {},
   "outputs": [],
   "source": [
    "df = pl.read_csv('data\\schema\\schema_건축인허가_주차장.csv', has_header=False)"
   ]
  },
  {
   "cell_type": "code",
   "execution_count": 50,
   "metadata": {},
   "outputs": [
    {
     "data": {
      "text/html": [
       "<div><style>\n",
       ".dataframe > thead > tr > th,\n",
       ".dataframe > tbody > tr > td {\n",
       "  text-align: right;\n",
       "}\n",
       "</style>\n",
       "<small>shape: (22, 2)</small><table border=\"1\" class=\"dataframe\"><thead><tr><th>column_1</th><th>column_2</th></tr><tr><td>str</td><td>str</td></tr></thead><tbody><tr><td>&quot;관리_호별_명세_PK&quot;</td><td>&quot;VARCHAR(33)&quot;</td></tr><tr><td>&quot;관리_동별_개요_PK&quot;</td><td>&quot;VARCHAR(33)&quot;</td></tr><tr><td>&quot;대지_위치&quot;</td><td>&quot;VARCHAR(500)&quot;</td></tr><tr><td>&quot;건물_명&quot;</td><td>&quot;VARCHAR(100)&quot;</td></tr><tr><td>&quot;시군구_코드&quot;</td><td>&quot;VARCHAR(5)&quot;</td></tr><tr><td>&quot;법정동_코드&quot;</td><td>&quot;VARCHAR(5)&quot;</td></tr><tr><td>&quot;대지_구분_코드&quot;</td><td>&quot;VARCHAR(1)&quot;</td></tr><tr><td>&quot;번&quot;</td><td>&quot;VARCHAR(4)&quot;</td></tr><tr><td>&quot;지&quot;</td><td>&quot;VARCHAR(4)&quot;</td></tr><tr><td>&quot;특수지_명&quot;</td><td>&quot;VARCHAR(200)&quot;</td></tr><tr><td>&quot;블록&quot;</td><td>&quot;VARCHAR(20)&quot;</td></tr><tr><td>&quot;로트&quot;</td><td>&quot;VARCHAR(20)&quot;</td></tr><tr><td>&quot;동명&quot;</td><td>&quot;VARCHAR(100)&quot;</td></tr><tr><td>&quot;층_번호&quot;</td><td>&quot;NUMERIC(4)&quot;</td></tr><tr><td>&quot;층_구분_코드&quot;</td><td>&quot;VARCHAR(2)&quot;</td></tr><tr><td>&quot;층_구분_코드_명&quot;</td><td>&quot;VARCHAR(100)&quot;</td></tr><tr><td>&quot;호_번호&quot;</td><td>&quot;NUMERIC(6)&quot;</td></tr><tr><td>&quot;호_명&quot;</td><td>&quot;VARCHAR(100)&quot;</td></tr><tr><td>&quot;평형_구분_명&quot;</td><td>&quot;VARCHAR(100)&quot;</td></tr><tr><td>&quot;변경_구분_코드&quot;</td><td>&quot;CHAR(1)&quot;</td></tr><tr><td>&quot;변경_구분_코드_명&quot;</td><td>&quot;VARCHAR(100)&quot;</td></tr><tr><td>&quot;생성_일자&quot;</td><td>&quot;VARCHAR(8)&quot;</td></tr></tbody></table></div>"
      ],
      "text/plain": [
       "shape: (22, 2)\n",
       "┌───────────────────┬──────────────┐\n",
       "│ column_1          ┆ column_2     │\n",
       "│ ---               ┆ ---          │\n",
       "│ str               ┆ str          │\n",
       "╞═══════════════════╪══════════════╡\n",
       "│ 관리_호별_명세_PK ┆ VARCHAR(33)  │\n",
       "│ 관리_동별_개요_PK ┆ VARCHAR(33)  │\n",
       "│ 대지_위치         ┆ VARCHAR(500) │\n",
       "│ 건물_명           ┆ VARCHAR(100) │\n",
       "│ …                 ┆ …            │\n",
       "│ 평형_구분_명      ┆ VARCHAR(100) │\n",
       "│ 변경_구분_코드    ┆ CHAR(1)      │\n",
       "│ 변경_구분_코드_명 ┆ VARCHAR(100) │\n",
       "│ 생성_일자         ┆ VARCHAR(8)   │\n",
       "└───────────────────┴──────────────┘"
      ]
     },
     "execution_count": 50,
     "metadata": {},
     "output_type": "execute_result"
    }
   ],
   "source": [
    "df"
   ]
  },
  {
   "cell_type": "code",
   "execution_count": 52,
   "metadata": {},
   "outputs": [
    {
     "data": {
      "text/html": [
       "<div><style>\n",
       ".dataframe > thead > tr > th,\n",
       ".dataframe > tbody > tr > td {\n",
       "  text-align: right;\n",
       "}\n",
       "</style>\n",
       "<small>shape: (22, 2)</small><table border=\"1\" class=\"dataframe\"><thead><tr><th>column_1</th><th>column_2</th></tr><tr><td>str</td><td>object</td></tr></thead><tbody><tr><td>&quot;관리_호별_명세_PK&quot;</td><td>Utf8</td></tr><tr><td>&quot;관리_동별_개요_PK&quot;</td><td>Utf8</td></tr><tr><td>&quot;대지_위치&quot;</td><td>Utf8</td></tr><tr><td>&quot;건물_명&quot;</td><td>Utf8</td></tr><tr><td>&quot;시군구_코드&quot;</td><td>Utf8</td></tr><tr><td>&quot;법정동_코드&quot;</td><td>Utf8</td></tr><tr><td>&quot;대지_구분_코드&quot;</td><td>Utf8</td></tr><tr><td>&quot;번&quot;</td><td>Utf8</td></tr><tr><td>&quot;지&quot;</td><td>Utf8</td></tr><tr><td>&quot;특수지_명&quot;</td><td>Utf8</td></tr><tr><td>&quot;블록&quot;</td><td>Utf8</td></tr><tr><td>&quot;로트&quot;</td><td>Utf8</td></tr><tr><td>&quot;동명&quot;</td><td>Utf8</td></tr><tr><td>&quot;층_번호&quot;</td><td>Int64</td></tr><tr><td>&quot;층_구분_코드&quot;</td><td>Utf8</td></tr><tr><td>&quot;층_구분_코드_명&quot;</td><td>Utf8</td></tr><tr><td>&quot;호_번호&quot;</td><td>Int64</td></tr><tr><td>&quot;호_명&quot;</td><td>Utf8</td></tr><tr><td>&quot;평형_구분_명&quot;</td><td>Utf8</td></tr><tr><td>&quot;변경_구분_코드&quot;</td><td>Utf8</td></tr><tr><td>&quot;변경_구분_코드_명&quot;</td><td>Utf8</td></tr><tr><td>&quot;생성_일자&quot;</td><td>Utf8</td></tr></tbody></table></div>"
      ],
      "text/plain": [
       "shape: (22, 2)\n",
       "┌───────────────────┬──────────┐\n",
       "│ column_1          ┆ column_2 │\n",
       "│ ---               ┆ ---      │\n",
       "│ str               ┆ object   │\n",
       "╞═══════════════════╪══════════╡\n",
       "│ 관리_호별_명세_PK ┆ Utf8     │\n",
       "│ 관리_동별_개요_PK ┆ Utf8     │\n",
       "│ 대지_위치         ┆ Utf8     │\n",
       "│ 건물_명           ┆ Utf8     │\n",
       "│ …                 ┆ …        │\n",
       "│ 평형_구분_명      ┆ Utf8     │\n",
       "│ 변경_구분_코드    ┆ Utf8     │\n",
       "│ 변경_구분_코드_명 ┆ Utf8     │\n",
       "│ 생성_일자         ┆ Utf8     │\n",
       "└───────────────────┴──────────┘"
      ]
     },
     "execution_count": 52,
     "metadata": {},
     "output_type": "execute_result"
    }
   ],
   "source": [
    "df_pl = df.with_columns(df[:, 1].apply(get_polars_type))\n",
    "df_pl"
   ]
  },
  {
   "cell_type": "code",
   "execution_count": 53,
   "metadata": {},
   "outputs": [
    {
     "data": {
      "text/plain": [
       "{'column_1': shape: (22,)\n",
       " Series: 'column_1' [str]\n",
       " [\n",
       " \t\"관리_호별_명세_PK\"\n",
       " \t\"관리_동별_개요_PK\"\n",
       " \t\"대지_위치\"\n",
       " \t\"건물_명\"\n",
       " \t\"시군구_코드\"\n",
       " \t\"법정동_코드\"\n",
       " \t\"대지_구분_코드\"\n",
       " \t\"번\"\n",
       " \t\"지\"\n",
       " \t\"특수지_명\"\n",
       " \t\"블록\"\n",
       " \t\"로트\"\n",
       " \t\"동명\"\n",
       " \t\"층_번호\"\n",
       " \t\"층_구분_코드\"\n",
       " \t\"층_구분_코드_명\"\n",
       " \t\"호_번호\"\n",
       " \t\"호_명\"\n",
       " \t\"평형_구분_명\"\n",
       " \t\"변경_구분_코드\"\n",
       " \t\"변경_구분_코드_명\"\n",
       " \t\"생성_일자\"\n",
       " ],\n",
       " 'column_2': shape: (22,)\n",
       " Series: 'column_2' [o][object]\n",
       " [\n",
       " \tUtf8\n",
       " \tUtf8\n",
       " \tUtf8\n",
       " \tUtf8\n",
       " \tUtf8\n",
       " \tUtf8\n",
       " \tUtf8\n",
       " \tUtf8\n",
       " \tUtf8\n",
       " \tUtf8\n",
       " \tUtf8\n",
       " \tUtf8\n",
       " \tUtf8\n",
       " \tInt64\n",
       " \tUtf8\n",
       " \tUtf8\n",
       " \tInt64\n",
       " \tUtf8\n",
       " \tUtf8\n",
       " \tUtf8\n",
       " \tUtf8\n",
       " \tUtf8\n",
       " ]}"
      ]
     },
     "execution_count": 53,
     "metadata": {},
     "output_type": "execute_result"
    }
   ],
   "source": [
    "df_pl.to_dict()"
   ]
  },
  {
   "cell_type": "code",
   "execution_count": 56,
   "metadata": {},
   "outputs": [],
   "source": [
    "keys = df[:,0].to_list()"
   ]
  },
  {
   "cell_type": "code",
   "execution_count": 57,
   "metadata": {},
   "outputs": [],
   "source": [
    "values = [get_polars_type(dt) for dt in df[:,1].to_list()]"
   ]
  },
  {
   "cell_type": "code",
   "execution_count": 58,
   "metadata": {},
   "outputs": [
    {
     "data": {
      "text/plain": [
       "(['관리_호별_명세_PK',\n",
       "  '관리_동별_개요_PK',\n",
       "  '대지_위치',\n",
       "  '건물_명',\n",
       "  '시군구_코드',\n",
       "  '법정동_코드',\n",
       "  '대지_구분_코드',\n",
       "  '번',\n",
       "  '지',\n",
       "  '특수지_명',\n",
       "  '블록',\n",
       "  '로트',\n",
       "  '동명',\n",
       "  '층_번호',\n",
       "  '층_구분_코드',\n",
       "  '층_구분_코드_명',\n",
       "  '호_번호',\n",
       "  '호_명',\n",
       "  '평형_구분_명',\n",
       "  '변경_구분_코드',\n",
       "  '변경_구분_코드_명',\n",
       "  '생성_일자'],\n",
       " [Utf8,\n",
       "  Utf8,\n",
       "  Utf8,\n",
       "  Utf8,\n",
       "  Utf8,\n",
       "  Utf8,\n",
       "  Utf8,\n",
       "  Utf8,\n",
       "  Utf8,\n",
       "  Utf8,\n",
       "  Utf8,\n",
       "  Utf8,\n",
       "  Utf8,\n",
       "  Int64,\n",
       "  Utf8,\n",
       "  Utf8,\n",
       "  Int64,\n",
       "  Utf8,\n",
       "  Utf8,\n",
       "  Utf8,\n",
       "  Utf8,\n",
       "  Utf8])"
      ]
     },
     "execution_count": 58,
     "metadata": {},
     "output_type": "execute_result"
    }
   ],
   "source": [
    "keys, values"
   ]
  },
  {
   "cell_type": "code",
   "execution_count": 60,
   "metadata": {},
   "outputs": [
    {
     "data": {
      "text/plain": [
       "{'관리_호별_명세_PK': Utf8,\n",
       " '관리_동별_개요_PK': Utf8,\n",
       " '대지_위치': Utf8,\n",
       " '건물_명': Utf8,\n",
       " '시군구_코드': Utf8,\n",
       " '법정동_코드': Utf8,\n",
       " '대지_구분_코드': Utf8,\n",
       " '번': Utf8,\n",
       " '지': Utf8,\n",
       " '특수지_명': Utf8,\n",
       " '블록': Utf8,\n",
       " '로트': Utf8,\n",
       " '동명': Utf8,\n",
       " '층_번호': Int64,\n",
       " '층_구분_코드': Utf8,\n",
       " '층_구분_코드_명': Utf8,\n",
       " '호_번호': Int64,\n",
       " '호_명': Utf8,\n",
       " '평형_구분_명': Utf8,\n",
       " '변경_구분_코드': Utf8,\n",
       " '변경_구분_코드_명': Utf8,\n",
       " '생성_일자': Utf8}"
      ]
     },
     "execution_count": 60,
     "metadata": {},
     "output_type": "execute_result"
    }
   ],
   "source": [
    "schema_dict = dict(zip(keys, values))\n",
    "schema_dict"
   ]
  },
  {
   "cell_type": "code",
   "execution_count": null,
   "metadata": {},
   "outputs": [],
   "source": []
  }
 ],
 "metadata": {
  "kernelspec": {
   "display_name": "venv",
   "language": "python",
   "name": "python3"
  },
  "language_info": {
   "codemirror_mode": {
    "name": "ipython",
    "version": 3
   },
   "file_extension": ".py",
   "mimetype": "text/x-python",
   "name": "python",
   "nbconvert_exporter": "python",
   "pygments_lexer": "ipython3",
   "version": "3.11.1"
  },
  "orig_nbformat": 4
 },
 "nbformat": 4,
 "nbformat_minor": 2
}
