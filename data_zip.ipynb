{
 "cells": [
  {
   "cell_type": "code",
   "execution_count": 1,
   "metadata": {},
   "outputs": [],
   "source": [
    "import io\n",
    "import zipfile\n",
    "from pathlib import Path\n",
    "from tempfile import TemporaryDirectory, TemporaryFile\n",
    "from typing import Mapping\n",
    "\n",
    "import dask.dataframe as dd\n",
    "import pandas as pd\n",
    "from dask.diagnostics import ProgressBar\n",
    "from tqdm import tqdm\n",
    "\n",
    "from openeais import (bldrgst_dtypes, expos_dtypes, floor_dtypes,\n",
    "                      openeais_to_parquet, recap_dtypes, title_dtypes)\n"
   ]
  },
  {
   "cell_type": "code",
   "execution_count": null,
   "metadata": {},
   "outputs": [
    {
     "name": "stdout",
     "output_type": "stream",
     "text": [
      "data\\국토교통부_건축물대장_기본개요+(2022년+07월).zip\n",
      "data\\국토교통부_건축물대장_총괄표제부+(2022년+07월).zip\n",
      "data\\국토교통부_건축물대장_표제부+(2022년+07월).zip\n",
      "data\\국토교통부_건축물대장_층별개요+(2022년+07월).zip\n",
      "data\\국토교통부_건축물대장_전유부+(2022년+07월).zip\n"
     ]
    }
   ],
   "source": [
    "for file in Path(\"data/\").glob(\"국토교통부_건축물대장_기본개요*.zip\"):  # bldrgst\n",
    "    print(file)\n",
    "for file in Path(\"data/\").glob(\"국토교통부_건축물대장_총괄표제부*.zip\"):  # recap\n",
    "    print(file)\n",
    "for file in Path(\"data/\").glob(\"국토교통부_건축물대장_표제부*.zip\"):  # title\n",
    "    print(file)\n",
    "for file in Path(\"data/\").glob(\"국토교통부_건축물대장_층별개요*.zip\"):  # floor\n",
    "    print(file)\n",
    "for file in Path(\"data/\").glob(\"국토교통부_건축물대장_전유부*.zip\"):  # expos\n",
    "    print(file)\n"
   ]
  },
  {
   "cell_type": "code",
   "execution_count": null,
   "metadata": {},
   "outputs": [
    {
     "data": {
      "text/plain": [
       "WindowsPath('data/국토교통부_건축물대장_기본개요+(2022년+07월).zip')"
      ]
     },
     "execution_count": 7,
     "metadata": {},
     "output_type": "execute_result"
    }
   ],
   "source": [
    "sorted(Path(\"data/\").glob(\"국토교통부_건축물대장_기본개요*.zip\"), reverse=True)[0]\n"
   ]
  },
  {
   "cell_type": "code",
   "execution_count": null,
   "metadata": {},
   "outputs": [
    {
     "name": "stdout",
     "output_type": "stream",
     "text": [
      "45710-100181124|45710-4744|2|집합|4|전유부|전라북도 완주군 삼례읍 석전리 71-24번지| 전라북도 완주군 삼례읍 신수로 142|삼례읍 석전리 71-24 제1종근린생활시설 (석전리학동마을(대표:한병희))|45710|25026|0|0071|0024||||0|457103273043|25001|0|142|0|||||||20100619\n",
      "\n"
     ]
    }
   ],
   "source": [
    "zpath = sorted(Path(\"data/\").glob(\"국토교통부_건축물대장_기본개요*.zip\"), reverse=True)[0]\n",
    "with zipfile.ZipFile(zpath) as zf:\n",
    "    for fname in zf.namelist():\n",
    "        with zf.open(fname) as bf:\n",
    "            with io.TextIOWrapper(bf, encoding=\"cp949\") as f:\n",
    "                print(f.readline())\n",
    "                break\n"
   ]
  },
  {
   "cell_type": "code",
   "execution_count": null,
   "metadata": {},
   "outputs": [
    {
     "name": "stdout",
     "output_type": "stream",
     "text": [
      "['__class__', '__delattr__', '__dict__', '__dir__', '__doc__', '__enter__', '__eq__', '__exit__', '__format__', '__ge__', '__getattr__', '__getattribute__', '__gt__', '__hash__', '__init__', '__init_subclass__', '__iter__', '__le__', '__lt__', '__module__', '__ne__', '__new__', '__reduce__', '__reduce_ex__', '__repr__', '__setattr__', '__sizeof__', '__str__', '__subclasshook__', '__weakref__', '_closer', 'close', 'delete', 'file', 'name']\n"
     ]
    }
   ],
   "source": [
    "with TemporaryFile() as tf:\n",
    "    print(dir(tf))\n"
   ]
  },
  {
   "cell_type": "code",
   "execution_count": null,
   "metadata": {},
   "outputs": [
    {
     "name": "stdout",
     "output_type": "stream",
     "text": [
      "b'Hello world!'\n"
     ]
    }
   ],
   "source": [
    "with TemporaryFile() as tf:\n",
    "    tf.write(b\"Hello world!\")\n",
    "    tf.seek(0)\n",
    "    print(tf.read())\n"
   ]
  },
  {
   "cell_type": "code",
   "execution_count": null,
   "metadata": {},
   "outputs": [],
   "source": [
    "zpath = sorted(Path(\"data/\").glob(\"국토교통부_건축물대장_기본개요*.zip\"), reverse=True)[0]\n",
    "\n",
    "with TemporaryFile() as tf:\n",
    "    with zipfile.ZipFile(zpath) as zf:"
   ]
  },
  {
   "cell_type": "code",
   "execution_count": null,
   "metadata": {},
   "outputs": [
    {
     "name": "stdout",
     "output_type": "stream",
     "text": [
      "C:\\Users\\USER\\AppData\\Local\\Temp\\tmpt1iujjoj <class 'str'>\n"
     ]
    }
   ],
   "source": [
    "with TemporaryDirectory() as tdir:\n",
    "    print(tdir, type(tdir))\n"
   ]
  },
  {
   "cell_type": "code",
   "execution_count": 4,
   "metadata": {},
   "outputs": [
    {
     "name": "stdout",
     "output_type": "stream",
     "text": [
      "[<ZipInfo filename='mart_djy_01.txt' compress_type=deflate file_size=5125237721 compress_size=703468891>]\n"
     ]
    }
   ],
   "source": [
    "zpath = sorted(Path(\"data/\").glob(\"국토교통부_건축물대장_기본개요*.zip\"), reverse=True)[0]\n",
    "\n",
    "with TemporaryDirectory() as tdir:  # type: str\n",
    "    with zipfile.ZipFile(zpath) as zf:\n",
    "        print(zf.infolist())\n"
   ]
  },
  {
   "cell_type": "code",
   "execution_count": 12,
   "metadata": {},
   "outputs": [
    {
     "name": "stderr",
     "output_type": "stream",
     "text": [
      "Extracting zip: 100%|██████████| 1/1 [00:13<00:00, 13.31s/it]\n"
     ]
    }
   ],
   "source": [
    "zpath = sorted(Path(\"data/\").glob(\"국토교통부_건축물대장_기본개요*.zip\"), reverse=True)[0]\n",
    "\n",
    "with TemporaryDirectory() as tdir:  # type: str\n",
    "    with zipfile.ZipFile(zpath) as zf:\n",
    "        zf.extractall(path=tdir, members=tqdm(zf.infolist(), desc=\"Extracting zip\"))\n",
    "\n",
    "    paths = sorted(Path(tdir).glob(\"*.txt\"))\n",
    "    ddf = dd.read_csv(\n",
    "        paths,\n",
    "        encoding=\"cp949\",\n",
    "        header=None,\n",
    "        sep=\"|\",\n",
    "        names=bldrgst_dtypes.keys(),\n",
    "        dtype=bldrgst_dtypes,\n",
    "    )\n"
   ]
  },
  {
   "cell_type": "code",
   "execution_count": 24,
   "metadata": {},
   "outputs": [],
   "source": [
    "def zip_to_parquet(\n",
    "    path,\n",
    "    savedir,\n",
    "    dtypes: Mapping,\n",
    "    member_pattern=\"*.txt\",\n",
    "    encoding=\"cp949\",\n",
    "    header=None,    \n",
    "    sep=\"|\",\n",
    "    index=None,\n",
    "    **kwargs\n",
    "):\n",
    "    with TemporaryDirectory() as tdir:  # type: str\n",
    "        with zipfile.ZipFile(path) as zf:\n",
    "            zf.extractall(path=tdir, members=tqdm(zf.infolist(), desc=\"Extracting zip\"))\n",
    "\n",
    "        paths = sorted(Path(tdir).glob(member_pattern))\n",
    "        ddf: dd.DataFrame = dd.read_csv(\n",
    "            paths,\n",
    "            encoding=encoding,\n",
    "            header=header,\n",
    "            sep=sep,\n",
    "            names=dtypes.keys(),\n",
    "            dtype=dtypes,\n",
    "            **kwargs\n",
    "        )\n",
    "        \n",
    "        with ProgressBar():\n",
    "            if index:\n",
    "                print(\"Setting index...\")\n",
    "                ddf = ddf.set_index(index)  \n",
    "            print(\"Saving...\")\n",
    "            ddf.to_parquet(savedir)\n"
   ]
  },
  {
   "cell_type": "code",
   "execution_count": 2,
   "metadata": {},
   "outputs": [
    {
     "name": "stdout",
     "output_type": "stream",
     "text": [
      "already done\n"
     ]
    },
    {
     "data": {
      "text/plain": [
       "WindowsPath('data/bldrgst')"
      ]
     },
     "execution_count": 2,
     "metadata": {},
     "output_type": "execute_result"
    }
   ],
   "source": [
    "zpath = sorted(Path(\"data/\").glob(\"국토교통부_건축물대장_기본개요*.zip\"), reverse=True)[0]\n",
    "openeais_to_parquet(zpath, \"data/bldrgst\", bldrgst_dtypes)\n"
   ]
  },
  {
   "cell_type": "code",
   "execution_count": 3,
   "metadata": {},
   "outputs": [
    {
     "data": {
      "text/plain": [
       "WindowsPath('data/국토교통부_건축물대장_기본개요+(2022년+07월).zip')"
      ]
     },
     "execution_count": 3,
     "metadata": {},
     "output_type": "execute_result"
    }
   ],
   "source": [
    "zpath"
   ]
  },
  {
   "cell_type": "code",
   "execution_count": 4,
   "metadata": {},
   "outputs": [
    {
     "data": {
      "text/plain": [
       "WindowsPath('data/bldrgst')"
      ]
     },
     "execution_count": 4,
     "metadata": {},
     "output_type": "execute_result"
    }
   ],
   "source": [
    "ppath = Path(\"data/bldrgst\")\n",
    "ppath"
   ]
  },
  {
   "cell_type": "code",
   "execution_count": 5,
   "metadata": {},
   "outputs": [
    {
     "data": {
      "text/plain": [
       "os.stat_result(st_mode=33206, st_ino=18295873486342750, st_dev=239204461, st_nlink=1, st_uid=0, st_gid=0, st_size=703469167, st_atime=1663289397, st_mtime=1663289397, st_ctime=1663289015)"
      ]
     },
     "execution_count": 5,
     "metadata": {},
     "output_type": "execute_result"
    }
   ],
   "source": [
    "zpath.stat()"
   ]
  },
  {
   "cell_type": "code",
   "execution_count": 7,
   "metadata": {},
   "outputs": [
    {
     "data": {
      "text/plain": [
       "False"
      ]
     },
     "execution_count": 7,
     "metadata": {},
     "output_type": "execute_result"
    }
   ],
   "source": [
    "zpath.stat().st_mtime > ppath.stat().st_mtime"
   ]
  },
  {
   "cell_type": "code",
   "execution_count": 13,
   "metadata": {},
   "outputs": [
    {
     "name": "stdout",
     "output_type": "stream",
     "text": [
      "nope\n"
     ]
    }
   ],
   "source": [
    "if ppath.exists() and ppath.stat().st_mtime > zpath.stat().st_mtime:\n",
    "    print(\"nope\")"
   ]
  },
  {
   "cell_type": "code",
   "execution_count": null,
   "metadata": {},
   "outputs": [],
   "source": []
  }
 ],
 "metadata": {
  "kernelspec": {
   "display_name": "Python 3.9.7 ('venv': venv)",
   "language": "python",
   "name": "python3"
  },
  "language_info": {
   "codemirror_mode": {
    "name": "ipython",
    "version": 3
   },
   "file_extension": ".py",
   "mimetype": "text/x-python",
   "name": "python",
   "nbconvert_exporter": "python",
   "pygments_lexer": "ipython3",
   "version": "3.9.7"
  },
  "orig_nbformat": 4,
  "vscode": {
   "interpreter": {
    "hash": "a12399f7d7bff3d3414b48bdbff2fd719d6617416f7316e7388bc895376ce269"
   }
  }
 },
 "nbformat": 4,
 "nbformat_minor": 2
}
