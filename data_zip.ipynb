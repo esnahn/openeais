{
 "cells": [
  {
   "cell_type": "code",
   "execution_count": 16,
   "metadata": {},
   "outputs": [],
   "source": [
    "import io\n",
    "import re\n",
    "import zipfile\n",
    "from pathlib import Path\n",
    "from tempfile import TemporaryDirectory, TemporaryFile\n",
    "from typing import Mapping\n",
    "\n",
    "import dask.dataframe as dd\n",
    "import pandas as pd\n",
    "from dask.diagnostics import ProgressBar\n",
    "from tqdm import tqdm\n",
    "\n",
    "from openeais import get_numpy_type, openeais_to_parquet"
   ]
  },
  {
   "cell_type": "code",
   "execution_count": 7,
   "metadata": {},
   "outputs": [
    {
     "name": "stdout",
     "output_type": "stream",
     "text": [
      "data\\국토교통부_건축인허가_가설건축물+(2022년+12월).zip\n",
      "data\\국토교통부_건축인허가_공작물관리대장+(2022년+12월).zip\n",
      "data\\국토교통부_건축인허가_기본개요+(2022년+12월).zip\n",
      "data\\국토교통부_건축인허가_대수선+(2022년+12월).zip\n",
      "data\\국토교통부_건축인허가_대지위치+(2022년+12월).zip\n",
      "data\\국토교통부_건축인허가_도로대장+(2022년+12월).zip\n",
      "data\\국토교통부_건축인허가_동별개요+(2022년+12월).zip\n",
      "data\\국토교통부_건축인허가_부설주차장+(2022년+12월).zip\n",
      "data\\국토교통부_건축인허가_오수정화시설+(2022년+12월).zip\n",
      "data\\국토교통부_건축인허가_전유공용면적+(2022년+12월).zip\n",
      "data\\국토교통부_건축인허가_주차장+(2022년+12월).zip\n",
      "data\\국토교통부_건축인허가_주택유형+(2022년+12월).zip\n",
      "data\\국토교통부_건축인허가_지역지구구역+(2022년+12월).zip\n",
      "data\\국토교통부_건축인허가_철거멸실관리대장+(2022년+12월).zip\n",
      "data\\국토교통부_건축인허가_층별개요+(2022년+12월).zip\n",
      "data\\국토교통부_건축인허가_호별개요+(2022년+12월).zip\n",
      "data\\국토교통부_건축인허가_호별전유공용면적+(2022년+12월).zip\n",
      "data\\국토교통부_주택인허가_관리공동부대복리시설+(2022년+12월).zip\n",
      "data\\국토교통부_주택인허가_관리공동형별개요+(2022년+12월).zip\n",
      "data\\국토교통부_주택인허가_기본개요+(2022년+12월).zip\n",
      "data\\국토교통부_주택인허가_대지위치+(2022년+12월).zip\n",
      "data\\국토교통부_주택인허가_동별개요+(2022년+12월).zip\n",
      "data\\국토교통부_주택인허가_복리분양시설+(2022년+12월).zip\n",
      "data\\국토교통부_주택인허가_부대시설+(2022년+12월).zip\n",
      "data\\국토교통부_주택인허가_부설주차장+(2022년+12월).zip\n",
      "data\\국토교통부_주택인허가_오수정화시설+(2022년+12월).zip\n",
      "data\\국토교통부_주택인허가_전유공용면적+(2022년+12월).zip\n",
      "data\\국토교통부_주택인허가_주차장+(2022년+12월).zip\n",
      "data\\국토교통부_주택인허가_지역지구구역+(2022년+12월).zip\n",
      "data\\국토교통부_주택인허가_층별개요+(2022년+12월).zip\n",
      "data\\국토교통부_주택인허가_행위개요+(2022년+12월).zip\n",
      "data\\국토교통부_주택인허가_행위호전유면적+(2022년+12월).zip\n",
      "data\\국토교통부_주택인허가_호별개요+(2022년+12월).zip\n"
     ]
    }
   ],
   "source": [
    "for file in Path(\"data/\").glob(\"국토교통부_*.zip\"):\n",
    "    print(file)"
   ]
  },
  {
   "cell_type": "code",
   "execution_count": 14,
   "metadata": {},
   "outputs": [
    {
     "name": "stdout",
     "output_type": "stream",
     "text": [
      "data\\국토교통부_주택인허가_호별개요+(2022년+12월).zip\n",
      "26410-100003037|26410-100004542|부산광역시 금정구 장전동 521번지|장전동 금정산 SK VIEW|26410|10800|0|0521|||||102|13|20|지상|0|1304|160|||20100828\n",
      "\n"
     ]
    }
   ],
   "source": [
    "zpath = sorted(Path(\"data/\").glob(\"국토교통부_*.zip\"), reverse=True)[0]\n",
    "print(zpath)\n",
    "\n",
    "with zipfile.ZipFile(zpath) as zf:\n",
    "    for fname in zf.namelist():\n",
    "        with zf.open(fname) as bf:\n",
    "            with io.TextIOWrapper(bf, encoding=\"cp949\") as f:\n",
    "                print(f.readline())\n",
    "                break\n"
   ]
  },
  {
   "cell_type": "code",
   "execution_count": 13,
   "metadata": {},
   "outputs": [
    {
     "name": "stdout",
     "output_type": "stream",
     "text": [
      "b'Hello world!'\n"
     ]
    }
   ],
   "source": [
    "with TemporaryFile() as tf:\n",
    "    tf.write(b\"Hello world!\")\n",
    "    tf.seek(0)\n",
    "    print(tf.read())\n"
   ]
  },
  {
   "cell_type": "code",
   "execution_count": 11,
   "metadata": {},
   "outputs": [
    {
     "name": "stdout",
     "output_type": "stream",
     "text": [
      "<class 'str'>\n",
      "C:\\Users\\USER\\AppData\\Local\\Temp\\tmpy5t1hxke\n"
     ]
    }
   ],
   "source": [
    "with TemporaryDirectory() as tdir:\n",
    "    print(type(tdir))\n",
    "    print(tdir)\n"
   ]
  },
  {
   "cell_type": "code",
   "execution_count": 15,
   "metadata": {},
   "outputs": [
    {
     "name": "stdout",
     "output_type": "stream",
     "text": [
      "data\\국토교통부_주택인허가_호별개요+(2022년+12월).zip\n",
      "[<ZipInfo filename='mart_jty_04.txt' compress_type=deflate filemode='-rw-r--r--' file_size=884446270 compress_size=58499197>]\n"
     ]
    }
   ],
   "source": [
    "print(zpath)\n",
    "\n",
    "with TemporaryDirectory() as tdir:  # type: str\n",
    "    with zipfile.ZipFile(zpath) as zf:\n",
    "        print(zf.infolist())\n"
   ]
  },
  {
   "cell_type": "code",
   "execution_count": 34,
   "metadata": {},
   "outputs": [
    {
     "data": {
      "text/html": [
       "<div>\n",
       "<style scoped>\n",
       "    .dataframe tbody tr th:only-of-type {\n",
       "        vertical-align: middle;\n",
       "    }\n",
       "\n",
       "    .dataframe tbody tr th {\n",
       "        vertical-align: top;\n",
       "    }\n",
       "\n",
       "    .dataframe thead th {\n",
       "        text-align: right;\n",
       "    }\n",
       "</style>\n",
       "<table border=\"1\" class=\"dataframe\">\n",
       "  <thead>\n",
       "    <tr style=\"text-align: right;\">\n",
       "      <th></th>\n",
       "      <th>1</th>\n",
       "    </tr>\n",
       "    <tr>\n",
       "      <th>0</th>\n",
       "      <th></th>\n",
       "    </tr>\n",
       "  </thead>\n",
       "  <tbody>\n",
       "    <tr>\n",
       "      <th>관리_호별_명세_PK</th>\n",
       "      <td>string</td>\n",
       "    </tr>\n",
       "    <tr>\n",
       "      <th>관리_동별_개요_PK</th>\n",
       "      <td>string</td>\n",
       "    </tr>\n",
       "    <tr>\n",
       "      <th>대지_위치</th>\n",
       "      <td>string</td>\n",
       "    </tr>\n",
       "    <tr>\n",
       "      <th>건물_명</th>\n",
       "      <td>string</td>\n",
       "    </tr>\n",
       "    <tr>\n",
       "      <th>시군구_코드</th>\n",
       "      <td>string</td>\n",
       "    </tr>\n",
       "    <tr>\n",
       "      <th>법정동_코드</th>\n",
       "      <td>string</td>\n",
       "    </tr>\n",
       "    <tr>\n",
       "      <th>대지_구분_코드</th>\n",
       "      <td>string</td>\n",
       "    </tr>\n",
       "    <tr>\n",
       "      <th>번</th>\n",
       "      <td>string</td>\n",
       "    </tr>\n",
       "    <tr>\n",
       "      <th>지</th>\n",
       "      <td>string</td>\n",
       "    </tr>\n",
       "    <tr>\n",
       "      <th>특수지_명</th>\n",
       "      <td>string</td>\n",
       "    </tr>\n",
       "    <tr>\n",
       "      <th>블록</th>\n",
       "      <td>string</td>\n",
       "    </tr>\n",
       "    <tr>\n",
       "      <th>로트</th>\n",
       "      <td>string</td>\n",
       "    </tr>\n",
       "    <tr>\n",
       "      <th>동명</th>\n",
       "      <td>string</td>\n",
       "    </tr>\n",
       "    <tr>\n",
       "      <th>층_번호</th>\n",
       "      <td>Int64</td>\n",
       "    </tr>\n",
       "    <tr>\n",
       "      <th>층_구분_코드</th>\n",
       "      <td>string</td>\n",
       "    </tr>\n",
       "    <tr>\n",
       "      <th>층_구분_코드_명</th>\n",
       "      <td>string</td>\n",
       "    </tr>\n",
       "    <tr>\n",
       "      <th>호_번호</th>\n",
       "      <td>Int64</td>\n",
       "    </tr>\n",
       "    <tr>\n",
       "      <th>호_명</th>\n",
       "      <td>string</td>\n",
       "    </tr>\n",
       "    <tr>\n",
       "      <th>평형_구분_명</th>\n",
       "      <td>string</td>\n",
       "    </tr>\n",
       "    <tr>\n",
       "      <th>변경_구분_코드</th>\n",
       "      <td>string</td>\n",
       "    </tr>\n",
       "    <tr>\n",
       "      <th>변경_구분_코드_명</th>\n",
       "      <td>string</td>\n",
       "    </tr>\n",
       "    <tr>\n",
       "      <th>생성_일자</th>\n",
       "      <td>string</td>\n",
       "    </tr>\n",
       "  </tbody>\n",
       "</table>\n",
       "</div>"
      ],
      "text/plain": [
       "                  1\n",
       "0                  \n",
       "관리_호별_명세_PK  string\n",
       "관리_동별_개요_PK  string\n",
       "대지_위치        string\n",
       "건물_명         string\n",
       "시군구_코드       string\n",
       "법정동_코드       string\n",
       "대지_구분_코드     string\n",
       "번            string\n",
       "지            string\n",
       "특수지_명        string\n",
       "블록           string\n",
       "로트           string\n",
       "동명           string\n",
       "층_번호          Int64\n",
       "층_구분_코드      string\n",
       "층_구분_코드_명    string\n",
       "호_번호          Int64\n",
       "호_명          string\n",
       "평형_구분_명      string\n",
       "변경_구분_코드     string\n",
       "변경_구분_코드_명   string\n",
       "생성_일자        string"
      ]
     },
     "execution_count": 34,
     "metadata": {},
     "output_type": "execute_result"
    }
   ],
   "source": [
    "schema_dir = Path(\"data/schema\")\n",
    "\n",
    "substrings_filename = re.split(r\"[_ +\\.]\", zpath.name)\n",
    "schema_filename = \"_\".join([\"schema\"] + substrings_filename[1:3]) + \".csv\"\n",
    "\n",
    "df_schema = pd.read_csv(schema_dir / schema_filename, header=None)\n",
    "df_schema[1] = df_schema[1].apply(get_numpy_type)\n",
    "df_schema = df_schema.set_index(0)\n",
    "df_schema"
   ]
  },
  {
   "cell_type": "code",
   "execution_count": 38,
   "metadata": {},
   "outputs": [
    {
     "data": {
      "text/plain": [
       "{'관리_호별_명세_PK': 'string',\n",
       " '관리_동별_개요_PK': 'string',\n",
       " '대지_위치': 'string',\n",
       " '건물_명': 'string',\n",
       " '시군구_코드': 'string',\n",
       " '법정동_코드': 'string',\n",
       " '대지_구분_코드': 'string',\n",
       " '번': 'string',\n",
       " '지': 'string',\n",
       " '특수지_명': 'string',\n",
       " '블록': 'string',\n",
       " '로트': 'string',\n",
       " '동명': 'string',\n",
       " '층_번호': 'Int64',\n",
       " '층_구분_코드': 'string',\n",
       " '층_구분_코드_명': 'string',\n",
       " '호_번호': 'Int64',\n",
       " '호_명': 'string',\n",
       " '평형_구분_명': 'string',\n",
       " '변경_구분_코드': 'string',\n",
       " '변경_구분_코드_명': 'string',\n",
       " '생성_일자': 'string'}"
      ]
     },
     "execution_count": 38,
     "metadata": {},
     "output_type": "execute_result"
    }
   ],
   "source": [
    "df_schema[1].to_dict()"
   ]
  },
  {
   "cell_type": "code",
   "execution_count": 37,
   "metadata": {},
   "outputs": [
    {
     "name": "stdout",
     "output_type": "stream",
     "text": [
      "data\\국토교통부_주택인허가_호별개요+(2022년+12월).zip\n"
     ]
    },
    {
     "name": "stderr",
     "output_type": "stream",
     "text": [
      "Extracting zip: 100%|██████████| 1/1 [00:01<00:00,  1.93s/it]\n"
     ]
    }
   ],
   "source": [
    "print(zpath)\n",
    "\n",
    "with TemporaryDirectory() as tdir:  # type: str\n",
    "    with zipfile.ZipFile(zpath) as zf:\n",
    "        zf.extractall(path=tdir, members=tqdm(zf.infolist(), desc=\"Extracting zip\"))\n",
    "\n",
    "    paths = sorted(Path(tdir).glob(\"*.txt\"))\n",
    "    ddf = dd.read_csv(\n",
    "        paths,\n",
    "        encoding=\"cp949\",\n",
    "        header=None,\n",
    "        sep=\"|\",\n",
    "        names=df_schema.index.to_list(),\n",
    "        dtype=df_schema[1].to_dict(),\n",
    "    )\n"
   ]
  },
  {
   "cell_type": "code",
   "execution_count": 39,
   "metadata": {},
   "outputs": [
    {
     "data": {
      "text/html": [
       "<div><strong>Dask DataFrame Structure:</strong></div>\n",
       "<div>\n",
       "<style scoped>\n",
       "    .dataframe tbody tr th:only-of-type {\n",
       "        vertical-align: middle;\n",
       "    }\n",
       "\n",
       "    .dataframe tbody tr th {\n",
       "        vertical-align: top;\n",
       "    }\n",
       "\n",
       "    .dataframe thead th {\n",
       "        text-align: right;\n",
       "    }\n",
       "</style>\n",
       "<table border=\"1\" class=\"dataframe\">\n",
       "  <thead>\n",
       "    <tr style=\"text-align: right;\">\n",
       "      <th></th>\n",
       "      <th>관리_호별_명세_PK</th>\n",
       "      <th>관리_동별_개요_PK</th>\n",
       "      <th>대지_위치</th>\n",
       "      <th>건물_명</th>\n",
       "      <th>시군구_코드</th>\n",
       "      <th>법정동_코드</th>\n",
       "      <th>대지_구분_코드</th>\n",
       "      <th>번</th>\n",
       "      <th>지</th>\n",
       "      <th>특수지_명</th>\n",
       "      <th>블록</th>\n",
       "      <th>로트</th>\n",
       "      <th>동명</th>\n",
       "      <th>층_번호</th>\n",
       "      <th>층_구분_코드</th>\n",
       "      <th>층_구분_코드_명</th>\n",
       "      <th>호_번호</th>\n",
       "      <th>호_명</th>\n",
       "      <th>평형_구분_명</th>\n",
       "      <th>변경_구분_코드</th>\n",
       "      <th>변경_구분_코드_명</th>\n",
       "      <th>생성_일자</th>\n",
       "    </tr>\n",
       "    <tr>\n",
       "      <th>npartitions=13</th>\n",
       "      <th></th>\n",
       "      <th></th>\n",
       "      <th></th>\n",
       "      <th></th>\n",
       "      <th></th>\n",
       "      <th></th>\n",
       "      <th></th>\n",
       "      <th></th>\n",
       "      <th></th>\n",
       "      <th></th>\n",
       "      <th></th>\n",
       "      <th></th>\n",
       "      <th></th>\n",
       "      <th></th>\n",
       "      <th></th>\n",
       "      <th></th>\n",
       "      <th></th>\n",
       "      <th></th>\n",
       "      <th></th>\n",
       "      <th></th>\n",
       "      <th></th>\n",
       "      <th></th>\n",
       "    </tr>\n",
       "  </thead>\n",
       "  <tbody>\n",
       "    <tr>\n",
       "      <th></th>\n",
       "      <td>string</td>\n",
       "      <td>string</td>\n",
       "      <td>string</td>\n",
       "      <td>string</td>\n",
       "      <td>string</td>\n",
       "      <td>string</td>\n",
       "      <td>string</td>\n",
       "      <td>string</td>\n",
       "      <td>string</td>\n",
       "      <td>string</td>\n",
       "      <td>string</td>\n",
       "      <td>string</td>\n",
       "      <td>string</td>\n",
       "      <td>Int64</td>\n",
       "      <td>string</td>\n",
       "      <td>string</td>\n",
       "      <td>Int64</td>\n",
       "      <td>string</td>\n",
       "      <td>string</td>\n",
       "      <td>string</td>\n",
       "      <td>string</td>\n",
       "      <td>string</td>\n",
       "    </tr>\n",
       "    <tr>\n",
       "      <th></th>\n",
       "      <td>...</td>\n",
       "      <td>...</td>\n",
       "      <td>...</td>\n",
       "      <td>...</td>\n",
       "      <td>...</td>\n",
       "      <td>...</td>\n",
       "      <td>...</td>\n",
       "      <td>...</td>\n",
       "      <td>...</td>\n",
       "      <td>...</td>\n",
       "      <td>...</td>\n",
       "      <td>...</td>\n",
       "      <td>...</td>\n",
       "      <td>...</td>\n",
       "      <td>...</td>\n",
       "      <td>...</td>\n",
       "      <td>...</td>\n",
       "      <td>...</td>\n",
       "      <td>...</td>\n",
       "      <td>...</td>\n",
       "      <td>...</td>\n",
       "      <td>...</td>\n",
       "    </tr>\n",
       "    <tr>\n",
       "      <th>...</th>\n",
       "      <td>...</td>\n",
       "      <td>...</td>\n",
       "      <td>...</td>\n",
       "      <td>...</td>\n",
       "      <td>...</td>\n",
       "      <td>...</td>\n",
       "      <td>...</td>\n",
       "      <td>...</td>\n",
       "      <td>...</td>\n",
       "      <td>...</td>\n",
       "      <td>...</td>\n",
       "      <td>...</td>\n",
       "      <td>...</td>\n",
       "      <td>...</td>\n",
       "      <td>...</td>\n",
       "      <td>...</td>\n",
       "      <td>...</td>\n",
       "      <td>...</td>\n",
       "      <td>...</td>\n",
       "      <td>...</td>\n",
       "      <td>...</td>\n",
       "      <td>...</td>\n",
       "    </tr>\n",
       "    <tr>\n",
       "      <th></th>\n",
       "      <td>...</td>\n",
       "      <td>...</td>\n",
       "      <td>...</td>\n",
       "      <td>...</td>\n",
       "      <td>...</td>\n",
       "      <td>...</td>\n",
       "      <td>...</td>\n",
       "      <td>...</td>\n",
       "      <td>...</td>\n",
       "      <td>...</td>\n",
       "      <td>...</td>\n",
       "      <td>...</td>\n",
       "      <td>...</td>\n",
       "      <td>...</td>\n",
       "      <td>...</td>\n",
       "      <td>...</td>\n",
       "      <td>...</td>\n",
       "      <td>...</td>\n",
       "      <td>...</td>\n",
       "      <td>...</td>\n",
       "      <td>...</td>\n",
       "      <td>...</td>\n",
       "    </tr>\n",
       "    <tr>\n",
       "      <th></th>\n",
       "      <td>...</td>\n",
       "      <td>...</td>\n",
       "      <td>...</td>\n",
       "      <td>...</td>\n",
       "      <td>...</td>\n",
       "      <td>...</td>\n",
       "      <td>...</td>\n",
       "      <td>...</td>\n",
       "      <td>...</td>\n",
       "      <td>...</td>\n",
       "      <td>...</td>\n",
       "      <td>...</td>\n",
       "      <td>...</td>\n",
       "      <td>...</td>\n",
       "      <td>...</td>\n",
       "      <td>...</td>\n",
       "      <td>...</td>\n",
       "      <td>...</td>\n",
       "      <td>...</td>\n",
       "      <td>...</td>\n",
       "      <td>...</td>\n",
       "      <td>...</td>\n",
       "    </tr>\n",
       "  </tbody>\n",
       "</table>\n",
       "</div>\n",
       "<div>Dask Name: read-csv, 1 graph layer</div>"
      ],
      "text/plain": [
       "Dask DataFrame Structure:\n",
       "               관리_호별_명세_PK 관리_동별_개요_PK   대지_위치    건물_명  시군구_코드  법정동_코드 대지_구분_코드       번       지   특수지_명      블록      로트      동명   층_번호 층_구분_코드 층_구분_코드_명   호_번호     호_명 평형_구분_명 변경_구분_코드 변경_구분_코드_명   생성_일자\n",
       "npartitions=13                                                                                                                                                                                             \n",
       "                    string      string  string  string  string  string   string  string  string  string  string  string  string  Int64  string    string  Int64  string  string   string     string  string\n",
       "                       ...         ...     ...     ...     ...     ...      ...     ...     ...     ...     ...     ...     ...    ...     ...       ...    ...     ...     ...      ...        ...     ...\n",
       "...                    ...         ...     ...     ...     ...     ...      ...     ...     ...     ...     ...     ...     ...    ...     ...       ...    ...     ...     ...      ...        ...     ...\n",
       "                       ...         ...     ...     ...     ...     ...      ...     ...     ...     ...     ...     ...     ...    ...     ...       ...    ...     ...     ...      ...        ...     ...\n",
       "                       ...         ...     ...     ...     ...     ...      ...     ...     ...     ...     ...     ...     ...    ...     ...       ...    ...     ...     ...      ...        ...     ...\n",
       "Dask Name: read-csv, 1 graph layer"
      ]
     },
     "execution_count": 39,
     "metadata": {},
     "output_type": "execute_result"
    }
   ],
   "source": [
    "ddf"
   ]
  },
  {
   "cell_type": "code",
   "execution_count": 48,
   "metadata": {},
   "outputs": [
    {
     "data": {
      "text/plain": [
       "['국토교통부', '주택인허가', '호별개요', '2022년', '12월', 'zip']"
      ]
     },
     "execution_count": 48,
     "metadata": {},
     "output_type": "execute_result"
    }
   ],
   "source": [
    "substrings_filename = re.split(r\"[_ +.()]+\", zpath.name)\n",
    "substrings_filename"
   ]
  },
  {
   "cell_type": "code",
   "execution_count": 49,
   "metadata": {},
   "outputs": [
    {
     "data": {
      "text/plain": [
       "['주택인허가', '호별개요', '2022년', '12월']"
      ]
     },
     "execution_count": 49,
     "metadata": {},
     "output_type": "execute_result"
    }
   ],
   "source": [
    "substrings_filename[1:5]"
   ]
  },
  {
   "cell_type": "code",
   "execution_count": 52,
   "metadata": {},
   "outputs": [],
   "source": [
    "def zip_to_parquet(\n",
    "    path,\n",
    "    savedir=\"data\",\n",
    "    member_pattern=\"*.txt\",\n",
    "    encoding=\"cp949\",\n",
    "    header=None,    \n",
    "    sep=\"|\",\n",
    "    index=None,\n",
    "    schema_dir = \"data/schema\",\n",
    "    **kwargs,\n",
    "):\n",
    "    substrings_filename = re.split(r\"[_ +.()]+\", path.name)\n",
    "\n",
    "    path = Path(path)\n",
    "    results_dir = Path(savedir) / \"_\".join(substrings_filename[1:5])\n",
    "\n",
    "    if results_dir.exists() and results_dir.stat().st_mtime > path.stat().st_mtime:\n",
    "        print(\"already done\")\n",
    "        return savedir\n",
    "    elif results_dir.exists():\n",
    "        for file in results_dir.iterdir():\n",
    "            file.unlink()\n",
    "\n",
    "\n",
    "\n",
    "\n",
    "    schema_dir = Path(schema_dir)\n",
    "\n",
    "    schema_filename = \"_\".join([\"schema\"] + substrings_filename[1:3]) + \".csv\"\n",
    "\n",
    "    df_schema = pd.read_csv(schema_dir / schema_filename, header=None)\n",
    "    df_schema[1] = df_schema[1].apply(get_numpy_type)\n",
    "    df_schema = df_schema.set_index(0)\n",
    "    schema_dict = df_schema[1].to_dict()\n",
    "\n",
    "    with TemporaryDirectory() as tdir:  # type: str\n",
    "        with zipfile.ZipFile(path) as zf:\n",
    "            zf.extractall(path=tdir, members=tqdm(zf.infolist(), desc=\"Extracting zip\"))\n",
    "\n",
    "        paths = sorted(Path(tdir).glob(member_pattern))\n",
    "        ddf: dd.DataFrame = dd.read_csv(\n",
    "            paths,\n",
    "            encoding=encoding,\n",
    "            header=header,\n",
    "            sep=sep,\n",
    "            names=schema_dict.keys(),\n",
    "            dtype=schema_dict,\n",
    "            **kwargs\n",
    "        )\n",
    "        \n",
    "        with ProgressBar():\n",
    "            if index:\n",
    "                print(\"Setting index...\")\n",
    "\n",
    "                if isinstance(index, int):\n",
    "                    ddf = ddf.set_index(ddf.columns[index])\n",
    "                else:\n",
    "                    ddf = ddf.set_index(index)  \n",
    "            print(\"Saving...\")\n",
    "            ddf.to_parquet(results_dir)\n"
   ]
  },
  {
   "cell_type": "code",
   "execution_count": 53,
   "metadata": {},
   "outputs": [
    {
     "name": "stderr",
     "output_type": "stream",
     "text": [
      "Extracting zip: 100%|██████████| 1/1 [00:02<00:00,  2.01s/it]"
     ]
    },
    {
     "name": "stdout",
     "output_type": "stream",
     "text": [
      "Saving...\n",
      "[                                        ] | 0% Completed | 106.01 ms"
     ]
    },
    {
     "name": "stderr",
     "output_type": "stream",
     "text": [
      "\n"
     ]
    },
    {
     "name": "stdout",
     "output_type": "stream",
     "text": [
      "[########################################] | 100% Completed | 29.06 s\n"
     ]
    }
   ],
   "source": [
    "zpath = sorted(Path(\"data/\").glob(\"국토교통부_*.zip\"), reverse=True)[0]\n",
    "zip_to_parquet(zpath)\n"
   ]
  },
  {
   "cell_type": "code",
   "execution_count": 54,
   "metadata": {},
   "outputs": [
    {
     "data": {
      "text/plain": [
       "WindowsPath('data/국토교통부_주택인허가_호별개요+(2022년+12월).zip')"
      ]
     },
     "execution_count": 54,
     "metadata": {},
     "output_type": "execute_result"
    }
   ],
   "source": [
    "zpath"
   ]
  },
  {
   "cell_type": "code",
   "execution_count": 55,
   "metadata": {},
   "outputs": [
    {
     "data": {
      "text/plain": [
       "WindowsPath('data/주택인허가_호별개요_2022년_12월')"
      ]
     },
     "execution_count": 55,
     "metadata": {},
     "output_type": "execute_result"
    }
   ],
   "source": [
    "ppath = Path(\"data\") / \"_\".join(substrings_filename[1:5])\n",
    "ppath\n"
   ]
  },
  {
   "cell_type": "code",
   "execution_count": 5,
   "metadata": {},
   "outputs": [
    {
     "data": {
      "text/plain": [
       "os.stat_result(st_mode=33206, st_ino=18295873486342750, st_dev=239204461, st_nlink=1, st_uid=0, st_gid=0, st_size=703469167, st_atime=1663289397, st_mtime=1663289397, st_ctime=1663289015)"
      ]
     },
     "execution_count": 5,
     "metadata": {},
     "output_type": "execute_result"
    }
   ],
   "source": [
    "zpath.stat()"
   ]
  },
  {
   "cell_type": "code",
   "execution_count": 57,
   "metadata": {},
   "outputs": [
    {
     "data": {
      "text/plain": [
       "False"
      ]
     },
     "execution_count": 57,
     "metadata": {},
     "output_type": "execute_result"
    }
   ],
   "source": [
    "zpath.stat().st_mtime > ppath.stat().st_mtime"
   ]
  },
  {
   "cell_type": "code",
   "execution_count": 58,
   "metadata": {},
   "outputs": [
    {
     "name": "stdout",
     "output_type": "stream",
     "text": [
      "nope\n"
     ]
    }
   ],
   "source": [
    "if ppath.exists() and ppath.stat().st_mtime > zpath.stat().st_mtime:\n",
    "    print(\"nope\")"
   ]
  },
  {
   "cell_type": "code",
   "execution_count": null,
   "metadata": {},
   "outputs": [],
   "source": []
  }
 ],
 "metadata": {
  "kernelspec": {
   "display_name": "Python 3.9.7 ('venv': venv)",
   "language": "python",
   "name": "python3"
  },
  "language_info": {
   "codemirror_mode": {
    "name": "ipython",
    "version": 3
   },
   "file_extension": ".py",
   "mimetype": "text/x-python",
   "name": "python",
   "nbconvert_exporter": "python",
   "pygments_lexer": "ipython3",
   "version": "3.11.1"
  },
  "orig_nbformat": 4,
  "vscode": {
   "interpreter": {
    "hash": "a12399f7d7bff3d3414b48bdbff2fd719d6617416f7316e7388bc895376ce269"
   }
  }
 },
 "nbformat": 4,
 "nbformat_minor": 2
}
