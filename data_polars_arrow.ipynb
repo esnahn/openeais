{
 "cells": [
  {
   "cell_type": "code",
   "execution_count": 4,
   "metadata": {},
   "outputs": [],
   "source": [
    "import polars as pl\n",
    "import io\n",
    "import zipfile\n",
    "from pathlib import Path\n",
    "from tempfile import TemporaryDirectory, TemporaryFile\n",
    "from tqdm import tqdm\n",
    "import re"
   ]
  },
  {
   "cell_type": "code",
   "execution_count": 47,
   "metadata": {},
   "outputs": [
    {
     "name": "stdout",
     "output_type": "stream",
     "text": [
      "['건축인허가', '가설건축물']\n",
      "['건축인허가', '공작물관리대장']\n",
      "['건축인허가', '기본개요']\n",
      "['건축인허가', '대수선']\n",
      "['건축인허가', '대지위치']\n",
      "['건축인허가', '도로대장']\n",
      "['건축인허가', '동별개요']\n",
      "['건축인허가', '부설주차장']\n",
      "['건축인허가', '오수정화시설']\n",
      "['건축인허가', '전유공용면적']\n",
      "['건축인허가', '주차장']\n",
      "['건축인허가', '주택유형']\n",
      "['건축인허가', '지역지구구역']\n",
      "['건축인허가', '철거멸실관리대장']\n",
      "['건축인허가', '층별개요']\n",
      "['건축인허가', '호별개요']\n",
      "['건축인허가', '호별전유공용면적']\n",
      "['주택인허가', '관리공동부대복리시설']\n",
      "['주택인허가', '관리공동형별개요']\n",
      "['주택인허가', '기본개요']\n",
      "['주택인허가', '대지위치']\n",
      "['주택인허가', '동별개요']\n",
      "['주택인허가', '복리분양시설']\n",
      "['주택인허가', '부대시설']\n",
      "['주택인허가', '부설주차장']\n",
      "['주택인허가', '오수정화시설']\n",
      "['주택인허가', '전유공용면적']\n",
      "['주택인허가', '주차장']\n",
      "['주택인허가', '지역지구구역']\n",
      "['주택인허가', '층별개요']\n",
      "['주택인허가', '행위개요']\n",
      "['주택인허가', '행위호전유면적']\n",
      "['주택인허가', '호별개요']\n"
     ]
    }
   ],
   "source": [
    "pattern=r\"(?<=국토교통부_)(.*)(?=\\+\\()\"\n",
    "\n",
    "split_characters = r\"[_+() ]\"\n",
    "\n",
    "\n",
    "for file in Path(\"data/\").glob(\"국토교통부_*.zip\"):\n",
    "    substrings = re.split(split_characters, file.name)\n",
    "    name_segments = substrings[1:3]\n",
    "    print(name_segments)  # i.e. 건축인허가, 가설건축물"
   ]
  },
  {
   "cell_type": "code",
   "execution_count": 58,
   "metadata": {},
   "outputs": [],
   "source": [
    "def get_polars_type(dtype_openeais: str):\n",
    "    split_characters = r\"[(,)]\"\n",
    "\n",
    "    substrings = re.split(split_characters, dtype_openeais)\n",
    "\n",
    "    if substrings[0] in [\"VARCHAR\", \"CHAR\"]:\n",
    "        return pl.Utf8\n",
    "    elif substrings[0] in [\"NUMERIC\"]:\n",
    "        if \",\" in dtype_openeais:\n",
    "            return pl.Float64\n",
    "        else:\n",
    "            return pl.Int64\n",
    "    else:\n",
    "        raise\n",
    "\n",
    "\n",
    "def get_schema_polars(path=\"\"):\n",
    "    if path:\n",
    "        try:\n",
    "            df = pl.read_csv(path, has_header=False)\n",
    "            df = df.with_columns(df[:, 1].apply(get_polars_type))\n",
    "            return df\n",
    "        except:\n",
    "            print(\"error\", path)\n",
    "    else:\n",
    "        raise(\"no path\")"
   ]
  },
  {
   "cell_type": "code",
   "execution_count": 59,
   "metadata": {},
   "outputs": [
    {
     "name": "stdout",
     "output_type": "stream",
     "text": [
      "data\\schema\\schema_주택인허가_호별개요.csv\n",
      "shape: (22, 2)\n",
      "┌───────────────────┬──────────┐\n",
      "│ column_1          ┆ column_2 │\n",
      "│ ---               ┆ ---      │\n",
      "│ str               ┆ object   │\n",
      "╞═══════════════════╪══════════╡\n",
      "│ 관리_호별_명세_PK ┆ Utf8     │\n",
      "│ 관리_동별_개요_PK ┆ Utf8     │\n",
      "│ 대지_위치         ┆ Utf8     │\n",
      "│ 건물_명           ┆ Utf8     │\n",
      "│ …                 ┆ …        │\n",
      "│ 평형_구분_명      ┆ Utf8     │\n",
      "│ 변경_구분_코드    ┆ Utf8     │\n",
      "│ 변경_구분_코드_명 ┆ Utf8     │\n",
      "│ 생성_일자         ┆ Utf8     │\n",
      "└───────────────────┴──────────┘\n"
     ]
    }
   ],
   "source": [
    "print(Path(\"data/schema\")/(\"_\".join([\"schema\"] + name_segments) + \".csv\"))\n",
    "\n",
    "df_schema = get_schema_polars(Path(\"data/schema\")/(\"_\".join([\"schema\"] + name_segments) + \".csv\"))\n",
    "print(df_schema)"
   ]
  },
  {
   "cell_type": "code",
   "execution_count": 63,
   "metadata": {},
   "outputs": [
    {
     "data": {
      "text/plain": [
       "[Utf8,\n",
       " Utf8,\n",
       " Utf8,\n",
       " Utf8,\n",
       " Utf8,\n",
       " Utf8,\n",
       " Utf8,\n",
       " Utf8,\n",
       " Utf8,\n",
       " Utf8,\n",
       " Utf8,\n",
       " Utf8,\n",
       " Utf8,\n",
       " Int64,\n",
       " Utf8,\n",
       " Utf8,\n",
       " Int64,\n",
       " Utf8,\n",
       " Utf8,\n",
       " Utf8,\n",
       " Utf8,\n",
       " Utf8]"
      ]
     },
     "execution_count": 63,
     "metadata": {},
     "output_type": "execute_result"
    }
   ],
   "source": [
    "df_schema[:, 1].to_list()"
   ]
  },
  {
   "cell_type": "code",
   "execution_count": 66,
   "metadata": {},
   "outputs": [
    {
     "ename": "ComputeError",
     "evalue": "invalid utf-8 sequence in csv",
     "output_type": "error",
     "traceback": [
      "\u001b[1;31m---------------------------------------------------------------------------\u001b[0m",
      "\u001b[1;31mComputeError\u001b[0m                              Traceback (most recent call last)",
      "Cell \u001b[1;32mIn[66], line 1\u001b[0m\n\u001b[1;32m----> 1\u001b[0m df \u001b[39m=\u001b[39m pl\u001b[39m.\u001b[39;49mread_csv(\n\u001b[0;32m      2\u001b[0m     \u001b[39m\"\u001b[39;49m\u001b[39mdata/mart_jty_04.txt\u001b[39;49m\u001b[39m\"\u001b[39;49m,\n\u001b[0;32m      3\u001b[0m     has_header\u001b[39m=\u001b[39;49m\u001b[39mFalse\u001b[39;49;00m,\n\u001b[0;32m      4\u001b[0m     separator\u001b[39m=\u001b[39;49m\u001b[39m\"\u001b[39;49m\u001b[39m|\u001b[39;49m\u001b[39m\"\u001b[39;49m,\n\u001b[0;32m      5\u001b[0m     new_columns\u001b[39m=\u001b[39;49mdf_schema[:, \u001b[39m0\u001b[39;49m]\u001b[39m.\u001b[39;49mto_list(),\n\u001b[0;32m      6\u001b[0m     dtypes\u001b[39m=\u001b[39;49mdf_schema[:, \u001b[39m1\u001b[39;49m]\u001b[39m.\u001b[39;49mto_list(),\n\u001b[0;32m      7\u001b[0m     n_rows\u001b[39m=\u001b[39;49m\u001b[39m10\u001b[39;49m,\n\u001b[0;32m      8\u001b[0m     encoding\u001b[39m=\u001b[39;49m\u001b[39m\"\u001b[39;49m\u001b[39mcp949\u001b[39;49m\u001b[39m\"\u001b[39;49m,\n\u001b[0;32m      9\u001b[0m )\n",
      "File \u001b[1;32mc:\\Users\\USER\\Documents\\openeais\\venv\\Lib\\site-packages\\polars\\io\\csv\\functions.py:355\u001b[0m, in \u001b[0;36mread_csv\u001b[1;34m(source, has_header, columns, new_columns, separator, comment_char, quote_char, skip_rows, dtypes, null_values, missing_utf8_is_empty_string, ignore_errors, try_parse_dates, n_threads, infer_schema_length, batch_size, n_rows, encoding, low_memory, rechunk, use_pyarrow, storage_options, skip_rows_after_header, row_count_name, row_count_offset, sample_size, eol_char)\u001b[0m\n\u001b[0;32m    347\u001b[0m         dtypes \u001b[39m=\u001b[39m {\n\u001b[0;32m    348\u001b[0m             new_to_current\u001b[39m.\u001b[39mget(column_name, column_name): column_dtype\n\u001b[0;32m    349\u001b[0m             \u001b[39mfor\u001b[39;00m column_name, column_dtype \u001b[39min\u001b[39;00m dtypes\u001b[39m.\u001b[39mitems()\n\u001b[0;32m    350\u001b[0m         }\n\u001b[0;32m    352\u001b[0m \u001b[39mwith\u001b[39;00m _prepare_file_arg(\n\u001b[0;32m    353\u001b[0m     source, encoding\u001b[39m=\u001b[39mencoding, use_pyarrow\u001b[39m=\u001b[39m\u001b[39mFalse\u001b[39;00m, \u001b[39m*\u001b[39m\u001b[39m*\u001b[39mstorage_options\n\u001b[0;32m    354\u001b[0m ) \u001b[39mas\u001b[39;00m data:\n\u001b[1;32m--> 355\u001b[0m     df \u001b[39m=\u001b[39m pli\u001b[39m.\u001b[39;49mDataFrame\u001b[39m.\u001b[39;49m_read_csv(\n\u001b[0;32m    356\u001b[0m         data,\n\u001b[0;32m    357\u001b[0m         has_header\u001b[39m=\u001b[39;49mhas_header,\n\u001b[0;32m    358\u001b[0m         columns\u001b[39m=\u001b[39;49mcolumns \u001b[39mif\u001b[39;49;00m columns \u001b[39melse\u001b[39;49;00m projection,\n\u001b[0;32m    359\u001b[0m         separator\u001b[39m=\u001b[39;49mseparator,\n\u001b[0;32m    360\u001b[0m         comment_char\u001b[39m=\u001b[39;49mcomment_char,\n\u001b[0;32m    361\u001b[0m         quote_char\u001b[39m=\u001b[39;49mquote_char,\n\u001b[0;32m    362\u001b[0m         skip_rows\u001b[39m=\u001b[39;49mskip_rows,\n\u001b[0;32m    363\u001b[0m         dtypes\u001b[39m=\u001b[39;49mdtypes,\n\u001b[0;32m    364\u001b[0m         null_values\u001b[39m=\u001b[39;49mnull_values,\n\u001b[0;32m    365\u001b[0m         missing_utf8_is_empty_string\u001b[39m=\u001b[39;49mmissing_utf8_is_empty_string,\n\u001b[0;32m    366\u001b[0m         ignore_errors\u001b[39m=\u001b[39;49mignore_errors,\n\u001b[0;32m    367\u001b[0m         try_parse_dates\u001b[39m=\u001b[39;49mtry_parse_dates,\n\u001b[0;32m    368\u001b[0m         n_threads\u001b[39m=\u001b[39;49mn_threads,\n\u001b[0;32m    369\u001b[0m         infer_schema_length\u001b[39m=\u001b[39;49minfer_schema_length,\n\u001b[0;32m    370\u001b[0m         batch_size\u001b[39m=\u001b[39;49mbatch_size,\n\u001b[0;32m    371\u001b[0m         n_rows\u001b[39m=\u001b[39;49mn_rows,\n\u001b[0;32m    372\u001b[0m         encoding\u001b[39m=\u001b[39;49mencoding \u001b[39mif\u001b[39;49;00m encoding \u001b[39m==\u001b[39;49m \u001b[39m\"\u001b[39;49m\u001b[39mutf8-lossy\u001b[39;49m\u001b[39m\"\u001b[39;49m \u001b[39melse\u001b[39;49;00m \u001b[39m\"\u001b[39;49m\u001b[39mutf8\u001b[39;49m\u001b[39m\"\u001b[39;49m,\n\u001b[0;32m    373\u001b[0m         low_memory\u001b[39m=\u001b[39;49mlow_memory,\n\u001b[0;32m    374\u001b[0m         rechunk\u001b[39m=\u001b[39;49mrechunk,\n\u001b[0;32m    375\u001b[0m         skip_rows_after_header\u001b[39m=\u001b[39;49mskip_rows_after_header,\n\u001b[0;32m    376\u001b[0m         row_count_name\u001b[39m=\u001b[39;49mrow_count_name,\n\u001b[0;32m    377\u001b[0m         row_count_offset\u001b[39m=\u001b[39;49mrow_count_offset,\n\u001b[0;32m    378\u001b[0m         sample_size\u001b[39m=\u001b[39;49msample_size,\n\u001b[0;32m    379\u001b[0m         eol_char\u001b[39m=\u001b[39;49meol_char,\n\u001b[0;32m    380\u001b[0m     )\n\u001b[0;32m    382\u001b[0m \u001b[39mif\u001b[39;00m new_columns:\n\u001b[0;32m    383\u001b[0m     \u001b[39mreturn\u001b[39;00m _update_columns(df, new_columns)\n",
      "File \u001b[1;32mc:\\Users\\USER\\Documents\\openeais\\venv\\Lib\\site-packages\\polars\\dataframe\\frame.py:777\u001b[0m, in \u001b[0;36mDataFrame._read_csv\u001b[1;34m(cls, source, has_header, columns, separator, comment_char, quote_char, skip_rows, dtypes, null_values, missing_utf8_is_empty_string, ignore_errors, try_parse_dates, n_threads, infer_schema_length, batch_size, n_rows, encoding, low_memory, rechunk, skip_rows_after_header, row_count_name, row_count_offset, sample_size, eol_char)\u001b[0m\n\u001b[0;32m    770\u001b[0m         \u001b[39mraise\u001b[39;00m \u001b[39mValueError\u001b[39;00m(\n\u001b[0;32m    771\u001b[0m             \u001b[39m\"\u001b[39m\u001b[39mcannot use glob patterns and integer based projection as `columns`\u001b[39m\u001b[39m\"\u001b[39m\n\u001b[0;32m    772\u001b[0m             \u001b[39m\"\u001b[39m\u001b[39m argument; Use columns: List[str]\u001b[39m\u001b[39m\"\u001b[39m\n\u001b[0;32m    773\u001b[0m         )\n\u001b[0;32m    775\u001b[0m projection, columns \u001b[39m=\u001b[39m handle_projection_columns(columns)\n\u001b[1;32m--> 777\u001b[0m \u001b[39mself\u001b[39m\u001b[39m.\u001b[39m_df \u001b[39m=\u001b[39m PyDataFrame\u001b[39m.\u001b[39;49mread_csv(\n\u001b[0;32m    778\u001b[0m     source,\n\u001b[0;32m    779\u001b[0m     infer_schema_length,\n\u001b[0;32m    780\u001b[0m     batch_size,\n\u001b[0;32m    781\u001b[0m     has_header,\n\u001b[0;32m    782\u001b[0m     ignore_errors,\n\u001b[0;32m    783\u001b[0m     n_rows,\n\u001b[0;32m    784\u001b[0m     skip_rows,\n\u001b[0;32m    785\u001b[0m     projection,\n\u001b[0;32m    786\u001b[0m     separator,\n\u001b[0;32m    787\u001b[0m     rechunk,\n\u001b[0;32m    788\u001b[0m     columns,\n\u001b[0;32m    789\u001b[0m     encoding,\n\u001b[0;32m    790\u001b[0m     n_threads,\n\u001b[0;32m    791\u001b[0m     path,\n\u001b[0;32m    792\u001b[0m     dtype_list,\n\u001b[0;32m    793\u001b[0m     dtype_slice,\n\u001b[0;32m    794\u001b[0m     low_memory,\n\u001b[0;32m    795\u001b[0m     comment_char,\n\u001b[0;32m    796\u001b[0m     quote_char,\n\u001b[0;32m    797\u001b[0m     processed_null_values,\n\u001b[0;32m    798\u001b[0m     missing_utf8_is_empty_string,\n\u001b[0;32m    799\u001b[0m     try_parse_dates,\n\u001b[0;32m    800\u001b[0m     skip_rows_after_header,\n\u001b[0;32m    801\u001b[0m     _prepare_row_count_args(row_count_name, row_count_offset),\n\u001b[0;32m    802\u001b[0m     sample_size\u001b[39m=\u001b[39;49msample_size,\n\u001b[0;32m    803\u001b[0m     eol_char\u001b[39m=\u001b[39;49meol_char,\n\u001b[0;32m    804\u001b[0m )\n\u001b[0;32m    805\u001b[0m \u001b[39mreturn\u001b[39;00m \u001b[39mself\u001b[39m\n",
      "\u001b[1;31mComputeError\u001b[0m: invalid utf-8 sequence in csv"
     ]
    }
   ],
   "source": [
    "df = pl.read_csv(\n",
    "    \"data/mart_jty_04.txt\",\n",
    "    has_header=False,\n",
    "    separator=\"|\",\n",
    "    new_columns=df_schema[:, 0].to_list(),\n",
    "    dtypes=df_schema[:, 1].to_list(),\n",
    "    n_rows=10,\n",
    "    encoding=\"cp949\",\n",
    ")\n"
   ]
  },
  {
   "cell_type": "code",
   "execution_count": 60,
   "metadata": {},
   "outputs": [
    {
     "name": "stdout",
     "output_type": "stream",
     "text": [
      "26410-100003037|26410-100004542|부산광역시 금정구 장전동 521번지|장전동 금정산 SK VIEW|26410|10800|0|0521|||||102|13|20|지상|0|1304|160|||20100828\n",
      "\n",
      "26410-100003038|26410-100004542|부산광역시 금정구 장전동 521번지|장전동 금정산 SK VIEW|26410|10800|0|0521|||||102|14|20|지상|0|1401|183|||20100828\n",
      "\n",
      "26410-100003039|26410-100004542|부산광역시 금정구 장전동 521번지|장전동 금정산 SK VIEW|26410|10800|0|0521|||||102|14|20|지상|0|1402|183|||20100828\n",
      "\n",
      "26410-100003040|26410-100004542|부산광역시 금정구 장전동 521번지|장전동 금정산 SK VIEW|26410|10800|0|0521|||||102|14|20|지상|0|1403|160|||20100828\n",
      "\n",
      "26410-100003041|26410-100004542|부산광역시 금정구 장전동 521번지|장전동 금정산 SK VIEW|26410|10800|0|0521|||||102|14|20|지상|0|1404|160|||20100828\n",
      "\n"
     ]
    }
   ],
   "source": [
    "with open(\"data/mart_jty_04.txt\") as f:\n",
    "    for i, line in enumerate(f):\n",
    "        if i >=5:\n",
    "            break\n",
    "        print(line)"
   ]
  },
  {
   "cell_type": "code",
   "execution_count": null,
   "metadata": {},
   "outputs": [],
   "source": []
  }
 ],
 "metadata": {
  "kernelspec": {
   "display_name": "venv",
   "language": "python",
   "name": "python3"
  },
  "language_info": {
   "codemirror_mode": {
    "name": "ipython",
    "version": 3
   },
   "file_extension": ".py",
   "mimetype": "text/x-python",
   "name": "python",
   "nbconvert_exporter": "python",
   "pygments_lexer": "ipython3",
   "version": "3.11.1"
  },
  "orig_nbformat": 4
 },
 "nbformat": 4,
 "nbformat_minor": 2
}
