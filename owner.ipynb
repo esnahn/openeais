{
 "cells": [
  {
   "cell_type": "code",
   "execution_count": 3,
   "metadata": {},
   "outputs": [],
   "source": [
    "import io\n",
    "import zipfile\n"
   ]
  },
  {
   "cell_type": "code",
   "execution_count": 4,
   "metadata": {},
   "outputs": [
    {
     "name": "stdout",
     "output_type": "stream",
     "text": [
      "11110-8565|11110|종로구|17400|창신동|0|대지|0595|0141|||| 서울특별시 종로구 창신6길 28-8|111104100446|17401|0|지상|28|8|1|일반|2|일반건축물||||37.19|01|개인|19990703\n",
      "\n",
      "11110-24494|11110|종로구|16200|효제동|0|대지|0141|0000|||| 서울특별시 종로구 종로35길 42-3|111104100326|16201|0|지상|42|3|1|일반|2|일반건축물||||47.88|01|개인|20030507\n",
      "\n",
      "11110-28504|11110|종로구|18200|구기동|0|대지|0126|0011|||| 서울특별시 종로구 비봉길 2-14|111104100122|18201|0|지상|2|14|1|일반|2|일반건축물||||104.6|01|개인|19890901\n",
      "\n",
      "11110-28354|11110|종로구|16700|충신동|0|대지|0001|0408|||| 서울특별시 종로구 충신4나길 19-4|111104100472|16702|0|지상|19|4|1|일반|2|일반건축물||||68.67|01|개인|20020802\n",
      "\n",
      "11140-20427|11140|중구|16200|신당동|0|대지|0390|0017|||| 서울특별시 중구 청구로16길 14-2|111404103295|16201|0|지상|14|2|1|일반|2|일반건축물||||27.97|01|개인|20020629\n",
      "\n"
     ]
    }
   ],
   "source": [
    "with zipfile.ZipFile(\"국토교통부_건축물대장_소유자구분정보+(2022년+07월).zip\") as zf:\n",
    "    with zf.open(\"mart_djy_11.txt\") as bf:\n",
    "        with io.TextIOWrapper(bf, encoding=\"euc-kr\") as f:\n",
    "            for i, line in enumerate(f):\n",
    "                if i < 5:\n",
    "                    print(line)\n",
    "                else:\n",
    "                    break\n"
   ]
  }
 ],
 "metadata": {
  "kernelspec": {
   "display_name": "Python 3.9.7 ('venv': venv)",
   "language": "python",
   "name": "python3"
  },
  "language_info": {
   "codemirror_mode": {
    "name": "ipython",
    "version": 3
   },
   "file_extension": ".py",
   "mimetype": "text/x-python",
   "name": "python",
   "nbconvert_exporter": "python",
   "pygments_lexer": "ipython3",
   "version": "3.9.7"
  },
  "orig_nbformat": 4,
  "vscode": {
   "interpreter": {
    "hash": "a12399f7d7bff3d3414b48bdbff2fd719d6617416f7316e7388bc895376ce269"
   }
  }
 },
 "nbformat": 4,
 "nbformat_minor": 2
}
