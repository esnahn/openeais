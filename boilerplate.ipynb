{
 "cells": [
  {
   "cell_type": "code",
   "execution_count": 2,
   "metadata": {},
   "outputs": [],
   "source": [
    "from pathlib import Path\n",
    "\n",
    "import numpy as np\n",
    "import pandas as pd\n",
    "# from pandas.api.types import is_integer_dtype\n",
    "import matplotlib.pyplot as plt\n",
    "# from matplotlib.ticker import PercentFormatter\n",
    "# import dask.dataframe as dd\n",
    "\n",
    "import seaborn as sns\n",
    "\n",
    "import auri"
   ]
  },
  {
   "cell_type": "code",
   "execution_count": 3,
   "metadata": {},
   "outputs": [],
   "source": [
    "# np.random.seed(1106)\n"
   ]
  },
  {
   "cell_type": "code",
   "execution_count": 4,
   "metadata": {},
   "outputs": [],
   "source": [
    "# with pd.option_context(\"display.max_rows\", 100, \"display.max_columns\", 100):\n",
    "#     display()"
   ]
  },
  {
   "cell_type": "code",
   "execution_count": 5,
   "metadata": {},
   "outputs": [],
   "source": [
    "# plt.barh(labels, values)\n",
    "# plt.gca().invert_yaxis()\n",
    "# plt.tight_layout()\n",
    "# plt.savefig(\"output/test.svg\")\n",
    "# plt.savefig(\"output/test.png\")"
   ]
  },
  {
   "cell_type": "code",
   "execution_count": 6,
   "metadata": {},
   "outputs": [],
   "source": [
    "# plt.imshow(matrix, cmap=\"Purples\")\n",
    "# plt.tight_layout()\n",
    "# plt.savefig(\"output/test.svg\")\n",
    "# plt.savefig(\"output/test.png\")"
   ]
  },
  {
   "cell_type": "code",
   "execution_count": 7,
   "metadata": {},
   "outputs": [],
   "source": [
    "# fig, axs = plt.subplots(1, 3, figsize=(4, 4))\n",
    "\n",
    "# for i in range(3):\n",
    "#     axs[i].imshow(matrix[i][:50], cmap=\"Purples\")\n",
    "#     axs[i].set_title(f\"mask #{i}\")\n",
    "#     axs[i].set_xticks(range(len(features)))\n",
    "#     axs[i].set_xticklabels([i if i % 5 == 0 else \"\" for i in range(len(features))])\n",
    "\n",
    "# fig.tight_layout()\n",
    "\n",
    "# plt.savefig(\"output/test.svg\", bbox_inches=\"tight\")\n",
    "# plt.savefig(\"output/test.png\", bbox_inches=\"tight\")\n"
   ]
  },
  {
   "cell_type": "code",
   "execution_count": 8,
   "metadata": {},
   "outputs": [],
   "source": [
    "# pv = df_test.pivot_table(\"fire\", \"use_viol\", \"A20\", \"mean\")\n",
    "# pv = pv.rename_axis(index=\"2단계 판단 기준 변수\", columns=\"위반여부\")\n",
    "# pv = pv.rename(\n",
    "#     index={True: \"위반여부 사용\", False: \"다른 변수(용도) 사용\"},\n",
    "#     columns={\"N\": \"미위반\", \"Y\": \"위반\"},\n",
    "# )\n",
    "# pv = pv.sort_index(ascending=False)\n",
    "# pv.applymap(lambda x: f\"{round(x*100, 1)}%\")\n",
    "\n",
    "# pv.plot.barh()\n",
    "# plt.axvline(df_test.fire.mean(), color='gray')\n",
    "# plt.legend(loc='upper right')\n",
    "# plt.gca().invert_yaxis()\n",
    "# plt.gca().xaxis.set_major_formatter(PercentFormatter(1))\n",
    "\n",
    "# plt.tight_layout()\n",
    "# plt.savefig(\"output/test.svg\")\n",
    "# plt.savefig(\"output/test.png\")"
   ]
  },
  {
   "cell_type": "code",
   "execution_count": 9,
   "metadata": {},
   "outputs": [],
   "source": [
    "# pv = (\n",
    "#     df.pivot_table(\"code3\", \"code1\", \"top_purps\", \"count\", margins=True)\n",
    "#     .sort_values(\"All\", ascending=False)\n",
    "#     .drop(columns=\"All\")\n",
    "#     .sort_values(\"All\", ascending=False, axis=1)\n",
    "#     .drop(index=\"All\")\n",
    "# )\n",
    "# pv"
   ]
  },
  {
   "cell_type": "code",
   "execution_count": 10,
   "metadata": {},
   "outputs": [],
   "source": [
    "# # move misc. to the end\n",
    "# cols = list(pv.columns.values)\n",
    "# cols.append(cols.pop(cols.index('기타')))\n",
    "# pv = pv[cols]"
   ]
  },
  {
   "cell_type": "code",
   "execution_count": 11,
   "metadata": {},
   "outputs": [],
   "source": [
    "# df[\"연대\"] = pd.cut(\n",
    "#     df.useapr_yr, [np.NINF, 1970, 1980, 1990, 2000, 2010, np.inf], right=False\n",
    "# )\n",
    "# df.연대"
   ]
  },
  {
   "cell_type": "code",
   "execution_count": 12,
   "metadata": {},
   "outputs": [],
   "source": [
    "# # stacked bar plot\n",
    "\n",
    "# pv.plot.bar(stacked=True)\n",
    "\n",
    "# plt.tight_layout()\n",
    "\n",
    "# plt.savefig(\"output/retail/business_building.svg\", bbox_inches=\"tight\")\n",
    "# plt.savefig(\"output/retail/business_building.png\", bbox_inches=\"tight\")"
   ]
  },
  {
   "cell_type": "code",
   "execution_count": 13,
   "metadata": {},
   "outputs": [],
   "source": [
    "# # using pivot table's index for tick labels\n",
    "\n",
    "# plt.imshow(pv)\n",
    "# plt.xticks(range(8), pv.index, rotation=90)\n",
    "# plt.yticks(range(8), pv.index)\n",
    "\n",
    "# plt.tight_layout()\n",
    "\n",
    "# plt.savefig(\"output/retail/near_business.svg\", bbox_inches=\"tight\")\n",
    "# plt.savefig(\"output/retail/near_business.png\", bbox_inches=\"tight\")"
   ]
  }
 ],
 "metadata": {
  "kernelspec": {
   "display_name": "Python 3.9.7 ('venv': venv)",
   "language": "python",
   "name": "python3"
  },
  "language_info": {
   "codemirror_mode": {
    "name": "ipython",
    "version": 3
   },
   "file_extension": ".py",
   "mimetype": "text/x-python",
   "name": "python",
   "nbconvert_exporter": "python",
   "pygments_lexer": "ipython3",
   "version": "3.11.1"
  },
  "orig_nbformat": 4,
  "vscode": {
   "interpreter": {
    "hash": "a12399f7d7bff3d3414b48bdbff2fd719d6617416f7316e7388bc895376ce269"
   }
  }
 },
 "nbformat": 4,
 "nbformat_minor": 2
}
