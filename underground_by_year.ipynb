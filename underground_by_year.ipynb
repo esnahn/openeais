{
 "cells": [
  {
   "cell_type": "code",
   "execution_count": 50,
   "metadata": {},
   "outputs": [],
   "source": [
    "import pandas as pd\n",
    "import dask.dataframe as dd\n",
    "from dask.diagnostics import ProgressBar"
   ]
  },
  {
   "cell_type": "code",
   "execution_count": 51,
   "metadata": {},
   "outputs": [
    {
     "data": {
      "text/plain": [
       "203553"
      ]
     },
     "execution_count": 51,
     "metadata": {},
     "output_type": "execute_result"
    }
   ],
   "source": [
    "ddf_result = dd.read_parquet(\"underground_202212_v_or_not\")\n",
    "len(ddf_result)"
   ]
  },
  {
   "cell_type": "code",
   "execution_count": 52,
   "metadata": {},
   "outputs": [
    {
     "data": {
      "text/plain": [
       "Index(['대지_위치', '도로명_대지_위치', '건물_명', '시군구_코드', '법정동_코드', '대지_구분_코드', '번', '지',\n",
       "       '특수지_명', '블록', '로트', '외필지_수', '새주소_도로_코드', '새주소_법정동_코드', '새주소_지상지하_코드',\n",
       "       '새주소_본_번', '새주소_부_번', '동_명', '구조_코드', '구조_코드_명', '기타_구조', '주_용도_코드',\n",
       "       '주_용도_코드_명', '기타_용도', '세대_수(세대)', '가구_수(가구)', '높이(m)', '지상_층_수',\n",
       "       '지하_층_수', '사용승인_일', '호_수(호)', '생성_일자'],\n",
       "      dtype='object')"
      ]
     },
     "execution_count": 52,
     "metadata": {},
     "output_type": "execute_result"
    }
   ],
   "source": [
    "ddf_result.columns\n"
   ]
  },
  {
   "cell_type": "code",
   "execution_count": 58,
   "metadata": {},
   "outputs": [
    {
     "data": {
      "text/plain": [
       "1962        5\n",
       "1963        3\n",
       "1964        2\n",
       "1965        8\n",
       "1966        9\n",
       "1967       20\n",
       "1968       31\n",
       "1969       40\n",
       "1970       73\n",
       "1971       86\n",
       "1972       68\n",
       "1973      113\n",
       "1974      217\n",
       "1975      303\n",
       "1976      555\n",
       "1977      882\n",
       "1978     1492\n",
       "1979     1406\n",
       "1980     1337\n",
       "1981     1090\n",
       "1982     1072\n",
       "1983     1456\n",
       "1984     1319\n",
       "1985     1442\n",
       "1986     5812\n",
       "1987     3670\n",
       "1988     5016\n",
       "1989     6229\n",
       "1990    14240\n",
       "1991    24146\n",
       "1992    16014\n",
       "1993    23772\n",
       "1994    16475\n",
       "1995    11659\n",
       "1996    12384\n",
       "1997    10724\n",
       "1998     3523\n",
       "1999     1533\n",
       "2000     3236\n",
       "2001     5900\n",
       "2002     6478\n",
       "2003     2510\n",
       "2004     1082\n",
       "2005      418\n",
       "2006     1226\n",
       "2007     1122\n",
       "2008      611\n",
       "2009      562\n",
       "2010      819\n",
       "2011      837\n",
       "2012      874\n",
       "2013      601\n",
       "2014      758\n",
       "2015      871\n",
       "2016     1328\n",
       "2017     1774\n",
       "2018     1451\n",
       "2019      902\n",
       "2020      604\n",
       "2021      462\n",
       "2022      369\n",
       "Name: 사용승인_일, dtype: Int64"
      ]
     },
     "metadata": {},
     "output_type": "display_data"
    }
   ],
   "source": [
    "result = ddf_result.사용승인_일.str[:4].value_counts().compute().sort_index()\n",
    "result = result[(result.index >= \"1962\") & (result.index <= \"2022\")]\n",
    "\n",
    "with pd.option_context(\"display.max_rows\", 200, \"display.max_columns\", 100):\n",
    "    display(result)"
   ]
  },
  {
   "cell_type": "code",
   "execution_count": 59,
   "metadata": {},
   "outputs": [],
   "source": [
    "result.to_csv(\"output/uground_v_or_not_by_year.csv\", encoding=\"utf_8_sig\")\n"
   ]
  },
  {
   "cell_type": "code",
   "execution_count": null,
   "metadata": {},
   "outputs": [],
   "source": []
  }
 ],
 "metadata": {
  "language_info": {
   "name": "python"
  },
  "orig_nbformat": 4
 },
 "nbformat": 4,
 "nbformat_minor": 2
}
